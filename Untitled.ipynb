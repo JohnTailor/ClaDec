{
 "cells": [
  {
   "cell_type": "code",
   "execution_count": 1,
   "id": "93daa345-b60a-40f1-a07f-5566c880b812",
   "metadata": {},
   "outputs": [],
   "source": [
    "import torch\n",
    "import os\n",
    "from cladec import getActModel"
   ]
  },
  {
   "cell_type": "code",
   "execution_count": 2,
   "id": "546e94bf-1460-406b-88d9-03d586c1f3bf",
   "metadata": {},
   "outputs": [],
   "source": [
    "%load_ext autoreload\n",
    "%autoreload 2"
   ]
  },
  {
   "cell_type": "code",
   "execution_count": 8,
   "id": "7586b0e3-2aaa-4dc7-ba15-10bdb2ef75d2",
   "metadata": {},
   "outputs": [],
   "source": [
    "cfg = {}\n",
    "cfg[\"layInd\"] = -2"
   ]
  },
  {
   "cell_type": "code",
   "execution_count": 3,
   "id": "3888a808-05fa-40d4-bb2a-2d32e27ad873",
   "metadata": {},
   "outputs": [],
   "source": [
    "from pytorch_grad_cam import GradCAM, ScoreCAM, GradCAMPlusPlus, AblationCAM, XGradCAM, EigenCAM\n",
    "from pytorch_grad_cam.utils.image import show_cam_on_image\n"
   ]
  },
  {
   "cell_type": "code",
   "execution_count": 10,
   "id": "44def600-ad92-4a38-ac6c-cb663aed35a5",
   "metadata": {},
   "outputs": [],
   "source": [
    "import dutils"
   ]
  },
  {
   "cell_type": "code",
   "execution_count": 3,
   "id": "b84a4900-7b72-4d97-bc6b-865cd5ab063e",
   "metadata": {},
   "outputs": [
    {
     "data": {
      "text/plain": [
       "<module 'dutils' from '/home/harshv834/ClaDec/dutils.py'>"
      ]
     },
     "execution_count": 3,
     "metadata": {},
     "output_type": "execute_result"
    }
   ],
   "source": [
    "img = cv2.imread(\"\")"
   ]
  },
  {
   "cell_type": "code",
   "execution_count": 4,
   "id": "31819e3e-4e68-49ab-847a-92b7d8d36c35",
   "metadata": {},
   "outputs": [],
   "source": [
    "import torchvision.transforms as transforms"
   ]
  },
  {
   "cell_type": "code",
   "execution_count": 7,
   "id": "5e5a910d-4f2c-4780-907c-a395d5fd183e",
   "metadata": {},
   "outputs": [
    {
     "name": "stdout",
     "output_type": "stream",
     "text": [
      "Executing config {'ds': ('TinyImgNet', 200), 'batchSize': 128, 'opt': ('S', 60, 0.001, 0.0002), 'layInd': -1, 'alpha': 0.001, 'ntrain': 100000}\n",
      "Get dataset\n"
     ]
    }
   ],
   "source": [
    "dummy=False\n",
    "cfg={ 'ds': ('TinyImgNet', 200),  #Dataset either  ('Ci100', 100) or ('Ci10', 10)\n",
    "    'batchSize': 128, 'opt': ('S', 1 if dummy else 60, 0.001, 0.0002), #optimizer settings\n",
    "    'layInd':-1, #Layer to explain (from last layer back, ie. -1 is last (linear), -2 is last conv, -3 second last conv)\n",
    "    'alpha': 0.001, #tradeoff parameter reconstruction vs. classification loss\n",
    "    'ntrain': 500 if dummy else 100000}\n",
    "print(\"Executing config\",cfg)\n",
    "cfg[\"num_classes\"]=cfg[\"ds\"][1]\n",
    "#Get Data\n",
    "print(\"Get dataset\")"
   ]
  },
  {
   "cell_type": "code",
   "execution_count": 8,
   "id": "6331b261-9f15-4e4a-921e-ed0978e5e9ad",
   "metadata": {},
   "outputs": [],
   "source": [
    "batch = next(iter(val_loader))"
   ]
  },
  {
   "cell_type": "code",
   "execution_count": 9,
   "id": "94f10902-6ff6-462c-91ef-d072cd73e986",
   "metadata": {},
   "outputs": [],
   "source": [
    "img, label = batch"
   ]
  },
  {
   "cell_type": "code",
   "execution_count": 10,
   "id": "c6b08087-ff15-4aa5-89dc-0d3328ceec7e",
   "metadata": {},
   "outputs": [],
   "source": [
    "model = torch.load(\"trained_models/TinyImgNet/classifier_new.pt\")"
   ]
  },
  {
   "cell_type": "code",
   "execution_count": 51,
   "id": "93f383b0-0d40-4de6-8f35-4718a0c25f0a",
   "metadata": {},
   "outputs": [],
   "source": [
    "layer= model.conv2"
   ]
  },
  {
   "cell_type": "code",
   "execution_count": 41,
   "id": "a8b3e1b6-24c4-46e6-a7f7-223d229543df",
   "metadata": {},
   "outputs": [
    {
     "data": {
      "text/plain": [
       "B2lock2(\n",
       "  (conv1): Conv2d(512, 512, kernel_size=(3, 3), stride=(2, 2), padding=(True, True), bias=False)\n",
       "  (bnF): BatchNorm2d(512, eps=1e-05, momentum=0.1, affine=True, track_running_stats=True)\n",
       "  (relu): ReLU()\n",
       ")"
      ]
     },
     "execution_count": 41,
     "metadata": {},
     "output_type": "execute_result"
    }
   ],
   "source": [
    "layer"
   ]
  },
  {
   "cell_type": "code",
   "execution_count": 52,
   "id": "6259591e-ef7f-4bab-a3de-7294c4bb86ea",
   "metadata": {},
   "outputs": [],
   "source": [
    "cam = GradCAM(model=model, target_layer=layer, use_cuda=True)\n"
   ]
  },
  {
   "cell_type": "code",
   "execution_count": 13,
   "id": "cee6e9a0-6ebc-4678-9791-f8593847dbbd",
   "metadata": {},
   "outputs": [],
   "source": [
    "norm = dutils.getnorm(cfg[\"ds\"][0])"
   ]
  },
  {
   "cell_type": "code",
   "execution_count": 14,
   "id": "623536e2-c6d3-45db-977c-aabcad8ae9d2",
   "metadata": {},
   "outputs": [],
   "source": [
    "tr = transforms.Compose([transforms.Normalize(mean=norm[0], std = norm[1])])"
   ]
  },
  {
   "cell_type": "code",
   "execution_count": 15,
   "id": "3f0d8c8d-36a5-4543-a586-cc6739019df3",
   "metadata": {},
   "outputs": [],
   "source": [
    "img_normed = tr(img)"
   ]
  },
  {
   "cell_type": "code",
   "execution_count": 25,
   "id": "9447056c-dfa3-4a02-97b4-30c6cca87311",
   "metadata": {},
   "outputs": [],
   "source": [
    "import cv2"
   ]
  },
  {
   "cell_type": "code",
   "execution_count": 29,
   "id": "eb7e8de6-a9f3-415d-88f3-fe873036ba98",
   "metadata": {},
   "outputs": [
    {
     "data": {
      "text/plain": [
       "torch.Size([128, 3, 64, 64])"
      ]
     },
     "execution_count": 29,
     "metadata": {},
     "output_type": "execute_result"
    }
   ],
   "source": [
    "img.shape"
   ]
  },
  {
   "cell_type": "code",
   "execution_count": 53,
   "id": "b633f1b3-fae6-4337-aeaf-a50fbd826a18",
   "metadata": {},
   "outputs": [
    {
     "name": "stdout",
     "output_type": "stream",
     "text": [
      "(1, 128, 8, 8)\n"
     ]
    },
    {
     "name": "stderr",
     "output_type": "stream",
     "text": [
      "/home/harshv834/my-envs/ml_def/lib/python3.8/site-packages/torch/nn/modules/module.py:795: UserWarning: Using a non-full backward hook when the forward contains multiple autograd Nodes is deprecated and will be removed in future versions. This hook will be missing some grad_input. Please use register_full_backward_hook to get the documented behavior.\n",
      "  warnings.warn(\"Using a non-full backward hook when the forward contains multiple autograd Nodes \"\n"
     ]
    }
   ],
   "source": [
    "grayscale_cam = cam(input_tensor=img[0].unsqueeze(0), target_category=[label[0]])"
   ]
  },
  {
   "cell_type": "code",
   "execution_count": 54,
   "id": "f41e7093-b5a4-420d-a5b8-da0baf6c90f9",
   "metadata": {},
   "outputs": [],
   "source": [
    "grayscale_cam = grayscale_cam[0,:]"
   ]
  },
  {
   "cell_type": "code",
   "execution_count": 33,
   "id": "58be7dda-ba3d-407e-8f03-99713f85a1a4",
   "metadata": {},
   "outputs": [
    {
     "data": {
      "text/plain": [
       "(64, 64)"
      ]
     },
     "execution_count": 33,
     "metadata": {},
     "output_type": "execute_result"
    }
   ],
   "source": [
    "grayscale_cam.shape"
   ]
  },
  {
   "cell_type": "code",
   "execution_count": 55,
   "id": "56b80b13-a317-4e59-b336-4519c4741955",
   "metadata": {},
   "outputs": [],
   "source": [
    "visualization = show_cam_on_image(img[0].squeeze(0).numpy().transpose(1,2,0), grayscale_cam, use_rgb=True)"
   ]
  },
  {
   "cell_type": "code",
   "execution_count": 56,
   "id": "0504724c-76d5-4d46-914d-66f4a3f7f861",
   "metadata": {},
   "outputs": [
    {
     "data": {
      "text/plain": [
       "<matplotlib.image.AxesImage at 0x7f7b7320c610>"
      ]
     },
     "execution_count": 56,
     "metadata": {},
     "output_type": "execute_result"
    },
    {
     "data": {
      "image/png": "[encoded data removed]",
      "text/plain": [
       "<Figure size 432x288 with 1 Axes>"
      ]
     },
     "metadata": {
      "needs_background": "light"
     },
     "output_type": "display_data"
    }
   ],
   "source": [
    "import matplotlib.pyplot as plt\n",
    "plt.imshow(visualization)"
   ]
  },
  {
   "cell_type": "code",
   "execution_count": 57,
   "id": "cf6b6486-e261-4394-9394-e0a521ad314f",
   "metadata": {},
   "outputs": [
    {
     "name": "stdout",
     "output_type": "stream",
     "text": [
      "Executing config {'ds': ('MNIST', 10), 'batchSize': 128, 'opt': ('S', 64, 0.1, 0.0001), 'layInd': -1, 'alpha': 0.001, 'ntrain': 60000}\n",
      "Get dataset\n",
      "Data stats <class 'torchvision.datasets.mnist.MNIST'> (60000, 1, 32, 32) [0.13306338] [0.310658] 1.0 0.0  Data should be normalized\n",
      "Data stats <class 'torchvision.datasets.mnist.MNIST'> (10000, 1, 32, 32) [0.13479982] [0.31289634] 1.0 0.0  Data should be normalized\n"
     ]
    }
   ],
   "source": [
    "cfg={ 'ds': ('MNIST', 10),  #Dataset either  ('Ci100', 100) or ('Ci10', 10)\n",
    "    'batchSize': 128, 'opt': ('S', 1 if dummy else 64, 0.1, 0.0001), #optimizer settings\n",
    "    'layInd':-1, #Layer to explain (from last layer back, ie. -1 is last (linear), -2 is last conv, -3 second last conv)\n",
    "    'alpha': 0.001, #tradeoff parameter reconstruction vs. classification loss\n",
    "    'ntrain': 500 if dummy else 60000}\n",
    "print(\"Executing config\",cfg)\n",
    "cfg[\"num_classes\"]=cfg[\"ds\"][1]\n",
    "#Get Data\n",
    "print(\"Get dataset\")\n",
    "train_dataset, val_dataset,norm=dutils.getFullDS(cfg)\n"
   ]
  },
  {
   "cell_type": "code",
   "execution_count": 58,
   "id": "d1db6d93-5af1-49dd-be4b-4a0b770c8adb",
   "metadata": {},
   "outputs": [],
   "source": [
    "model = torch.load(\"trained_models/MNIST/clf.pt\")"
   ]
  },
  {
   "cell_type": "code",
   "execution_count": 59,
   "id": "7c7c9999-0c36-4a78-847c-c3ca47658238",
   "metadata": {},
   "outputs": [],
   "source": [
    "layer= model.conv4"
   ]
  },
  {
   "cell_type": "code",
   "execution_count": 60,
   "id": "3cb70096-3a31-48aa-8d96-6f104beeb679",
   "metadata": {},
   "outputs": [],
   "source": [
    "batch = next(iter(val_dataset))"
   ]
  },
  {
   "cell_type": "code",
   "execution_count": 61,
   "id": "57c90edc-3bd0-406b-af97-db32c1faf607",
   "metadata": {},
   "outputs": [],
   "source": [
    "img, label = batch"
   ]
  },
  {
   "cell_type": "code",
   "execution_count": 62,
   "id": "9021ece8-b174-4046-8921-e4f2d9477642",
   "metadata": {},
   "outputs": [],
   "source": [
    "cam = GradCAM(model=model, target_layer=layer, use_cuda=True)\n"
   ]
  },
  {
   "cell_type": "code",
   "execution_count": 69,
   "id": "201d4a7d-a29d-4077-8747-cb7fe32514cd",
   "metadata": {},
   "outputs": [],
   "source": [
    "img = img.float()"
   ]
  },
  {
   "cell_type": "code",
   "execution_count": 70,
   "id": "8e9cb0df-5d4b-43ab-ba31-35b72e68cdc4",
   "metadata": {},
   "outputs": [
    {
     "name": "stdout",
     "output_type": "stream",
     "text": [
      "(1, 512, 1, 1)\n"
     ]
    },
    {
     "name": "stderr",
     "output_type": "stream",
     "text": [
      "/home/harshv834/ClaDec/pytorch-grad-cam/pytorch_grad_cam/base_cam.py:85: RuntimeWarning: invalid value encountered in true_divide\n",
      "  img = img / np.max(img)\n"
     ]
    }
   ],
   "source": [
    "import torch.cuda.amp as tca\n",
    "grayscale_cam = cam(input_tensor=img[0].unsqueeze(0), target_category=[label[0]])"
   ]
  },
  {
   "cell_type": "code",
   "execution_count": 71,
   "id": "c4dc4fe9-b7db-4ada-92d4-e7d8be6c5800",
   "metadata": {},
   "outputs": [],
   "source": [
    "grayscale_cam = grayscale_cam[0,:]"
   ]
  },
  {
   "cell_type": "code",
   "execution_count": 75,
   "id": "15c05621-3634-4454-ba97-c33b4079f92d",
   "metadata": {},
   "outputs": [
    {
     "data": {
      "text/plain": [
       "torch.Size([1, 32, 32])"
      ]
     },
     "execution_count": 75,
     "metadata": {},
     "output_type": "execute_result"
    }
   ],
   "source": [
    "img[0].shape"
   ]
  },
  {
   "cell_type": "code",
   "execution_count": 85,
   "id": "aa068476-f734-41d1-8d1f-2c780e11a5be",
   "metadata": {},
   "outputs": [
    {
     "data": {
      "text/plain": [
       "tensor(0.)"
      ]
     },
     "execution_count": 85,
     "metadata": {},
     "output_type": "execute_result"
    }
   ],
   "source": []
  },
  {
   "cell_type": "code",
   "execution_count": 76,
   "id": "e07a2635-a933-443b-ba8e-fcce21e87f73",
   "metadata": {},
   "outputs": [],
   "source": [
    "visualization = show_cam_on_image(img[0].numpy().transpose(1,2,0), grayscale_cam, use_rgb=True)"
   ]
  },
  {
   "cell_type": "code",
   "execution_count": 78,
   "id": "329bc832-7c36-4b08-a143-cd929979d0d0",
   "metadata": {},
   "outputs": [
    {
     "data": {
      "text/plain": [
       "<matplotlib.image.AxesImage at 0x7f7b73002c10>"
      ]
     },
     "execution_count": 78,
     "metadata": {},
     "output_type": "execute_result"
    },
    {
     "data": {
      "image/png": "[encoded data removed]",
      "text/plain": [
       "<Figure size 432x288 with 1 Axes>"
      ]
     },
     "metadata": {
      "needs_background": "light"
     },
     "output_type": "display_data"
    }
   ],
   "source": [
    "import matplotlib.pyplot as plt\n",
    "plt.imshow(visualization)"
   ]
  },
  {
   "cell_type": "code",
   "execution_count": 56,
   "id": "d7be3202-e6bc-4fcf-b1fd-ac246fa375ae",
   "metadata": {},
   "outputs": [],
   "source": [
    "#from resnet import ResNet10\n",
    "model_path = \"trained_models/MNIST\"\n",
    "#model = ResNet10(n_classes = 10, n_output_planes = [64, 128, 256, 512], inch = 1).cuda()\n",
    "#model.load_state_dict(torch.load(os.path.join(model_path, \"classifier.pt\")))\n",
    "model = torch.load(os.path.join(model_path, \"clf.pt\"))"
   ]
  },
  {
   "cell_type": "code",
   "execution_count": 57,
   "id": "5097a8a0-97b7-4397-aeb2-e1eb8c3f02f9",
   "metadata": {},
   "outputs": [],
   "source": [
    "batch_ordered = torch.load(os.path.join(model_path, \"original.pt\"))\n",
    "clf_preds = torch.load(os.path.join(model_path, \"clf_preds.pt\"))"
   ]
  },
  {
   "cell_type": "code",
   "execution_count": 58,
   "id": "67bf9fbf-1acf-4f87-8924-9798acec47e7",
   "metadata": {},
   "outputs": [],
   "source": [
    "i = 0\n",
    "(batch, label) = batch_ordered[i][0], batch_ordered[i][1]\n",
    "pred = clf_preds[i]"
   ]
  },
  {
   "cell_type": "code",
   "execution_count": null,
   "id": "71bcdac2-321d-4bd8-9045-a7cf8f5ebf03",
   "metadata": {},
   "outputs": [],
   "source": []
  },
  {
   "cell_type": "code",
   "execution_count": 60,
   "id": "aefb7405-3f7b-47cf-a62e-4eaa04c2aa4f",
   "metadata": {},
   "outputs": [],
   "source": [
    "layer= model.conv3"
   ]
  },
  {
   "cell_type": "code",
   "execution_count": 61,
   "id": "8631ae38-cb93-4460-ad38-21cb3d764143",
   "metadata": {},
   "outputs": [],
   "source": [
    "cam = GradCAM(model=model, target_layer=layer, use_cuda=True)"
   ]
  },
  {
   "cell_type": "code",
   "execution_count": 62,
   "id": "a3cf8920-af98-46a5-a0ce-6673088e61e7",
   "metadata": {},
   "outputs": [
    {
     "name": "stderr",
     "output_type": "stream",
     "text": [
      "/home/harshv834/ClaDec/pytorch-grad-cam/pytorch_grad_cam/base_cam.py:85: RuntimeWarning: invalid value encountered in true_divide\n",
      "  img = img / np.max(img)\n"
     ]
    }
   ],
   "source": [
    "grayscale_cams = [cam(input_tensor=batch.type(torch.float32), target_category=label) for (batch, label) in batch_ordered]"
   ]
  },
  {
   "cell_type": "code",
   "execution_count": 47,
   "id": "7dcc3ff9-28f0-4828-b335-3310227f5c45",
   "metadata": {},
   "outputs": [],
   "source": [
    "torch.save(grayscale_cams, os.path.join(model_path, \"gradcam\", \"cam_3.pt\"))"
   ]
  },
  {
   "cell_type": "code",
   "execution_count": 63,
   "id": "571e0a96-bf40-4907-bf44-7b3fb22ce1b6",
   "metadata": {},
   "outputs": [],
   "source": [
    "grayscale_cam = cam(input_tensor=batch.type(torch.float32), target_category=label)"
   ]
  },
  {
   "cell_type": "code",
   "execution_count": 69,
   "id": "788c1add-e842-4a89-a256-73b9a43f8b9b",
   "metadata": {},
   "outputs": [],
   "source": [
    "j = 7\n",
    "import cv2\n",
    "gray = batch[j].numpy().transpose(1,2,0).astype(float)\n",
    "gray_three = cv2.merge([gray,gray,gray])\n",
    "visualization = show_cam_on_image(gray, grayscale_cam[j], use_rgb=True)"
   ]
  },
  {
   "cell_type": "code",
   "execution_count": 38,
   "id": "706cb8d9-ab00-4782-a6e2-c721fc2654ff",
   "metadata": {},
   "outputs": [],
   "source": [
    "layer_dict = {2: model.conv4, 3:model.conv3, 4: model.conv2, 5:model.conv1}"
   ]
  },
  {
   "cell_type": "code",
   "execution_count": null,
   "id": "b8e42ebf-961e-4460-80e1-18a46819f155",
   "metadata": {},
   "outputs": [],
   "source": []
  },
  {
   "cell_type": "code",
   "execution_count": 70,
   "id": "00d7ef4b-2e4e-4b47-87c2-084d0f20757b",
   "metadata": {},
   "outputs": [
    {
     "data": {
      "text/plain": [
       "<matplotlib.image.AxesImage at 0x7f050d7e9880>"
      ]
     },
     "execution_count": 70,
     "metadata": {},
     "output_type": "execute_result"
    },
    {
     "data": {
      "image/png": "[encoded data removed]",
      "text/plain": [
       "<Figure size 576x216 with 1 Axes>"
      ]
     },
     "metadata": {
      "needs_background": "light"
     },
     "output_type": "display_data"
    }
   ],
   "source": [
    "import matplotlib.pyplot as plt\n",
    "plt.imshow(gray_three)"
   ]
  },
  {
   "cell_type": "code",
   "execution_count": 71,
   "id": "c7065eae-04db-4ab4-ab1f-09864cddd2eb",
   "metadata": {},
   "outputs": [],
   "source": [
    "reconstr_ae = {i: torch.load(os.path.join(model_path, \"ae_reconstr_\" + str(i)+ \".pt\")) for i in range(2,5)}\n",
    "reconstr_cladec = {i: torch.load(os.path.join(model_path,\"cladec_reconstr_\" + str(i)+ \".pt\")) for i in range(2,5)}\n"
   ]
  },
  {
   "cell_type": "code",
   "execution_count": null,
   "id": "1ef68659-5c43-479b-8ecf-e62597cb3696",
   "metadata": {},
   "outputs": [],
   "source": []
  },
  {
   "cell_type": "code",
   "execution_count": 72,
   "id": "09246a0e-a3b0-48be-a531-45f8eaf07cb5",
   "metadata": {},
   "outputs": [],
   "source": [
    "correct_path = os.path.join(model_path, \"gradcam/correct\")\n",
    "incorrect_path = os.path.join(model_path,\"gradcam/incorrect\")\n",
    "os.makedirs(correct_path, exist_ok=True)\n",
    "os.makedirs(incorrect_path, exist_ok=True)"
   ]
  },
  {
   "cell_type": "code",
   "execution_count": 94,
   "id": "23d52719-73fc-4165-b018-0f39a9a30c10",
   "metadata": {},
   "outputs": [],
   "source": [
    "import numpy as np\n",
    "def format_img(img):\n",
    "    #mu = norm[0].numpy().reshape(1,1,3)\n",
    "    #std = norm[1].numpy().reshape(1,1,3)\n",
    "    gray = img.numpy().astype(float).transpose(1,2,0)\n",
    "    gray_three = cv2.merge([gray,gray,gray])\n",
    "    #form = form * std + mu\n",
    "    return gray_three"
   ]
  },
  {
   "cell_type": "code",
   "execution_count": 87,
   "id": "59c3ce10-c754-4ccc-b405-14fbdd751578",
   "metadata": {},
   "outputs": [],
   "source": [
    "import matplotlib.pyplot as plt\n",
    "def plotter(ax, img, title=None, ylabel=None):\n",
    "    ax.imshow(img)\n",
    "    if title is not None: ax.set_title(title)\n",
    "    if ylabel is not None: ax.set_ylabel(ylabel)\n",
    "    ax.set_xticks([])\n",
    "    ax.set_yticks([])"
   ]
  },
  {
   "cell_type": "code",
   "execution_count": 52,
   "id": "f785d931-7174-428a-9716-f57fef7bb569",
   "metadata": {},
   "outputs": [
    {
     "ename": "TypeError",
     "evalue": "unsupported operand type(s) for *: 'int' and 'GradCAM'",
     "output_type": "error",
     "traceback": [
      "\u001b[0;31m---------------------------------------------------------------------------\u001b[0m",
      "\u001b[0;31mTypeError\u001b[0m                                 Traceback (most recent call last)",
      "\u001b[0;32m<ipython-input-52-3dcb0cc101dd>\u001b[0m in \u001b[0;36m<module>\u001b[0;34m\u001b[0m\n\u001b[0;32m----> 1\u001b[0;31m \u001b[0mplt\u001b[0m\u001b[0;34m.\u001b[0m\u001b[0mimshow\u001b[0m\u001b[0;34m(\u001b[0m\u001b[0mshow_cam_on_image\u001b[0m\u001b[0;34m(\u001b[0m\u001b[0morig\u001b[0m\u001b[0;34m,\u001b[0m \u001b[0mcam\u001b[0m\u001b[0;34m,\u001b[0m \u001b[0muse_rgb\u001b[0m\u001b[0;34m=\u001b[0m\u001b[0;32mTrue\u001b[0m\u001b[0;34m)\u001b[0m\u001b[0;34m)\u001b[0m\u001b[0;34m\u001b[0m\u001b[0;34m\u001b[0m\u001b[0m\n\u001b[0m",
      "\u001b[0;32m~/ClaDec/pytorch-grad-cam/pytorch_grad_cam/utils/image.py\u001b[0m in \u001b[0;36mshow_cam_on_image\u001b[0;34m(img, mask, use_rgb, colormap)\u001b[0m\n\u001b[1;32m     39\u001b[0m     \u001b[0;34m:\u001b[0m\u001b[0mreturns\u001b[0m\u001b[0;34m:\u001b[0m \u001b[0mThe\u001b[0m \u001b[0mdefault\u001b[0m \u001b[0mimage\u001b[0m \u001b[0;32mwith\u001b[0m \u001b[0mthe\u001b[0m \u001b[0mcam\u001b[0m \u001b[0moverlay\u001b[0m\u001b[0;34m.\u001b[0m\u001b[0;34m\u001b[0m\u001b[0;34m\u001b[0m\u001b[0m\n\u001b[1;32m     40\u001b[0m     \"\"\"\n\u001b[0;32m---> 41\u001b[0;31m     \u001b[0mheatmap\u001b[0m \u001b[0;34m=\u001b[0m \u001b[0mcv2\u001b[0m\u001b[0;34m.\u001b[0m\u001b[0mapplyColorMap\u001b[0m\u001b[0;34m(\u001b[0m\u001b[0mnp\u001b[0m\u001b[0;34m.\u001b[0m\u001b[0muint8\u001b[0m\u001b[0;34m(\u001b[0m\u001b[0;36m255\u001b[0m \u001b[0;34m*\u001b[0m \u001b[0mmask\u001b[0m\u001b[0;34m)\u001b[0m\u001b[0;34m,\u001b[0m \u001b[0mcolormap\u001b[0m\u001b[0;34m)\u001b[0m\u001b[0;34m\u001b[0m\u001b[0;34m\u001b[0m\u001b[0m\n\u001b[0m\u001b[1;32m     42\u001b[0m     \u001b[0;32mif\u001b[0m \u001b[0muse_rgb\u001b[0m\u001b[0;34m:\u001b[0m\u001b[0;34m\u001b[0m\u001b[0;34m\u001b[0m\u001b[0m\n\u001b[1;32m     43\u001b[0m         \u001b[0mheatmap\u001b[0m \u001b[0;34m=\u001b[0m \u001b[0mcv2\u001b[0m\u001b[0;34m.\u001b[0m\u001b[0mcvtColor\u001b[0m\u001b[0;34m(\u001b[0m\u001b[0mheatmap\u001b[0m\u001b[0;34m,\u001b[0m \u001b[0mcv2\u001b[0m\u001b[0;34m.\u001b[0m\u001b[0mCOLOR_BGR2RGB\u001b[0m\u001b[0;34m)\u001b[0m\u001b[0;34m\u001b[0m\u001b[0;34m\u001b[0m\u001b[0m\n",
      "\u001b[0;31mTypeError\u001b[0m: unsupported operand type(s) for *: 'int' and 'GradCAM'"
     ]
    }
   ],
   "source": [
    "plt.imshow(show_cam_on_image(orig, cam, use_rgb=True))"
   ]
  },
  {
   "cell_type": "code",
   "execution_count": 95,
   "id": "9e3d70b9-ee7f-4c5e-a386-1d221f31e84e",
   "metadata": {},
   "outputs": [
    {
     "name": "stderr",
     "output_type": "stream",
     "text": [
      "100%|██████████| 548/548 [04:54<00:00,  1.86it/s] \n"
     ]
    },
    {
     "data": {
      "image/png": "[encoded data removed]",
      "text/plain": [
       "<Figure size 576x216 with 4 Axes>"
      ]
     },
     "metadata": {},
     "output_type": "display_data"
    }
   ],
   "source": [
    "flag = False\n",
    "from tqdm import tqdm\n",
    "i=0\n",
    "num_correct = 0\n",
    "num_incorrect = 0\n",
    "for j in tqdm(range(len(batch_ordered))):\n",
    "    if flag == True:\n",
    "        continue\n",
    "    for k in range(len(batch_ordered[j][0])):\n",
    "        \n",
    "        orig = format_img(batch_ordered[j][0][k])\n",
    "        label = batch_ordered[j][1][k].item()\n",
    "        pred = clf_preds[j][k].item()\n",
    "        i = i+1\n",
    "        cam = grayscale_cams[j][k]\n",
    "        cam_img = show_cam_on_image(orig, cam)\n",
    "        if (pred!=label):\n",
    "            if num_incorrect < 200:\n",
    "                img_name = \"img_\" + str(i) + \"_label_\" + str(label) + \"_pred_\" + str(pred) + \".jpg\"\n",
    "                path = os.path.join(incorrect_path, img_name)\n",
    "                num_incorrect +=1\n",
    "            else:\n",
    "                continue                \n",
    "        else:\n",
    "            if num_correct < 200:\n",
    "                img_name = \"img_\" + str(i) + \"_label_\" + str(label) + \".jpg\"\n",
    "                path = os.path.join(correct_path, img_name)\n",
    "                num_correct += 1\n",
    "            else:\n",
    "                continue\n",
    "\n",
    "        #if label ==pred:\n",
    "        #if i> 300:\n",
    "        #    flag=True\n",
    "        #    break\n",
    "        ae_img = format_img(reconstr_ae[3][j][0][k])\n",
    "        cladec_imgs = format_img(reconstr_cladec[3][j][0][k])\n",
    "        plt.rcParams[\"figure.figsize\"] = (8,3)\n",
    "        ax = plt.subplot(1,4,1)\n",
    "        plotter(ax, orig, title=\"original\")\n",
    "        ax = plt.subplot(1,4,2)\n",
    "        plotter(ax, cam_img, title=\"gradcam\")\n",
    "        ax = plt.subplot(1,4,3)\n",
    "        plotter(ax, cladec_imgs, title=\"cladec\")\n",
    "        ax = plt.subplot(1,4,4)\n",
    "        plotter(ax, ae_img, title=\"refae\")\n",
    "\n",
    "\n",
    "        plt.subplots_adjust(hspace=0, wspace=0)\n",
    "        \n",
    "        #plt.show()\n",
    "        plt.savefig(path)\n"
   ]
  },
  {
   "cell_type": "code",
   "execution_count": 67,
   "id": "e36fc2a1-5b8a-4ca6-a1ad-02786eca5369",
   "metadata": {},
   "outputs": [
    {
     "data": {
      "text/plain": [
       "torch.Size([3, 64, 64])"
      ]
     },
     "execution_count": 67,
     "metadata": {},
     "output_type": "execute_result"
    }
   ],
   "source": [
    "batch_ordered[j][0][k].shape"
   ]
  },
  {
   "cell_type": "code",
   "execution_count": 92,
   "id": "37c1b345-f08e-453c-856d-6395a2b7e245",
   "metadata": {},
   "outputs": [
    {
     "data": {
      "text/plain": [
       "2"
      ]
     },
     "execution_count": 92,
     "metadata": {},
     "output_type": "execute_result"
    }
   ],
   "source": [
    "len(reconstr_ae[3][j])"
   ]
  },
  {
   "cell_type": "code",
   "execution_count": null,
   "id": "d70abc7d-3299-4294-b742-56c0c1569c70",
   "metadata": {},
   "outputs": [],
   "source": []
  }
 ],
 "metadata": {
  "kernelspec": {
   "display_name": "Python 3",
   "language": "python",
   "name": "python3"
  },
  "language_info": {
   "codemirror_mode": {
    "name": "ipython",
    "version": 3
   },
   "file_extension": ".py",
   "mimetype": "text/x-python",
   "name": "python",
   "nbconvert_exporter": "python",
   "pygments_lexer": "ipython3",
   "version": "3.8.10"
  }
 },
 "nbformat": 4,
 "nbformat_minor": 5
}
