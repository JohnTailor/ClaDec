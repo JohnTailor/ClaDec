{
 "cells": [
  {
   "cell_type": "code",
   "execution_count": 2,
   "id": "e38abace-af94-423b-9a3a-aa6cef9e612c",
   "metadata": {},
   "outputs": [
    {
     "name": "stdout",
     "output_type": "stream",
     "text": [
      "The autoreload extension is already loaded. To reload it, use:\n",
      "  %reload_ext autoreload\n"
     ]
    }
   ],
   "source": [
    "%load_ext autoreload\n",
    "%autoreload 2"
   ]
  },
  {
   "cell_type": "code",
   "execution_count": 2,
   "id": "bd34de3f-c368-479b-910c-5679143c3bf8",
   "metadata": {},
   "outputs": [
    {
     "ename": "NameError",
     "evalue": "name 'IterableDataset' is not defined",
     "output_type": "error",
     "traceback": [
      "\u001b[0;31m---------------------------------------------------------------------------\u001b[0m",
      "\u001b[0;31mNameError\u001b[0m                                 Traceback (most recent call last)",
      "\u001b[0;32m<ipython-input-2-c419caf19cd2>\u001b[0m in \u001b[0;36m<module>\u001b[0;34m\u001b[0m\n\u001b[0;32m----> 1\u001b[0;31m \u001b[0;32mclass\u001b[0m \u001b[0mLargeActDataset\u001b[0m\u001b[0;34m(\u001b[0m\u001b[0mIterableDataset\u001b[0m\u001b[0;34m)\u001b[0m\u001b[0;34m:\u001b[0m\u001b[0;34m\u001b[0m\u001b[0;34m\u001b[0m\u001b[0m\n\u001b[0m\u001b[1;32m      2\u001b[0m     \u001b[0;32mdef\u001b[0m \u001b[0m__init__\u001b[0m\u001b[0;34m(\u001b[0m\u001b[0mself\u001b[0m\u001b[0;34m,\u001b[0m \u001b[0morig_loader\u001b[0m\u001b[0;34m,\u001b[0m \u001b[0mact_model\u001b[0m\u001b[0;34m,\u001b[0m \u001b[0mdevice\u001b[0m\u001b[0;34m)\u001b[0m\u001b[0;34m:\u001b[0m\u001b[0;34m\u001b[0m\u001b[0;34m\u001b[0m\u001b[0m\n\u001b[1;32m      3\u001b[0m         \u001b[0msuper\u001b[0m\u001b[0;34m(\u001b[0m\u001b[0mLargeActDataset\u001b[0m\u001b[0;34m,\u001b[0m \u001b[0mself\u001b[0m\u001b[0;34m)\u001b[0m\u001b[0;34m.\u001b[0m\u001b[0m__init__\u001b[0m\u001b[0;34m(\u001b[0m\u001b[0;34m)\u001b[0m\u001b[0;34m\u001b[0m\u001b[0;34m\u001b[0m\u001b[0m\n\u001b[1;32m      4\u001b[0m         \u001b[0mself\u001b[0m\u001b[0;34m.\u001b[0m\u001b[0morig_loader\u001b[0m \u001b[0;34m=\u001b[0m \u001b[0morig_loader\u001b[0m\u001b[0;34m\u001b[0m\u001b[0;34m\u001b[0m\u001b[0m\n\u001b[1;32m      5\u001b[0m         \u001b[0mself\u001b[0m\u001b[0;34m.\u001b[0m\u001b[0mact_model\u001b[0m \u001b[0;34m=\u001b[0m \u001b[0mact_model\u001b[0m\u001b[0;34m\u001b[0m\u001b[0;34m\u001b[0m\u001b[0m\n",
      "\u001b[0;31mNameError\u001b[0m: name 'IterableDataset' is not defined"
     ]
    }
   ],
   "source": []
  },
  {
   "cell_type": "code",
   "execution_count": 3,
   "id": "6bb7b148-0f51-4848-8107-9f1a5357ef1e",
   "metadata": {},
   "outputs": [
    {
     "name": "stdout",
     "output_type": "stream",
     "text": [
      "Executing config {'ds': ('TinyImgNet', 200), 'batchSize': 128, 'opt': ('S', 60, 0.001, 0.0002), 'layInd': -1, 'alpha': 0.001, 'ntrain': 100000}\n",
      "Get dataset\n"
     ]
    }
   ],
   "source": [
    "import torch\n",
    "from torch.utils.data import TensorDataset, Dataset, IterableDataset\n",
    "import models as clModel,dutils\n",
    "import cladec\n",
    "import numpy as np,os\n",
    "import torch.cuda.amp as tca\n",
    "from matplotlib import pyplot as plt\n",
    "import pdb\n",
    "from tqdm import tqdm\n",
    "dummy=False\n",
    "#dummy = True\n",
    "#cfg={ 'ds': ('Fash', 10),  #Dataset either  ('Ci100', 100) or ('Ci10', 10)\n",
    "#      'batchSize': 128, 'opt': ('S', 1 if dummy else 64, 0.1, 0.0001), #optimizer settings\n",
    "#      'layInd':-1, #Layer to explain (from last layer back, ie. -1 is last (linear), -2 is last conv, -3 second last conv)\n",
    "#      'alpha': 0.001, #tradeoff parameter reconstruction vs. classification loss\n",
    "#      'ntrain': 500 if dummy else 60000}\n",
    "cfg={ 'ds': ('TinyImgNet', 200),  #Dataset either  ('Ci100', 100) or ('Ci10', 10)\n",
    "    'batchSize': 128, 'opt': ('S', 1 if dummy else 60, 0.001, 0.0002), #optimizer settings\n",
    "    'layInd':-1, #Layer to explain (from last layer back, ie. -1 is last (linear), -2 is last conv, -3 second last conv)\n",
    "    'alpha': 0.001, #tradeoff parameter reconstruction vs. classification loss\n",
    "    'ntrain': 500 if dummy else 100000}\n",
    "print(\"Executing config\",cfg)\n",
    "cfg[\"num_classes\"]=cfg[\"ds\"][1]\n",
    "#Get Data\n",
    "print(\"Get dataset\")"
   ]
  },
  {
   "cell_type": "code",
   "execution_count": 4,
   "id": "d593a8d6-be5d-422c-a2f0-8c35eaf84109",
   "metadata": {},
   "outputs": [],
   "source": [
    "trained_model_path = \"trained_models/TinyImgNet_final\"\n",
    "import os\n",
    "classifier = torch.load(os.path.join(trained_model_path, \"classifier_new.pt\"))"
   ]
  },
  {
   "cell_type": "code",
   "execution_count": 8,
   "id": "0fc9084f-29bd-409b-bf7f-bb0c044023c8",
   "metadata": {},
   "outputs": [],
   "source": [
    "cfg[\"device\"] = torch.device(\"cuda:0\" if torch.cuda.is_available() else \"cpu\")"
   ]
  },
  {
   "cell_type": "code",
   "execution_count": 9,
   "id": "9bf01dcc-db2d-4a11-b8d0-c723d0f84bd9",
   "metadata": {},
   "outputs": [],
   "source": [
    "classifier.to(cfg[\"device\"])\n",
    "classifier.eval()\n",
    "model_path = trained_model_path"
   ]
  },
  {
   "cell_type": "code",
   "execution_count": 10,
   "id": "5b67173c-70aa-4b5a-ac14-d95340a9c925",
   "metadata": {},
   "outputs": [],
   "source": [
    "_, val_loader,_, _, valset=dutils.getFullDS(cfg, reconstr=True)\n"
   ]
  },
  {
   "cell_type": "code",
   "execution_count": 11,
   "id": "3fe7cc5a-ff26-413c-95ca-b7ef9a8c1c4d",
   "metadata": {},
   "outputs": [],
   "source": [
    "batch_ordered = [x for x in val_loader]\n",
    "torch.save(batch_ordered, os.path.join(model_path, \"original.pt\"))"
   ]
  },
  {
   "cell_type": "code",
   "execution_count": 41,
   "id": "920c894a-e60d-4b4f-b23b-ebf4eb7a91ba",
   "metadata": {},
   "outputs": [],
   "source": [
    "clf_preds = []\n",
    "for (batch, label) in val_loader:\n",
    "    with tca.autocast():\n",
    "        clf_preds.append(classifier(batch.cuda()).argmax(dim=1).detach().cpu())\n",
    "torch.save(clf_preds, os.path.join(model_path, \"clf_preds.pt\"))"
   ]
  },
  {
   "cell_type": "code",
   "execution_count": 15,
   "id": "d06bdb1a-5a33-4530-90a2-53f937338f1e",
   "metadata": {},
   "outputs": [],
   "source": [
    "from torchvision.datasets import ImageFolder\n",
    "from torch.utils.data import DataLoader\n",
    "import torchvision.transforms as transforms"
   ]
  },
  {
   "cell_type": "code",
   "execution_count": 76,
   "id": "fb3d9948-c90b-453b-91b9-f1e7abedc1b0",
   "metadata": {},
   "outputs": [],
   "source": [
    "class LargeActDataset(IterableDataset):\n",
    "    def __init__(self, orig_loader, act_model, device):\n",
    "        super(LargeActDataset, self).__init__()\n",
    "        self.orig_loader = orig_loader\n",
    "        self.act_model = act_model\n",
    "        self.device = device\n",
    "\n",
    "\n",
    "    def __iter__(self) :\n",
    "        for (img, label) in self.orig_loader:\n",
    "            with torch.no_grad():\n",
    "                with tca.autocast():\n",
    "                    act = self.act_model(img.to(self.device)).detach().cpu()\n",
    "            yield (img.detach().cpu(), label, act)\n",
    "\n"
   ]
  },
  {
   "cell_type": "code",
   "execution_count": 77,
   "id": "945c3c72-9677-4e9d-979c-2833923eb127",
   "metadata": {},
   "outputs": [],
   "source": [
    "def getActs(ds,actModel,cfg):\n",
    "    dsact = LargeActDataset(ds, actModel, cfg[\"device\"])\n",
    "    return torch.utils.data.DataLoader(dsact, batch_size=1)\n"
   ]
  },
  {
   "cell_type": "code",
   "execution_count": null,
   "id": "e07f9636-c853-41b6-8226-f95077510204",
   "metadata": {},
   "outputs": [],
   "source": []
  },
  {
   "cell_type": "code",
   "execution_count": 78,
   "id": "7f874243-76bc-446e-861a-049d6b375c0a",
   "metadata": {},
   "outputs": [
    {
     "name": "stderr",
     "output_type": "stream",
     "text": [
      "100%|██████████| 5/5 [00:24<00:00,  4.81s/it]\n"
     ]
    }
   ],
   "source": [
    "from tqdm import tqdm\n",
    "from cladec import RefAE\n",
    "from cladec import ClaDecNet, getActModel\n",
    "for i in tqdm(range(1,6)):\n",
    "    ae_reconstr = []\n",
    "    cladec_reconstr = []\n",
    "    cfg[\"layInd\"] = -1*i\n",
    "    actModel = getActModel(cfg, classifier)\n",
    "    actModel.eval()\n",
    "    trds=getActs(val_loader, actModel,cfg)\n",
    "    d = next(iter(trds))\n",
    "    refAE = torch.load(os.path.join(model_path, \"refAE_\"+  str(i) + \".pt\"))\n",
    "    cladecNet = torch.load(os.path.join(model_path, \"cladecNet_\"+  str(i) + \".pt\"))\n",
    "    #clf_ae  = torch.load(\"trained_models/MNIST/clf_ae_\" + str(i) + \".pt\").cuda()\n",
    "    #clf_cladec = torch.load(\"trained_models/MNIST/clf_cladec_\" + str(i) + \".pt\").cuda()\n",
    "    actModel = cladec.getActModel(cfg, classifier).cuda()\n",
    "    refAE.eval()\n",
    "    cladecNet.eval()\n",
    "    actModel.eval()\n",
    "    with tca.autocast():\n",
    "        for (x,y) in batch_ordered:\n",
    "            ae_reconstr.append(refAE(x.cuda()).detach().cpu())\n",
    "            cladec_reconstr.append(cladecNet(actModel(x.cuda())).detach().cpu())\n",
    "    torch.save(ae_reconstr,os.path.join(model_path, \"ae_reconstr_\" + str(i)+ \".pt\"))\n",
    "    torch.save(cladec_reconstr,os.path.join(model_path,\"cladec_reconstr_\" + str(i)+ \".pt\"))\n"
   ]
  },
  {
   "cell_type": "code",
   "execution_count": null,
   "id": "85c79a32-bc8b-4c16-a1a7-cdf6f3040d5d",
   "metadata": {},
   "outputs": [],
   "source": []
  },
  {
   "cell_type": "code",
   "execution_count": null,
   "id": "2c87c68b-4e4c-4466-9cd0-c5e35d16f0be",
   "metadata": {},
   "outputs": [],
   "source": []
  },
  {
   "cell_type": "code",
   "execution_count": 31,
   "id": "33e3488c-6f81-4720-b765-bd469e998b40",
   "metadata": {},
   "outputs": [],
   "source": [
    "i = 5\n",
    "cfg[\"layInd\"] = -1*i\n",
    "loader = DataLoader(ImageFolder(root=os.path.join(model_path, \"rec_refae/reconstructions_{}/val\".format(i)), transform = transforms.ToTensor()),batch_size  =cfg[\"batchSize\"], num_workers = 4 )"
   ]
  },
  {
   "cell_type": "code",
   "execution_count": 79,
   "id": "a31e6fc0-9f1e-4e82-afc5-186ffa9d8d80",
   "metadata": {},
   "outputs": [],
   "source": [
    "reconstr_ae = {i: torch.load(os.path.join(model_path, \"ae_reconstr_\" + str(i)+ \".pt\")) for i in range(1,6)}\n",
    "reconstr_cladec = {i: torch.load(os.path.join(model_path,\"cladec_reconstr_\" + str(i)+ \".pt\")) for i in range(1,6)}\n"
   ]
  },
  {
   "cell_type": "code",
   "execution_count": 18,
   "id": "7e1e2174-6335-4d4d-8ca0-34011a49b795",
   "metadata": {},
   "outputs": [],
   "source": [
    "orig_img = next(iter(val_loader))[0]"
   ]
  },
  {
   "cell_type": "code",
   "execution_count": 61,
   "id": "6be2b591-4973-4a80-8d30-deceb1256a31",
   "metadata": {},
   "outputs": [
    {
     "data": {
      "text/plain": [
       "<matplotlib.image.AxesImage at 0x7fc1729f8820>"
      ]
     },
     "execution_count": 61,
     "metadata": {},
     "output_type": "execute_result"
    },
    {
     "data": {
      "image/png": "[encoded data removed]",
      "text/plain": [
       "<Figure size 576x216 with 1 Axes>"
      ]
     },
     "metadata": {
      "needs_background": "light"
     },
     "output_type": "display_data"
    }
   ],
   "source": [
    "import matplotlib.pyplot as plt\n",
    "plt.imshow(orig_img[4].numpy().transpose(1,2,0).astype(float))"
   ]
  },
  {
   "cell_type": "code",
   "execution_count": 75,
   "id": "494789a6-2fab-4c0a-99b3-7043c4fd12c3",
   "metadata": {},
   "outputs": [
    {
     "data": {
      "text/plain": [
       "<matplotlib.image.AxesImage at 0x7fc17b228070>"
      ]
     },
     "execution_count": 75,
     "metadata": {},
     "output_type": "execute_result"
    },
    {
     "data": {
      "image/png": "[encoded data removed]",
      "text/plain": [
       "<Figure size 576x216 with 1 Axes>"
      ]
     },
     "metadata": {
      "needs_background": "light"
     },
     "output_type": "display_data"
    }
   ],
   "source": [
    "cladec_img = next(iter(loader))[0]\n",
    "plt.imshow(cladec_img[15].numpy().transpose(1,2,0).astype(float))"
   ]
  },
  {
   "cell_type": "code",
   "execution_count": 35,
   "id": "90cfd845-4995-4b6d-a94d-508f8cd7e892",
   "metadata": {},
   "outputs": [
    {
     "name": "stderr",
     "output_type": "stream",
     "text": [
      "100%|██████████| 5/5 [00:13<00:00,  2.70s/it]\n"
     ]
    }
   ],
   "source": [
    "reconstr_ae = {}\n",
    "reconstr_cladec = {}\n",
    "for i in tqdm(range(1,6)):\n",
    "    refae_loader = DataLoader(ImageFolder(root=os.path.join(model_path, \"rec_refae/reconstructions_{}/val\".format(i)), transform = transforms.ToTensor()),batch_size  =cfg[\"batchSize\"], num_workers = 4 )\n",
    "    cladec_loader = DataLoader(ImageFolder(root=os.path.join(model_path, \"rec_cladec/reconstructions_{}/val\".format(i)), transform = transforms.ToTensor()),batch_size  =cfg[\"batchSize\"], num_workers = 4 )\n",
    "    reconstr_ae[i] = [x for (x,_) in refae_loader ]\n",
    "    reconstr_cladec[i] = [x for (x,_) in cladec_loader ]"
   ]
  },
  {
   "cell_type": "code",
   "execution_count": 36,
   "id": "032e026d-cc1c-4d2f-b515-583c3f4a7d9a",
   "metadata": {},
   "outputs": [],
   "source": [
    "correct_path = os.path.join(model_path, \"preds/correct\")\n",
    "incorrect_path = os.path.join(model_path,\"preds/incorrect\")\n",
    "os.makedirs(correct_path, exist_ok=True)\n",
    "os.makedirs(incorrect_path, exist_ok=True)"
   ]
  },
  {
   "cell_type": "code",
   "execution_count": 37,
   "id": "8f731657-4ca2-44ad-bbbe-5547971adc18",
   "metadata": {},
   "outputs": [],
   "source": [
    "import numpy as np\n",
    "def format_img(img):\n",
    "    #mu = norm[0].numpy().reshape(1,1,3)\n",
    "    #std = norm[1].numpy().reshape(1,1,3)\n",
    "    form = img.squeeze().numpy().astype(float).transpose((1,2,0))\n",
    "    #form = form * std + mu\n",
    "    return form"
   ]
  },
  {
   "cell_type": "code",
   "execution_count": 44,
   "id": "eba0e94f-53cd-4d4c-adb7-064d843af091",
   "metadata": {},
   "outputs": [],
   "source": [
    "import matplotlib.pyplot as plt\n",
    "def plotter(ax, img, title=None, ylabel=None):\n",
    "    ax.imshow(img)\n",
    "    if title is not None: ax.set_title(title)\n",
    "    if ylabel is not None: ax.set_ylabel(ylabel)\n",
    "    ax.set_xticks([])\n",
    "    ax.set_yticks([])"
   ]
  },
  {
   "cell_type": "code",
   "execution_count": null,
   "id": "687ffb3c-745b-4719-8319-ab0c2ead523d",
   "metadata": {},
   "outputs": [
    {
     "name": "stderr",
     "output_type": "stream",
     "text": [
      " 33%|███▎      | 26/79 [12:25<44:24, 50.28s/it]"
     ]
    }
   ],
   "source": [
    "flag = False\n",
    "from tqdm import tqdm\n",
    "i=0\n",
    "for j in tqdm(range(len(batch_ordered))):\n",
    "    if flag == True:\n",
    "        break\n",
    "    for k in range(len(batch_ordered[j][0])):\n",
    "        if k > 8: \n",
    "            break\n",
    "        orig = format_img(batch_ordered[j][0][k])\n",
    "        label = batch_ordered[j][1][k].item()\n",
    "        pred = clf_preds[j][k].item()\n",
    "        i = i+1\n",
    "        #if label ==pred:\n",
    "        #if i> 300:\n",
    "        #    flag=True\n",
    "        #    break\n",
    "        ae_imgs = {t : format_img(reconstr_ae[t][j][k]) for t in reconstr_ae.keys()}\n",
    "        cladec_imgs = {t : format_img(reconstr_cladec[t][j][k]) for t in reconstr_cladec.keys()}\n",
    "        plt.rcParams[\"figure.figsize\"] = (8,3)\n",
    "        ax = plt.subplot(2,6,1)\n",
    "        plotter(ax, orig, title=\"original\", ylabel=\"cladec\")\n",
    "        ax = plt.subplot(2,6,7)\n",
    "        plotter(ax, orig, ylabel=\"ae\")\n",
    "        for t in ae_imgs.keys():\n",
    "            ax = plt.subplot(2,6,7 - t)\n",
    "            plotter(ax, cladec_imgs[t], title=\"layInd = -\" + str(t))\n",
    "            ax = plt.subplot(2,6,13 - t)\n",
    "            plotter(ax, ae_imgs[t])\n",
    "        plt.subplots_adjust(hspace=0, wspace=0)\n",
    "        if pred != label:\n",
    "            img_name = \"img_\" + str(i) + \"_label_\" + str(label) + \"_pred_\" + str(pred) + \".jpg\"\n",
    "            path = os.path.join(incorrect_path, img_name)\n",
    "        else:\n",
    "            img_name = \"img_\" + str(i) + \"_label_\" + str(label) + \".jpg\"\n",
    "            path = os.path.join(correct_path, img_name)\n",
    "        #plt.show()\n",
    "        plt.savefig(path)\n"
   ]
  },
  {
   "cell_type": "code",
   "execution_count": 42,
   "id": "a0ad3692-cbfa-4ba8-8fb7-47f7a9e4e607",
   "metadata": {},
   "outputs": [
    {
     "data": {
      "text/plain": [
       "[tensor([  0,   0,   0,   0,  44,   0,  14,   0, 168,   0,   0,   0, 140, 185,\n",
       "          13, 152,  36,   0,   0, 134, 196,   0, 185,   0,   0,   0,   0,   0,\n",
       "           0, 186,   0, 148,   0,   0, 185,  14,  41,   0,   0,   0,   0,   0,\n",
       "           0,   0,  42,   0,   0,   0,   0,  36,  37,   1,   1,   1, 199,   1,\n",
       "           4,   4,   1,   1,   1,   1,   1,   1,   1,   3,   1,   1,   1,   1,\n",
       "           1,  96,  10,   1,   1,   1,   1, 107,   1,   1,   1,   1,   1,   1,\n",
       "           1, 152,   1,   1,   1,   1,   1, 152,   1,   1,   1,   1,   1,   1,\n",
       "           1,   1,  42,   2,   2,   2,   4,   2,  43,   2,  42,   2,   2,   2,\n",
       "          43,   2,  43,  17,   4,  37,  19,   3,  40,   2,  44,   1,   2,  43,\n",
       "          39,   3]),\n",
       " tensor([ 10,  43,   2,  16,   2,   2,   5, 117,   2,  19,   3,  38,   2,   2,\n",
       "          14,  19,   2, 136,  49, 117,   2,   2,   2,   2,  46,   7,  39, 126,\n",
       "           3,   5,   3,  39,   6, 176,   4,   1,   2,   3,  40,   3,  59,   3,\n",
       "           5,   2, 152,  39,  46, 113,   3,  39, 190,   2,  46,   2,  47,   1,\n",
       "         185,   3,   2,  73,  19,   3,   4,   7,   3,  43,   1,  12,   0,  44,\n",
       "         199,  56, 152, 116,   4, 108,   4, 152,  14,   4,   3, 154,   4,   4,\n",
       "          12, 162,   6,  13,   4, 197,   4,  96,   4,  14,   4,   4,   4, 152,\n",
       "           4,   4,  87,  46,  89,   4,   4,   4, 152,   4,  10,   4,   4, 152,\n",
       "         102,   4,   4,  37,   4, 119,   4,   4,   4,   4,   3,   5, 168,   7,\n",
       "         150,   5]),\n",
       " tensor([  5,   1,  41, 168,  12,  39,   5,  10,   3,   5, 154,  18, 142,   7,\n",
       "         136,   4,   5,   5,   5,   5, 125,   5,   5,   5,  16, 161,  51, 123,\n",
       "           7,  16,   2,  43,   5,  15,   7,  19,  19, 103,  10, 107, 174,   5,\n",
       "         185,   5, 117,   6, 151,  15, 151,   6,   6,   6, 190,   6,   6,   6,\n",
       "           6,   6, 149,   6,  79,   6,  62,   6,  89,  14,   6,   6, 151,   6,\n",
       "         125,   6,   6,   6,   6,   6,  14,   6,   6,  89, 185,  46,   6,   6,\n",
       "           6, 199,   6,   6,  66,  46,   6,   6,  85,   6,  41,   5,   7,   7,\n",
       "           7,   7, 181,   7,   7,   9, 162,   9,  67,  10,  13,   7,   3,   8,\n",
       "          10,  41,  37,   5, 149,  10,   1,  10,  41,  41,   7,   5, 154,  41,\n",
       "           7, 160]),\n",
       " tensor([  7,   7,  43,   7,   9,  40,   3,   7,   3,   4,   5,  42,  41,  41,\n",
       "           7,   7,   8,  44,  44,   8,   8,   1,   8,   8,   8,  87,   8,  37,\n",
       "           8,   7,   5,   9,   8,   8,   8,   8,   8,   1,   8,   1,   8,   8,\n",
       "           8,   8, 111,   8,   8,  37,   8,   8, 109,   8,   8,  11,   8,   8,\n",
       "           8,  10,   8,   8,  41,   8,   8,   8,   8,  10,   9,   5,  98,   9,\n",
       "           9,   9,   8,   9,   4,  19,   1,   8,  97,  78,   3,  10,  91,  10,\n",
       "          19,  46,   9,  17,   9,   9,   5,   9,  20,   9,   9,   6,  37,   9,\n",
       "           5,  52,   9, 106,   1,  19,   7,   9,  10,  29,  19, 125,   9,   9,\n",
       "           9,  18,  83, 181,  10,  10,  10, 110,  10,  10,  10,  41,  10,  10,\n",
       "         125,   1]),\n",
       " tensor([ 17, 188,   5,   3, 144,  16,  41,  36, 181,  41, 160,  16,  39,   5,\n",
       "           1,  15,  41,   4,  10,   1,  10,  10,  10,  10,   5,   4,  38,  40,\n",
       "          39, 152, 136,  10,  41,  10, 139,  39,  10,  10,  11,  11,  11,  49,\n",
       "          11,  11,  11,  50,  15,  87,  78,  48,  11,  11,  21,  52,  21, 114,\n",
       "          11,  11,  11,  11,  29,  11, 144,  11,  11,  11,  51,  11, 122,  37,\n",
       "          56,  11,  11,  11,  78,  11, 157,  37,  11,  11,  11,  80,  20,  11,\n",
       "          11,  11,  52,  11,  12,  12,  12,  33,  12,  12,  12,  12,  12,  19,\n",
       "          53,  12,  12,  12, 161,  12,  12,  29,  12, 169,  12, 194,  12,  12,\n",
       "          29,  54, 154,  12,  12,  28,  12,  45,  12, 199,  25,  12,  12,  76,\n",
       "          12,  12]),\n",
       " tensor([ 12, 119, 136,  12,  30,   5,  12,  12, 161,  30,  13,  46,  13,  13,\n",
       "          13,  13,  13,  13,  13, 196, 188,  46,  13,  23,  13, 117,  13,  13,\n",
       "          13,  13,  13, 195,  13,  13,  13,  13, 173,  13,  13,  13, 125,  13,\n",
       "          13, 187,  13,  13,  13, 101,  13,  13,  13, 196,  13,  13,  13,  13,\n",
       "         125,  13,  13,  13,  88,  14,  14,  14,  14,  14,  14, 196, 196,  89,\n",
       "         196,  14,   2,  14,  14,  12,  14,  15,  17,  14,  14,  14,  14,  14,\n",
       "          14,  84,  14,  14,  14,  14,  14,  15,  14,  14,  16,  14, 187,  14,\n",
       "          14,  14,  14,  14,  14, 196,  14, 196,  62,  14,  14,  14,  15,  15,\n",
       "         144,  16, 122,  15,  15, 152,  15,  15,  48, 175,  16,   2,   6,  15,\n",
       "           6, 139]),\n",
       " tensor([ 15, 185, 185,  15,   3,  15,  15,  41, 199, 185, 148,  16,  19,  80,\n",
       "          15, 139,  15,  15,  75,   3,  15,  15,  37,  15,  76,   1,  15,  15,\n",
       "          15,   1,  19,  15,   4,   3,  39,   8,  10,  16, 152, 152, 185,   4,\n",
       "          54, 198,  64,  16,   2,  16,  16,  16,  40, 144,  17,  37, 185,  10,\n",
       "         150,  15,  41, 196, 137,  16,  16, 180, 139,   1, 185,  61,  16,  10,\n",
       "           6, 185,   5,  89,  15,  16,  11,  16,  17,  16, 162,  99,  93,  17,\n",
       "          17,  19,  46,  46,  15,  44, 150,  46,  17,  17,  17,  17,  17,  21,\n",
       "          17,  17,  13,  17,  17, 161,  19,  45,  17,  17,  17,  17,  17,  17,\n",
       "          17,  17,  41,  17,  17,  11, 196,  17,  17,  14, 152,  16,  17,  46,\n",
       "           1,  17]),\n",
       " tensor([ 17,  17,  17,  17,  62, 191,  41,  18, 105,  18, 153,  44, 108,  93,\n",
       "         190,  18,   7,  18, 159, 176,  18,  18,  19,  18, 144,  18, 189, 190,\n",
       "          18,  18, 119, 177,  18,  98,   9,  18,  14,  18,  82,  18,  18,  18,\n",
       "         176, 138,  18,  18, 180,  18,  18, 125, 142, 112,   5,  41,  19,  19,\n",
       "          19,  19,  19, 182,  19,  19,  51,  19,   9,   1,   1, 196,   2,  18,\n",
       "          19,  19,  19,  19,   5,  93,  19,  40,  10,  19,  19,   2,  19,  10,\n",
       "          19,  19,  19,  11,  19,  19,  76,   1,  19,  19,  41,  19,  46,  95,\n",
       "          19,  19,  19,  18,  19,  19, 199,  20,  20,  20,  20,  20,  20,  20,\n",
       "          20,  20,  20,  20,  11, 102, 149,   4,  20,  20,  20,  19, 139, 168,\n",
       "          20,  20]),\n",
       " tensor([  4,  20,  20,  20,  11,  38,  20,  20,  52,  20,  20, 122, 122,  20,\n",
       "          20,  20,  20,  43,   4,  52,   8,  20,  20,  20,  20,  20,  21,  35,\n",
       "          21,  19,  65,  21,  21,  64,  21, 198, 148,  21,  84, 187,  21,  21,\n",
       "         198,  21,  21,  21,  60,  21,  21,   4,  49,  21,  32,  21,  35,  21,\n",
       "          21,  21,  21,  21,  21,  21,  84,  21,  21,  21,  43,  21,  21,  11,\n",
       "          21,  21,  21,  21,  21,  21,   2, 137,  78,  21,  22, 148,  22,  22,\n",
       "          22,  22,  22,  22,  22,  22,  22,  22,  22,  22,  22,  22,  22,  96,\n",
       "          22,  22, 185, 148,  22,  21,  22,   8,  22,  22,  22,  22, 137,  11,\n",
       "          22,  22,  22,  22,  56,  22,  22,  22,  11, 148,  11,  22,  22,  22,\n",
       "          13,  23]),\n",
       " tensor([ 23,  23,  23, 152,  23,  23,  23,  23,  23,  23,  22,  23,  23, 148,\n",
       "         152,  23,  23,  46,  23,  23,  23,  23,  23,  23,  23,  23,  23,  23,\n",
       "          55,  23, 194,  13,  23,  23,  23,  13,  48,  23,  13,  23,  23,  23,\n",
       "          23,  84,  23,  23,  23,  23,  48,  24,  24,  24,  47,  91,  30, 161,\n",
       "          27, 112,  29, 111, 176, 107,  24, 112,  29,  41, 176,  47, 176, 161,\n",
       "          24,  31,  11,  90,  24, 156, 179, 100,  28,  24,  28,  26, 107,  27,\n",
       "          74,  78,  24,  24,  25,  52,  65, 138,  24, 156,  29, 150,   8, 161,\n",
       "          25, 156,  25,  31,   4,  25,  25,  47,  25, 161,  53, 177,  25, 106,\n",
       "          24,  76,  25,  35,  69, 161,  25,  25,  25,  25,  25,  25,  25,  25,\n",
       "          25,  25]),\n",
       " tensor([ 15,  47,  55,  25,  25, 185,  25,  17,  17,  25,   9,  25, 156,  28,\n",
       "          26,  25, 111,  25,  25,  64,  26,  26,  29,  26,  26,  26,  26,  47,\n",
       "          26,  48,  34,  26,  25,  26,  24, 181,  26,  53,  28,  27, 161,  26,\n",
       "          26,  26,  26,  26,  30,   5,  35,  97, 161,  47,  26,  26,  24,  26,\n",
       "          26,  34,  26,   5,  26,  11,  30, 110,  26,  29,  33,  26,  49,  28,\n",
       "          27,  29,  26, 125,  26,  26,  49,  33, 176,  28,  47, 139,  27,  75,\n",
       "         168,  27,  21,  24, 100,   4,  24,  28,  29,  55,  25,  30,  11,  29,\n",
       "         114, 106,  20,  29,  22,  84,  24,  55,  22,   1,  28,  57,  63,  49,\n",
       "         168,  26,  20,  25,  26,  26,  26,  27,  28,  28, 139, 139,  33,  24,\n",
       "          53,  28]),\n",
       " tensor([ 28,  28, 129,  61,  20, 143,  47,  28, 112,  28, 111,  28, 114,  28,\n",
       "         143, 152,  28,  28,   7, 114, 176,  28,  34,  57,  25,  28, 181, 136,\n",
       "          28, 162,  11,  28,  28,  28,  55,  34,  28,  28,  28,  28,  11,  28,\n",
       "          74,  62,  12, 127, 114,  29, 161, 108, 102,  22,  56, 114, 147,  25,\n",
       "         194,  29,  26,  29,  11,  26,  29,  58, 114, 161, 143,  29,  20,  29,\n",
       "          29, 111,  53,  27,  26,  29,  29,  29,  27,  48,  82,  13,  47,  35,\n",
       "          35, 164,  29,  84,  26,  45,  33,  29,  30,  32,  80,  32, 144,  28,\n",
       "          29,  30,  32,  32,  32, 125,  97,  59,  30,  30,  28,  32,  28,  30,\n",
       "          32,  32,  30, 174,  30,  32,  97,  32,  30,   5,  32,  30,  30,  32,\n",
       "          55,  30]),\n",
       " tensor([ 30,  67, 185,   5,  30,  32, 147,  32,  48,  30,   5,  32, 179,   6,\n",
       "         110,  31,  30, 152,  47,  25, 129,  47, 105,  29,  31, 112,  31,  31,\n",
       "          79, 106,  32, 152,  32,  31,  25,  31,  31,  35,  31,  31,  31,   1,\n",
       "          31,  51,  32,  25,  35,  31, 156,  33,  31,  31,  76,  31, 160,  89,\n",
       "         106,  32,  31, 130,  47,  31,  31,  31, 117,  32,  30,   4,  79,  32,\n",
       "         149,  84, 140, 142,  32, 149,  86,  30,  32,  32,  53,   8,   4,   5,\n",
       "          32,   4,  30,  27,  89,  63,  30,  30,  84,  32,  32,   5, 105, 174,\n",
       "         169,  32,   5,  73, 106,  88,  32, 142,  32,  28,  30,  24,  30,  32,\n",
       "          30,  30,   2,  33, 185,  56,   5,  30,  33,  34, 195,  35,  33,  33,\n",
       "          20, 162]),\n",
       " tensor([152,  33,  33,  91,  34, 157,  91,  33,  88,  33,  33,   9,  30, 152,\n",
       "          91,  82,  96,  33,  29,  33,  51,  48,   5,   4,  33,  32,   5,   5,\n",
       "          48,  33,  33,  75,  57, 195,  33,  33,  34,  34,  33,  34,  51,  34,\n",
       "          34,  34,  51,  35,  78, 152,  34,  52,  34,  91, 161,  34,  34,  35,\n",
       "          34,  34,  35,  34,  52,  34,  28,  33,  12,  34,  34,  34,  34,  34,\n",
       "          34,  34,  34,  52,  34,  34,   3,  11,  11,  34,  35,   6,  85,  51,\n",
       "          34,   3,  35,  35,  50, 108,  11,  35,  56,  26,  35,  56,  55,  35,\n",
       "         122,  35,  56,  50,  34,  49,  28,  35,  35,  35,  50,  57,  91,  35,\n",
       "          35,  35,  35,  35,  35,  35,  50,  35,  11,  96,  35,  35,  35,  35,\n",
       "          84,  35]),\n",
       " tensor([ 50,  35,  35,  35,  48,  35,  12,  35,  37,  36,  36,  36,  36,  36,\n",
       "          36,  36,  36,  36,  36,  38,  36,  43,  36, 151, 199,  36,   8,  37,\n",
       "          43,  39,  36,  36, 153,  36,  36,  36,  36,  36,  36, 194,  36,  36,\n",
       "          36,  36,  89,  43,  36, 186,  38,  36,  36,  36, 122,  36,   8,  38,\n",
       "          36,  36,  37,   5,   8,   1,  37,   9, 117,  41,   8,  37,  37,  37,\n",
       "           8,  37,  37,  37,  37,  37,   1,  38,  37,  39,  37,  44,  37,  44,\n",
       "           8, 148,  37,   4,  38,  44,  37,  38,  43,  37,  45,  37,  38,   8,\n",
       "           9,  37,   1,  42,  37,  37,  37,  43,  37,  37,  45,  45,  38,  38,\n",
       "          38,  38,  38,   7,  38,  38,  38,  37,  37,  38,  38,  38,  38,  38,\n",
       "          37,  38]),\n",
       " tensor([  2,  38,  36, 142,  38,  38,  43,  38,  44,  44,  44,  38,  38,  38,\n",
       "           2,  38,  38,  38,  38,  37,  38,  38, 187,  38,  37,  38,  39,  44,\n",
       "         188,  38,  43,  37,  39, 149,  16,  82,   1,  42, 107,  39,  39,  40,\n",
       "          39,   3,  39,  39,  42,  43,  39,  39,  39,  39,  79,  40,  39,  39,\n",
       "          40,  39,  38,  39,  42,  40,  39,  37, 164,  42,  39,  39, 152,  40,\n",
       "          38,  39,  57,  37,  39, 175,  39,  40,  39,  37,  43,  20,  40,  45,\n",
       "          42, 149,  99,  43,  16,  40,  40,  42,  40,  40,  39,  40,  40, 122,\n",
       "          43,  39,  40,  43, 120,  40,  40, 125,  42, 110, 113,  40,  43,  42,\n",
       "         108,  16,   6, 142,  41,  39,  40,  40,  42,  40,  39,  43,  40,  40,\n",
       "          42,  43]),\n",
       " tensor([118,  16,  41,  37,   8,  10,  41,  81,  10,  41,   1, 115,   6,  41,\n",
       "         174,  41,  41,   7,  15,  43,  44,  41,  37,  37, 179,  36,  41,   8,\n",
       "         159,   4,  41,  41,  37,   3, 151,  37,  41,   7, 188,  41,  41,  41,\n",
       "          39,  91,  41,  41,  43,  10,  10,  41,  43,  75,  40,  42,  42,  39,\n",
       "          43,  37, 197,  40,  45,  64,  38,  42,  42,  42,  42, 188,  39,  42,\n",
       "         144,  42,   5,  42, 118,  39,  42,   3,  40,  42,  40,  42,  39,  43,\n",
       "          69,  40,  39,  42, 132,  42,  22,  42,  42,  42,  42,  39,  42, 159,\n",
       "         125,   2,  42,  40,  39,  43,  43,  39, 118,  43, 125,  43,  43,  43,\n",
       "          43,  43,  39,  44,  43,  79,  43,  43,  43,  43,  43, 118,  40, 132,\n",
       "         129,  43]),\n",
       " tensor([ 43,  39,  42,  43,  43,  43,  42,  43,  43,  39,   1,  43, 187,  43,\n",
       "          43,  43,  43,  38,  42,  39,  40,  43,  44,  10,   1,  44,  44,  44,\n",
       "          44,  44,  44,  44,  44, 108,  44,  44,  44,  44,  44,  44,  44,  44,\n",
       "          44,  44,  44,  44,  44,  44,  44,  44,  44,  44,  43,  44,  44,  44,\n",
       "          44,  44, 185,  38,  44,  44,  44,  44,  44,  44, 113,  44,  44,  44,\n",
       "          44,  44,  44, 197, 150,  45,  45,  45,  45,  45,  45,  45,  45,  45,\n",
       "          45,  45,  45,  45,  45,  45,  42,  45,  45,  45, 142,  44, 179,  45,\n",
       "          45,  45,  45,  43,  45,  45,  45,  45,  45, 199,  45, 176,  79,  45,\n",
       "          45,  45, 155,  45,  44,  45,  45,  45,  45,  45,  45,  45, 196, 148,\n",
       "         196,  46]),\n",
       " tensor([ 46,  46,  19,  17,  46,  46,   4, 196,  46,   2,  13,  46,  46,  46,\n",
       "          46, 149, 149, 152, 176,  46, 152,   4,  46,  46, 152,  16, 152,  46,\n",
       "         196,  46,  10,  16, 196,  46,   1,  55, 122,  14,   4,  46,  46,  14,\n",
       "          16,  19,   3,  46,  11,  64, 103,  58,  47, 160,  47,  47,  47,  47,\n",
       "          47,  47,  47,  67,  47, 131,  33, 161,  47,   7,  47, 134,  14,  47,\n",
       "         161,  47,  14,  47,  47, 181,  35,  31, 147,  47,  23, 161,  47,  47,\n",
       "           6,  47,  47,  11,  47,  47,  47, 126,  24,  17,  31,  25,  48,  84,\n",
       "          35,  55,  76,  51, 129,  49,  51, 142,  49,  50,  48,  29,  49,  91,\n",
       "          52,  48,  49,  57,  31,  11, 199,  57,  11,  48, 195,  50,  48,  48,\n",
       "           5,  47]),\n",
       " tensor([ 91,  48, 180,   6,  55,  48,  35,  48,  81,  57,   4,  48, 111,  48,\n",
       "          91,  35,  66,  48,  56,  52,  51,  60,  55,  49,  76,  49,  33,  49,\n",
       "          22, 112,  51, 194,  49,  49,  49, 119,  49,  49,  56,  60,  35,  53,\n",
       "          49,  49,  49, 111,  49,  91,  35, 197,  11,  49,  60,  57, 111, 111,\n",
       "         194,  66,  69,  52, 164,  58,  56,  50,  22,  35,  65,  49,  50,  50,\n",
       "          48,  50,  50,  50, 198,  50,  50,  35,  50,  50,  57,  50,  49,  50,\n",
       "         131,  50,  50,  14,  50,  50,  50,  35,  50,  50,  50,  50,  49,  49,\n",
       "         195,  50,  50,  50,  50,  50,  50,   6,  35,  50,  84,  50,  50,  50,\n",
       "          50,  57,  57,  48,  50,  50,  51,  51,  48,  33,  35,  51,  29,  51,\n",
       "          51,  53]),\n",
       " tensor([ 51,  51,  75,   3,  51, 117,   4,  52,  76,  28, 162,  11,  53,  34,\n",
       "          53,  51,  51, 161, 198,  35,  20, 132,   3,  50,  51,  29,  91,  51,\n",
       "         152,  33,   4,  51, 194,  56,  56, 102,  51,  51,  51,  91,  52, 197,\n",
       "          52,  26,  52, 142,  52, 162, 139,  52,  52,  52,  53,  52,  11,  52,\n",
       "          52,  52,  52,  52,  69,  52,  52,  51,  52,  76,  52,  52,  51,  52,\n",
       "          53,  52,  52,  52,  52,   5,  52,  52,  52,  52,  52, 108,   7,  52,\n",
       "         185,  52,  52,  52, 118,  52,  29,  51,  53, 106,  53, 164,  53,  53,\n",
       "          53,  53,  49,  53, 143,  53, 158,  53, 171,  53, 132,  51,  53,  53,\n",
       "          53,  52,  56,  52,  57,  56, 114,  68,  51,  53,  53,  53,  53,  53,\n",
       "          68,  53]),\n",
       " tensor([ 53,  53,  53, 114,  53,  53, 198,  53,  53,  53,  53,  53,  58,  54,\n",
       "          54,  54,  54,  54,  54,  53,  54, 162,  55,  54,  58,  54,  54,  54,\n",
       "           5,  20,  54,  54,  54,   2,  26,  23,  49,  55, 129,  33,  55,  54,\n",
       "          54,  35,  54,  28,  55,  68,  54,  33, 156,  54,  69,  12,  84,  54,\n",
       "          25,  50,  54,  76,  54,  54,  55,  57, 100,  55,  55,  55,  84,  55,\n",
       "          54, 172,  55,  27,  55, 109,  55,  84,  55,  56,  51,  55,  55,  55,\n",
       "          55,  55,  55,  55,  55,  37,  27,  75, 128, 106,  55,  55,  55,  59,\n",
       "          54,  55,  55, 167, 117,  29,  27,  49,  75,  55, 121, 108,  55,  29,\n",
       "          52, 161,  27,  57, 198,  56,  49,  56,  22,  51, 161,  56,  54,  56,\n",
       "          51,  56]),\n",
       " tensor([ 56,  12,  51,  56,  57, 152,  56,  56,  56,  56,  50,  55,  29,  76,\n",
       "          76,  56,  56,  55, 149,  12,  57,  35,  51, 173,  56,  56,  56,  35,\n",
       "          35, 197,  55,  34,  55, 194, 152,  57,  57,  57, 197,  57,  50,  85,\n",
       "          57,  50,  53,  51,  57,  57,  57,  50,  57, 162,  57,  57,  57,  96,\n",
       "          82,  57,  57,  57,  57,  57,  57,  57,  57,  49,  57,  57,  85,  57,\n",
       "          57,  57,  57, 129,  57, 111,  49,  52,  57,  57,  57,  57, 194,  55,\n",
       "           8,  58,  58,  58,  58,  58,  12,  78,  58, 152,  54,  58,  58,  58,\n",
       "          58,  58,  58,  58,  58,  24,  58,  58,  12,  58,  21, 113,  58, 142,\n",
       "          35,  58,  12,  55,  58,  58,  58,  58,  58,  17,  47,  58,  24,  58,\n",
       "          58,  58]),\n",
       " tensor([ 58,  58,  77,  58,  58,  58, 146, 146,  59, 119,  59,  59,  97, 180,\n",
       "         151, 130,  92,  59, 144,  59,  59,  59, 180,  59,  59,  59, 139,  59,\n",
       "         142,  59,  59,   1, 171, 171, 126,  59, 120,  59,  36,  92, 142, 151,\n",
       "         167,  59, 169, 146,  59,  59, 113,  59,  59,  65,  59, 144,  59, 126,\n",
       "         138,  60,  60, 150, 129,  60, 169,  60, 100,  60, 123,  60, 118, 123,\n",
       "         168, 126,  60,  60,  60,  60,  60,  60,  60,  68,  60,  60, 123,  60,\n",
       "         155,  60,  60,  60,  60,  60, 106,  60, 123,  60,  60, 105,  64,  60,\n",
       "          60,  60,  60,  68,  60,  60,  60,  60,  61,  78, 126,  61,  61,  61,\n",
       "          61,  61,  61,  82, 169,  61,  61,  61,  61,  61,  61, 176,  61, 176,\n",
       "         126,  78]),\n",
       " tensor([ 61,  61,  61, 126,  82,  78, 126,  61,  61, 126,  61,  61, 129,  61,\n",
       "          61,  61, 138, 176, 155,  61,  98, 126,  61,  61, 126,  61,  61,  61,\n",
       "          90, 150,  62,  62, 134,  14,  62, 176,  80,  62, 113, 120,  62,  90,\n",
       "         134, 135, 141,  90, 134, 112,  62,  62,  87, 173, 135,  76,  90, 113,\n",
       "          62,  90,  62, 142, 134,  89, 134, 135,  62,  62,  90,  72, 112,  62,\n",
       "         112,  62,  62,  62, 169, 134,  63, 151, 155,  75, 121,  33,  63,  89,\n",
       "          63,  63,  67,  63,  25,  63, 144, 114,  63, 168, 100,  67, 176,  90,\n",
       "         142,  63,  63,  63, 168,  63,  63,  17,  63,  63,  87, 151,  63, 138,\n",
       "          17,  63, 128,  63,  63,  87,  66,  63,  63,  21, 176,  63,  87, 117,\n",
       "         150,  63]),\n",
       " tensor([ 65, 126,  95, 129, 149, 127,  64,  79,  64,  64, 134, 155,  64, 129,\n",
       "         154,  64,  79,  64,   8,  64, 175,  64,  79, 157, 146, 118,  64, 126,\n",
       "         126, 136,  98, 122,  42,  64,   5,  36, 160,  92,  76,  71,  64, 126,\n",
       "         102,  64,  64, 126, 103,  65, 152, 151, 146,  65,  65,  82,  65,  65,\n",
       "          65, 119, 146, 108, 128, 142, 119,  65,  65,  65,  62, 146,  98,  64,\n",
       "          65, 146, 155, 176, 167,  81,  65, 123, 111,  68,  59, 121,  59,  65,\n",
       "          65,  65, 126, 133, 176,  59, 112,  65,  65, 167, 111,  65, 146,  74,\n",
       "          93,  65, 162,  57,  66,  66,  95,  76,  71, 132, 164,  66, 157,  66,\n",
       "          66,  66,  66,  66,  66,  66,  66,  78,  66,  66,  66,  66, 197, 162,\n",
       "          66,  66]),\n",
       " tensor([ 66, 154,  66,  66,  66, 152, 152,  66, 164, 129,   4,  66,  66,  66,\n",
       "          66,  66,  66,  66,  66,  66,  66, 157,  67,  67, 154,  89,  67,  67,\n",
       "          67, 198, 100,  80, 130,  67,   6,  67,  67, 142,  67,  67,  67,   6,\n",
       "         111, 160, 150,  67,  67,  89,  67,  67,  73, 146, 104, 104, 151,  49,\n",
       "         155,  67,  63,  67,  87, 153,  67, 134, 106, 128,   5, 172,  67,  67,\n",
       "         136, 145, 125,  68,  68,  68, 112, 146,  68,  68,  68, 171,  68, 171,\n",
       "          68, 171,  68,  68,  68, 176,  68,  97,  68,  68, 130,  95,  68, 176,\n",
       "         125,  61, 171,  68, 176,  68, 120,  68,  68, 151,  68, 171, 176, 118,\n",
       "         171, 168,  68, 119,  68,  67,  68,  68, 176, 171,  69,  69,  41, 174,\n",
       "          69,  69]),\n",
       " tensor([ 69,  69, 128,  64, 179, 116, 101, 131,  69,  69, 193,  69, 160,  69,\n",
       "         138, 168,  86, 139,  69, 148, 142,  97, 160, 140,  84,  69, 144, 169,\n",
       "         144, 144, 140,  40,  69,  69,  98, 160,  98, 169,  69,  69, 102,  79,\n",
       "         168,  75,  94,  95,  70,  70,  70, 133,  87,  70,  70, 116, 119, 116,\n",
       "         121,  94,  70, 160,  94, 133,  70,  70, 153,  70,  70,  94,  94,  94,\n",
       "          70,  94, 133,  94,  70,  70, 153,  70,  94,  94, 124, 108,  87,  94,\n",
       "          70, 146,  81,  65,  66,  33, 153,  70, 164, 133,  71,  71,  76,  71,\n",
       "          71,  71,  71,  71,  71, 101,  71,  71,  71,  71,  71, 173, 132, 154,\n",
       "         115,  71, 197, 198,  71,  71,  71,  71,  71,  71,  71,  71,  71,  71,\n",
       "          71,  95]),\n",
       " tensor([ 71,  95, 197, 197,  71,  71,  71, 124,  71,   4,  71, 173, 198, 102,\n",
       "          71,  96,  72,  13, 126,  93,  72, 172,  72, 172, 163,  18,  72, 112,\n",
       "          33, 130, 171,  72,  72,  90, 123, 141,  83,  79,  72,  72, 109, 135,\n",
       "          72,  72, 135,  72,  72, 109,  20,  72, 126, 130,  98, 117,  90, 135,\n",
       "          80, 135,  72, 141, 110,  72, 142,  80,  72,  90, 135,  73, 130, 117,\n",
       "         155,  73,  73,  62, 128, 135,  73, 135,  73, 138,  97,   0, 127, 164,\n",
       "          73, 111,  73,  62, 114,  73,  73, 112, 135, 159, 164,  73,  73, 128,\n",
       "          60, 160, 176,  73, 127,  73,  73,  73,  73, 135,  11,  73,  73,  59,\n",
       "         176, 146, 130,  73,  68,  74, 158,  74, 156, 158,  74,  74,  74, 150,\n",
       "         179,  74]),\n",
       " tensor([ 74,  74, 148, 158,  74,  80, 177,  74,  74,  74,  74,  74,  74, 119,\n",
       "          74,  74, 120,  74,  74, 144,  74, 180,  74,  88, 142,  74,  65,  74,\n",
       "          74, 171, 173, 198,  74,  74, 158, 119, 158,  74,  67, 123,  21,  70,\n",
       "         105,  75, 113,  75, 149, 157, 173,  75,  75, 123,  75,  75, 155, 129,\n",
       "          75,  75,  87,  96,  75, 154,  75,  75, 130,  75,  75,  75,  75,  73,\n",
       "         155, 162,  53,  23,  75,  75, 144,  75,  69,  29, 154, 126,  64,  75,\n",
       "          47,  75, 164,  74,  93, 162,  40,  76, 114,  66, 170, 128, 173,  76,\n",
       "          62,  76,  61,  76, 132,  76,   4, 173,  76, 121, 149,  66,  76,  76,\n",
       "          76,  76,  76, 129,  76,  76,  76,  76, 114, 132,  78,   5, 162,  87,\n",
       "         152, 113]),\n",
       " tensor([126,  54,  62,  76,  14,  95,  76,  76,  76, 173, 123, 123,  64, 156,\n",
       "          60, 125, 123, 169, 131, 176,  77, 105,  77,  77,  73,  77,  69, 150,\n",
       "         157, 119, 168,  44,  69, 112, 159,   7,  32,  60, 119,  77,  77, 106,\n",
       "         123,  17, 112, 150,  85,  77, 123,  83, 126, 172, 113, 129, 162, 120,\n",
       "          77, 119, 123, 150,  78,  76,  78,  78,  78,  78, 164,  78,  78, 132,\n",
       "          85,  78,  78,  78,  78, 155,  78,  78, 114,  78,  78,  78,  78,  78,\n",
       "          78,  78,  78,  78,  78,  78,  78,  78,  78,  78,  78,  78, 113,  78,\n",
       "         151,  85,  89,  78,  78, 110,  78,  78, 102,  78,  78,  78,  16, 121,\n",
       "         138,  79, 130, 111,  88, 113, 149, 120, 168,  10,  79, 122,  92, 125,\n",
       "          80, 132]),\n",
       " tensor([113, 168,  64,  79, 134,  76,  79,  95, 149,  79, 112,  59,  79,  62,\n",
       "          79,  89, 119,  40,  79, 162,  40,  79, 111,  40,   5,  79, 132, 109,\n",
       "          72, 113,  62,  79, 160, 150, 121, 148,  80,  27,  80, 138, 167, 135,\n",
       "          80, 136,  80, 139,  80, 135,  71,  80, 160,  67, 177, 135,  28, 136,\n",
       "         168, 155,  80,  84,  66,  64, 112,  14,  80, 177, 168,  67, 114,  64,\n",
       "         117,  80,  46,  76, 151,  72,  80, 172, 113,  80, 160,  90,  81, 129,\n",
       "          81,  81, 121,  69,  81,  81,  81,  94,  81,  81,  81,  81,  81,  95,\n",
       "          81,  81,  81,  81,  64,  81,  81,  81,  81,  81,  81, 113, 108,  81,\n",
       "          81,  81,  81,  81,  81,  81,  81,  81,  81, 167,  64, 110,  81,  81,\n",
       "          81,  81]),\n",
       " tensor([116,  81,  81,  81, 189,  93,  82,  82,  82,  82,  93,  54,  99,  82,\n",
       "          82, 176,  82,  82,  82,  82, 150,  82, 115,  82,  82, 146,  73,  77,\n",
       "          82,  82,  82,  82,  93, 146, 190,  82,  82, 146, 176,  93,  82,  82,\n",
       "          82,  82,  82,  82,  98,  93,  82,  82, 171,  82,   3, 126,  83,  83,\n",
       "          19,  75,  83, 160,  80,  73,  87,  80,  83, 136,  89, 176, 160,  62,\n",
       "          83,  82, 135,  83, 136,  83, 199, 123,  77,  99,  83,  61, 113,  53,\n",
       "          83,  83,  37,  99,  83,  89, 136,  83, 109, 160, 178, 112,  83, 123,\n",
       "          61, 180, 184,  83, 142,  48, 160,  94,   7,  69, 101, 102, 119,  84,\n",
       "         154,  84, 152, 147, 197, 114, 164,  84,  84, 164,  84, 101, 139,  88,\n",
       "          84,  37]),\n",
       " tensor([111,  33,  84,  84, 114, 102, 108, 102,  84, 154,  84,  19, 119,  98,\n",
       "          84, 157, 197, 168,  55,  94,  84,  84, 139, 144, 164, 137, 169, 149,\n",
       "         134, 105, 134, 119,  85,  85, 134, 111, 149,  85,  85,  85, 134,  18,\n",
       "          78, 134,  85, 150,  85, 134,  85,  85, 134,  85, 105, 169,  85,  63,\n",
       "         134,  85, 112,  85, 169, 129, 128, 149, 158,  65, 112,  85, 134, 112,\n",
       "         120,  63,  85,  85,  85, 162,  86,  86, 113,  97,  86, 128,  86,  86,\n",
       "          86, 126,  86,  86,  86, 128,  86, 128, 139, 141, 110, 130,  87, 138,\n",
       "         128,  86,  86, 128,  78, 128, 167,  86, 138,  86, 167, 169, 135,  86,\n",
       "          72,  86, 128, 111,  86,  86,  86, 128,  86,  86, 128, 128, 140,  86,\n",
       "          97,  87]),\n",
       " tensor([ 87, 159,  87, 112,  63, 102, 126, 174,  87,  87, 155,  87,  87, 117,\n",
       "          97, 151,  87,  87,  80,  87,  87, 155, 151, 117,  97,  87, 110, 110,\n",
       "          97,  87,  87,  87, 150,  87,  87,  87,  97, 147, 159, 155,  87,  87,\n",
       "         122,  87,  70, 172,  98,  87,   1,  19, 168,  78, 125,  99,  88, 113,\n",
       "         176,  64,  88, 184, 136, 111,  88,  63, 139,  87,  10, 125,  12, 161,\n",
       "          84,  70,  43,  14, 135,  88, 159,  88, 103, 142, 139, 125,  40,  88,\n",
       "         152,  88, 125,  88,  40,  91,  40,   5,   8,  87, 125, 197,  43,  10,\n",
       "          89,  89, 177,  67,  89,  89, 126,  92,  89,   5, 151, 146,  78, 195,\n",
       "          89,  98, 181, 168, 142,  89,  89, 190, 108, 172,  99, 150, 151,  89,\n",
       "         162,  91]),\n",
       " tensor([ 89,  98,  89,  89,  89,  89,  78, 151,  89,  89,  89,  39,  89,  89,\n",
       "         151,  89,  89,  89, 152, 169, 142,  90,  90,  90,  83,  90,  90,  90,\n",
       "          90,  90,  90, 134, 107,  90,  90,  90,  90, 168, 112,  90,  90,  90,\n",
       "         134,  90,  90,  90, 134,  90, 151,  90,  62,  90,  90,  59,  62,  90,\n",
       "          80,  90,  90,  90,  90,  90,  90, 149,  90,  90, 113,  90, 131,  90,\n",
       "         162,  91,  91,  91,   8,  91, 162,  91,  91,  91,  91, 162,  91,  78,\n",
       "          91, 195,  91, 196,  85,  91,  91,  14, 112, 152,  91,  91, 102,  91,\n",
       "          91,  91, 162,  91,  91,  91,  96,  65,  91,  91,  91,  10,   4,  14,\n",
       "          91,   5,  91, 165,  78,  91,  91,  91,  86,  59,  87,  92,  98,  92,\n",
       "         143,  97]),\n",
       " tensor([ 92, 145,  92,  92, 127,  92,  97, 127, 144, 165, 121, 150,  79,  92,\n",
       "          89,  87, 188, 113, 185,  59,  92,  87,  92,  92,  92, 199, 123,  92,\n",
       "         151,  92,  89,  97, 125, 110,  98,  92,  92,  92,  92,  92,  92,  92,\n",
       "         176,  82,  93,  93,  93,  93,  61, 196,  93,  82,  93,  93,  93, 146,\n",
       "          93,  93,  93,  93, 126,  93,  93, 176,  93,  93,  93,  93, 139,  93,\n",
       "           5,  93,  93, 176, 163,  82,  93,  93,  93, 176, 191,  93,  61,  93,\n",
       "          93,  19,  93,  93,  59, 145, 112,  93,  94,  94,  63,  70,  70,  94,\n",
       "          70, 153,  94, 116,  70,  94, 153, 153,  94,  94,  94,  70,  70, 145,\n",
       "          94, 153,  94,  94, 153, 153,  94,  70, 116, 116, 153, 153,  94, 153,\n",
       "         116,  94]),\n",
       " tensor([ 81,  87, 153,  70, 108, 121, 144,  94,  70,  70,  94, 133,  94, 153,\n",
       "          71,  95,  95,  95, 198,  95, 132,  95, 141, 154, 194, 101,  95, 108,\n",
       "          95,  95, 168,  71,  95,  95,  95,  95,  95,  95,  95,  95,  95,  95,\n",
       "          95,  71, 173, 132, 144, 146, 145,  95,  95, 108,  95,  95,  95,  95,\n",
       "          95,  95, 146,  95,  71,  95,  95, 197,  52,  96,  96,  66,  96, 198,\n",
       "         198, 157,  96,  96, 157,  96, 154,  96, 158,  96, 198, 154,  96, 157,\n",
       "         198, 195, 195, 194,  96,  96,  96, 195,  96,  96, 154,   6,  96, 167,\n",
       "         154, 197,  46,  96,  96,  12, 102, 154,  96,  96, 168,  96,  96, 195,\n",
       "         157, 195, 147,  97,  98, 146, 113,  89, 185,  97, 146,  97,  97,  92,\n",
       "          97,  98]),\n",
       " tensor([ 97,  59,  89,  98, 146,  97, 150,  97, 151,  97,  97,  97,  97, 153,\n",
       "          87,  97,  97,  97,  97, 174,  97,  97,   5,  97,  97,  97, 167,  97,\n",
       "          97,  97,  97, 147, 176,  97,  97,  65, 126, 176,  79,  98,  98, 142,\n",
       "          98,  98,  98,  98, 147,  98, 111, 137,  97,  98,  98,  26,  98, 164,\n",
       "         174,  89,  98, 142, 128, 146,  98, 142,  98,  97,  49,  98,  98,  98,\n",
       "         142, 142,  98,  98,  98, 111, 126, 126, 145,  93,  98,  97,   5,  98,\n",
       "          98,  98,  99,  99, 156, 119,  98, 112, 125, 159, 169, 119, 125,  69,\n",
       "          87, 119, 169, 189,  64, 125, 160, 168,  99,  64, 122, 156, 123, 173,\n",
       "         108, 125,  40,  88,  68,  79, 122,  82, 147, 119,  99, 125,  99, 125,\n",
       "          63, 102]),\n",
       " tensor([ 40, 125,  79, 188,  60, 119,  81, 176, 163, 100, 106, 141, 111,  86,\n",
       "         149, 100, 176,  84, 160,  86, 130, 120, 100,   9, 156,  31, 125, 144,\n",
       "         123, 100,  65, 139, 100, 144,  68,  77, 131, 111, 169,  86,  65, 156,\n",
       "         100, 137, 117, 125, 113, 167, 138, 100,  77, 131,  92, 111, 187, 131,\n",
       "         100, 128,  96, 101, 129,  66, 101, 146, 101, 101, 132, 145, 101, 101,\n",
       "         101, 101, 101, 101,  79,  20, 118, 101,  95, 101, 101, 132, 101, 101,\n",
       "          78, 101, 101, 101, 101, 101, 101, 101, 139, 101, 101, 101, 101, 101,\n",
       "         166,  71, 101, 101, 101, 101, 101, 132, 198, 101, 102,  93, 129, 102,\n",
       "         174, 102, 102, 102, 102, 196, 157, 102, 129, 157, 129, 102, 188, 102,\n",
       "         102, 149]),\n",
       " tensor([102, 102, 102, 151,  84,  72,  78, 124, 124, 102, 102, 102, 102, 102,\n",
       "         173, 173,  79,  12, 102, 102, 102, 157, 102,  77, 102, 102, 162, 102,\n",
       "          89,  75, 103, 103, 103, 103, 103, 103, 103, 103, 103, 103, 103, 103,\n",
       "         164, 103, 103, 103, 103, 103, 103, 145,  89, 103, 103, 103, 103, 103,\n",
       "         103, 157, 103, 103, 103, 103, 103, 103, 103, 103, 103, 103, 103, 103,\n",
       "         103, 103, 146, 129, 103, 173,  66, 103, 103, 103, 104, 174, 104, 117,\n",
       "         174, 104, 104, 193, 174, 104, 174, 103,  24,  80, 104, 104, 174, 190,\n",
       "         174, 104, 104, 174, 161,  87,  17, 179, 104, 104, 178, 110, 191, 110,\n",
       "          80, 104, 104, 104, 155, 113, 155,  83, 104, 174, 192, 104, 104, 104,\n",
       "         147, 104]),\n",
       " tensor([107, 174, 105, 114, 106,  85, 105, 105,  90, 105, 169, 151, 105, 150,\n",
       "         169, 106, 106, 105, 126, 119,  85, 134, 125, 105,  68, 105, 105, 144,\n",
       "         164, 120, 161, 112, 106, 128,  67, 169, 136, 112, 111, 111,  62, 112,\n",
       "         105, 112, 112, 165,  53, 105, 105,  90, 168, 149, 160, 122, 106,  15,\n",
       "          73,  63, 120, 106, 106,  63, 112, 147, 106, 106, 106, 119, 106, 180,\n",
       "         119, 160, 106, 106, 106, 119,  63,  63, 151, 125,  82, 106, 106, 112,\n",
       "         117, 112, 105,  63, 123, 119,   5,  63,  71, 106, 113,  29, 168, 125,\n",
       "         123, 112,  80,  13, 107, 176, 111, 107, 107, 107, 164, 176, 107, 107,\n",
       "         107, 164, 197,  65, 107, 107, 176, 107, 114, 107, 114, 107, 157, 115,\n",
       "         107, 119]),\n",
       " tensor([107, 107, 107, 107, 107, 153, 107, 107, 107, 107, 107,  95, 107, 107,\n",
       "         107, 153, 107, 107, 108, 107, 164, 107, 107, 153, 108, 164, 108, 108,\n",
       "         108, 167, 197, 108, 108, 108, 108, 108, 168, 108, 108, 108, 167, 108,\n",
       "         108, 197, 108, 108, 142, 108, 108, 108, 108, 108, 108, 108, 108, 108,\n",
       "         108, 108, 108, 108, 108, 108, 197, 108, 108, 108,  89, 142, 108, 108,\n",
       "         198, 165, 108, 108, 113, 109,  73, 125, 125,  73, 109, 139, 122, 142,\n",
       "         109, 163, 109, 175, 109, 109, 160,  88, 109, 112, 109, 150, 188, 144,\n",
       "         109, 109, 109, 109, 173, 109, 108,  73, 109, 111, 160, 113,  45, 172,\n",
       "         109, 109, 109, 109, 166, 102, 128, 109,  74, 109, 113, 125,  75, 110,\n",
       "          64,  87]),\n",
       " tensor([110,  86, 110, 110, 110, 110, 110,  97, 110, 110, 110, 171, 144, 127,\n",
       "         110,  97, 164, 116, 155, 110,  86, 110,  90, 110, 134, 110, 110, 114,\n",
       "         142, 103, 155,  97, 151, 110, 110, 159, 128, 141, 110, 110, 110,  45,\n",
       "         110,  67, 120,  75, 150, 118, 111, 111, 111, 111, 111, 111, 111, 111,\n",
       "         119,  84, 111, 111, 111, 108, 127, 111, 107,  98, 111,  65, 111, 111,\n",
       "         111, 111, 107, 111, 111, 111, 111, 111,  59, 111, 111, 111, 111, 111,\n",
       "         111, 111, 111, 119, 176, 111, 111, 118,  88, 137, 111, 167, 112, 112,\n",
       "         120, 112, 118,  85, 112, 146, 142,  82, 112, 112,  62,  62, 119, 112,\n",
       "         164, 199, 161,  12, 112, 112, 120, 112,  68,  60, 129, 112, 112, 112,\n",
       "         112, 112]),\n",
       " tensor([112, 176, 176, 169, 112, 112, 156, 119, 134, 112, 112, 168, 112, 125,\n",
       "         112, 159, 134, 134,  61, 113, 102,  67, 113, 113,  83,  72, 151, 113,\n",
       "         113, 110, 147, 113,  83, 113,  89, 113, 113, 113,   6, 113, 128, 147,\n",
       "          44, 113, 173, 104, 113,   6,  76, 113, 113, 113, 169, 113, 113, 113,\n",
       "          14, 113, 113, 113, 144,  76, 122, 113, 186, 134, 113, 130,  84, 114,\n",
       "         111,  82,  45, 114, 114, 114, 164, 114,  63, 111, 114, 114,   5, 107,\n",
       "         114, 114, 107,  95,  80, 176,  94, 164, 164, 114, 146, 114, 114, 114,\n",
       "         114, 111, 114, 107, 164, 114,  64,  78, 114, 118,  84, 118,  42, 114,\n",
       "          36, 114, 111, 114,  64,  78, 115, 115,  46, 115, 115, 115, 115, 115,\n",
       "         115, 155]),\n",
       " tensor([115, 115, 115, 115, 146, 108, 115, 176, 115, 115, 115, 115, 115, 115,\n",
       "         115, 197, 115, 115, 145, 115, 115, 115, 158, 148, 115,  78, 115, 115,\n",
       "         115, 115, 115, 115, 115, 115, 115, 115, 145, 115, 115, 115, 138, 120,\n",
       "         121, 116, 116, 198, 116, 163, 116, 133, 116,  70,  70,  60,  70,  94,\n",
       "         116,  99, 116, 133,  60,  65, 116, 154,  93, 116,  70, 133,  70,  89,\n",
       "          70, 133, 197,  66, 116, 116, 133, 153,  70,  81, 116, 116, 146, 116,\n",
       "         145,  81, 116, 116, 116, 116, 117, 155, 117, 117, 117, 117,   5, 144,\n",
       "         117, 117,  87, 117, 155, 117,   2, 117, 117, 117, 117, 117, 155, 117,\n",
       "         155,  75, 155, 117, 117, 117, 111, 117, 117, 117, 142, 117, 117, 117,\n",
       "         117,  80]),\n",
       " tensor([ 42, 117, 155, 117,  87, 117, 117, 130, 155, 117,  40, 117, 118, 194,\n",
       "         118, 118, 118, 118, 118,  60, 118, 118,  95, 118, 118, 118, 118, 118,\n",
       "         118,  66, 118, 158, 176, 157, 118, 118,  76,  52, 118,  95,  44, 118,\n",
       "         118, 118, 118, 118, 118, 118, 118, 101, 118, 118, 111, 118, 118, 164,\n",
       "         118,  95, 118, 114, 118, 118, 119, 119, 119, 119, 119, 119, 119, 119,\n",
       "         119, 108, 119,  75, 168, 112, 157, 119, 119,  75, 150, 134,  60, 119,\n",
       "         119, 119, 108, 119, 119, 119, 119, 119, 167, 128,  65, 119, 132, 105,\n",
       "         118, 167,  61, 111, 114, 119, 118, 152,  68,  84,  60,  71,  19, 125,\n",
       "          28, 125, 126, 112, 113, 120,  49, 120, 120,  90,  63, 111, 120, 120,\n",
       "          90,  62]),\n",
       " tensor([125, 120, 132, 112, 138, 119, 120, 171, 120, 120, 120, 120, 120, 135,\n",
       "          20, 134, 144, 112, 120, 134, 154, 120,   5, 120, 163, 120, 120, 120,\n",
       "         120, 120, 171,  43, 120,  62,  70,  70, 121, 121, 121, 121, 121,  70,\n",
       "         146, 121, 133,  67, 145, 121, 121, 121, 121, 121, 121, 121, 121, 176,\n",
       "         121, 133, 166, 121, 121, 121, 111, 147, 157, 121, 121, 153, 166, 133,\n",
       "         121, 166, 116, 154, 121, 121, 145, 121, 121, 121, 146, 194, 133, 133,\n",
       "         168,  79, 111,  10,  43,  10, 150,  86,  66, 117,   5, 126, 122, 144,\n",
       "           7,  40, 162, 122,  22, 122,  96,  44,  64,  99, 122,  42,  15, 122,\n",
       "         122,  64, 144, 152, 122,  10, 151,  15,  10, 162,  33, 151, 122,  80,\n",
       "          77, 159]),\n",
       " tensor([113, 109,  14,   4, 122, 151, 123, 123,  63, 112, 128,  74, 143, 144,\n",
       "         119, 112, 180, 112, 123,  49, 144,  68, 169, 110, 156,  60,  60,  68,\n",
       "         123,  82,  27, 144, 123,  63, 123, 112, 155, 156, 112,  74, 160, 168,\n",
       "          60,  69, 123,  75, 123, 136, 123, 138, 123, 136,  82,  74, 123, 176,\n",
       "         124,  59, 124, 124, 124, 137, 124, 157, 124, 124, 124, 157, 124,  95,\n",
       "         124, 124, 124, 124, 132,  79, 124, 124,  65, 124, 124, 124, 124, 157,\n",
       "         124, 124, 128, 173, 132, 124, 124, 124, 124, 124, 166, 124, 124, 124,\n",
       "         124, 124, 124, 124, 124, 124, 137, 124, 144, 175, 125,  10, 125, 125,\n",
       "         112, 150, 125, 112,  78, 125, 125, 125, 112,  19,  85,  60, 136, 125,\n",
       "         125, 125]),\n",
       " tensor([111,  10, 125, 125, 123,  88, 108, 112, 125, 120, 157, 125, 176,  61,\n",
       "         125, 125,  99, 125, 143, 132,  60,  77,  88, 132, 113, 150, 142, 150,\n",
       "         126,  64, 142,  61,  61, 126, 126, 126, 126, 126, 126,  34, 126, 126,\n",
       "         126, 126, 126, 126, 126,  73, 126,  64, 126,  61, 126, 126, 126, 136,\n",
       "         142, 126, 126,  89, 126,  61, 102, 126, 126,  41, 126,  61, 126,  61,\n",
       "         126, 162, 152, 126,  61, 126, 126, 126,  32, 127,  87, 164, 127, 154,\n",
       "          63, 121,  78,   1, 127, 127, 127, 127, 127, 127, 127, 135, 127, 127,\n",
       "         127, 172, 113,  86, 127,  71, 127, 127, 127, 139, 164, 127,  87, 128,\n",
       "         127, 127, 127, 127,  63, 127,  87, 172,  87, 151, 142, 128, 127,  78,\n",
       "         127, 117]),\n",
       " tensor([128, 112, 127,  86, 113, 167, 128,  90, 128, 128, 128, 169, 167,  63,\n",
       "         167, 142,  60, 128, 128,  66, 128, 127, 167, 128, 128, 128, 118,  30,\n",
       "         128, 128, 167, 110, 110, 151, 128, 128, 127, 128, 128, 128,  65, 128,\n",
       "         128,  78, 128,  86, 128, 128, 128, 128, 139,  44, 129, 129, 178, 167,\n",
       "          71, 129, 129,  66, 129, 129, 129,  64, 169,  60, 103, 129, 129, 129,\n",
       "          71, 129, 167, 129, 151, 127, 103, 170, 129,  64, 129, 129, 129, 129,\n",
       "          71, 129, 129, 129, 129, 129, 129, 173, 129, 129, 129,  78,  95, 129,\n",
       "         129, 129, 175,  90, 161, 130, 181, 130, 130,  25, 144,  36, 130, 180,\n",
       "          97, 130,  80, 193, 172, 189, 130, 130,  79, 193, 178,  73, 130, 144,\n",
       "         137,  80]),\n",
       " tensor([130,  86, 130, 130, 146, 130, 159, 151, 130, 151, 130,  80,  67,  87,\n",
       "         130,   0, 113, 130,  67,  88, 113, 160, 138, 139, 131, 127,  62, 150,\n",
       "         138,  98, 169,  93, 125, 120, 168, 152,  85,  63, 120, 168, 122,  77,\n",
       "         185, 168,   8, 135, 172, 123,  69, 134, 100,  42,  60, 131,  60,  75,\n",
       "         123,  71, 112, 142, 172, 142, 169, 111, 123, 113, 147, 113,  99, 160,\n",
       "         167,  72, 171, 101, 118, 131, 101,  65, 132, 157, 101,  79,  95, 175,\n",
       "          68, 132,  95, 128, 124, 154, 124,  95, 132, 171, 132, 132, 132, 163,\n",
       "         122,  95,  74,  78, 132, 101, 126, 120, 132, 132, 108, 146, 109, 132,\n",
       "          66,  12,  88, 132, 101,  78,  79,  64, 129,  77, 133, 133, 116, 133,\n",
       "         133, 121]),\n",
       " tensor([ 95, 133, 121, 133,  84, 133, 133, 146, 133, 121, 133, 153, 133, 121,\n",
       "         133, 133, 166, 153, 133, 153,  65, 133, 133, 166, 133, 121, 103, 133,\n",
       "         153,  94, 133, 133, 133, 133, 133, 133, 121, 133, 133, 133, 133,  70,\n",
       "         164, 133,  85, 134, 134,  32, 134, 173,  79, 134,  38,  85, 120,  62,\n",
       "         112, 151,  62, 134, 134,  99, 134, 134,  14, 134, 169, 134, 134, 134,\n",
       "         173, 152,  90, 134, 129, 134, 107, 134,  90, 134, 134, 134, 134, 134,\n",
       "         118,  85, 151, 119, 134, 120, 134,  59, 134,  85,  61, 135,  72, 122,\n",
       "         111, 113,  67, 103,  73,  73,  73, 189,  80, 186, 102, 109,  73,  72,\n",
       "         126, 176,  73, 168, 126,  72,  93, 102, 135, 130,  61, 135, 135, 106,\n",
       "          79, 112]),\n",
       " tensor([130,  41, 127, 135,  26,  75,  93, 164,  73, 185,  73, 172,  80,  77,\n",
       "         130, 135,  12, 160, 161, 120, 140, 147, 142, 136, 116, 136, 136, 136,\n",
       "          11,  83, 136,   5, 136,   5, 125, 127, 162, 111,  92, 142, 136, 142,\n",
       "          80, 120, 136,  99, 136,  33, 136,  64, 172, 119, 136, 136, 136, 136,\n",
       "         144, 176, 136,  82, 136, 156, 181, 142, 136, 136,  11,  94,  67, 110,\n",
       "         136,  57,  63, 126,  84, 137, 101, 129,  50,   0,  95, 137,  81,  67,\n",
       "         137,  46,  61,  81, 132, 137, 137, 101, 151, 118, 137, 137,  63,  41,\n",
       "          95,  16,  71, 126, 119, 124, 132, 157,  94, 147, 124, 137, 160, 101,\n",
       "          95,  22,  71, 122, 138,  63,  60, 138,  90, 111, 138, 127, 138,  67,\n",
       "          67,  97]),\n",
       " tensor([128, 125, 140, 169, 112, 138, 128, 147,  11,  73, 140, 117, 138, 186,\n",
       "         138, 138, 100, 138, 113, 138,  73, 113, 100, 134, 135,  32, 135,  90,\n",
       "         138, 138, 138, 128, 111, 138, 176, 138, 123,  80, 122,  51,  74, 148,\n",
       "         194, 173,  16, 155, 139, 144, 139, 139,  68, 147,  39,  88, 148, 198,\n",
       "          52, 139, 146,   5, 139, 108, 107,  95, 166,   1, 155, 139, 139,  79,\n",
       "         139, 122, 154,  84,  73, 167,  61, 144, 149,  11, 139,  61,  76,  89,\n",
       "         166,  90, 139, 144, 121, 140, 147,  93, 140, 124,  73,  86, 140, 140,\n",
       "          65, 140, 176, 140, 128,  72, 140,  86, 140,  86, 140, 146, 164, 140,\n",
       "         102,  78, 140,  65, 142, 128, 140, 128,  83, 140,  97, 140, 130, 140,\n",
       "         167, 138]),\n",
       " tensor([140, 167, 140, 174,  92, 140, 140, 140, 140, 150, 109,  81, 141,  88,\n",
       "         141, 141,  97, 141, 141,  59, 135, 153,  90, 141, 141, 141, 125, 155,\n",
       "          59, 128,  87, 155, 110,  77, 121, 141, 120,  22,  64, 155, 141, 141,\n",
       "         141, 155,  51,  90, 110, 199, 141, 160, 174, 110,  87, 141, 135, 127,\n",
       "         110, 141, 141,  14,  89, 142, 173, 142, 142, 142, 142, 142, 138, 173,\n",
       "         142, 142, 147,  98, 142, 111, 117, 167, 114, 142, 142, 142, 142, 142,\n",
       "         142, 155, 142, 142,  92, 142,  52, 142, 167, 142, 157, 176, 142,   6,\n",
       "         142, 142, 142, 142,  93, 102, 142, 142, 142, 142, 144, 117, 143, 143,\n",
       "         143, 143,  13, 143,  68, 143, 143,  28, 143, 143, 143, 143, 143, 143,\n",
       "         143, 143]),\n",
       " tensor([143, 164, 143, 143, 143, 143, 139, 143, 143, 143, 143, 143,  14, 143,\n",
       "         160, 143, 143, 143, 143, 143, 143, 143, 164, 143, 198, 143, 143, 143,\n",
       "         143, 180, 143, 138,  46, 144, 153, 149, 120, 142, 138, 144, 144, 144,\n",
       "         144, 144, 125, 144,   5,   5, 107,  79, 144, 144,  40, 144, 144, 151,\n",
       "         144, 144,  62, 144, 144, 151, 159, 144, 144,  63,  75, 107,  86,  89,\n",
       "         185,  69, 188, 144, 144, 144, 144, 144, 168, 114, 149, 144, 145, 145,\n",
       "         166, 145, 145, 145, 166, 145, 145, 145, 145, 166, 164, 145, 145, 145,\n",
       "         145, 145, 145, 146, 145, 145, 145, 145, 164, 145, 145, 145, 145, 145,\n",
       "         145, 145, 164, 145, 145, 145, 145, 145, 145, 145, 145, 145, 145, 130,\n",
       "         145, 153]),\n",
       " tensor([145, 145, 145, 145,  87, 146, 146, 146, 146, 146, 146, 146, 146, 146,\n",
       "         146, 146, 146, 146, 146, 146, 146, 146, 146, 146,  65, 129, 146, 146,\n",
       "         167, 146,  68, 146, 164, 146, 146, 146, 146, 146,  59, 155, 146, 146,\n",
       "         146, 146,  59, 121, 146, 146, 145, 146, 146, 167, 146, 146,  44, 127,\n",
       "         119, 147, 147,  87, 147, 160,  95, 142, 176, 147,  59,  98, 147,  97,\n",
       "         121, 164,  97,  67,  82, 147, 147, 174,  97, 147, 145, 142,  97, 147,\n",
       "          98, 147,  63,  89, 147, 147,  61, 147,  97, 125,  80,  86, 147,  63,\n",
       "          97,  82, 147,   5, 147, 146, 148,  76, 148, 159, 119, 148, 148,  74,\n",
       "          22, 138, 115,  18, 148, 148, 196,  60, 158,  43, 122,  23, 148, 148,\n",
       "         106,  66]),\n",
       " tensor([148, 148, 194, 148, 148,  22, 119, 114, 148, 152, 148, 148, 196, 148,\n",
       "         156, 196,   7,  62, 130, 148, 159, 159, 148,  19, 198, 196, 149, 149,\n",
       "         149, 149, 176, 149, 149, 135,  90, 149, 149, 149,  90, 144, 134, 149,\n",
       "         101, 149,   6, 134, 149, 149, 142,  46, 149,  90, 149, 149, 149, 149,\n",
       "         112,  93, 134, 149, 149, 128,  64, 125, 149, 149,  16, 144, 149, 113,\n",
       "         134, 120, 131, 136, 149,  32,  89, 150, 150, 119, 112, 150, 150, 189,\n",
       "         113, 123, 150, 150, 107,  65, 150, 150, 150, 150, 150, 150, 176, 150,\n",
       "         155,  93, 136, 150, 112, 176, 150, 112, 150,  77, 119, 150, 168, 150,\n",
       "          60, 112,  44,  82, 105, 162, 176,  82, 150, 150, 150,  68, 123, 106,\n",
       "         113, 151]),\n",
       " tensor([151, 169, 151, 151,  69, 151, 151, 128, 151,  82,  90,  87,  63, 151,\n",
       "         120, 142, 149,  89, 151, 151, 151, 146, 151, 151, 151,  97, 151, 151,\n",
       "         174,  64,  72, 138, 151, 172, 168, 121,  86,  91, 155, 142, 151, 113,\n",
       "          63, 151, 147, 151, 154, 114, 152, 152,   4, 197, 152,  37, 152, 152,\n",
       "          16,   2, 152,  12, 152, 152, 149, 141, 152, 152, 152,  37, 152, 134,\n",
       "          33, 152, 175,  67, 152, 152, 152, 152, 129, 162, 152,  43, 152, 152,\n",
       "           6, 152, 152,  43, 154, 152, 152, 152, 152, 152, 155,  14, 105, 152,\n",
       "         153, 107,  70, 102, 107, 153, 153, 153, 153, 153, 153,  70, 153,  94,\n",
       "         153, 153,  94, 153, 153, 153,  94, 153, 153, 145, 153, 117, 153,  94,\n",
       "          94, 153]),\n",
       " tensor([133, 153, 153, 164, 153, 115,  94,  94,  94, 153, 153, 133, 153, 153,\n",
       "         153, 153, 153,  87, 153, 153, 154,  64, 124, 154, 108, 154,  84,  93,\n",
       "         154, 154,  88, 154, 154, 154,  78, 154, 157, 154, 154, 154,  96, 154,\n",
       "         170,  64, 154, 157, 154, 154, 154, 154,  64,  95, 194, 198, 157, 154,\n",
       "         194, 154, 154, 154, 154, 157, 154, 154, 154,  95, 154,  96, 157, 154,\n",
       "         161, 155, 155, 117, 130, 155,  88,  87, 155, 117, 114, 155, 155,  77,\n",
       "         155, 158, 155, 110, 110, 155, 155, 155,  88, 155, 179, 155, 155, 117,\n",
       "         155, 117, 155, 155, 160, 155, 155, 155, 144, 155, 155, 139, 155,  97,\n",
       "         155, 155, 124, 155, 155, 155, 155, 151, 112, 156, 156, 112,  77,  94,\n",
       "         169, 136]),\n",
       " tensor([150, 136, 156,  18, 168, 168, 156, 127, 156, 156, 156, 156, 119,  10,\n",
       "         156,  63, 168, 156, 123, 183,  77, 112, 156, 174, 168, 156,  21, 144,\n",
       "         156,  65, 156,  74, 144,  92,  77,  87, 119, 156, 156,  12, 156, 156,\n",
       "         195, 157, 154, 157, 154, 157, 157, 111, 157, 157, 173, 157, 157,  14,\n",
       "         194, 152, 146,  66, 195, 157, 157,  66, 157, 157, 176, 125, 157, 197,\n",
       "         157, 132, 111, 157, 157, 109, 157, 121, 154, 157, 194, 157,  64, 129,\n",
       "         197,  78, 157, 157, 126, 157, 170, 139, 122, 158, 158, 176, 112, 158,\n",
       "         115, 158, 139, 134,  17, 125, 158, 118, 134,  85,  89,  74, 114, 168,\n",
       "         171, 171, 138,  68, 120,  76, 158, 112,  63,  81, 112, 108, 158, 158,\n",
       "          85, 158]),\n",
       " tensor([131, 158, 158,  63, 158, 112,  76, 158, 158, 120, 148, 117,  20, 134,\n",
       "         159, 110,  59, 159, 180, 159,  90, 152, 125,  40, 120, 152, 125,  97,\n",
       "          95,  79, 122, 151,  77, 112,   5, 162,  97,  64,  79, 125, 125, 159,\n",
       "         137, 120, 150, 125, 150,  43,  75, 141, 193,  90, 159, 160, 159, 144,\n",
       "         114,  65,  78,  36, 152, 131,  42, 119, 160, 113, 144, 153,   6, 106,\n",
       "           5, 160, 160,  69, 155, 117,  73, 110, 160, 160,  90, 160,  67, 151,\n",
       "         160, 160,  17, 160, 147,   2, 111, 160, 160, 104, 181, 160, 160,  19,\n",
       "          80,  61,  27, 176, 172, 160, 144, 161, 160, 135,   7, 160, 160, 160,\n",
       "         160,  17,  34, 161,   6, 113, 161, 161,  45, 189, 161,  65, 127,  75,\n",
       "         161, 161]),\n",
       " tensor([112, 161, 161,  93, 161,  67, 149,  32,  55, 161, 161, 161, 161, 161,\n",
       "         147, 161,  27, 161, 112,  31, 134, 161, 161, 161,  75,  47, 161,  13,\n",
       "          65, 161, 181, 161, 161,  90, 161, 161,  66, 162, 162, 162,  66, 198,\n",
       "         162, 162, 162, 152,  66, 162, 162, 162,  66, 162, 162,  78, 162, 162,\n",
       "         162,  91, 129, 162, 152, 129, 154,   6,  84, 118,  14, 162, 162, 162,\n",
       "         162,  78, 152, 162,  57, 162, 162, 154, 162, 152, 162, 162,  66, 162,\n",
       "         162, 126,  43, 125, 102,  82, 163, 171, 163, 163, 163, 163, 111, 163,\n",
       "         163, 163,  65, 163,  60, 163, 163, 113, 163, 112, 163, 163, 103, 163,\n",
       "         163, 168, 125, 137, 125,  83, 163, 143, 111, 163,  21, 117, 163, 163,\n",
       "          61, 112]),\n",
       " tensor([163, 163,  60, 163,  95, 163, 163, 163, 164, 164, 164, 107, 115, 176,\n",
       "         164, 164, 164, 164,  49, 164, 164, 165, 164, 153, 164, 142, 164, 164,\n",
       "         164, 107, 164, 164, 164, 114, 164, 164,  66, 197, 164, 142, 111, 107,\n",
       "         114, 102, 114, 128, 176, 164, 114, 164, 196, 164, 111, 164, 108, 164,\n",
       "         164, 164,  66, 165, 165, 165, 164, 165, 102, 165, 165, 165, 165,  72,\n",
       "         165, 121, 165, 102, 165, 165, 165, 165, 165, 165,  78, 165, 165, 165,\n",
       "         165, 165, 165, 165,  63, 165, 165, 165, 165, 165, 165, 165, 101, 165,\n",
       "         165, 165, 124, 165,  66, 165, 165, 165, 165,  66, 166, 166, 167, 166,\n",
       "         145, 145, 166, 166, 166, 166, 166, 146, 166, 166, 166, 121, 166, 166,\n",
       "         166, 166]),\n",
       " tensor([166, 121, 166, 166, 166, 166, 166, 166, 166, 166, 166,  64, 166, 166,\n",
       "         166, 103, 111, 166, 166, 166, 114, 166, 166, 166, 166, 166, 107, 166,\n",
       "         166, 132,   8, 167, 128, 167, 167, 167,  81, 167,  95, 150, 167, 167,\n",
       "          72, 167, 109, 151, 167, 164, 167, 127, 128, 167, 167, 167, 167, 167,\n",
       "         167, 128, 129,  64, 128, 119,  64, 167, 167,  62, 167,  81, 167, 151,\n",
       "         129,  64, 167,  60, 167, 163, 167,  87, 119, 167, 150, 152, 111,  60,\n",
       "         168, 111, 111,  84, 112, 164,  93, 105,  12,  63, 157, 158,  15, 126,\n",
       "         137, 168, 118,  64, 167, 168,  90, 138,  66, 123, 164, 120,  76, 194,\n",
       "         168,  84, 112, 154, 112, 113, 168, 150, 168,  29,  11, 113,  20, 168,\n",
       "         168, 110]),\n",
       " tensor([168, 176,  61, 126, 188, 149, 169, 112, 129, 169, 169, 169, 169, 152,\n",
       "         176, 138, 169, 169, 169, 169,  68, 169, 176, 169, 126, 169, 118, 176,\n",
       "         169, 169, 150, 169,  61, 168, 128,  62, 169,  41, 169,  62, 169,  72,\n",
       "          60,  68,  69,  95,  79, 169, 112,  68,   5,  61, 129, 163, 170, 170,\n",
       "         154, 170, 170, 194, 170, 170, 170, 170, 197, 170, 102,  76, 170, 170,\n",
       "         154, 154, 170, 170, 129, 149, 157, 170, 170, 170, 170, 129, 170, 170,\n",
       "         194, 162, 170, 170, 170, 170, 170, 165, 170, 170, 170,  96, 170, 170,\n",
       "         157, 170, 170, 146, 171, 171, 171, 171, 125, 171,  98, 171, 171, 171,\n",
       "         171, 171,  99, 171, 171, 171,  74, 171, 131, 171,  68, 171,  68, 171,\n",
       "         111, 120]),\n",
       " tensor([114,  68, 171, 171, 118, 171,  74, 171,  68, 171, 171, 171, 171, 171,\n",
       "         171, 171,  68, 171, 171, 171, 171,  68,  68, 171, 111,  72, 135,  72,\n",
       "         172,  72, 142,  61,  90, 172, 176, 113,  80, 144, 160, 109, 167,  96,\n",
       "         172, 160,  90,  67, 160,  72,  90, 160, 131,  63, 177, 140, 160, 172,\n",
       "         102, 199, 151, 135, 172, 111, 113, 188,   0,  87, 172,  80,  76, 160,\n",
       "         138, 130, 111, 151, 173,  63,  78, 173,  64, 102, 164, 173, 173, 173,\n",
       "          71, 173, 173,  79, 197,  63, 173, 173, 173, 173,  71, 173, 173, 173,\n",
       "         173, 173, 173, 154,  71, 101, 173, 154, 129, 173, 173, 173, 173, 157,\n",
       "         146, 173, 173, 154, 173, 173, 173, 173, 101,  96, 173, 173, 147, 114,\n",
       "          87, 174]),\n",
       " tensor([174, 174, 104, 174, 174, 178, 174, 167, 174, 104, 174, 174, 104, 174,\n",
       "         160, 174, 174, 178, 174, 174, 174, 104, 174,  82, 104, 104, 174, 174,\n",
       "         174, 104, 104, 174, 191, 190, 191, 174,  87, 174,  87, 174, 174, 174,\n",
       "         174, 174, 174, 139,  79, 193, 186,  27,  68, 174,  98,  42, 175, 178,\n",
       "         175, 144, 104, 181, 176,  40, 109, 113, 110, 117, 125, 125, 163,  65,\n",
       "         108, 174, 142, 132,  89, 193, 126, 131,  77, 181,  77, 104, 150,  99,\n",
       "         150, 147,  99,  97, 175, 136, 104, 175, 179,  95,  80, 177, 176, 176,\n",
       "         176, 176, 176, 176, 176, 176,  95, 176, 117, 176, 176, 176, 176, 176,\n",
       "          65, 176, 176, 176, 176, 112, 176, 176, 176, 176, 176, 176,  65, 176,\n",
       "         176, 176]),\n",
       " tensor([176,  17, 176, 176,  93, 146, 176, 176, 176, 176, 146, 150, 176,  55,\n",
       "         176, 176,  64, 176, 139, 177, 177, 177, 177, 177, 177, 177,  93, 177,\n",
       "         177, 177, 178, 179, 147, 190, 190, 177, 190, 177,  80, 174, 177, 177,\n",
       "         177, 190,  18, 177, 177, 177, 177, 191, 177, 102, 177, 104, 191, 191,\n",
       "         190, 179, 177, 117, 178, 177, 190, 192, 177, 177, 177,   5,   2, 178,\n",
       "         178, 177,  36, 169, 178, 178, 178, 178, 178, 178, 178,  46, 183, 178,\n",
       "         178, 177, 178, 178, 177,  93, 178, 178, 169, 178,  89,  44,   3, 174,\n",
       "         179,  18, 178, 104, 178, 190, 178, 178,  19, 178, 178, 183, 178, 178,\n",
       "         178,   2, 179,   2, 178, 178, 109, 160, 179, 190, 180, 104, 142, 182,\n",
       "         187, 190]),\n",
       " tensor([177, 177, 177,  36, 177, 101, 179, 179, 140, 136, 177, 179, 189, 150,\n",
       "          89, 113, 179,  80,  80,   5, 160, 177, 181, 189, 179, 179, 177, 179,\n",
       "         179,  18, 112, 130, 193, 179, 185, 117, 179, 179, 161,   8, 180, 141,\n",
       "          74, 149,  25, 180, 180, 180, 163, 112,  62, 180, 119, 180, 144, 149,\n",
       "         158, 177, 163,  18,  80, 112, 119, 123, 168, 137, 123, 180, 161, 158,\n",
       "         113, 123,  18, 180,  63, 112, 125,  74, 176,  83, 114, 150, 134, 188,\n",
       "         113, 144, 180, 180, 131, 168, 181, 181,  74, 181, 181, 181, 181,  44,\n",
       "         177, 181, 112, 181, 181,  68, 181, 181, 181,  23, 177, 181, 181, 161,\n",
       "         171, 181,   5, 193, 174, 190, 181, 181, 158, 189, 152, 176,   4, 181,\n",
       "         176, 181]),\n",
       " tensor([ 82, 177, 181, 181, 181, 181, 171,  26, 181, 181, 181, 181, 177, 182,\n",
       "         178, 177,  18,  17,   1, 134, 182,  45, 177, 177,   6, 179, 177, 142,\n",
       "         182, 190, 190, 191, 182, 104, 113, 182, 182, 182, 185, 104, 178, 192,\n",
       "         182, 192, 182, 149, 179, 182, 177, 177, 192, 177, 136, 179,  31, 182,\n",
       "         177, 178, 192, 182, 182, 181, 183,  51,  17, 183, 177, 199, 177, 179,\n",
       "         183, 183, 185, 196, 178, 199, 183, 183, 183, 150,  15, 183, 183,  39,\n",
       "         183, 183, 182, 183, 183, 183,  42, 183, 183, 150,   2, 183, 183, 183,\n",
       "         182, 161, 199, 183, 179, 176, 117, 183,  19, 182, 182, 178, 178, 199,\n",
       "         199, 183, 184, 184, 184, 184,  40, 199, 187, 186, 184, 184, 199, 184,\n",
       "         181, 184]),\n",
       " tensor([184, 184, 184, 187, 184, 184, 184, 184, 184, 107, 184, 184, 184, 172,\n",
       "         184, 187, 186, 138, 199, 184,  90, 130, 184, 186, 184, 184, 199, 184,\n",
       "         184, 184, 199, 152, 184, 184, 151, 136, 185, 185, 185, 185, 102, 185,\n",
       "           5,  54,   6, 185, 185, 185,  12, 185, 185, 185, 185, 130, 173, 185,\n",
       "          16, 185, 185,  17, 150, 185, 185, 185, 170, 185, 164, 199, 185, 185,\n",
       "           0, 185, 150, 185, 185, 185, 185, 185,  17, 185, 185,   3, 185, 199,\n",
       "         186, 104, 186, 186, 187, 130, 185, 188, 196, 186, 186, 177, 186, 186,\n",
       "         186, 186, 104, 187, 186, 180,  44, 127, 186, 186, 186, 188, 186, 155,\n",
       "         187, 168, 186, 186, 186, 188, 187, 186, 186, 189, 185, 187, 186, 187,\n",
       "         186, 186]),\n",
       " tensor([  8, 186, 186, 186, 186, 186, 113,  83, 187, 199, 187, 184, 187, 187,\n",
       "         187, 193, 187,  45, 199, 187, 187, 187, 187, 187, 187, 188, 187, 160,\n",
       "         187, 188, 187, 186, 188, 178, 187, 199, 138, 199,  45, 199, 186,  79,\n",
       "         187, 184, 187, 187, 113, 187, 187, 104, 187, 187, 187, 193,  62, 193,\n",
       "         188, 171,  36, 180, 104, 188, 188,  63, 184, 188, 188,  89,  42, 188,\n",
       "         177, 188, 177, 125, 188, 188,  15, 187, 186,  36,  39, 149, 188, 179,\n",
       "         182, 186, 112, 113, 189,  45, 188, 188, 188, 180, 175, 188, 188,  93,\n",
       "         188, 188, 188, 188,  44, 188,  45, 188, 189, 189, 189, 189, 189, 189,\n",
       "         189, 188, 189, 189, 177,  38, 189, 189,  44, 189, 107,  90, 189, 189,\n",
       "         160, 189]),\n",
       " tensor([189,  90,  15, 189, 179, 189, 189, 189, 199, 189, 189, 189, 189, 189,\n",
       "          44, 189,  45, 189, 189,  76, 186, 189, 189, 189, 189, 112, 189, 113,\n",
       "         190, 190, 190, 177, 190, 190, 190, 177, 177, 190, 177, 177, 190, 190,\n",
       "         168, 177,  89,  78,   3, 190, 177, 191, 190,  79,  18,  93, 190, 190,\n",
       "         169,  93, 190, 182, 181, 177, 190, 190, 175,  79,  47, 190, 190,  79,\n",
       "         104, 190, 188, 190, 177, 190, 177, 177, 174, 191, 191, 191, 191, 191,\n",
       "         192, 191, 175, 191, 191, 191, 191, 190,  14, 190, 104, 191, 191, 191,\n",
       "         177, 191, 191, 176, 192,  19, 181, 191, 191,  73, 191, 191,  90, 191,\n",
       "         191, 191, 191, 191, 191, 190, 191, 191, 190, 191, 191, 191, 191, 191,\n",
       "         191, 181]),\n",
       " tensor([192, 177, 192, 177, 192, 192,  64, 181, 192, 192,  89, 192, 192, 104,\n",
       "         187, 192, 192, 192, 183, 191, 192, 192, 104, 191, 192, 192, 179, 192,\n",
       "         192, 192, 193, 192, 192,   6, 179,  17, 192, 177, 191, 104, 192, 192,\n",
       "         192, 192, 190, 181, 192, 192, 192, 193, 160, 193, 193, 193, 193,   5,\n",
       "         193, 193, 193, 193, 193, 193, 193, 176, 193, 193, 193, 193, 193, 193,\n",
       "         193, 193, 193, 193,  93, 193, 160, 193,  80,  80, 193, 193, 193, 193,\n",
       "          98, 113, 193, 136, 193, 193, 104, 193, 193, 193, 179, 193, 193, 113,\n",
       "         193, 193, 194, 194, 154, 194, 154, 194, 194, 194, 194, 194, 194, 129,\n",
       "           4, 194, 194, 194,   4,  37,  66, 154, 194,  49, 194, 194, 194, 157,\n",
       "         194, 194]),\n",
       " tensor([194, 194, 194, 111, 194, 194, 114, 195,  31, 194, 194, 198, 194,   4,\n",
       "         194, 194, 194, 194, 164, 198, 194, 198,  10, 195, 129, 198, 162, 198,\n",
       "         195, 195, 195,  96, 154,  64, 195, 195, 195, 194,  66, 198, 195, 195,\n",
       "         195, 195, 194, 198,  91, 195, 194,  85, 195, 164, 152, 194, 195, 195,\n",
       "         194,  96, 108, 195, 195, 195, 173, 162, 195,  96, 195, 195,  91, 162,\n",
       "         195, 194, 196, 196, 196, 196, 196, 196,  46,  14,  93, 196,  14, 152,\n",
       "         196,  14,  14, 196,  46, 196,  14, 196,  14,  17, 196, 196, 196, 183,\n",
       "          17, 196,  14, 196, 196, 196,  14, 196, 196, 196,   2, 196, 196,  19,\n",
       "         196,  17,  14, 196, 196, 196, 196, 185,  46,  14, 129, 197, 197, 197,\n",
       "         194, 198]),\n",
       " tensor([157,  23, 198, 154, 114, 198, 197, 146, 195,  15,  96, 198,  96, 148,\n",
       "         157, 162, 197, 129, 197, 129, 198, 197, 198, 195, 101,  96,  45, 197,\n",
       "          78, 197, 197, 170, 197, 148, 197,  27, 198, 154, 148, 198, 102,  78,\n",
       "         198, 148, 197, 198, 198,  74, 198, 154, 198, 197, 198, 198, 198, 198,\n",
       "         198, 198,  66,  96, 195, 198, 198, 154, 198, 198, 198, 198, 198,  71,\n",
       "          49, 198, 154, 197, 198, 197, 157, 198, 198,  64, 198, 198, 102, 198,\n",
       "         198,  78, 198, 195, 195, 198,  96, 198, 198,  96, 199, 187,  36,  39,\n",
       "         199,  15,  15, 199,   5,   5, 199, 199, 152, 160, 143,  15, 199, 123,\n",
       "          16,  81, 185, 168,   6, 199,  12, 185,  45, 199,  38,  43, 199, 199,\n",
       "         164, 199]),\n",
       " tensor([ 46, 199, 199, 199, 199,  15, 185, 114, 199,  15, 199, 130, 199, 152,\n",
       "          40,  15])]"
      ]
     },
     "execution_count": 42,
     "metadata": {},
     "output_type": "execute_result"
    }
   ],
   "source": []
  },
  {
   "cell_type": "code",
   "execution_count": null,
   "id": "2846de76-3589-4cd5-805a-3364e9bbfc59",
   "metadata": {},
   "outputs": [],
   "source": []
  },
  {
   "cell_type": "code",
   "execution_count": null,
   "id": "7c4eb2e0-6ef1-4fe3-9ef9-93bb8357f0d2",
   "metadata": {},
   "outputs": [],
   "source": []
  },
  {
   "cell_type": "code",
   "execution_count": null,
   "id": "dd00ab7a-62eb-4c30-8502-52c38e52e027",
   "metadata": {},
   "outputs": [],
   "source": []
  },
  {
   "cell_type": "code",
   "execution_count": 13,
   "id": "fcca1cb7-8de5-4a5b-8b1a-d72b9392c369",
   "metadata": {},
   "outputs": [
    {
     "data": {
      "text/plain": [
       "Sequential(\n",
       "  (0): B2lock2(\n",
       "    (conv1): Conv2d(3, 32, kernel_size=(3, 3), stride=(2, 2), padding=(True, True), bias=False)\n",
       "    (bnF): BatchNorm2d(32, eps=1e-05, momentum=0.1, affine=True, track_running_stats=True)\n",
       "    (relu): ReLU()\n",
       "  )\n",
       "  (1): B2lock2(\n",
       "    (conv1): Conv2d(32, 64, kernel_size=(3, 3), stride=(2, 2), padding=(True, True), bias=False)\n",
       "    (bnF): BatchNorm2d(64, eps=1e-05, momentum=0.1, affine=True, track_running_stats=True)\n",
       "    (relu): ReLU()\n",
       "  )\n",
       "  (2): B2lock2(\n",
       "    (conv1): Conv2d(64, 128, kernel_size=(3, 3), stride=(1, 1), padding=(True, True), bias=False)\n",
       "    (bnF): BatchNorm2d(128, eps=1e-05, momentum=0.1, affine=True, track_running_stats=True)\n",
       "    (relu): ReLU()\n",
       "  )\n",
       "  (3): B2lock2(\n",
       "    (conv1): Conv2d(128, 128, kernel_size=(3, 3), stride=(2, 2), padding=(True, True), bias=False)\n",
       "    (bnF): BatchNorm2d(128, eps=1e-05, momentum=0.1, affine=True, track_running_stats=True)\n",
       "    (relu): ReLU()\n",
       "  )\n",
       "  (4): B2lock2(\n",
       "    (conv1): Conv2d(128, 256, kernel_size=(3, 3), stride=(1, 1), padding=(True, True), bias=False)\n",
       "    (bnF): BatchNorm2d(256, eps=1e-05, momentum=0.1, affine=True, track_running_stats=True)\n",
       "    (relu): ReLU()\n",
       "  )\n",
       "  (5): B2lock2(\n",
       "    (conv1): Conv2d(256, 256, kernel_size=(3, 3), stride=(2, 2), padding=(True, True), bias=False)\n",
       "    (bnF): BatchNorm2d(256, eps=1e-05, momentum=0.1, affine=True, track_running_stats=True)\n",
       "    (relu): ReLU()\n",
       "  )\n",
       "  (6): B2lock2(\n",
       "    (conv1): Conv2d(256, 512, kernel_size=(3, 3), stride=(1, 1), padding=(True, True), bias=False)\n",
       "    (bnF): BatchNorm2d(512, eps=1e-05, momentum=0.1, affine=True, track_running_stats=True)\n",
       "    (relu): ReLU()\n",
       "  )\n",
       "  (7): B2lock2(\n",
       "    (conv1): Conv2d(512, 512, kernel_size=(3, 3), stride=(2, 2), padding=(True, True), bias=False)\n",
       "    (bnF): BatchNorm2d(512, eps=1e-05, momentum=0.1, affine=True, track_running_stats=True)\n",
       "    (relu): ReLU()\n",
       "  )\n",
       "  (8): MaxPool2d(kernel_size=(2, 2), stride=2, padding=0, dilation=1, ceil_mode=False)\n",
       "  (9): Flatten()\n",
       "  (10): Dropout(p=0.5, inplace=False)\n",
       ")"
      ]
     },
     "execution_count": 13,
     "metadata": {},
     "output_type": "execute_result"
    }
   ],
   "source": [
    "actModel = cladec.getActModel(cfg, classifier)\n",
    "actModel.eval()"
   ]
  },
  {
   "cell_type": "code",
   "execution_count": 12,
   "id": "7553ffba-0fa5-43fa-8a9b-8d380459112d",
   "metadata": {},
   "outputs": [
    {
     "data": {
      "text/plain": [
       "-1"
      ]
     },
     "execution_count": 12,
     "metadata": {},
     "output_type": "execute_result"
    }
   ],
   "source": [
    "cfg[\"layInd\"]"
   ]
  },
  {
   "cell_type": "code",
   "execution_count": 14,
   "id": "c86c0f4c-c28c-4281-911b-dafa0e1e6886",
   "metadata": {},
   "outputs": [
    {
     "data": {
      "text/plain": [
       "ClaDecNet(\n",
       "  (fc): Sequential(\n",
       "    (0): Linear(in_features=512, out_features=512, bias=True)\n",
       "    (1): ReLU(inplace=True)\n",
       "  )\n",
       "  (deconv): Sequential(\n",
       "    (0): ConvTranspose2d(512, 1024, kernel_size=(4, 4), stride=(2, 2), padding=(1, 1))\n",
       "    (1): Identity()\n",
       "    (2): ReLU()\n",
       "    (3): ConvTranspose2d(1024, 512, kernel_size=(4, 4), stride=(2, 2), padding=(1, 1))\n",
       "    (4): Identity()\n",
       "    (5): ReLU()\n",
       "    (6): ConvTranspose2d(512, 256, kernel_size=(4, 4), stride=(2, 2), padding=(1, 1))\n",
       "    (7): Identity()\n",
       "    (8): ReLU()\n",
       "    (9): ConvTranspose2d(256, 128, kernel_size=(4, 4), stride=(2, 2), padding=(1, 1))\n",
       "    (10): Identity()\n",
       "    (11): ReLU()\n",
       "    (12): ConvTranspose2d(128, 64, kernel_size=(4, 4), stride=(2, 2), padding=(1, 1))\n",
       "    (13): Identity()\n",
       "    (14): ReLU()\n",
       "    (15): ConvTranspose2d(64, 3, kernel_size=(4, 4), stride=(2, 2), padding=(1, 1))\n",
       "  )\n",
       "  (sig): Sigmoid()\n",
       ")"
      ]
     },
     "execution_count": 14,
     "metadata": {},
     "output_type": "execute_result"
    }
   ],
   "source": [
    "i = 1\n",
    "refAE = torch.load(os.path.join(model_path, \"refAE_\"+  str(i) + \".pt\"))\n",
    "cladecNet = torch.load(os.path.join(model_path, \"cladecNet_\"+  str(i) + \".pt\"))\n",
    "cfg[\"layInd\"] = -1*i\n",
    "refAE.eval()\n",
    "cladecNet.eval()"
   ]
  },
  {
   "cell_type": "code",
   "execution_count": 9,
   "id": "ba58b68a-ea4b-4e94-a12f-211feff90c33",
   "metadata": {},
   "outputs": [],
   "source": [
    "from PIL import Image\n",
    "import torchvision.transforms as transforms"
   ]
  },
  {
   "cell_type": "code",
   "execution_count": 19,
   "id": "23a443ef-7064-47e3-839a-b29c6e7ccdef",
   "metadata": {},
   "outputs": [],
   "source": [
    "img_tr = transforms.ToPILImage()"
   ]
  },
  {
   "cell_type": "code",
   "execution_count": 20,
   "id": "17d0bf53-1750-4662-9f05-e3504ddb72a7",
   "metadata": {},
   "outputs": [],
   "source": [
    "(batch, label) = next(iter(train_loader))"
   ]
  },
  {
   "cell_type": "code",
   "execution_count": 8,
   "id": "6319b1b0-1e0a-40db-8ee3-c7541b60edac",
   "metadata": {},
   "outputs": [],
   "source": [
    "import numpy as np"
   ]
  },
  {
   "cell_type": "code",
   "execution_count": 25,
   "id": "d6ec634b-af92-40b0-829b-d942bac92c08",
   "metadata": {},
   "outputs": [],
   "source": [
    "total_classes = set()\n",
    "if len(total_classes) < cfg[\"ds\"][1]:\n",
    "    label_classes = set(np.array(label))\n",
    "    new_classes = label_classes.difference(total_classes)\n",
    "    total_classes = total_classes.union(label_classes)\n",
    "    for i in new_classes:\n",
    "        class_path = os.path.join(dset_path, str(i))\n",
    "        os.makedirs(class_path, exist_ok=True)\n",
    "    \n"
   ]
  },
  {
   "cell_type": "code",
   "execution_count": 36,
   "id": "4c8e75f4-eb35-4c5b-89e2-deeb4af3197d",
   "metadata": {},
   "outputs": [],
   "source": [
    "idx = 0"
   ]
  },
  {
   "cell_type": "code",
   "execution_count": 46,
   "id": "7e014b84-353b-4fb3-8678-ed4fcbcafa88",
   "metadata": {},
   "outputs": [],
   "source": [
    "j = 0\n",
    "vec = batch[j].numpy()\n",
    "vec_label = label[j].item()"
   ]
  },
  {
   "cell_type": "code",
   "execution_count": 51,
   "id": "0d4cd785-d800-4fec-bece-82f8d3107989",
   "metadata": {},
   "outputs": [
    {
     "ename": "NameError",
     "evalue": "name 'dset_path' is not defined",
     "output_type": "error",
     "traceback": [
      "\u001b[0;31m---------------------------------------------------------------------------\u001b[0m",
      "\u001b[0;31mNameError\u001b[0m                                 Traceback (most recent call last)",
      "\u001b[0;32m<ipython-input-51-505febc1a3be>\u001b[0m in \u001b[0;36m<module>\u001b[0;34m\u001b[0m\n\u001b[0;32m----> 1\u001b[0;31m \u001b[0mvec_path\u001b[0m \u001b[0;34m=\u001b[0m \u001b[0mos\u001b[0m\u001b[0;34m.\u001b[0m\u001b[0mpath\u001b[0m\u001b[0;34m.\u001b[0m\u001b[0mjoin\u001b[0m\u001b[0;34m(\u001b[0m\u001b[0mdset_path\u001b[0m\u001b[0;34m,\u001b[0m \u001b[0mstr\u001b[0m\u001b[0;34m(\u001b[0m\u001b[0mi\u001b[0m\u001b[0;34m)\u001b[0m\u001b[0;34m,\u001b[0m\u001b[0mstr\u001b[0m\u001b[0;34m(\u001b[0m\u001b[0midx\u001b[0m\u001b[0;34m)\u001b[0m \u001b[0;34m+\u001b[0m \u001b[0;34m\".npy\"\u001b[0m\u001b[0;34m)\u001b[0m\u001b[0;34m\u001b[0m\u001b[0;34m\u001b[0m\u001b[0m\n\u001b[0m",
      "\u001b[0;31mNameError\u001b[0m: name 'dset_path' is not defined"
     ]
    }
   ],
   "source": [
    "vec_path = os.path.join(dset_path, str(i),str(idx) + \".npy\")"
   ]
  },
  {
   "cell_type": "code",
   "execution_count": 39,
   "id": "0415d483-f6ee-4dd3-9c3e-32853174314a",
   "metadata": {},
   "outputs": [],
   "source": [
    "np.save(vec_path, vec)"
   ]
  },
  {
   "cell_type": "code",
   "execution_count": 21,
   "id": "20f7b263-448b-4963-97e4-ed35a338b7c3",
   "metadata": {},
   "outputs": [],
   "source": [
    "with tca.autocast():\n",
    "    act = refAE(batch.to(cfg[\"device\"])).detach().cpu()"
   ]
  },
  {
   "cell_type": "code",
   "execution_count": 23,
   "id": "f7494377-03ba-445d-bab4-c3dad6a556eb",
   "metadata": {},
   "outputs": [],
   "source": [
    "img = img_tr(act[0])"
   ]
  },
  {
   "cell_type": "code",
   "execution_count": 38,
   "id": "9c4a96eb-e2a3-4909-a413-3f0351e1e370",
   "metadata": {},
   "outputs": [
    {
     "data": {
      "text/plain": [
       "torch.Size([3, 64, 64])"
      ]
     },
     "execution_count": 38,
     "metadata": {},
     "output_type": "execute_result"
    }
   ],
   "source": [
    "act[0].shape"
   ]
  },
  {
   "cell_type": "code",
   "execution_count": 27,
   "id": "e4186770-d358-4f1c-9c08-7dd05c8bcba9",
   "metadata": {},
   "outputs": [],
   "source": [
    "img.save(\"here.jpg\")"
   ]
  },
  {
   "cell_type": "code",
   "execution_count": 49,
   "id": "6ac85cbb-c378-4276-ba30-506d02e8bb96",
   "metadata": {},
   "outputs": [],
   "source": [
    "act_j = act[j]"
   ]
  },
  {
   "cell_type": "code",
   "execution_count": 29,
   "id": "2ec305d6-9f3f-475b-8acf-e2bce12f4cc8",
   "metadata": {},
   "outputs": [],
   "source": [
    "from PIL import Image\n",
    "im = Image.open(\"here.jpg\")"
   ]
  },
  {
   "cell_type": "code",
   "execution_count": 52,
   "id": "d862860e-2f23-4ab8-9afd-945d6071f687",
   "metadata": {},
   "outputs": [
    {
     "name": "stderr",
     "output_type": "stream",
     "text": [
      "/home/harshv834/my-envs/ml_def/lib/python3.8/site-packages/numpy/core/_asarray.py:136: VisibleDeprecationWarning: Creating an ndarray from ragged nested sequences (which is a list-or-tuple of lists-or-tuples-or ndarrays with different lengths or shapes) is deprecated. If you meant to do this, you must specify 'dtype=object' when creating the ndarray\n",
      "  return array(a, dtype, copy=False, order=order, subok=True)\n"
     ]
    }
   ],
   "source": [
    "np.save(\"trial.npy\", (vec, act_j))"
   ]
  },
  {
   "cell_type": "code",
   "execution_count": 10,
   "id": "283626aa-1060-4921-b87f-f6d7cb3feb6f",
   "metadata": {},
   "outputs": [
    {
     "ename": "FileNotFoundError",
     "evalue": "[Errno 2] No such file or directory: 'trained_models/TinyImgNet_final/rec_refae/reconstructions_1/train'",
     "output_type": "error",
     "traceback": [
      "\u001b[0;31m---------------------------------------------------------------------------\u001b[0m",
      "\u001b[0;31mFileNotFoundError\u001b[0m                         Traceback (most recent call last)",
      "\u001b[0;32m<ipython-input-10-b394b5fc603e>\u001b[0m in \u001b[0;36m<module>\u001b[0;34m\u001b[0m\n\u001b[1;32m      1\u001b[0m \u001b[0;32mfrom\u001b[0m \u001b[0mtorchvision\u001b[0m\u001b[0;34m.\u001b[0m\u001b[0mdatasets\u001b[0m \u001b[0;32mimport\u001b[0m \u001b[0mImageFolder\u001b[0m\u001b[0;34m\u001b[0m\u001b[0;34m\u001b[0m\u001b[0m\n\u001b[1;32m      2\u001b[0m \u001b[0;32mfrom\u001b[0m \u001b[0mtorch\u001b[0m\u001b[0;34m.\u001b[0m\u001b[0mutils\u001b[0m\u001b[0;34m.\u001b[0m\u001b[0mdata\u001b[0m \u001b[0;32mimport\u001b[0m \u001b[0mDataLoader\u001b[0m\u001b[0;34m\u001b[0m\u001b[0;34m\u001b[0m\u001b[0m\n\u001b[0;32m----> 3\u001b[0;31m \u001b[0mimset\u001b[0m \u001b[0;34m=\u001b[0m \u001b[0mImageFolder\u001b[0m\u001b[0;34m(\u001b[0m\u001b[0mroot\u001b[0m \u001b[0;34m=\u001b[0m \u001b[0;34m\"trained_models/TinyImgNet_final/rec_refae/reconstructions_1/train\"\u001b[0m\u001b[0;34m,\u001b[0m \u001b[0mtransform\u001b[0m \u001b[0;34m=\u001b[0m \u001b[0mtransforms\u001b[0m\u001b[0;34m.\u001b[0m\u001b[0mToTensor\u001b[0m\u001b[0;34m(\u001b[0m\u001b[0;34m)\u001b[0m\u001b[0;34m)\u001b[0m\u001b[0;34m\u001b[0m\u001b[0;34m\u001b[0m\u001b[0m\n\u001b[0m\u001b[1;32m      4\u001b[0m \u001b[0mloader\u001b[0m \u001b[0;34m=\u001b[0m \u001b[0mDataLoader\u001b[0m\u001b[0;34m(\u001b[0m\u001b[0mimset\u001b[0m\u001b[0;34m,\u001b[0m \u001b[0mbatch_size\u001b[0m \u001b[0;34m=\u001b[0m \u001b[0mcfg\u001b[0m\u001b[0;34m[\u001b[0m\u001b[0;34m\"batchSize\"\u001b[0m\u001b[0;34m]\u001b[0m\u001b[0;34m,\u001b[0m \u001b[0mnum_workers\u001b[0m \u001b[0;34m=\u001b[0m \u001b[0;36m4\u001b[0m\u001b[0;34m,\u001b[0m \u001b[0mshuffle\u001b[0m\u001b[0;34m=\u001b[0m\u001b[0;32mTrue\u001b[0m\u001b[0;34m)\u001b[0m\u001b[0;34m\u001b[0m\u001b[0;34m\u001b[0m\u001b[0m\n",
      "\u001b[0;32m~/my-envs/ml_def/lib/python3.8/site-packages/torchvision/datasets/folder.py\u001b[0m in \u001b[0;36m__init__\u001b[0;34m(self, root, transform, target_transform, loader, is_valid_file)\u001b[0m\n\u001b[1;32m    251\u001b[0m             \u001b[0mis_valid_file\u001b[0m\u001b[0;34m:\u001b[0m \u001b[0mOptional\u001b[0m\u001b[0;34m[\u001b[0m\u001b[0mCallable\u001b[0m\u001b[0;34m[\u001b[0m\u001b[0;34m[\u001b[0m\u001b[0mstr\u001b[0m\u001b[0;34m]\u001b[0m\u001b[0;34m,\u001b[0m \u001b[0mbool\u001b[0m\u001b[0;34m]\u001b[0m\u001b[0;34m]\u001b[0m \u001b[0;34m=\u001b[0m \u001b[0;32mNone\u001b[0m\u001b[0;34m,\u001b[0m\u001b[0;34m\u001b[0m\u001b[0;34m\u001b[0m\u001b[0m\n\u001b[1;32m    252\u001b[0m     ):\n\u001b[0;32m--> 253\u001b[0;31m         super(ImageFolder, self).__init__(root, loader, IMG_EXTENSIONS if is_valid_file is None else None,\n\u001b[0m\u001b[1;32m    254\u001b[0m                                           \u001b[0mtransform\u001b[0m\u001b[0;34m=\u001b[0m\u001b[0mtransform\u001b[0m\u001b[0;34m,\u001b[0m\u001b[0;34m\u001b[0m\u001b[0;34m\u001b[0m\u001b[0m\n\u001b[1;32m    255\u001b[0m                                           \u001b[0mtarget_transform\u001b[0m\u001b[0;34m=\u001b[0m\u001b[0mtarget_transform\u001b[0m\u001b[0;34m,\u001b[0m\u001b[0;34m\u001b[0m\u001b[0;34m\u001b[0m\u001b[0m\n",
      "\u001b[0;32m~/my-envs/ml_def/lib/python3.8/site-packages/torchvision/datasets/folder.py\u001b[0m in \u001b[0;36m__init__\u001b[0;34m(self, root, loader, extensions, transform, target_transform, is_valid_file)\u001b[0m\n\u001b[1;32m    124\u001b[0m         super(DatasetFolder, self).__init__(root, transform=transform,\n\u001b[1;32m    125\u001b[0m                                             target_transform=target_transform)\n\u001b[0;32m--> 126\u001b[0;31m         \u001b[0mclasses\u001b[0m\u001b[0;34m,\u001b[0m \u001b[0mclass_to_idx\u001b[0m \u001b[0;34m=\u001b[0m \u001b[0mself\u001b[0m\u001b[0;34m.\u001b[0m\u001b[0m_find_classes\u001b[0m\u001b[0;34m(\u001b[0m\u001b[0mself\u001b[0m\u001b[0;34m.\u001b[0m\u001b[0mroot\u001b[0m\u001b[0;34m)\u001b[0m\u001b[0;34m\u001b[0m\u001b[0;34m\u001b[0m\u001b[0m\n\u001b[0m\u001b[1;32m    127\u001b[0m         \u001b[0msamples\u001b[0m \u001b[0;34m=\u001b[0m \u001b[0mself\u001b[0m\u001b[0;34m.\u001b[0m\u001b[0mmake_dataset\u001b[0m\u001b[0;34m(\u001b[0m\u001b[0mself\u001b[0m\u001b[0;34m.\u001b[0m\u001b[0mroot\u001b[0m\u001b[0;34m,\u001b[0m \u001b[0mclass_to_idx\u001b[0m\u001b[0;34m,\u001b[0m \u001b[0mextensions\u001b[0m\u001b[0;34m,\u001b[0m \u001b[0mis_valid_file\u001b[0m\u001b[0;34m)\u001b[0m\u001b[0;34m\u001b[0m\u001b[0;34m\u001b[0m\u001b[0m\n\u001b[1;32m    128\u001b[0m         \u001b[0;32mif\u001b[0m \u001b[0mlen\u001b[0m\u001b[0;34m(\u001b[0m\u001b[0msamples\u001b[0m\u001b[0;34m)\u001b[0m \u001b[0;34m==\u001b[0m \u001b[0;36m0\u001b[0m\u001b[0;34m:\u001b[0m\u001b[0;34m\u001b[0m\u001b[0;34m\u001b[0m\u001b[0m\n",
      "\u001b[0;32m~/my-envs/ml_def/lib/python3.8/site-packages/torchvision/datasets/folder.py\u001b[0m in \u001b[0;36m_find_classes\u001b[0;34m(self, dir)\u001b[0m\n\u001b[1;32m    162\u001b[0m             \u001b[0mNo\u001b[0m \u001b[0;32mclass\u001b[0m \u001b[0;32mis\u001b[0m \u001b[0ma\u001b[0m \u001b[0msubdirectory\u001b[0m \u001b[0mof\u001b[0m \u001b[0manother\u001b[0m\u001b[0;34m.\u001b[0m\u001b[0;34m\u001b[0m\u001b[0;34m\u001b[0m\u001b[0m\n\u001b[1;32m    163\u001b[0m         \"\"\"\n\u001b[0;32m--> 164\u001b[0;31m         \u001b[0mclasses\u001b[0m \u001b[0;34m=\u001b[0m \u001b[0;34m[\u001b[0m\u001b[0md\u001b[0m\u001b[0;34m.\u001b[0m\u001b[0mname\u001b[0m \u001b[0;32mfor\u001b[0m \u001b[0md\u001b[0m \u001b[0;32min\u001b[0m \u001b[0mos\u001b[0m\u001b[0;34m.\u001b[0m\u001b[0mscandir\u001b[0m\u001b[0;34m(\u001b[0m\u001b[0mdir\u001b[0m\u001b[0;34m)\u001b[0m \u001b[0;32mif\u001b[0m \u001b[0md\u001b[0m\u001b[0;34m.\u001b[0m\u001b[0mis_dir\u001b[0m\u001b[0;34m(\u001b[0m\u001b[0;34m)\u001b[0m\u001b[0;34m]\u001b[0m\u001b[0;34m\u001b[0m\u001b[0;34m\u001b[0m\u001b[0m\n\u001b[0m\u001b[1;32m    165\u001b[0m         \u001b[0mclasses\u001b[0m\u001b[0;34m.\u001b[0m\u001b[0msort\u001b[0m\u001b[0;34m(\u001b[0m\u001b[0;34m)\u001b[0m\u001b[0;34m\u001b[0m\u001b[0;34m\u001b[0m\u001b[0m\n\u001b[1;32m    166\u001b[0m         \u001b[0mclass_to_idx\u001b[0m \u001b[0;34m=\u001b[0m \u001b[0;34m{\u001b[0m\u001b[0mcls_name\u001b[0m\u001b[0;34m:\u001b[0m \u001b[0mi\u001b[0m \u001b[0;32mfor\u001b[0m \u001b[0mi\u001b[0m\u001b[0;34m,\u001b[0m \u001b[0mcls_name\u001b[0m \u001b[0;32min\u001b[0m \u001b[0menumerate\u001b[0m\u001b[0;34m(\u001b[0m\u001b[0mclasses\u001b[0m\u001b[0;34m)\u001b[0m\u001b[0;34m}\u001b[0m\u001b[0;34m\u001b[0m\u001b[0;34m\u001b[0m\u001b[0m\n",
      "\u001b[0;31mFileNotFoundError\u001b[0m: [Errno 2] No such file or directory: 'trained_models/TinyImgNet_final/rec_refae/reconstructions_1/train'"
     ]
    }
   ],
   "source": [
    "from torchvision.datasets import ImageFolder\n",
    "from torch.utils.data import DataLoader\n",
    "imset = ImageFolder(root = \"trained_models/TinyImgNet_final/rec_refae/reconstructions_1/train\", transform = transforms.ToTensor())\n",
    "loader = DataLoader(imset, batch_size = cfg[\"batchSize\"], num_workers = 4, shuffle=True)"
   ]
  },
  {
   "cell_type": "code",
   "execution_count": 43,
   "id": "e7dc6bfb-92d9-49aa-b484-f41f0cd2a46e",
   "metadata": {},
   "outputs": [
    {
     "name": "stderr",
     "output_type": "stream",
     "text": [
      "100%|██████████| 782/782 [00:11<00:00, 69.50it/s]\n"
     ]
    }
   ],
   "source": [
    "for i in tqdm(loader):\n",
    "    continue"
   ]
  },
  {
   "cell_type": "code",
   "execution_count": 11,
   "id": "4e340368-1db4-4607-a93f-26f738f6d03c",
   "metadata": {},
   "outputs": [],
   "source": [
    "def save_reconstructions(cfg, data_loader, model_path, model, train=True, cladec=True):\n",
    "    rec_path = os.path.join(model_path, \"rec_cladec\" if cladec else \"rec_refae\", \"reconstructions_{}\".format(str(-1*cfg[\"layInd\"])))\n",
    "    os.makedirs(rec_path, exist_ok = True)\n",
    "    dset_path = os.path.join(rec_path, \"train\" if train else \"val\")\n",
    "    os.makedirs(dset_path, exist_ok=True)\n",
    "    img_tr = transforms.ToPILImage()\n",
    "    total_classes = set()\n",
    "    idx = 0\n",
    "    for (img, label) in tqdm(data_loader, position=0, leave=True):\n",
    "        label = np.array(label)\n",
    "        if len(total_classes) < cfg[\"ds\"][1]:\n",
    "            label_classes = set(label)\n",
    "            new_classes = label_classes.difference(total_classes)\n",
    "            total_classes = total_classes.union(label_classes)\n",
    "            for i in new_classes:\n",
    "                class_path = os.path.join(dset_path, str(i))\n",
    "                os.makedirs(class_path, exist_ok=True)\n",
    "        \n",
    "        with tca.autocast():\n",
    "            act = model(img.to(cfg[\"device\"])).detach().cpu()\n",
    "        for j in range(len(img)):\n",
    "            idx +=1\n",
    "            vec = img_tr(act[j])\n",
    "            vec_label = label[j]\n",
    "            vec_path = os.path.join(dset_path, str(vec_label),str(idx) + \".jpg\")\n",
    "            vec.save(vec_path)"
   ]
  },
  {
   "cell_type": "code",
   "execution_count": 40,
   "id": "22eeab1e-a7ac-4c5b-b733-0e49f9a4c78b",
   "metadata": {},
   "outputs": [
    {
     "name": "stderr",
     "output_type": "stream",
     "text": [
      "100%|██████████| 782/782 [01:14<00:00, 10.50it/s]\n"
     ]
    }
   ],
   "source": [
    "save_reconstructions(cfg, train_loader, model_path, refAE, train=True, cladec=False)"
   ]
  },
  {
   "cell_type": "code",
   "execution_count": 61,
   "id": "ab1210a3-39d8-4813-bf2f-9f16f1cfafa5",
   "metadata": {},
   "outputs": [
    {
     "data": {
      "text/plain": [
       "tensor([[[0.2079, 0.2354, 0.2825,  ..., 0.2040, 0.2079, 0.2079],\n",
       "         [0.2274, 0.2588, 0.3059,  ..., 0.2079, 0.2079, 0.2079],\n",
       "         [0.2627, 0.2942, 0.3411,  ..., 0.2118, 0.2040, 0.2079],\n",
       "         ...,\n",
       "         [0.3726, 0.3804, 0.3921,  ..., 0.3921, 0.3647, 0.3452],\n",
       "         [0.3647, 0.3726, 0.3843,  ..., 0.3804, 0.3569, 0.3333],\n",
       "         [0.3608, 0.3647, 0.3765,  ..., 0.3726, 0.3452, 0.3254]],\n",
       "\n",
       "        [[0.1333, 0.1726, 0.2196,  ..., 0.1412, 0.1451, 0.1451],\n",
       "         [0.1647, 0.1960, 0.2393,  ..., 0.1451, 0.1451, 0.1451],\n",
       "         [0.2000, 0.2313, 0.2744,  ..., 0.1490, 0.1412, 0.1451],\n",
       "         ...,\n",
       "         [0.3254, 0.3333, 0.3452,  ..., 0.3254, 0.2981, 0.2783],\n",
       "         [0.3176, 0.3254, 0.3372,  ..., 0.3137, 0.2903, 0.2666],\n",
       "         [0.3137, 0.3176, 0.3293,  ..., 0.3059, 0.2783, 0.2588]],\n",
       "\n",
       "        [[0.0078, 0.0432, 0.0902,  ..., 0.0510, 0.0549, 0.0549],\n",
       "         [0.0353, 0.0667, 0.1216,  ..., 0.0549, 0.0549, 0.0549],\n",
       "         [0.0706, 0.1020, 0.1569,  ..., 0.0588, 0.0432, 0.0471],\n",
       "         ...,\n",
       "         [0.2235, 0.2313, 0.2510,  ..., 0.2157, 0.1882, 0.1686],\n",
       "         [0.2157, 0.2235, 0.2432,  ..., 0.2040, 0.1804, 0.1569],\n",
       "         [0.2118, 0.2157, 0.2274,  ..., 0.1960, 0.1686, 0.1490]]],\n",
       "       dtype=torch.float16)"
      ]
     },
     "execution_count": 61,
     "metadata": {},
     "output_type": "execute_result"
    }
   ],
   "source": [
    "torch.Tensor(vec).type(torch.float16)"
   ]
  },
  {
   "cell_type": "code",
   "execution_count": 78,
   "id": "4eb6ee1d-931b-4bb1-99c3-bff9ffa236db",
   "metadata": {},
   "outputs": [],
   "source": [
    "from torchvision.datasets.folder import DatasetFolder\n",
    "import torch\n",
    "from typing import Any, Callable, cast, Dict, List, Optional, Tuple\n",
    "import numpy as np\n",
    "\n",
    "class NumpyFolder(DatasetFolder):\n",
    "    def __init__(\n",
    "            self,\n",
    "            root: str,\n",
    "            transform: Optional[Callable] = None,\n",
    "            target_transform: Optional[Callable] = None,\n",
    "            loader: Callable[[str], Any] = np.load,\n",
    "            is_valid_file: Optional[Callable[[str], bool]] = None,):\n",
    "        super(NumpyFolder, self).__init__(root, loader, (\".npy\") if is_valid_file is None else None,\n",
    "                                          transform=transform,\n",
    "                                          target_transform=target_transform,\n",
    "                                          is_valid_file=is_valid_file)\n",
    "        \n",
    "    def __getitem__(self, index: int) -> Tuple[Any, Any]:\n",
    "        \"\"\"\n",
    "        Args:\n",
    "            index (int): Index\n",
    "\n",
    "        Returns:\n",
    "            tuple: (sample, target) where target is class_index of the target class.\n",
    "        \"\"\"\n",
    "        path, target = self.samples[index]\n",
    "        (img, act) = self.loader(path, allow_pickle=True)\n",
    "        img = torch.Tensor(img).type(torch.float16)\n",
    "        act = torch.Tensor(act).type(torch.float16)\n",
    "        if self.transform is not None:\n",
    "            sample = self.transform(sample)\n",
    "        if self.target_transform is not None:\n",
    "            target = self.target_transform(target)\n",
    "\n",
    "        return img, target, act"
   ]
  },
  {
   "cell_type": "code",
   "execution_count": 79,
   "id": "74068872-0119-410a-9073-cbc7f58ef197",
   "metadata": {},
   "outputs": [],
   "source": [
    "def getActs(cfg, model_path, train=True):\n",
    "    activations_path = os.path.join(model_path, \"activations_{}\".format(str(-1*cfg[\"layInd\"])), \"train\" if train else \"val\")\n",
    "    dset = NumpyFolder(root = activations_path)\n",
    "    return torch.utils.data.DataLoader(dset, batch_size=cfg[\"batchSize\"], shuffle=train,num_workers=4)\n"
   ]
  },
  {
   "cell_type": "code",
   "execution_count": 24,
   "id": "91ee947f-1310-4e19-9bc7-0ffba3ce9b9b",
   "metadata": {},
   "outputs": [],
   "source": [
    "import torchvision.transforms as transforms\n",
    "trainset = NumpyFolder(root = activations_path)"
   ]
  },
  {
   "cell_type": "code",
   "execution_count": 40,
   "id": "e891e428-6b14-410b-a150-1c5c7e1e9520",
   "metadata": {},
   "outputs": [],
   "source": [
    "loader = getActs(cfg, model_path)"
   ]
  },
  {
   "cell_type": "code",
   "execution_count": 19,
   "id": "60a993c0-3da8-4da1-8796-81b7fb96a834",
   "metadata": {},
   "outputs": [],
   "source": [
    "batch = trainset[0][0]"
   ]
  },
  {
   "cell_type": "code",
   "execution_count": 26,
   "id": "b3bafece-c6c9-4328-b372-109c2c44cb21",
   "metadata": {},
   "outputs": [],
   "source": [
    "a = next(iter(train_loader))"
   ]
  },
  {
   "cell_type": "code",
   "execution_count": null,
   "id": "a8359bd8-39d4-428a-8a10-b4f6497dc506",
   "metadata": {},
   "outputs": [],
   "source": [
    "cfg[\"batchSize\"]"
   ]
  },
  {
   "cell_type": "code",
   "execution_count": 81,
   "id": "a11ee807-83c8-404e-9087-2e66e0ccc5d8",
   "metadata": {},
   "outputs": [
    {
     "name": "stderr",
     "output_type": "stream",
     "text": [
      "100%|██████████| 782/782 [00:44<00:00, 17.76it/s]\n"
     ]
    }
   ],
   "source": [
    "for i in tqdm(train_loader):\n",
    "    continue"
   ]
  },
  {
   "cell_type": "code",
   "execution_count": 12,
   "id": "9fc9c91d-cd05-454b-a7b4-2968390b3b01",
   "metadata": {},
   "outputs": [
    {
     "name": "stderr",
     "output_type": "stream",
     "text": [
      "100%|██████████| 782/782 [01:14<00:00, 10.48it/s]\n",
      "100%|██████████| 79/79 [00:08<00:00,  9.72it/s]\n",
      "100%|██████████| 782/782 [01:13<00:00, 10.71it/s]\n",
      "100%|██████████| 79/79 [00:07<00:00, 10.09it/s]\n",
      "100%|██████████| 782/782 [01:05<00:00, 12.02it/s]\n",
      "100%|██████████| 79/79 [00:06<00:00, 11.39it/s]\n",
      "100%|██████████| 782/782 [01:03<00:00, 12.27it/s]\n",
      "100%|██████████| 79/79 [00:06<00:00, 11.58it/s]\n",
      "100%|██████████| 782/782 [01:03<00:00, 12.34it/s]\n",
      "100%|██████████| 79/79 [00:06<00:00, 11.64it/s]\n",
      "100%|██████████| 782/782 [01:02<00:00, 12.57it/s]\n",
      "100%|██████████| 79/79 [00:06<00:00, 12.64it/s]\n",
      "100%|██████████| 782/782 [01:04<00:00, 12.06it/s]\n",
      "100%|██████████| 79/79 [00:06<00:00, 11.99it/s]\n",
      "100%|██████████| 782/782 [01:02<00:00, 12.58it/s]\n",
      "100%|██████████| 79/79 [00:06<00:00, 12.61it/s]\n",
      "100%|██████████| 782/782 [01:03<00:00, 12.38it/s]\n",
      "100%|██████████| 79/79 [00:06<00:00, 12.16it/s]\n",
      "100%|██████████| 782/782 [01:00<00:00, 12.98it/s]\n",
      "100%|██████████| 79/79 [00:06<00:00, 12.55it/s]\n",
      "100%|██████████| 5/5 [12:01<00:00, 144.22s/it]\n"
     ]
    }
   ],
   "source": [
    "train_loader, val_loader,_, trainset, valset=dutils.getFullDS(cfg, reconstr=True)\n",
    "for i in tqdm(range(1,6)):\n",
    "    cfg[\"layInd\"] = -1*i\n",
    "    actModel = cladec.getActModel(cfg, classifier)\n",
    "    actModel.eval()\n",
    "    refAE = torch.load(os.path.join(model_path, \"refAE_\"+  str(i) + \".pt\"))\n",
    "    cladecNet = torch.load(os.path.join(model_path, \"cladecNet_\"+  str(i) + \".pt\"))\n",
    "    refAE.eval()\n",
    "    cladecNet.eval()\n",
    "    cladec_ae = torch.nn.Sequential(actModel, cladecNet)\n",
    "    cladec_ae.eval()\n",
    "    save_reconstructions(cfg, train_loader, model_path, refAE, train=True, cladec=False)\n",
    "    save_reconstructions(cfg, val_loader, model_path, refAE, train=False, cladec=False)\n",
    "    save_reconstructions(cfg, train_loader, model_path, cladec_ae, train=True, cladec=True)\n",
    "    save_reconstructions(cfg, val_loader, model_path, cladec_ae, train=False, cladec=True)"
   ]
  },
  {
   "cell_type": "code",
   "execution_count": 80,
   "id": "12889b99-70fa-4116-a0f2-1f77745661f4",
   "metadata": {},
   "outputs": [],
   "source": [
    "train_loader = getActs(cfg, model_path, train=True)"
   ]
  },
  {
   "cell_type": "code",
   "execution_count": null,
   "id": "926db281-c0e4-46cb-ab4e-700313f6d220",
   "metadata": {},
   "outputs": [],
   "source": [
    "cfg[\"layInd\"] = -1\n",
    "train_loader = getActs(cfg)"
   ]
  }
 ],
 "metadata": {
  "kernelspec": {
   "display_name": "Python 3",
   "language": "python",
   "name": "python3"
  },
  "language_info": {
   "codemirror_mode": {
    "name": "ipython",
    "version": 3
   },
   "file_extension": ".py",
   "mimetype": "text/x-python",
   "name": "python",
   "nbconvert_exporter": "python",
   "pygments_lexer": "ipython3",
   "version": "3.8.10"
  }
 },
 "nbformat": 4,
 "nbformat_minor": 5
}
