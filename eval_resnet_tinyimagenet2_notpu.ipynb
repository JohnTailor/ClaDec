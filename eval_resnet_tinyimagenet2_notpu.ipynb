{
 "cells": [
  {
   "cell_type": "code",
   "execution_count": null,
   "metadata": {
    "id": "sDX2cuB2KSpB"
   },
   "outputs": [],
   "source": []
  },
  {
   "cell_type": "code",
   "execution_count": 1,
   "metadata": {
    "colab": {
     "base_uri": "https://localhost:8080/"
    },
    "id": "3h_24XnYdlzz",
    "outputId": "31d3ac7b-764a-4738-b029-1b999a057915"
   },
   "outputs": [],
   "source": [
    "%load_ext autoreload\n",
    "%autoreload 2"
   ]
  },
  {
   "cell_type": "code",
   "execution_count": 5,
   "metadata": {
    "colab": {
     "base_uri": "https://localhost:8080/"
    },
    "id": "4tEg2glG-CnB",
    "outputId": "03bc38cb-15ff-4ffb-b3c7-4a22f4b4f8d3"
   },
   "outputs": [
    {
     "name": "stdout",
     "output_type": "stream",
     "text": [
      "Drive already mounted at /content/gdrive; to attempt to forcibly remount, call drive.mount(\"/content/gdrive\", force_remount=True).\n"
     ]
    }
   ],
   "source": [
    "from google.colab import drive\n",
    "drive.mount(\"/content/gdrive\")"
   ]
  },
  {
   "cell_type": "code",
   "execution_count": 2,
   "metadata": {
    "id": "qXPxQrYege-D"
   },
   "outputs": [],
   "source": [
    "import torchvision, torch\n",
    "import torchvision.transforms as transforms\n",
    "from torchvision.datasets import ImageFolder\n",
    "from torch.utils.data import Dataset, TensorDataset, DataLoader\n",
    "import numpy as np, sklearn\n",
    "import torch.nn.functional as F\n",
    "import os\n",
    "import requests\n",
    "import zipfile\n",
    "import io\n",
    "from shutil import copyfile\n",
    "\n",
    "from torchvision.transforms.transforms import CenterCrop, Resize\n",
    "\n",
    "\n",
    "gds = lambda dataset, cfg: torch.utils.data.DataLoader(\n",
    "    TensorDataset(*[torch.from_numpy(x) for x in dataset]), batch_size=cfg[\"batchSize\"]\n",
    ")\n",
    "\n",
    "\n",
    "def getnorm(dname):\n",
    "    if dname == \"Ci10\":\n",
    "        return (\n",
    "            torch.from_numpy(\n",
    "                np.array((0.4914, 0.4822, 0.4465), np.float32).reshape(1, 3, 1, 1)\n",
    "            ).cuda(),\n",
    "            torch.from_numpy(\n",
    "                np.array((0.2023, 0.1994, 0.2010), np.float32).reshape(1, 3, 1, 1)\n",
    "            ).cuda(),\n",
    "        )\n",
    "    elif dname == \"Ci100\":\n",
    "        return (\n",
    "            torch.from_numpy(\n",
    "                np.array((0.5060725, 0.48667726, 0.4421305), np.float32).reshape(\n",
    "                    1, 3, 1, 1\n",
    "                )\n",
    "            ).cuda(),\n",
    "            torch.from_numpy(\n",
    "                np.array((0.2675421, 0.25593522, 0.27593908), np.float32).reshape(\n",
    "                    1, 3, 1, 1\n",
    "                )\n",
    "            ).cuda(),\n",
    "        )\n",
    "    elif dname == \"Fash\":\n",
    "        return (\n",
    "            torch.from_numpy(np.array((0.281), np.float32).reshape(1, 1, 1, 1)).cuda(),\n",
    "            torch.from_numpy(np.array((0.352), np.float32).reshape(1, 1, 1, 1)).cuda(),\n",
    "        )\n",
    "    elif dname == \"MNIST\":\n",
    "        return (\n",
    "            torch.from_numpy(np.array((0.1307), np.float32).reshape(1, 1, 1, 1)).cuda(),\n",
    "            torch.from_numpy(np.array((0.3081), np.float32).reshape(1, 1, 1, 1)).cuda(),\n",
    "        )\n",
    "    elif dname == \"TinyImgNet\":\n",
    "        return (\n",
    "            torch.from_numpy(\n",
    "                np.array((0.4802, 0.4481, 0.3975), np.float32).reshape(3, 1, 1)\n",
    "            ),\n",
    "            torch.from_numpy(\n",
    "                np.array((0.2302, 0.2265, 0.2262), np.float32).reshape(3, 1, 1)\n",
    "            ),\n",
    "        )\n",
    "\n",
    "\n",
    "def getFullDS(cfg, reconstr=False):\n",
    "    dname = cfg[\"ds\"][0]\n",
    "    trans = transforms.Compose([transforms.ToTensor()])\n",
    "    refu = lambda x: F.interpolate(x.unsqueeze(0), size=64).squeeze(0)\n",
    "    if dname == \"Ci10\":\n",
    "        cdat = (\n",
    "            torchvision.datasets.CIFAR10\n",
    "        )  # transform = transforms.Compose([transforms.ToTensor(), transforms.Normalize((0.4914, 0.4822, 0.4465), (0.2023, 0.1994, 0.2010))]) #transform = transforms.Compose([transforms.ToTensor(), norm])\n",
    "        cfg[\"imCh\"] = 3\n",
    "    elif dname == \"Ci100\":\n",
    "        cdat = (\n",
    "            torchvision.datasets.CIFAR100\n",
    "        )  # transform = transforms.Compose([transforms.ToTensor(), transforms.Normalize((0.5, 0.5, 0.5), (0.5, 0.5, 0.5))])\n",
    "        cfg[\"imCh\"] = 3\n",
    "    elif dname == \"Fash\":\n",
    "        cdat = torchvision.datasets.FashionMNIST\n",
    "        # img = img - np.array([0.281])            img = img / np.array([0.352])\n",
    "        trans = transforms.Compose([transforms.ToTensor(), refu])\n",
    "        cfg[\"imCh\"] = 1\n",
    "    elif dname == \"MNIST\":\n",
    "        cdat = torchvision.datasets.MNIST\n",
    "        # trans = transforms.Compose([transforms.ToTensor(), refu, transforms.Normalize(0.1307,0.3081)])\n",
    "        trans = transforms.Compose([transforms.ToTensor(), refu])\n",
    "        cfg[\"imCh\"] = 1\n",
    "    elif dname == \"TinyImgNet\":\n",
    "        cdat = tinyImgNet\n",
    "        norm = getnorm(dname)\n",
    "        # gamma_corr = lambda img : transforms.functional.adjust_gamma(img, gamma=, float=)\n",
    "        # resize_tr = random.choice([transforms.RandomResizedCrop(56), transforms.CenterCrop(56)])\n",
    "        # aug_tr = random.choice([transforms.RandomHorizontalFlip(), transforms.RandomAffine(30, translate=10, scale = [0.8])])\n",
    "        # data_augs = [transforms.RandomResizedCrop(32), transforms.RandomCrop(32), transforms.RandomHorizontalFlip(), transforms.RandomRotation(45)]\n",
    "        train_trans = transforms.Compose(\n",
    "            [\n",
    "                transforms.ToTensor(),\n",
    "                #transforms.Normalize(mean=norm[0], std=norm[1]),\n",
    "                transforms.RandomResizedCrop(64),\n",
    "                # transforms.CenterCrop(56),\n",
    "                # transforms.Resize(32),\n",
    "                transforms.RandomHorizontalFlip(),\n",
    "            ]\n",
    "        )\n",
    "        val_trans = transforms.Compose(\n",
    "            [\n",
    "                transforms.ToTensor(),\n",
    "                # transforms.CenterCrop(56),\n",
    "                #transforms.Normalize(mean=norm[0], std=norm[1]),\n",
    "                # transforms.Resize(32)\n",
    "            ]\n",
    "        )\n",
    "        cfg[\"imCh\"] = 3\n",
    "\n",
    "    ntrain, down = cfg[\"ntrain\"], True\n",
    "    if dname == \"TinyImgNet\":\n",
    "        down = True\n",
    "        if reconstr == True:\n",
    "            trainset = cdat(\n",
    "                root=\"data/\",\n",
    "                train=True,\n",
    "                download=down,\n",
    "                transform=transforms.Compose([transforms.ToTensor()]),\n",
    "            )\n",
    "            valset = cdat(\n",
    "                root=\"data/\",\n",
    "                train=False,\n",
    "                download=down,\n",
    "                transform=transforms.Compose([transforms.ToTensor()]),\n",
    "            )\n",
    "\n",
    "        else:\n",
    "            trainset = cdat(\n",
    "                root=\"data/\", train=True, download=down, transform=train_trans\n",
    "            )\n",
    "            valset = cdat(root=\"data/\", train=False, download=down, transform=val_trans)\n",
    "        train_loader = DataLoader(\n",
    "            trainset, batch_size=cfg[\"batchSize\"], shuffle=True, num_workers=4\n",
    "        )\n",
    "        val_loader = DataLoader(\n",
    "            valset, batch_size=cfg[\"batchSize\"], shuffle=False, num_workers=4\n",
    "        )\n",
    "        return train_loader, val_loader, None, trainset, valset\n",
    "\n",
    "    def loadStore(isTrain, ndat):\n",
    "        nonlocal cdat\n",
    "        trainset = cdat(root=\"data/\", train=isTrain, download=down, transform=trans)\n",
    "        train_dataset = torch.utils.data.DataLoader(\n",
    "            trainset, batch_size=ndat, num_workers=4\n",
    "        )  # cfg[\"batchSize\"]\n",
    "        ds = next(iter(train_dataset))\n",
    "        X, Y = ds[0].clone().numpy(), ds[1].clone().numpy()\n",
    "        # normA = lambda bx: (bx - np.min(bx)) / (np.max(bx) - np.min(bx) + 1e-10)  # \"Normalizing - necessary if no BN\"\n",
    "        # X,Y = normA(X), normA(Y)\n",
    "        ds = [X, Y]\n",
    "        print(\n",
    "            \"Data stats\",\n",
    "            cdat,\n",
    "            X.shape,\n",
    "            np.mean(X, axis=(0, 2, 3)),\n",
    "            np.std(X, axis=(0, 2, 3)),\n",
    "            np.max(X),\n",
    "            np.min(X),\n",
    "            \" Data should be normalized\",\n",
    "        )\n",
    "        ds = sklearn.utils.shuffle(*ds)\n",
    "        return ds[0].astype(np.float16), ds[1].astype(np.int16)\n",
    "\n",
    "    trX, trY = loadStore(True, ntrain)\n",
    "    teX, teY = loadStore(False, ntrain // 2)\n",
    "\n",
    "    def cds(trX, trY, shuffle=True):\n",
    "        ds = TensorDataset(torch.from_numpy(trX), torch.from_numpy(trY))\n",
    "        return DataLoader(\n",
    "            ds, batch_size=cfg[\"batchSize\"], shuffle=shuffle, num_workers=4\n",
    "        )\n",
    "\n",
    "    return cds(trX, trY), cds(teX, teY, False), None\n",
    "\n",
    "\n",
    "def tinyImgNet(root: str, train: bool, download: bool, transform) -> Dataset:\n",
    "    filter_val = train and not download\n",
    "\n",
    "    if download:\n",
    "        os.makedirs(root, exist_ok=True)\n",
    "        r = requests.get(\n",
    "            \"http://cs231n.stanford.edu/tiny-imagenet-200.zip\", stream=True\n",
    "        )\n",
    "        z = zipfile.ZipFile(io.BytesIO(r.content))\n",
    "        z.extractall(root)\n",
    "\n",
    "    main_dir_path = os.path.join(root, \"tiny-imagenet-200\")\n",
    "    train_path = os.path.join(main_dir_path, \"train\")\n",
    "    val_path = os.path.join(main_dir_path, \"val\")\n",
    "    if not (os.path.exists(train_path) and os.path.exists(val_path)):\n",
    "        raise ValueError(\"Train and Val paths don't exist\")\n",
    "\n",
    "    val_formatted = os.path.join(main_dir_path, \"val_formatted\")\n",
    "    if not filter_val and not os.path.exists(val_formatted):\n",
    "        with open(os.path.join(val_path, \"val_annotations.txt\"), \"r\") as f:\n",
    "            img_class_map = f.readlines()\n",
    "        for img_class in img_class_map:\n",
    "            img_name, class_name = img_class.split(\"\\t\")[0], img_class.split(\"\\t\")[1]\n",
    "            img_path = os.path.join(\"images\", img_name)\n",
    "            class_dir = os.path.join(val_formatted, class_name)\n",
    "            os.makedirs(os.path.join(class_dir, \"images\"), exist_ok=True)\n",
    "            copyfile(\n",
    "                os.path.join(val_path, img_path), os.path.join(class_dir, img_path)\n",
    "            )\n",
    "    if train:\n",
    "        return ImageFolder(train_path, transform)\n",
    "    else:\n",
    "        return ImageFolder(val_formatted, transform)\n"
   ]
  },
  {
   "cell_type": "code",
   "execution_count": 3,
   "metadata": {
    "id": "cl2zN8eGigd_"
   },
   "outputs": [],
   "source": [
    "import numpy as np\n",
    "import torch\n",
    "import torch.nn as nn\n",
    "import torch.optim as optim\n",
    "import torch.cuda.amp as tca\n",
    "from tqdm import tqdm\n",
    "\n",
    "from torch import nn\n",
    "\n",
    "def conv3x3(in_planes, out_planes, stride=1, bias=False):\n",
    "  \"\"\"3x3 convolution with padding\"\"\"\n",
    "  return nn.Conv2d(in_planes, out_planes, kernel_size=3, stride=stride,\n",
    "                   padding=1, bias=bias)\n",
    "\n",
    "def variable_init(m, neg_slope=0.0):\n",
    "  if isinstance(m, (nn.Linear, nn.Conv2d)):\n",
    "    nn.init.kaiming_uniform_(m.weight.data, neg_slope)\n",
    "    if m.bias is not None:\n",
    "      m.bias.data.zero_()\n",
    "  elif isinstance(m, nn.BatchNorm2d):\n",
    "    if m.weight is not None:\n",
    "      m.weight.data.fill_(1)\n",
    "    if m.bias is not None:\n",
    "      m.bias.data.zero_()\n",
    "    m.running_mean.zero_()\n",
    "    m.running_var.zero_()\n",
    "\n",
    "class PlusMinusOne(object):\n",
    "  \"\"\" Scales values that are between [0, 1] into [-1, 1]. \"\"\"\n",
    "  \n",
    "  def __init__(self):\n",
    "    pass\n",
    "\n",
    "  def __call__(self, x):\n",
    "    x = 2.0 * x - 1.0\n",
    "    return x    \n",
    "\n",
    "def _down_sample(x):\n",
    "  return nn.functional.avg_pool2d(x, 2, 2)\n",
    "\n",
    "def _increase_planes(x, n_out_planes):\n",
    "  n_samples, n_planes, spatial_size = x.size()[:-1]\n",
    "  x_zeros = torch.zeros(\n",
    "    n_samples, n_out_planes - n_planes, spatial_size, spatial_size, \n",
    "    dtype=x.dtype, device=x.device)\n",
    "  return torch.cat([x, x_zeros], 1)\n",
    "\n",
    "def _downsample_and_increase_planes(x, n_out_planes):\n",
    "  x = _down_sample(x)\n",
    "  x = _increase_planes(x, n_out_planes)\n",
    "  return x\n",
    "\n",
    "def identity_func(n_in_planes, n_out_planes, stride):\n",
    "  identity = lambda x: x\n",
    "  if stride == 2 and n_in_planes != n_out_planes:\n",
    "    identity = lambda x: _downsample_and_increase_planes(x, n_out_planes)\n",
    "  elif stride == 2:\n",
    "    identity = _down_sample\n",
    "  elif n_in_planes != n_out_planes:\n",
    "    identity = lambda x: _increase_planes(x, n_out_planes)\n",
    "  return identity\n",
    "\n",
    "class BasicBlock(nn.Module):\n",
    "\n",
    "  expansion = 1\n",
    "\n",
    "  def __init__(self, n_in_planes, n_out_planes, stride=1):\n",
    "    super().__init__()\n",
    "    assert stride == 1 or stride == 2\n",
    "\n",
    "    self.block = nn.Sequential(\n",
    "      conv3x3(n_in_planes, n_out_planes, stride),\n",
    "      nn.BatchNorm2d(n_out_planes),\n",
    "      nn.ReLU(inplace=True),\n",
    "      conv3x3(n_out_planes, n_out_planes),\n",
    "      nn.BatchNorm2d(n_out_planes)\n",
    "    )\n",
    "\n",
    "    self.identity = identity_func(n_in_planes, n_out_planes, stride)\n",
    "\n",
    "  def forward(self, x):\n",
    "    out = self.block(x)\n",
    "    identity = self.identity(x)\n",
    "\n",
    "    out += identity\n",
    "    out = nn.functional.relu(out)\n",
    "    return out\n",
    "\n",
    "class Bottleneck(nn.Module):\n",
    "\n",
    "  expansion = 4\n",
    "\n",
    "  def __init__(self, n_in_planes, n_out_planes, stride=1):\n",
    "    super().__init__()\n",
    "    \n",
    "    self.conv1 = nn.Conv2d(n_in_planes, n_out_planes, kernel_size=1)\n",
    "    self.bn1 = nn.BatchNorm2d(n_out_planes)\n",
    "\n",
    "    self.conv2 = conv3x3(n_out_planes, n_out_planes, stride)\n",
    "    self.bn2 = nn.BatchNorm2d(n_out_planes)\n",
    "\n",
    "    self.conv3 = nn.Conv2d(n_out_planes, n_out_planes * 4, kernel_size=1)\n",
    "    self.bn3 = nn.BatchNorm2d(n_out_planes * 4)\n",
    "\n",
    "    self.relu = nn.ReLU(inplace=True)\n",
    "    self.identity = identity_func(n_in_planes, n_out_planes * 4, stride)\n",
    "\n",
    "  def forward(self, x):\n",
    "    out = self.conv1(x)\n",
    "    out = self.bn1(out)\n",
    "    out = self.relu(out)\n",
    "\n",
    "    out = self.conv2(out)\n",
    "    out = self.bn2(out)\n",
    "    out = self.relu(out)\n",
    "\n",
    "    out = self.conv3(out)\n",
    "    out = self.bn3(out)\n",
    "\n",
    "    identity = self.identity(x)\n",
    "    out += identity\n",
    "    out = self.relu(out)\n",
    "\n",
    "    return out\n",
    "\n",
    "class ResNet(nn.Module):\n",
    "\n",
    "  def __init__(self, block, \n",
    "                     n_blocks, \n",
    "                     n_output_planes, \n",
    "                     n_classes,\n",
    "                     inch):\n",
    "    super(ResNet, self).__init__()\n",
    "    assert len(n_blocks) == 4\n",
    "    assert len(n_output_planes) == 4\n",
    "    \n",
    "    self.n_in_planes = n_output_planes[0]\n",
    "\n",
    "    self.layer0 = nn.Sequential(\n",
    "      conv3x3(inch, self.n_in_planes),\n",
    "      nn.BatchNorm2d(self.n_in_planes),\n",
    "      nn.ReLU(inplace=True)\n",
    "    )\n",
    "    self.layer1 = self._make_layer(block, n_blocks[0], n_output_planes[0])\n",
    "    self.layer2 = self._make_layer(block, n_blocks[1], n_output_planes[1], 2)\n",
    "    self.layer3 = self._make_layer(block, n_blocks[2], n_output_planes[2], 2)\n",
    "    self.layer4 = self._make_layer(block, n_blocks[3], n_output_planes[3], 2)\n",
    "    self.fc = nn.Linear(n_output_planes[3] * block.expansion, n_classes, False)\n",
    "\n",
    "    self.apply(variable_init)\n",
    "\n",
    "  def _make_layer(self, block, n_blocks, n_out_planes, stride=1):\n",
    "    layers = []\n",
    "    layers.append(block(self.n_in_planes, n_out_planes, stride))\n",
    "    self.n_in_planes = n_out_planes * block.expansion\n",
    "    for i in range(1, n_blocks):\n",
    "      layers.append(block(self.n_in_planes, n_out_planes))\n",
    "\n",
    "    return nn.Sequential(*layers)\n",
    "\n",
    "  def features(self, x):\n",
    "    x = self.layer0(x)\n",
    "    x = self.layer1(x)\n",
    "    x = self.layer2(x)\n",
    "    x = self.layer3(x)\n",
    "    x = self.layer4(x)\n",
    "    spatial_size = x.size(2)\n",
    "    x = nn.functional.avg_pool2d(x, spatial_size, 1)\n",
    "    x = x.view(x.size(0), -1)\n",
    "    return x\n",
    "\n",
    "  def forward(self, x):\n",
    "    x = self.features(x)\n",
    "    x = self.fc(x)\n",
    "    return x\n",
    "\n",
    "def ResNet10(**kwargs):\n",
    "  return ResNet(BasicBlock, [1,1,1,1], **kwargs)\n",
    "\n",
    "def ResNet18(**kwargs):\n",
    "  return ResNet(BasicBlock, [2,2,2,2], **kwargs)\n",
    "\n",
    "def ResNet34(**kwargs):\n",
    "  return ResNet(BasicBlock, [3,4,6,3], **kwargs)\n",
    "\n",
    "def ResNet50(**kwargs):\n",
    "  return ResNet(Bottleneck, [3,4,6,3], **kwargs)\n",
    "\n",
    "\n",
    "def decay(opt,epoch,optimizerCl):\n",
    "    if opt[0] == \"S\" and (epoch + 1) % (opt[1] // 3+opt[1]//10+2 ) == 0:\n",
    "        for p in optimizerCl.param_groups: p['lr'] *= 0.1\n",
    "        #print(\"  D\", np.round(optimizerCl.param_groups[0]['lr'],5))\n",
    "\n",
    "def getAcc(net, dataset,  niter=10000,norm=None):\n",
    "    correct,total = 0,0\n",
    "    net.eval()\n",
    "    with torch.no_grad():\n",
    "        for cit,data in enumerate(dataset):\n",
    "            with tca.autocast():\n",
    "                dsx,dsy = data[0].cuda(),data[1].cuda()\n",
    "                if len(dsx.size()) == 5:\n",
    "                    dsx = dsx.squeeze(0)\n",
    "                    dsy = dsy.squeeze(0)\n",
    "                total += dsy.size(0)\n",
    "                outputs = net(dsx.float())\n",
    "                _, predicted = torch.max(outputs.data, 1)\n",
    "                correct += torch.eq(predicted, dsy).sum().item()\n",
    "                if cit>=niter: break\n",
    "    return correct/total\n",
    "\n",
    "\n",
    "def getclassifier(cfg,train_dataset,val_dataset,norm=None):\n",
    "\n",
    "    netCl=ResNet10(n_classes = cfg[\"ds\"][1], n_output_planes = [64, 128, 256, 512], inch = cfg[\"imCh\"]).cuda()\n",
    "    # if cfg[\"ds\"][0] == \"TinyImgNet\":\n",
    "    #     optimizerCl = optim.Adam(netCl.parameters(), lr=cfg[\"opt\"][2], weight_decay=cfg[\"opt\"][3])\n",
    "    # else:\n",
    "    #     optimizerCl = optim.SGD(netCl.parameters(), lr=cfg[\"opt\"][2], momentum=0.9, weight_decay=cfg[\"opt\"][3])\n",
    "    optimizerCl = optim.SGD(netCl.parameters(), lr=cfg[\"opt\"][2], momentum=0.9, weight_decay=cfg[\"opt\"][3])\n",
    "    closs,teaccs,trep,loss,clr = 0,[],cfg[\"opt\"][1],nn.CrossEntropyLoss(), cfg[\"opt\"][2]\n",
    "    print(\"Train Classifier to explain\")\n",
    "    scaler = tca.GradScaler()\n",
    "    teAccs,trAccs=[],[]\n",
    "    clAcc = lambda dataset: getAcc(netCl, dataset,  niter=1e10,norm=norm)\n",
    "    for epoch in tqdm(range(trep)):\n",
    "        netCl.train()\n",
    "        for i, data in enumerate(tqdm(train_dataset, position=0, leave=True)):\n",
    "          with tca.autocast():\n",
    "            optimizerCl.zero_grad()\n",
    "            dsx = data[0]\n",
    "            dsx,dsy = dsx.cuda(),data[1].cuda()\n",
    "            if len(dsx.size()) == 5:\n",
    "                dsx = dsx.squeeze(0)\n",
    "                dsy = dsy.squeeze(0)\n",
    "            output = netCl(dsx.float())\n",
    "            errD_real = loss(output, dsy.long())\n",
    "            scaler.scale(errD_real).backward()\n",
    "            scaler.step(optimizerCl)\n",
    "            scaler.update()\n",
    "            closs = 0.97 * closs + 0.03 * errD_real.item() if i > 20 else 0.8 * closs + 0.2 * errD_real.item()\n",
    "        decay(cfg[\"opt\"],epoch,optimizerCl)\n",
    "        netCl.eval()\n",
    "        teAccs.append(clAcc(val_dataset))\n",
    "        if (epoch % 4 == 0 and epoch<=13) or (epoch % 20==0 and epoch>13):\n",
    "            print(epoch, np.round(np.array([closs, teAccs[-1], clAcc(train_dataset)]), 5))\n",
    "    lcfg = {\"testAcc\": clAcc(val_dataset), \"trainAcc\": clAcc(train_dataset)}\n",
    "    netCl.eval()\n",
    "    return netCl, lcfg"
   ]
  },
  {
   "cell_type": "code",
   "execution_count": 4,
   "metadata": {
    "id": "0sFhT_vJ4fHX"
   },
   "outputs": [],
   "source": [
    "import numpy as np\n",
    "import torch.cuda.amp as tca\n",
    "import torch\n",
    "from torch import nn\n",
    "import pdb\n",
    "from tqdm import tqdm\n",
    "import torchvision.transforms as transforms\n",
    "\n",
    "\n",
    "class ClaDecNet(nn.Module):\n",
    "    def __init__(self, cfg, inShape, nFea):\n",
    "        super(ClaDecNet, self).__init__()\n",
    "        self.channel_mult = int(64)\n",
    "        self.expLinLay = len(inShape) == 2  # linear layer...\n",
    "        dim = 64 if self.expLinLay else 64 // int(inShape[-1])  # dimension of input\n",
    "        self.input_dim = np.prod(inShape[1:])\n",
    "        self.inFea = inShape[-2] if not self.expLinLay else 1\n",
    "        nLay = int(np.round(np.log2(dim) - 2))\n",
    "        # Use batchnorm or bias? LeakyRelu or Relu   -->  Does not make much of a difference\n",
    "        # bn,bias = lambda x:  nn.BatchNorm2d(x),False\n",
    "        # rel =lambda x:  nn.LeakyReLU(0.01)\n",
    "        bn, bias = lambda x: nn.Identity(), True\n",
    "        rel = lambda x: nn.ReLU()\n",
    "\n",
    "        if (\n",
    "            self.inFea == 1\n",
    "        ):  # There is no spatial dimension (or it is one) -> use a dense layer as the first layer\n",
    "            self.useDense = True\n",
    "            self.fc_output_dim = max(\n",
    "                self.input_dim, self.channel_mult\n",
    "            )  # number of input features\n",
    "            self.fc = nn.Sequential(\n",
    "                nn.Linear(self.input_dim, self.fc_output_dim), nn.ReLU(True)\n",
    "            )  # , nn.BatchNorm1d(self.fc_output_dim)\n",
    "        else:  # The spatial extend is larger one, use a conv layer, otherwise have too many parameters\n",
    "            self.fc_output_dim = inShape[1]  # number of input features\n",
    "            self.fc = nn.Sequential(\n",
    "                nn.Conv2d(inShape[1], inShape[1], 3, stride=1, padding=1, bias=bias),\n",
    "                nn.ReLU(True),\n",
    "            )  # , nn.BatchNorm1d(self.fc_output_dim)\n",
    "            self.useDense = False\n",
    "        temp_nLay = 0\n",
    "        if nLay < 0:\n",
    "            temp_nLay = nLay\n",
    "            nLay = 0\n",
    "\n",
    "        self.deconv = [\n",
    "            nn.ConvTranspose2d(\n",
    "                self.fc_output_dim,\n",
    "                int(self.channel_mult * (2 ** nLay)),\n",
    "                4,\n",
    "                stride=2,\n",
    "                padding=1,\n",
    "                bias=bias,\n",
    "            ),\n",
    "            bn(int(self.channel_mult * (2 ** nLay))),\n",
    "            rel(None),\n",
    "        ]\n",
    "        if temp_nLay < 0:\n",
    "            self.deconv.append(nn.MaxPool2d((2,2), stride=2))\n",
    "        for j in range(nLay, 0, -1):\n",
    "            self.deconv += [\n",
    "                nn.ConvTranspose2d(\n",
    "                    int(self.channel_mult * (2 ** j)),\n",
    "                    int(self.channel_mult * (2 ** (j - 1))),\n",
    "                    4,\n",
    "                    stride=2,\n",
    "                    padding=1,\n",
    "                    bias=bias,\n",
    "                ),\n",
    "                bn(self.channel_mult * (2 ** (j - 1))),\n",
    "                rel(None),\n",
    "            ]\n",
    "        self.deconv.append(\n",
    "            nn.ConvTranspose2d(\n",
    "                self.channel_mult * 1, nFea, 4, stride=2, padding=1, bias=True\n",
    "            )\n",
    "        )\n",
    "        if temp_nLay < -1:\n",
    "            self.deconv.append(nn.MaxPool2d((2,2), stride=2))\n",
    "        self.deconv = nn.Sequential(*self.deconv)\n",
    "        self.sig = nn.Sigmoid()\n",
    "\n",
    "    def forward(self, x):\n",
    "        if self.useDense:\n",
    "            x = x.view(-1, self.input_dim)\n",
    "            x = self.fc(x)\n",
    "            x = x.view(-1, self.fc_output_dim, self.inFea, self.inFea)\n",
    "        else:\n",
    "            x = self.fc(x)\n",
    "        x = self.deconv(x)\n",
    "        x = self.sig(\n",
    "            x\n",
    "        )  # This sometimes gives better visualization, but you need to take care to standardize inputs as well\n",
    "        return x\n",
    "\n",
    "\n",
    "def getClaDec(cfg, netCl, norm, train_dataset):\n",
    "    alpha = cfg[\"alpha\"]\n",
    "    closs, cclloss, crloss, teaccs, trep, clloss, clr = (\n",
    "        0,\n",
    "        0,\n",
    "        0,\n",
    "        [],\n",
    "        cfg[\"opt\"][1],\n",
    "        nn.CrossEntropyLoss(),\n",
    "        cfg[\"opt\"][2],\n",
    "    )\n",
    "    print(\"Train CLaDec\")\n",
    "    scaler = tca.GradScaler()\n",
    "    d = next(iter(train_dataset))\n",
    "    netDec = ClaDecNet(cfg, d[2].squeeze(0).shape, cfg[\"imCh\"]).cuda()\n",
    "    netDec.train()\n",
    "    netCl.train()\n",
    "    optimizerCl = torch.optim.Adam(netDec.parameters(), lr=0.0003, weight_decay=1e-5)\n",
    "    aeloss = nn.MSELoss()\n",
    "    ulo = (\n",
    "        lambda closs, totloss, i: 0.97 * closs + 0.03 * totloss.item()\n",
    "        if epoch > 20\n",
    "        else 0.8 * closs + 0.2 * totloss.item()\n",
    "    )\n",
    "    for epoch in tqdm(range(trep)):\n",
    "        for i, data in enumerate(train_dataset):\n",
    "            with tca.autocast():\n",
    "                optimizerCl.zero_grad()\n",
    "                if cfg[\"ds\"][0] == \"TinyImgNet\":\n",
    "                    dsx, dsy, dsact = (\n",
    "                        data[0].squeeze(0).cuda(),\n",
    "                        data[1].squeeze(0).cuda(),\n",
    "                        data[2].squeeze(0).cuda(),\n",
    "                    )\n",
    "                else:\n",
    "                    dsx, dsy, dsact = data[0].cuda(), data[1].cuda(), data[2].cuda()\n",
    "                output = netDec(dsact.float())\n",
    "                recloss = aeloss(output, dsx)\n",
    "                if cfg[\"ds\"][0] == \"TinyImgNet\":\n",
    "                    norm = getnorm(\"TinyImgNet\")\n",
    "                    transform = transforms.Compose(\n",
    "                        [\n",
    "                            transforms.Normalize(mean=norm[0], std=norm[1]),\n",
    "                            transforms.RandomResizedCrop(64),\n",
    "                            transforms.RandomHorizontalFlip(),\n",
    "                        ]\n",
    "                    )\n",
    "                    claloss = clloss(netCl(transform(output)), dsy.long())\n",
    "                else:\n",
    "                    claloss = clloss(netCl(output), dsy.long())\n",
    "                totloss = (1 - alpha) * recloss + alpha * claloss\n",
    "                scaler.scale(totloss).backward()\n",
    "                scaler.step(optimizerCl)\n",
    "                scaler.update()\n",
    "                closs, cclloss, crloss = (\n",
    "                    ulo(closs, totloss, epoch),\n",
    "                    ulo(cclloss, claloss, epoch),\n",
    "                    ulo(crloss, recloss, epoch),\n",
    "                )\n",
    "\n",
    "        decay(cfg[\"opt\"], epoch, optimizerCl)\n",
    "        if (epoch % 2 == 0 and epoch <= 10) or (epoch % 10 == 0 and epoch > 10):\n",
    "            print(epoch, np.round(np.array([closs, crloss, cclloss]), 5))\n",
    "\n",
    "    lcfg = {\"ClaLo\": closs}\n",
    "    netDec.eval()\n",
    "    return netDec, lcfg\n",
    "\n",
    "\n",
    "def getActModel(cfg, classifier):\n",
    "    ind = cfg[\"layInd\"]\n",
    "    actModel = nn.Sequential(*list(classifier.children())[:ind])\n",
    "    actModel.eval()\n",
    "    return actModel\n",
    "\n",
    "\n",
    "class RefAE(nn.Module):\n",
    "    def __init__(self, cfg, inShape):\n",
    "        super(RefAE, self).__init__()\n",
    "        self.cladec = ClaDecNet(cfg, inShape, cfg[\"imCh\"])\n",
    "        self.cladec.train()\n",
    "        cla = ResNet10(n_classes = cfg[\"ds\"][1], n_output_planes = [64, 128, 256, 512], inch = cfg[\"imCh\"]).cuda()\n",
    "        actModel = getActModel(cfg, cla)\n",
    "        actModel.train()\n",
    "        self.seq = nn.Sequential(actModel, self.cladec)\n",
    "\n",
    "    def forward(self, x):\n",
    "        return self.seq(x)\n",
    "\n",
    "\n",
    "def getRefAE(cfg, acts, train_dataset):\n",
    "    closs, teaccs, trep, clloss, clr = (\n",
    "        0,\n",
    "        [],\n",
    "        cfg[\"opt\"][1],\n",
    "        nn.CrossEntropyLoss(),\n",
    "        cfg[\"opt\"][2],\n",
    "    )\n",
    "    print(\"Train RefAE\")\n",
    "    scaler = tca.GradScaler()\n",
    "    d = next(iter(acts))\n",
    "    netDec = RefAE(cfg, d[2].squeeze(0).shape).cuda()\n",
    "    netDec.train()\n",
    "    optimizerCl = torch.optim.Adam(netDec.parameters(), lr=0.0003, weight_decay=1e-5)\n",
    "    aeloss = nn.MSELoss()\n",
    "    ulo = (\n",
    "        lambda closs, totloss, i: 0.97 * closs + 0.03 * totloss.item()\n",
    "        if epoch > 20\n",
    "        else 0.8 * closs + 0.2 * totloss.item()\n",
    "    )\n",
    "    for epoch in tqdm(range(trep)):\n",
    "        for i, data in enumerate(train_dataset):\n",
    "            with tca.autocast():\n",
    "                # optimizerCl.zero_grad()\n",
    "                # if cfg[\"ds\"][0] == \"TinyImgNet\":\n",
    "                #     dsx = data[0].squeeze(0).cuda()\n",
    "                # else:\n",
    "                #     dsx = data[0].cuda()\n",
    "                dsx = data[0].cuda()\n",
    "                output = netDec(dsx.float())\n",
    "                recloss = aeloss(output, dsx)\n",
    "                scaler.scale(recloss).backward()\n",
    "                scaler.step(optimizerCl)\n",
    "                scaler.update()\n",
    "                closs = ulo(closs, recloss, epoch)\n",
    "\n",
    "        decay(cfg[\"opt\"], epoch, optimizerCl)\n",
    "        if (epoch % 2 == 0 and epoch <= 10) or (epoch % 10 == 0 and epoch > 10):\n",
    "            print(epoch, np.round(np.array([closs]), 5))\n",
    "\n",
    "    lcfg = {\"RefAELo\": closs}\n",
    "    netDec.eval()\n",
    "    return netDec, lcfg\n"
   ]
  },
  {
   "cell_type": "code",
   "execution_count": 5,
   "metadata": {
    "id": "e2f1WIQ54nIN"
   },
   "outputs": [],
   "source": [
    "import torch\n",
    "from torch.utils.data import TensorDataset, Dataset, IterableDataset\n",
    "import numpy as np,os\n",
    "import torch.cuda.amp as tca\n",
    "from matplotlib import pyplot as plt\n",
    "import pdb\n",
    "from tqdm import tqdm\n",
    "class LargeActDataset(IterableDataset):\n",
    "    def __init__(self, orig_loader, act_model, device):\n",
    "        super(LargeActDataset, self).__init__()\n",
    "        self.orig_loader = orig_loader\n",
    "        self.act_model = act_model\n",
    "        self.device = device\n",
    "\n",
    "\n",
    "    def __iter__(self) :\n",
    "        for (img, label) in self.orig_loader:\n",
    "            with torch.no_grad():\n",
    "                with tca.autocast():\n",
    "                    act = self.act_model(img.to(self.device)).detach().cpu()\n",
    "            yield (img.detach().cpu(), label, act)\n",
    "\n",
    "def getActs(ds,actModel,cfg):\n",
    "    dsact = LargeActDataset(ds, actModel, cfg[\"device\"])\n",
    "    return torch.utils.data.DataLoader(dsact, \n",
    "                                       batch_size=1)\n",
    "import torchvision.transforms as transforms\n",
    "\n",
    "class LargeReconstrDataset(IterableDataset):\n",
    "    def __init__(self, orig_loader, model, device, train):\n",
    "        super(LargeReconstrDataset, self).__init__()\n",
    "        self.orig_loader = orig_loader\n",
    "        self.model = model\n",
    "        self.device = device\n",
    "        norm = getnorm(\"TinyImgNet\")\n",
    "        tr_list = [transforms.Normalize(mean = norm[0], std=norm[1])]\n",
    "        if train:\n",
    "            tr_list.append(transforms.RandomResizedCrop(64))\n",
    "            tr_list.append(transforms.RandomHorizontalFlip())\n",
    "            \n",
    "        self.transform = transforms.Compose(tr_list)\n",
    "\n",
    "    def __iter__(self) :\n",
    "        for (img, label) in self.orig_loader:\n",
    "            with torch.no_grad():\n",
    "                with tca.autocast():\n",
    "                    reconstr = self.model(img.to(self.device)).detach().cpu()\n",
    "                reconstr = self.transform(reconstr)\n",
    "            yield (reconstr, label)\n",
    "\n",
    "def getReconstr(ds,model,cfg, train):\n",
    "    dsact = LargeReconstrDataset(ds, model, cfg[\"device\"], train)\n",
    "    return torch.utils.data.DataLoader(dsact, batch_size=1)\n",
    "\n",
    "def getReconstrDS(acts_ds,refAE,cladecNet):\n",
    "    cladec_loss, refae_loss = 0, 0\n",
    "    for i, data in enumerate(tqdm(acts_ds, position=0, leave=True)):\n",
    "        #if i > 2: break\n",
    "        with tca.autocast():\n",
    "            with torch.no_grad():\n",
    "                dsx, dsact = data[0].cuda(), data[2].cuda()\n",
    "                if len(dsx.size()) == 5:\n",
    "                    dsx = dsx.squeeze(0)\n",
    "                    dsact = dsact.squeeze(0)\n",
    "                outCla = cladecNet(dsact).detach().cpu().float()\n",
    "                outAE = refAE(dsx).detach().cpu().float()\n",
    "                dsx = dsx.detach().squeeze().cpu().float()\n",
    "                cladec_loss += (outCla - dsx).pow(2).mean()\n",
    "                refae_loss += (outAE - dsx).pow(2).mean()\n",
    "    \n",
    "    \n",
    "    refae_loss = refae_loss/i\n",
    "    cladec_loss = cladec_loss/i\n",
    "    return cladec_loss, refae_loss\n",
    "        #X=torch.cat(X,dim=0)\n",
    "        #y=torch.cat(y, dim=0)\n",
    "        #dsact=TensorDataset(X,y,conacts)\n",
    "        #return torch.utils.data.DataLoader(dsact, batch_size=cfg[\"batchSize\"], shuffle=True, num_workers=4)\n",
    "\n"
   ]
  },
  {
   "cell_type": "code",
   "execution_count": 6,
   "metadata": {
    "colab": {
     "base_uri": "https://localhost:8080/"
    },
    "id": "IOPfBQf_4use",
    "outputId": "98da4eb8-4306-4f4f-839c-d33679ecfd9c"
   },
   "outputs": [
    {
     "name": "stdout",
     "output_type": "stream",
     "text": [
      "Executing config {'ds': ('TinyImgNet', 200), 'batchSize': 128, 'opt': ('S', 60, 0.1, 0.0001), 'layInd': -1, 'alpha': 1e-06, 'ntrain': 100000}\n"
     ]
    }
   ],
   "source": [
    "dummy=False\n",
    "#dummy = True\n",
    "#cfg={ 'ds': ('Fash', 10),  #Dataset either  ('Ci100', 100) or ('Ci10', 10)\n",
    "#      'batchSize': 128, 'opt': ('S', 1 if dummy else 64, 0.1, 0.0001), #optimizer settings\n",
    "#      'layInd':-1, #Layer to explain (from last layer back, ie. -1 is last (linear), -2 is last conv, -3 second last conv)\n",
    "#      'alpha': 0.001, #tradeoff parameter reconstruction vs. classification loss\n",
    "#      'ntrain': 500 if dummy else 60000}\n",
    "cfg={ 'ds': ('TinyImgNet', 200),  #Dataset either  ('Ci100', 100) or ('Ci10', 10)\n",
    "    'batchSize': 128, 'opt': ('S', 1 if dummy else 60, 0.1, 0.0001), #optimizer settings\n",
    "    'layInd':-1, #Layer to explain (from last layer back, ie. -1 is last (linear), -2 is last conv, -3 second last conv)\n",
    "    'alpha': 1e-6, #tradeoff parameter reconstruction vs. classification loss\n",
    "    'ntrain': 500 if dummy else 100000}\n",
    "print(\"Executing config\",cfg)\n",
    "cfg[\"num_classes\"]=cfg[\"ds\"][1]\n",
    "cfg[\"imCh\"] = 3"
   ]
  },
  {
   "cell_type": "code",
   "execution_count": 7,
   "metadata": {
    "colab": {
     "base_uri": "https://localhost:8080/"
    },
    "id": "2RSbzvyiMMxo",
    "outputId": "9dd6ca42-ea39-4e86-f97a-5c96fa798a96"
   },
   "outputs": [
    {
     "name": "stdout",
     "output_type": "stream",
     "text": [
      "Get dataset\n"
     ]
    }
   ],
   "source": [
    "#Get Data\n",
    "print(\"Get dataset\")\n",
    "train_loader, val_loader,_, trainset, valset=getFullDS(cfg)\n"
   ]
  },
  {
   "cell_type": "code",
   "execution_count": 8,
   "metadata": {
    "id": "d2-jqGXi-Tfn"
   },
   "outputs": [],
   "source": [
    "model_path = \"trained_models/resnet/TinyImgNet_final/TinyImgNet_final\"\n",
    "import os\n",
    "os.makedirs(model_path, exist_ok=True)"
   ]
  },
  {
   "cell_type": "code",
   "execution_count": null,
   "metadata": {
    "id": "toUmp-Fs_q_5"
   },
   "outputs": [],
   "source": []
  },
  {
   "cell_type": "code",
   "execution_count": null,
   "metadata": {
    "id": "Pa5omGjUKSAU"
   },
   "outputs": [],
   "source": []
  },
  {
   "cell_type": "code",
   "execution_count": null,
   "metadata": {
    "colab": {
     "base_uri": "https://localhost:8080/"
    },
    "id": "hZUhQiZ64-RP",
    "outputId": "25fad421-b428-4596-a8dd-731ec270f61d"
   },
   "outputs": [
    {
     "name": "stderr",
     "output_type": "stream",
     "text": [
      "\n",
      "  0%|          | 0/782 [00:00<?, ?it/s]"
     ]
    },
    {
     "name": "stdout",
     "output_type": "stream",
     "text": [
      "Train Classifier to explain\n"
     ]
    },
    {
     "name": "stderr",
     "output_type": "stream",
     "text": [
      "100%|█████████▉| 781/782 [01:43<00:00,  7.59it/s]\n",
      "100%|██████████| 782/782 [01:43<00:00,  7.55it/s]\n",
      "  0%|          | 0/782 [00:00<?, ?it/s]"
     ]
    },
    {
     "name": "stdout",
     "output_type": "stream",
     "text": [
      "0 [4.36983 0.0996  0.09154]\n"
     ]
    },
    {
     "name": "stderr",
     "output_type": "stream",
     "text": [
      "100%|██████████| 782/782 [01:43<00:00,  7.54it/s]\n",
      "100%|██████████| 782/782 [01:43<00:00,  7.54it/s]\n",
      "100%|██████████| 782/782 [01:43<00:00,  7.53it/s]\n",
      "100%|██████████| 782/782 [01:43<00:00,  7.54it/s]\n",
      "  0%|          | 0/782 [00:00<?, ?it/s]"
     ]
    },
    {
     "name": "stdout",
     "output_type": "stream",
     "text": [
      "4 [3.2829  0.2594  0.24107]\n"
     ]
    },
    {
     "name": "stderr",
     "output_type": "stream",
     "text": [
      "100%|██████████| 782/782 [01:43<00:00,  7.54it/s]\n",
      "100%|██████████| 782/782 [01:43<00:00,  7.53it/s]\n",
      "100%|██████████| 782/782 [01:43<00:00,  7.53it/s]\n",
      "100%|██████████| 782/782 [01:43<00:00,  7.54it/s]\n",
      "  0%|          | 0/782 [00:00<?, ?it/s]"
     ]
    },
    {
     "name": "stdout",
     "output_type": "stream",
     "text": [
      "8 [2.87909 0.3666  0.32524]\n"
     ]
    },
    {
     "name": "stderr",
     "output_type": "stream",
     "text": [
      "100%|██████████| 782/782 [01:43<00:00,  7.54it/s]\n",
      "100%|██████████| 782/782 [01:43<00:00,  7.54it/s]\n",
      "100%|██████████| 782/782 [01:43<00:00,  7.54it/s]\n",
      "100%|██████████| 782/782 [01:43<00:00,  7.54it/s]\n",
      "  0%|          | 0/782 [00:00<?, ?it/s]"
     ]
    },
    {
     "name": "stdout",
     "output_type": "stream",
     "text": [
      "12 [2.69262 0.3757  0.35682]\n"
     ]
    },
    {
     "name": "stderr",
     "output_type": "stream",
     "text": [
      "100%|██████████| 782/782 [01:43<00:00,  7.54it/s]\n",
      "100%|██████████| 782/782 [01:43<00:00,  7.54it/s]\n",
      "100%|██████████| 782/782 [01:43<00:00,  7.53it/s]\n",
      "100%|██████████| 782/782 [01:43<00:00,  7.54it/s]\n",
      "100%|██████████| 782/782 [01:43<00:00,  7.54it/s]\n",
      "100%|██████████| 782/782 [01:43<00:00,  7.53it/s]\n",
      "100%|██████████| 782/782 [01:43<00:00,  7.53it/s]\n",
      "100%|██████████| 782/782 [01:43<00:00,  7.54it/s]\n",
      "  0%|          | 0/782 [00:00<?, ?it/s]"
     ]
    },
    {
     "name": "stdout",
     "output_type": "stream",
     "text": [
      "20 [2.44002 0.4234  0.4226 ]\n"
     ]
    },
    {
     "name": "stderr",
     "output_type": "stream",
     "text": [
      "100%|██████████| 782/782 [01:43<00:00,  7.53it/s]\n",
      "100%|██████████| 782/782 [01:43<00:00,  7.54it/s]\n",
      "100%|██████████| 782/782 [01:43<00:00,  7.54it/s]\n",
      "100%|██████████| 782/782 [01:43<00:00,  7.53it/s]\n",
      "100%|██████████| 782/782 [01:43<00:00,  7.54it/s]\n",
      "100%|██████████| 782/782 [01:43<00:00,  7.53it/s]\n",
      "100%|██████████| 782/782 [01:43<00:00,  7.53it/s]\n",
      "100%|██████████| 782/782 [01:43<00:00,  7.54it/s]\n",
      "100%|██████████| 782/782 [01:43<00:00,  7.53it/s]\n",
      "100%|██████████| 782/782 [01:43<00:00,  7.53it/s]\n",
      "100%|██████████| 782/782 [01:43<00:00,  7.53it/s]\n",
      "100%|██████████| 782/782 [01:43<00:00,  7.53it/s]\n",
      "100%|██████████| 782/782 [01:43<00:00,  7.53it/s]\n",
      "100%|██████████| 782/782 [01:43<00:00,  7.54it/s]\n",
      "100%|██████████| 782/782 [01:43<00:00,  7.53it/s]\n",
      "100%|██████████| 782/782 [01:43<00:00,  7.53it/s]\n",
      "100%|██████████| 782/782 [01:43<00:00,  7.54it/s]\n",
      "100%|██████████| 782/782 [01:43<00:00,  7.53it/s]\n",
      "100%|██████████| 782/782 [01:43<00:00,  7.53it/s]\n",
      "100%|██████████| 782/782 [01:43<00:00,  7.53it/s]\n",
      "  0%|          | 0/782 [00:00<?, ?it/s]"
     ]
    },
    {
     "name": "stdout",
     "output_type": "stream",
     "text": [
      "40 [1.68699 0.5474  0.60789]\n"
     ]
    },
    {
     "name": "stderr",
     "output_type": "stream",
     "text": [
      "100%|██████████| 782/782 [01:43<00:00,  7.53it/s]\n",
      "100%|██████████| 782/782 [01:43<00:00,  7.54it/s]\n",
      "100%|██████████| 782/782 [01:43<00:00,  7.53it/s]\n",
      "100%|██████████| 782/782 [01:43<00:00,  7.53it/s]\n",
      "100%|██████████| 782/782 [01:43<00:00,  7.53it/s]\n",
      "100%|██████████| 782/782 [01:43<00:00,  7.54it/s]\n",
      "100%|██████████| 782/782 [01:43<00:00,  7.53it/s]\n",
      "100%|██████████| 782/782 [01:43<00:00,  7.54it/s]\n",
      "100%|██████████| 782/782 [01:43<00:00,  7.53it/s]\n",
      "100%|██████████| 782/782 [01:43<00:00,  7.54it/s]\n",
      "100%|██████████| 782/782 [01:43<00:00,  7.53it/s]\n",
      "100%|██████████| 782/782 [01:43<00:00,  7.53it/s]\n",
      "100%|██████████| 782/782 [01:43<00:00,  7.53it/s]\n",
      "100%|██████████| 782/782 [01:43<00:00,  7.54it/s]\n",
      "100%|██████████| 782/782 [01:43<00:00,  7.54it/s]\n",
      "100%|██████████| 782/782 [01:43<00:00,  7.54it/s]\n",
      "100%|██████████| 782/782 [01:43<00:00,  7.54it/s]\n",
      "100%|██████████| 782/782 [01:43<00:00,  7.54it/s]\n",
      "100%|██████████| 782/782 [01:43<00:00,  7.54it/s]\n",
      "100%|██████████| 60/60 [1:51:15<00:00, 111.26s/it]\n"
     ]
    },
    {
     "name": "stdout",
     "output_type": "stream",
     "text": [
      "Classifier Accuracy {'testAcc': 0.5657, 'trainAcc': 0.66517}\n",
      "CPU times: user 1h 49min 55s, sys: 2min 21s, total: 1h 52min 17s\n",
      "Wall time: 1h 51min 56s\n"
     ]
    }
   ],
   "source": [
    "%%time\n",
    "# Train and save non-reflective Model\n",
    "cfg[\"opt\"] = ('S', 1 if dummy else 60, 0.1, 0.0001)\n",
    "\n",
    "classifier, lcfg = getclassifier(cfg,  train_loader, val_loader, norm=None)\n",
    "print(\"Classifier Accuracy\",lcfg)\n",
    "torch.save(classifier.state_dict(), os.path.join(model_path, \"classifier.pt\"))"
   ]
  },
  {
   "cell_type": "code",
   "execution_count": null,
   "metadata": {
    "id": "nb5uC7TwFdlm"
   },
   "outputs": [],
   "source": [
    "children = list(classifier.children())"
   ]
  },
  {
   "cell_type": "code",
   "execution_count": 10,
   "metadata": {
    "colab": {
     "base_uri": "https://localhost:8080/"
    },
    "id": "V4EVpQutLnXf",
    "outputId": "b2a96217-47b8-404b-ca0f-a4cbad483ae8"
   },
   "outputs": [
    {
     "data": {
      "text/plain": [
       "ResNet(\n",
       "  (layer0): Sequential(\n",
       "    (0): Conv2d(3, 64, kernel_size=(3, 3), stride=(1, 1), padding=(1, 1), bias=False)\n",
       "    (1): BatchNorm2d(64, eps=1e-05, momentum=0.1, affine=True, track_running_stats=True)\n",
       "    (2): ReLU(inplace=True)\n",
       "  )\n",
       "  (layer1): Sequential(\n",
       "    (0): BasicBlock(\n",
       "      (block): Sequential(\n",
       "        (0): Conv2d(64, 64, kernel_size=(3, 3), stride=(1, 1), padding=(1, 1), bias=False)\n",
       "        (1): BatchNorm2d(64, eps=1e-05, momentum=0.1, affine=True, track_running_stats=True)\n",
       "        (2): ReLU(inplace=True)\n",
       "        (3): Conv2d(64, 64, kernel_size=(3, 3), stride=(1, 1), padding=(1, 1), bias=False)\n",
       "        (4): BatchNorm2d(64, eps=1e-05, momentum=0.1, affine=True, track_running_stats=True)\n",
       "      )\n",
       "    )\n",
       "  )\n",
       "  (layer2): Sequential(\n",
       "    (0): BasicBlock(\n",
       "      (block): Sequential(\n",
       "        (0): Conv2d(64, 128, kernel_size=(3, 3), stride=(2, 2), padding=(1, 1), bias=False)\n",
       "        (1): BatchNorm2d(128, eps=1e-05, momentum=0.1, affine=True, track_running_stats=True)\n",
       "        (2): ReLU(inplace=True)\n",
       "        (3): Conv2d(128, 128, kernel_size=(3, 3), stride=(1, 1), padding=(1, 1), bias=False)\n",
       "        (4): BatchNorm2d(128, eps=1e-05, momentum=0.1, affine=True, track_running_stats=True)\n",
       "      )\n",
       "    )\n",
       "  )\n",
       "  (layer3): Sequential(\n",
       "    (0): BasicBlock(\n",
       "      (block): Sequential(\n",
       "        (0): Conv2d(128, 256, kernel_size=(3, 3), stride=(2, 2), padding=(1, 1), bias=False)\n",
       "        (1): BatchNorm2d(256, eps=1e-05, momentum=0.1, affine=True, track_running_stats=True)\n",
       "        (2): ReLU(inplace=True)\n",
       "        (3): Conv2d(256, 256, kernel_size=(3, 3), stride=(1, 1), padding=(1, 1), bias=False)\n",
       "        (4): BatchNorm2d(256, eps=1e-05, momentum=0.1, affine=True, track_running_stats=True)\n",
       "      )\n",
       "    )\n",
       "  )\n",
       "  (layer4): Sequential(\n",
       "    (0): BasicBlock(\n",
       "      (block): Sequential(\n",
       "        (0): Conv2d(256, 512, kernel_size=(3, 3), stride=(2, 2), padding=(1, 1), bias=False)\n",
       "        (1): BatchNorm2d(512, eps=1e-05, momentum=0.1, affine=True, track_running_stats=True)\n",
       "        (2): ReLU(inplace=True)\n",
       "        (3): Conv2d(512, 512, kernel_size=(3, 3), stride=(1, 1), padding=(1, 1), bias=False)\n",
       "        (4): BatchNorm2d(512, eps=1e-05, momentum=0.1, affine=True, track_running_stats=True)\n",
       "      )\n",
       "    )\n",
       "  )\n",
       "  (fc): Linear(in_features=512, out_features=200, bias=False)\n",
       ")"
      ]
     },
     "execution_count": 10,
     "metadata": {},
     "output_type": "execute_result"
    }
   ],
   "source": [
    "classifier = ResNet10(n_classes = cfg[\"ds\"][1], n_output_planes = [64, 128, 256, 512], inch = cfg[\"imCh\"]).cuda()\n",
    "classifier.load_state_dict(torch.load(os.path.join(model_path, \"classifier.pt\")))\n",
    "classifier.eval()"
   ]
  },
  {
   "cell_type": "code",
   "execution_count": null,
   "metadata": {
    "id": "LaCPwDGHFdof"
   },
   "outputs": [],
   "source": []
  },
  {
   "cell_type": "code",
   "execution_count": 11,
   "metadata": {
    "colab": {
     "base_uri": "https://localhost:8080/"
    },
    "id": "1CaWV_FFFdrN",
    "outputId": "2d393371-4b95-4fd0-d6e4-de0b46c6662c"
   },
   "outputs": [
    {
     "data": {
      "text/plain": [
       "ResNet(\n",
       "  (layer0): Sequential(\n",
       "    (0): Conv2d(3, 64, kernel_size=(3, 3), stride=(1, 1), padding=(1, 1), bias=False)\n",
       "    (1): BatchNorm2d(64, eps=1e-05, momentum=0.1, affine=True, track_running_stats=True)\n",
       "    (2): ReLU(inplace=True)\n",
       "  )\n",
       "  (layer1): Sequential(\n",
       "    (0): BasicBlock(\n",
       "      (block): Sequential(\n",
       "        (0): Conv2d(64, 64, kernel_size=(3, 3), stride=(1, 1), padding=(1, 1), bias=False)\n",
       "        (1): BatchNorm2d(64, eps=1e-05, momentum=0.1, affine=True, track_running_stats=True)\n",
       "        (2): ReLU(inplace=True)\n",
       "        (3): Conv2d(64, 64, kernel_size=(3, 3), stride=(1, 1), padding=(1, 1), bias=False)\n",
       "        (4): BatchNorm2d(64, eps=1e-05, momentum=0.1, affine=True, track_running_stats=True)\n",
       "      )\n",
       "    )\n",
       "  )\n",
       "  (layer2): Sequential(\n",
       "    (0): BasicBlock(\n",
       "      (block): Sequential(\n",
       "        (0): Conv2d(64, 128, kernel_size=(3, 3), stride=(2, 2), padding=(1, 1), bias=False)\n",
       "        (1): BatchNorm2d(128, eps=1e-05, momentum=0.1, affine=True, track_running_stats=True)\n",
       "        (2): ReLU(inplace=True)\n",
       "        (3): Conv2d(128, 128, kernel_size=(3, 3), stride=(1, 1), padding=(1, 1), bias=False)\n",
       "        (4): BatchNorm2d(128, eps=1e-05, momentum=0.1, affine=True, track_running_stats=True)\n",
       "      )\n",
       "    )\n",
       "  )\n",
       "  (layer3): Sequential(\n",
       "    (0): BasicBlock(\n",
       "      (block): Sequential(\n",
       "        (0): Conv2d(128, 256, kernel_size=(3, 3), stride=(2, 2), padding=(1, 1), bias=False)\n",
       "        (1): BatchNorm2d(256, eps=1e-05, momentum=0.1, affine=True, track_running_stats=True)\n",
       "        (2): ReLU(inplace=True)\n",
       "        (3): Conv2d(256, 256, kernel_size=(3, 3), stride=(1, 1), padding=(1, 1), bias=False)\n",
       "        (4): BatchNorm2d(256, eps=1e-05, momentum=0.1, affine=True, track_running_stats=True)\n",
       "      )\n",
       "    )\n",
       "  )\n",
       "  (layer4): Sequential(\n",
       "    (0): BasicBlock(\n",
       "      (block): Sequential(\n",
       "        (0): Conv2d(256, 512, kernel_size=(3, 3), stride=(2, 2), padding=(1, 1), bias=False)\n",
       "        (1): BatchNorm2d(512, eps=1e-05, momentum=0.1, affine=True, track_running_stats=True)\n",
       "        (2): ReLU(inplace=True)\n",
       "        (3): Conv2d(512, 512, kernel_size=(3, 3), stride=(1, 1), padding=(1, 1), bias=False)\n",
       "        (4): BatchNorm2d(512, eps=1e-05, momentum=0.1, affine=True, track_running_stats=True)\n",
       "      )\n",
       "    )\n",
       "  )\n",
       "  (fc): Linear(in_features=512, out_features=200, bias=False)\n",
       ")"
      ]
     },
     "execution_count": 11,
     "metadata": {},
     "output_type": "execute_result"
    }
   ],
   "source": [
    "_, val_loader,_, _, _=getFullDS(cfg, reconstr=True)\n",
    "classifier.eval()\n"
   ]
  },
  {
   "cell_type": "code",
   "execution_count": 14,
   "metadata": {
    "id": "yu7_E11WFd7W"
   },
   "outputs": [],
   "source": [
    "import torch\n",
    "import numpy as np\n",
    "from torchvision.datasets import ImageFolder\n",
    "import torchvision.transforms as transforms\n",
    "from PIL import Image\n",
    "\n",
    "\n",
    "def save_reconstructions(cfg, data_loader, model_path, model, train=True, cladec=True):\n",
    "    rec_path = os.path.join(model_path, \"rec_cladec\" if cladec else \"rec_refae\", \"reconstructions_{}\".format(str(-1*cfg[\"layInd\"])))\n",
    "    os.makedirs(rec_path, exist_ok = True)\n",
    "    dset_path = os.path.join(rec_path, \"train\" if train else \"val\")\n",
    "    os.makedirs(dset_path, exist_ok=True)\n",
    "    img_tr = transforms.ToPILImage()\n",
    "    total_classes = set()\n",
    "    idx = 0\n",
    "    for (img, label) in tqdm(data_loader, position=0, leave=True):\n",
    "        label = np.array(label)\n",
    "        if len(total_classes) < cfg[\"ds\"][1]:\n",
    "            label_classes = set(label)\n",
    "            new_classes = label_classes.difference(total_classes)\n",
    "            total_classes = total_classes.union(label_classes)\n",
    "            for i in new_classes:\n",
    "                class_path = os.path.join(dset_path, str(i))\n",
    "                os.makedirs(class_path, exist_ok=True)\n",
    "        \n",
    "        with tca.autocast():\n",
    "            act = model(img.to(cfg[\"device\"])).detach().cpu()\n",
    "        for j in range(len(img)):\n",
    "            idx +=1\n",
    "            vec = img_tr(act[j])\n",
    "            vec_label = label[j]\n",
    "            vec_path = os.path.join(dset_path, str(vec_label),str(idx) + \".jpg\")\n",
    "            vec.save(vec_path)"
   ]
  },
  {
   "cell_type": "code",
   "execution_count": 16,
   "metadata": {
    "id": "1g4Ex5gFWYqd"
   },
   "outputs": [],
   "source": [
    "cfg[\"device\"] = torch.device(\"cuda:0\")"
   ]
  },
  {
   "cell_type": "code",
   "execution_count": null,
   "metadata": {
    "colab": {
     "base_uri": "https://localhost:8080/"
    },
    "id": "hDSqk6vhWYs0",
    "outputId": "90649f2c-c46e-4186-fcf2-86f8320da8e6"
   },
   "outputs": [
    {
     "name": "stderr",
     "output_type": "stream",
     "text": [
      " 19%|█▊        | 145/782 [01:47<07:43,  1.38it/s]"
     ]
    }
   ],
   "source": [
    "for i in tqdm(range(1,2)):\n",
    "    cfg[\"layInd\"] = -1*i\n",
    "    actModel = getActModel(cfg, classifier)\n",
    "    actModel.eval()\n",
    "    trds=getActs(train_loader,actModel,cfg)\n",
    "\n",
    "    d = next(iter(trds))\n",
    "    refAE = RefAE(cfg, d[2].squeeze(0).shape).cuda()\n",
    "    refAE.load_state_dict(torch.load(os.path.join(model_path, \"refAE_\"+  str(i) + \".pt\")))\n",
    "    cladecNet = ClaDecNet(cfg, d[2].squeeze(0).shape, cfg[\"imCh\"]).cuda()\n",
    "\n",
    "    cladecNet.load_state_dict(torch.load(os.path.join(model_path, \"cladecNet_\"+  str(i) + \".pt\")))\n",
    "    refAE.eval()\n",
    "    cladecNet.eval()\n",
    "    cladec_ae = torch.nn.Sequential(actModel, cladecNet)\n",
    "    cladec_ae.eval()\n",
    "    #save_reconstructions(cfg, train_loader, model_path, refAE, train=True, cladec=False)\n",
    "    #save_reconstructions(cfg, val_loader, model_path, refAE, train=False, cladec=False)\n",
    "    save_reconstructions(cfg, train_loader, model_path, cladec_ae, train=True, cladec=True)\n",
    "    save_reconstructions(cfg, val_loader, model_path, cladec_ae, train=False, cladec=True)"
   ]
  },
  {
   "cell_type": "code",
   "execution_count": null,
   "metadata": {
    "id": "p_91pi8yWYvp"
   },
   "outputs": [],
   "source": []
  },
  {
   "cell_type": "code",
   "execution_count": null,
   "metadata": {
    "id": "CmUf792yrf76"
   },
   "outputs": [],
   "source": [
    "from torch.utils.data import DataLoader\n",
    "from torchvision.datasets import ImageFolder\n",
    "import torchvision.transforms as transforms\n",
    "\n",
    "def getReconstr(cfg, model_path, cladec=True, train=True):\n",
    "    rec_path = os.path.join(model_path, \"rec_cladec\" if cladec else \"rec_refae\", \"reconstructions_{}\".format(str(-1*cfg[\"layInd\"])),\"train\" if train else \"val\")\n",
    "    if train:\n",
    "        transform = transforms.Compose([transforms.ToTensor(), transforms.RandomResizedCrop(64), transforms.RandomHorizontalFlip()])\n",
    "    else:\n",
    "        transform = transforms.ToTensor()\n",
    "    ds_reconstr = ImageFolder(rec_path, transform = transform)\n",
    "    return torch.utils.data.DataLoader(ds_reconstr, batch_size=cfg[\"batchSize\"], shuffle=train, num_workers = 4)\n"
   ]
  },
  {
   "cell_type": "code",
   "execution_count": null,
   "metadata": {
    "colab": {
     "base_uri": "https://localhost:8080/"
    },
    "id": "2c9oiMh1p-5J",
    "outputId": "00eef26d-2d9c-4599-a84a-1d3375399e7c"
   },
   "outputs": [
    {
     "data": {
      "text/plain": [
       "torch.Size([1, 128, 128, 32, 32])"
      ]
     },
     "execution_count": 58,
     "metadata": {
      "tags": []
     },
     "output_type": "execute_result"
    }
   ],
   "source": []
  },
  {
   "cell_type": "code",
   "execution_count": null,
   "metadata": {
    "colab": {
     "base_uri": "https://localhost:8080/"
    },
    "id": "Qyh55Wcmp-7m",
    "outputId": "8e5b00d4-525f-404b-8c67-442548914f26"
   },
   "outputs": [
    {
     "data": {
      "text/plain": [
       "RefAE(\n",
       "  (cladec): ClaDecNet(\n",
       "    (fc): Sequential(\n",
       "      (0): Conv2d(64, 64, kernel_size=(3, 3), stride=(1, 1), padding=(1, 1))\n",
       "      (1): ReLU(inplace=True)\n",
       "    )\n",
       "    (deconv): Sequential(\n",
       "      (0): ConvTranspose2d(64, 64, kernel_size=(4, 4), stride=(2, 2), padding=(1, 1))\n",
       "      (1): Identity()\n",
       "      (2): ReLU()\n",
       "      (3): ConvTranspose2d(64, 3, kernel_size=(4, 4), stride=(2, 2), padding=(1, 1))\n",
       "      (4): MaxPool2d(kernel_size=(2, 2), stride=2, padding=0, dilation=1, ceil_mode=False)\n",
       "    )\n",
       "    (sig): Sigmoid()\n",
       "  )\n",
       "  (seq): Sequential(\n",
       "    (0): Sequential(\n",
       "      (0): Sequential(\n",
       "        (0): Conv2d(3, 64, kernel_size=(3, 3), stride=(1, 1), padding=(1, 1), bias=False)\n",
       "        (1): BatchNorm2d(64, eps=1e-05, momentum=0.1, affine=True, track_running_stats=True)\n",
       "        (2): ReLU(inplace=True)\n",
       "      )\n",
       "      (1): Sequential(\n",
       "        (0): BasicBlock(\n",
       "          (block): Sequential(\n",
       "            (0): Conv2d(64, 64, kernel_size=(3, 3), stride=(1, 1), padding=(1, 1), bias=False)\n",
       "            (1): BatchNorm2d(64, eps=1e-05, momentum=0.1, affine=True, track_running_stats=True)\n",
       "            (2): ReLU(inplace=True)\n",
       "            (3): Conv2d(64, 64, kernel_size=(3, 3), stride=(1, 1), padding=(1, 1), bias=False)\n",
       "            (4): BatchNorm2d(64, eps=1e-05, momentum=0.1, affine=True, track_running_stats=True)\n",
       "          )\n",
       "        )\n",
       "      )\n",
       "    )\n",
       "    (1): ClaDecNet(\n",
       "      (fc): Sequential(\n",
       "        (0): Conv2d(64, 64, kernel_size=(3, 3), stride=(1, 1), padding=(1, 1))\n",
       "        (1): ReLU(inplace=True)\n",
       "      )\n",
       "      (deconv): Sequential(\n",
       "        (0): ConvTranspose2d(64, 64, kernel_size=(4, 4), stride=(2, 2), padding=(1, 1))\n",
       "        (1): Identity()\n",
       "        (2): ReLU()\n",
       "        (3): ConvTranspose2d(64, 3, kernel_size=(4, 4), stride=(2, 2), padding=(1, 1))\n",
       "        (4): MaxPool2d(kernel_size=(2, 2), stride=2, padding=0, dilation=1, ceil_mode=False)\n",
       "      )\n",
       "      (sig): Sigmoid()\n",
       "    )\n",
       "  )\n",
       ")"
      ]
     },
     "execution_count": 76,
     "metadata": {
      "tags": []
     },
     "output_type": "execute_result"
    }
   ],
   "source": [
    "refae"
   ]
  },
  {
   "cell_type": "code",
   "execution_count": null,
   "metadata": {
    "id": "Hwh7Tv2fp--Y"
   },
   "outputs": [],
   "source": []
  },
  {
   "cell_type": "code",
   "execution_count": null,
   "metadata": {
    "id": "586CzeDyAiN-"
   },
   "outputs": [],
   "source": [
    "cfg[\"device\"] = torch.device(\"cuda:0\")\n",
    "ae_train_loss_list = []\n",
    "ae_val_loss_list = []\n",
    "cladec_train_loss_list = []\n",
    "cladec_val_loss_list = []\n",
    "cladec_val_acc = []\n",
    "refae_val_acc = []\n",
    "\n",
    "for i in range(1, 2):\n",
    "    refae_path = os.path.join(model_path, \"refAE_{}.pt\".format(str(i)))\n",
    "    cladec_path = os.path.join(model_path, \"cladecNet_{}.pt\".format(str(i)))\n",
    "    cfg[\"layInd\"] = -1*i\n",
    "    #get Activations\n",
    "    actModel = getActModel(cfg, classifier)\n",
    "    actModel.eval()\n",
    "    trds=getActs(train_loader,actModel,cfg)\n",
    "\n",
    "    if i > 4:\n",
    "        refAE,rcfg = getRefAE(cfg,trds, train_loader) #Does not use activations themselves, only needs shape\n",
    "        print(rcfg)\n",
    "        torch.save(refAE.state_dict(), refae_path)\n",
    "\n",
    "    # Train ClaDec\n",
    "    cladecNet,ccfg=  getClaDec(cfg,classifier,None,trds)\n",
    "    print(\"ClaDec Final loss\", ccfg)\n",
    "    torch.save(cladecNet.state_dict(), cladec_path)\n",
    "\n",
    "    # refAE.eval()\n",
    "    # cladecNet.eval()\n",
    "    # actModel.eval()\n",
    "    \n",
    "    # train_acts = getActs(train_loader, actModel, cfg)\n",
    "    # val_acts = getActs(val_loader, actModel, cfg)\n",
    "    \n",
    "    # cladec_train = getReconstr(train_loader, torch.nn.Sequential(actModel, cladecNet),cfg, train=True)\n",
    "    # refae_train = getReconstr(train_loader, refAE,cfg, train=True)\n",
    "    # cladec_train_loss, refae_train_loss = getReconstrDS(train_acts, refAE, cladecNet)\n",
    "    # cladec_val= getReconstr(val_loader, torch.nn.Sequential(actModel, cladecNet),cfg, train=False)\n",
    "    # refae_val = getReconstr(val_loader, refAE,cfg, train=False)\n",
    "    # cladec_val_loss, refae_val_loss = getReconstrDS(train_acts, refAE, cladecNet)\n",
    "    \n",
    "    # ae_train_loss_list.append(refae_train_loss)\n",
    "    # ae_val_loss_list.append(refae_val_loss)\n",
    "    # cladec_train_loss_list.append(cladec_train_loss)\n",
    "    # cladec_val_loss_list.append(cladec_val_loss)\n",
    "\n",
    "    \n",
    "    # clf_cladec, lcfg_cladec = getclassifier(cfg,  cladec_train, cladec_val, norm=None)\n",
    "    # cladec_val_acc.append(lcfg_cladec[\"testAcc\"])\n",
    "    # torch.save(clf_cladec.state_dict(),os.path.join(model_path,\"clf_cladec_\" + str(i) + \".pt\"))\n",
    "    # clf_ae, lcfg_ae = getclassifier(cfg,  refae_train, refae_val, norm=None)\n",
    "    # refae_val_acc.append(lcfg_ae[\"testAcc\"])\n",
    "    # torch.save(clf_ae.state_dict(),os.path.join(model_path,\"clf_ae_\" + str(i) + \".pt\"))\n",
    "    # torch.save({\"cladec_train_loss\" : cladec_train_loss_list, \"cladec_val_loss\": cladec_val_loss_list, \"cladec_val_acc\" : cladec_val_acc}, os.path.join(model_path,\"cladec_metrics_{}.pt\".format(str(i))))\n",
    "    # torch.save({\"ae_train_loss\" : ae_train_loss_list, \"ae_val_loss\": ae_val_loss_list, \"ae_val_acc\" : refae_val_acc}, os.path.join(model_path,\"ae_metrics_{}.pt\".format(str(i))))\n",
    "\n",
    "\n",
    "\n"
   ]
  },
  {
   "cell_type": "code",
   "execution_count": null,
   "metadata": {
    "id": "JTZO6HjDQaAt"
   },
   "outputs": [],
   "source": [
    "import torch"
   ]
  },
  {
   "cell_type": "code",
   "execution_count": 39,
   "metadata": {
    "colab": {
     "base_uri": "https://localhost:8080/",
     "height": 418
    },
    "id": "w07ZmWBWnPgN",
    "outputId": "b1be45b1-0d30-4084-dfd5-b914b47d7afe"
   },
   "outputs": [
    {
     "name": "stderr",
     "output_type": "stream",
     "text": [
      "\n",
      "  0%|          | 0/1 [00:00<?, ?it/s]\n"
     ]
    },
    {
     "ename": "FileNotFoundError",
     "evalue": "ignored",
     "output_type": "error",
     "traceback": [
      "\u001b[0;31m---------------------------------------------------------------------------\u001b[0m",
      "\u001b[0;31mFileNotFoundError\u001b[0m                         Traceback (most recent call last)",
      "\u001b[0;32m<ipython-input-39-97576ada294f>\u001b[0m in \u001b[0;36m<module>\u001b[0;34m()\u001b[0m\n\u001b[1;32m     28\u001b[0m     \u001b[0md\u001b[0m \u001b[0;34m=\u001b[0m \u001b[0mnext\u001b[0m\u001b[0;34m(\u001b[0m\u001b[0miter\u001b[0m\u001b[0;34m(\u001b[0m\u001b[0mtrds\u001b[0m\u001b[0;34m)\u001b[0m\u001b[0;34m)\u001b[0m\u001b[0;34m\u001b[0m\u001b[0;34m\u001b[0m\u001b[0m\n\u001b[1;32m     29\u001b[0m     \u001b[0mrefAE\u001b[0m \u001b[0;34m=\u001b[0m \u001b[0mRefAE\u001b[0m\u001b[0;34m(\u001b[0m\u001b[0mcfg\u001b[0m\u001b[0;34m,\u001b[0m \u001b[0md\u001b[0m\u001b[0;34m[\u001b[0m\u001b[0;36m2\u001b[0m\u001b[0;34m]\u001b[0m\u001b[0;34m.\u001b[0m\u001b[0msqueeze\u001b[0m\u001b[0;34m(\u001b[0m\u001b[0;36m0\u001b[0m\u001b[0;34m)\u001b[0m\u001b[0;34m.\u001b[0m\u001b[0mshape\u001b[0m\u001b[0;34m)\u001b[0m\u001b[0;34m.\u001b[0m\u001b[0mcuda\u001b[0m\u001b[0;34m(\u001b[0m\u001b[0;34m)\u001b[0m\u001b[0;34m\u001b[0m\u001b[0;34m\u001b[0m\u001b[0m\n\u001b[0;32m---> 30\u001b[0;31m     \u001b[0mrefAE\u001b[0m\u001b[0;34m.\u001b[0m\u001b[0mload_state_dict\u001b[0m\u001b[0;34m(\u001b[0m\u001b[0mtorch\u001b[0m\u001b[0;34m.\u001b[0m\u001b[0mload\u001b[0m\u001b[0;34m(\u001b[0m\u001b[0mos\u001b[0m\u001b[0;34m.\u001b[0m\u001b[0mpath\u001b[0m\u001b[0;34m.\u001b[0m\u001b[0mjoin\u001b[0m\u001b[0;34m(\u001b[0m\u001b[0mmodel_path\u001b[0m\u001b[0;34m,\u001b[0m \u001b[0;34m\"refAE_\"\u001b[0m\u001b[0;34m+\u001b[0m  \u001b[0mstr\u001b[0m\u001b[0;34m(\u001b[0m\u001b[0mi\u001b[0m\u001b[0;34m)\u001b[0m \u001b[0;34m+\u001b[0m \u001b[0;34m\".pt\"\u001b[0m\u001b[0;34m)\u001b[0m\u001b[0;34m)\u001b[0m\u001b[0;34m)\u001b[0m\u001b[0;34m\u001b[0m\u001b[0;34m\u001b[0m\u001b[0m\n\u001b[0m\u001b[1;32m     31\u001b[0m     \u001b[0mcladecNet\u001b[0m \u001b[0;34m=\u001b[0m \u001b[0mClaDecNet\u001b[0m\u001b[0;34m(\u001b[0m\u001b[0mcfg\u001b[0m\u001b[0;34m,\u001b[0m \u001b[0md\u001b[0m\u001b[0;34m[\u001b[0m\u001b[0;36m2\u001b[0m\u001b[0;34m]\u001b[0m\u001b[0;34m.\u001b[0m\u001b[0msqueeze\u001b[0m\u001b[0;34m(\u001b[0m\u001b[0;36m0\u001b[0m\u001b[0;34m)\u001b[0m\u001b[0;34m.\u001b[0m\u001b[0mshape\u001b[0m\u001b[0;34m,\u001b[0m \u001b[0mcfg\u001b[0m\u001b[0;34m[\u001b[0m\u001b[0;34m\"imCh\"\u001b[0m\u001b[0;34m]\u001b[0m\u001b[0;34m)\u001b[0m\u001b[0;34m.\u001b[0m\u001b[0mcuda\u001b[0m\u001b[0;34m(\u001b[0m\u001b[0;34m)\u001b[0m\u001b[0;34m\u001b[0m\u001b[0;34m\u001b[0m\u001b[0m\n\u001b[1;32m     32\u001b[0m \u001b[0;34m\u001b[0m\u001b[0m\n",
      "\u001b[0;32m/usr/local/lib/python3.7/dist-packages/torch/serialization.py\u001b[0m in \u001b[0;36mload\u001b[0;34m(f, map_location, pickle_module, **pickle_load_args)\u001b[0m\n\u001b[1;32m    592\u001b[0m         \u001b[0mpickle_load_args\u001b[0m\u001b[0;34m[\u001b[0m\u001b[0;34m'encoding'\u001b[0m\u001b[0;34m]\u001b[0m \u001b[0;34m=\u001b[0m \u001b[0;34m'utf-8'\u001b[0m\u001b[0;34m\u001b[0m\u001b[0;34m\u001b[0m\u001b[0m\n\u001b[1;32m    593\u001b[0m \u001b[0;34m\u001b[0m\u001b[0m\n\u001b[0;32m--> 594\u001b[0;31m     \u001b[0;32mwith\u001b[0m \u001b[0m_open_file_like\u001b[0m\u001b[0;34m(\u001b[0m\u001b[0mf\u001b[0m\u001b[0;34m,\u001b[0m \u001b[0;34m'rb'\u001b[0m\u001b[0;34m)\u001b[0m \u001b[0;32mas\u001b[0m \u001b[0mopened_file\u001b[0m\u001b[0;34m:\u001b[0m\u001b[0;34m\u001b[0m\u001b[0;34m\u001b[0m\u001b[0m\n\u001b[0m\u001b[1;32m    595\u001b[0m         \u001b[0;32mif\u001b[0m \u001b[0m_is_zipfile\u001b[0m\u001b[0;34m(\u001b[0m\u001b[0mopened_file\u001b[0m\u001b[0;34m)\u001b[0m\u001b[0;34m:\u001b[0m\u001b[0;34m\u001b[0m\u001b[0;34m\u001b[0m\u001b[0m\n\u001b[1;32m    596\u001b[0m             \u001b[0;31m# The zipfile reader is going to advance the current file position.\u001b[0m\u001b[0;34m\u001b[0m\u001b[0;34m\u001b[0m\u001b[0;34m\u001b[0m\u001b[0m\n",
      "\u001b[0;32m/usr/local/lib/python3.7/dist-packages/torch/serialization.py\u001b[0m in \u001b[0;36m_open_file_like\u001b[0;34m(name_or_buffer, mode)\u001b[0m\n\u001b[1;32m    228\u001b[0m \u001b[0;32mdef\u001b[0m \u001b[0m_open_file_like\u001b[0m\u001b[0;34m(\u001b[0m\u001b[0mname_or_buffer\u001b[0m\u001b[0;34m,\u001b[0m \u001b[0mmode\u001b[0m\u001b[0;34m)\u001b[0m\u001b[0;34m:\u001b[0m\u001b[0;34m\u001b[0m\u001b[0;34m\u001b[0m\u001b[0m\n\u001b[1;32m    229\u001b[0m     \u001b[0;32mif\u001b[0m \u001b[0m_is_path\u001b[0m\u001b[0;34m(\u001b[0m\u001b[0mname_or_buffer\u001b[0m\u001b[0;34m)\u001b[0m\u001b[0;34m:\u001b[0m\u001b[0;34m\u001b[0m\u001b[0;34m\u001b[0m\u001b[0m\n\u001b[0;32m--> 230\u001b[0;31m         \u001b[0;32mreturn\u001b[0m \u001b[0m_open_file\u001b[0m\u001b[0;34m(\u001b[0m\u001b[0mname_or_buffer\u001b[0m\u001b[0;34m,\u001b[0m \u001b[0mmode\u001b[0m\u001b[0;34m)\u001b[0m\u001b[0;34m\u001b[0m\u001b[0;34m\u001b[0m\u001b[0m\n\u001b[0m\u001b[1;32m    231\u001b[0m     \u001b[0;32melse\u001b[0m\u001b[0;34m:\u001b[0m\u001b[0;34m\u001b[0m\u001b[0;34m\u001b[0m\u001b[0m\n\u001b[1;32m    232\u001b[0m         \u001b[0;32mif\u001b[0m \u001b[0;34m'w'\u001b[0m \u001b[0;32min\u001b[0m \u001b[0mmode\u001b[0m\u001b[0;34m:\u001b[0m\u001b[0;34m\u001b[0m\u001b[0;34m\u001b[0m\u001b[0m\n",
      "\u001b[0;32m/usr/local/lib/python3.7/dist-packages/torch/serialization.py\u001b[0m in \u001b[0;36m__init__\u001b[0;34m(self, name, mode)\u001b[0m\n\u001b[1;32m    209\u001b[0m \u001b[0;32mclass\u001b[0m \u001b[0m_open_file\u001b[0m\u001b[0;34m(\u001b[0m\u001b[0m_opener\u001b[0m\u001b[0;34m)\u001b[0m\u001b[0;34m:\u001b[0m\u001b[0;34m\u001b[0m\u001b[0;34m\u001b[0m\u001b[0m\n\u001b[1;32m    210\u001b[0m     \u001b[0;32mdef\u001b[0m \u001b[0m__init__\u001b[0m\u001b[0;34m(\u001b[0m\u001b[0mself\u001b[0m\u001b[0;34m,\u001b[0m \u001b[0mname\u001b[0m\u001b[0;34m,\u001b[0m \u001b[0mmode\u001b[0m\u001b[0;34m)\u001b[0m\u001b[0;34m:\u001b[0m\u001b[0;34m\u001b[0m\u001b[0;34m\u001b[0m\u001b[0m\n\u001b[0;32m--> 211\u001b[0;31m         \u001b[0msuper\u001b[0m\u001b[0;34m(\u001b[0m\u001b[0m_open_file\u001b[0m\u001b[0;34m,\u001b[0m \u001b[0mself\u001b[0m\u001b[0;34m)\u001b[0m\u001b[0;34m.\u001b[0m\u001b[0m__init__\u001b[0m\u001b[0;34m(\u001b[0m\u001b[0mopen\u001b[0m\u001b[0;34m(\u001b[0m\u001b[0mname\u001b[0m\u001b[0;34m,\u001b[0m \u001b[0mmode\u001b[0m\u001b[0;34m)\u001b[0m\u001b[0;34m)\u001b[0m\u001b[0;34m\u001b[0m\u001b[0;34m\u001b[0m\u001b[0m\n\u001b[0m\u001b[1;32m    212\u001b[0m \u001b[0;34m\u001b[0m\u001b[0m\n\u001b[1;32m    213\u001b[0m     \u001b[0;32mdef\u001b[0m \u001b[0m__exit__\u001b[0m\u001b[0;34m(\u001b[0m\u001b[0mself\u001b[0m\u001b[0;34m,\u001b[0m \u001b[0;34m*\u001b[0m\u001b[0margs\u001b[0m\u001b[0;34m)\u001b[0m\u001b[0;34m:\u001b[0m\u001b[0;34m\u001b[0m\u001b[0;34m\u001b[0m\u001b[0m\n",
      "\u001b[0;31mFileNotFoundError\u001b[0m: [Errno 2] No such file or directory: 'refAE_3.pt'"
     ]
    }
   ],
   "source": [
    "cfg[\"device\"] = torch.device(\"cuda:0\")\n",
    "ae_train_loss_list = []\n",
    "ae_val_loss_list = []\n",
    "cladec_train_loss_list = []\n",
    "cladec_val_loss_list = []\n",
    "cladec_val_acc = []\n",
    "refae_val_acc = []\n",
    "\n",
    "# for i in range(4, 5):\n",
    "#     refae_path = os.path.join(model_path, \"refAE_{}.pt\".format(str(i)))\n",
    "#     cladec_path = os.path.join(model_path, \"cladecNet_{}.pt\".format(str(i)))\n",
    "#     cfg[\"layInd\"] = -1*i\n",
    "#     #get Activations\n",
    "#     actModel = getActModel(cfg, classifier)\n",
    "#     actModel.eval()\n",
    "#     trds=getActs(train_loader,actModel,cfg)\n",
    "\n",
    "\n",
    "\n",
    "\n",
    "\n",
    "for i in tqdm(range(3,4)):\n",
    "    cfg[\"layInd\"] = -1*i\n",
    "    actModel = getActModel(cfg, classifier)\n",
    "    actModel.eval()\n",
    "    trds=getActs(train_loader,actModel,cfg)\n",
    "\n",
    "    d = next(iter(trds))\n",
    "    refAE = RefAE(cfg, d[2].squeeze(0).shape).cuda()\n",
    "    refAE.load_state_dict(torch.load(os.path.join(model_path, \"refAE_\"+  str(i) + \".pt\")))\n",
    "    cladecNet = ClaDecNet(cfg, d[2].squeeze(0).shape, cfg[\"imCh\"]).cuda()\n",
    "\n",
    "    cladecNet.load_state_dict(torch.load(os.path.join(model_path, \"cladecNet_\"+  str(i) + \".pt\")))\n",
    "    refAE.eval()\n",
    "    cladecNet.eval()\n",
    "    cladec_ae = torch.nn.Sequential(actModel, cladecNet)\n",
    "    cladec_ae.eval()\n",
    "    \n",
    "    train_acts = getActs(train_loader, actModel, cfg)\n",
    "    val_acts = getActs(val_loader, actModel, cfg)\n",
    "    \n",
    "    cladec_train = getReconstr(cfg, model_path, cladec=True, train=True)\n",
    "    refae_train = getReconstr(cfg, model_path, cladec=False, train=True)\n",
    "    cladec_train_loss, refae_train_loss = getReconstrDS(train_acts, refAE, cladecNet)\n",
    "    cladec_val= getReconstr(cfg, model_path, cladec=True, train=False)\n",
    "    refae_val = getReconstr(cfg, model_path, cladec=False, train=False)\n",
    "    cladec_val_loss, refae_val_loss = getReconstrDS(train_acts, refAE, cladecNet)\n",
    "    \n",
    "    ae_train_loss_list.append(refae_train_loss)\n",
    "    ae_val_loss_list.append(refae_val_loss)\n",
    "    cladec_train_loss_list.append(cladec_train_loss)\n",
    "    cladec_val_loss_list.append(cladec_val_loss)\n",
    "\n",
    "    \n",
    "    clf_cladec, lcfg_cladec = getclassifier(cfg,  cladec_train, cladec_val, norm=None)\n",
    "    cladec_val_acc.append(lcfg_cladec[\"testAcc\"])\n",
    "    torch.save(clf_cladec.state_dict(),os.path.join(model_path, \"clf_cladec_\" + str(i) + \".pt\"))\n",
    "    clf_ae, lcfg_ae = getclassifier(cfg,  refae_train, refae_val, norm=None)\n",
    "    refae_val_acc.append(lcfg_ae[\"testAcc\"])\n",
    "    torch.save(clf_ae.state_dict(),os.path.join(model_path, \"clf_ae_\" + str(i) + \".pt\"))\n",
    "    torch.save({\"cladec_train_loss\" : cladec_train_loss_list, \"cladec_val_loss\": cladec_val_loss_list, \"cladec_val_acc\" : cladec_val_acc}, os.path.join(model_path,\"cladec_metrics_{}.pt\".format(str(i))))\n",
    "    torch.save({\"ae_train_loss\" : ae_train_loss_list, \"ae_val_loss\": ae_val_loss_list, \"ae_val_acc\" : refae_val_acc}, os.path.join(model_path, \"ae_metrics_{}.pt\".format(str(i))))\n",
    "\n",
    "print(\"cladec metrics\")\n",
    "print(cladec_val_acc)\n",
    "print(\"refae metrics\")\n",
    "print(refae_val_acc)\n",
    "\n",
    "\n",
    "#     refAE,rcfg = getRefAE(cfg,trds, train_loader) #Does not use activations themselves, only needs shape\n",
    "#     print(rcfg)\n",
    "#     torch.save(refAE.state_dict(), refae_path)\n",
    "\n",
    "#     # Train ClaDec\n",
    "#     cladecNet,ccfg=  getClaDec(cfg,classifier,None,trds)\n",
    "#     print(\"ClaDec Final loss\", ccfg)\n",
    "#     torch.save(cladecNet.state_dict(), cladec_path)\n",
    "\n",
    "    # refAE.eval()\n",
    "    # cladecNet.eval()\n",
    "    # actModel.eval()\n",
    "    \n",
    "    # train_acts = getActs(train_loader, actModel, cfg)\n",
    "    # val_acts = getActs(val_loader, actModel, cfg)\n",
    "    \n",
    "    # cladec_train = getReconstr(train_loader, torch.nn.Sequential(actModel, cladecNet),cfg, train=True)\n",
    "    # refae_train = getReconstr(train_loader, refAE,cfg, train=True)\n",
    "    # cladec_train_loss, refae_train_loss = getReconstrDS(train_acts, refAE, cladecNet)\n",
    "    # cladec_val= getReconstr(val_loader, torch.nn.Sequential(actModel, cladecNet),cfg, train=False)\n",
    "    # refae_val = getReconstr(val_loader, refAE,cfg, train=False)\n",
    "    # cladec_val_loss, refae_val_loss = getReconstrDS(train_acts, refAE, cladecNet)\n",
    "    \n",
    "    # ae_train_loss_list.append(refae_train_loss)\n",
    "    # ae_val_loss_list.append(refae_val_loss)\n",
    "    # cladec_train_loss_list.append(cladec_train_loss)\n",
    "    # cladec_val_loss_list.append(cladec_val_loss)\n",
    "\n",
    "    \n",
    "    # clf_cladec, lcfg_cladec = getclassifier(cfg,  cladec_train, cladec_val, norm=None)\n",
    "    # cladec_val_acc.append(lcfg_cladec[\"testAcc\"])\n",
    "    # torch.save(clf_cladec.state_dict(),os.path.join(model_path,\"clf_cladec_\" + str(i) + \".pt\"))\n",
    "    # clf_ae, lcfg_ae = getclassifier(cfg,  refae_train, refae_val, norm=None)\n",
    "    # refae_val_acc.append(lcfg_ae[\"testAcc\"])\n",
    "    # torch.save(clf_ae.state_dict(),os.path.join(model_path,\"clf_ae_\" + str(i) + \".pt\"))\n",
    "    # torch.save({\"cladec_train_loss\" : cladec_train_loss_list, \"cladec_val_loss\": cladec_val_loss_list, \"cladec_val_acc\" : cladec_val_acc}, os.path.join(model_path,\"cladec_metrics_{}.pt\".format(str(i))))\n",
    "    # torch.save({\"ae_train_loss\" : ae_train_loss_list, \"ae_val_loss\": ae_val_loss_list, \"ae_val_acc\" : refae_val_acc}, os.path.join(model_path,\"ae_metrics_{}.pt\".format(str(i))))\n",
    "\n",
    "\n",
    "\n"
   ]
  },
  {
   "cell_type": "code",
   "execution_count": 20,
   "metadata": {
    "colab": {
     "base_uri": "https://localhost:8080/"
    },
    "id": "_OcK1wc1XaPc",
    "outputId": "55d20ec5-888f-4e14-cbcd-bddcaf4b5193"
   },
   "outputs": [
    {
     "data": {
      "text/plain": [
       "[0.5364]"
      ]
     },
     "execution_count": 20,
     "metadata": {
      "tags": []
     },
     "output_type": "execute_result"
    }
   ],
   "source": [
    "cladec_val_acc"
   ]
  },
  {
   "cell_type": "code",
   "execution_count": 21,
   "metadata": {
    "colab": {
     "base_uri": "https://localhost:8080/"
    },
    "id": "2elf0pYEgAWB",
    "outputId": "c9b87103-adf8-49fd-d612-d5c835864a65"
   },
   "outputs": [
    {
     "data": {
      "text/plain": [
       "[0.5603]"
      ]
     },
     "execution_count": 21,
     "metadata": {
      "tags": []
     },
     "output_type": "execute_result"
    }
   ],
   "source": [
    "refae_val_acc"
   ]
  },
  {
   "cell_type": "code",
   "execution_count": 37,
   "metadata": {
    "id": "PNMJFBSNgNbE"
   },
   "outputs": [],
   "source": [
    "torch.save(clf_cladec.state_dict(),os.path.join(model_path, \"clf_cladec_\" + str(i) + \".pt\"))\n",
    "torch.save(clf_ae.state_dict(),os.path.join(model_path, \"clf_ae_\" + str(i) + \".pt\"))"
   ]
  },
  {
   "cell_type": "code",
   "execution_count": 38,
   "metadata": {
    "id": "oAgg6XwTgQ0A"
   },
   "outputs": [],
   "source": [
    "torch.save({\"cladec_train_loss\" : cladec_train_loss_list, \"cladec_val_loss\": cladec_val_loss_list, \"cladec_val_acc\" : cladec_val_acc}, os.path.join(model_path,\"cladec_metrics_{}.pt\".format(str(i))))\n",
    "torch.save({\"ae_train_loss\" : ae_train_loss_list, \"ae_val_loss\": ae_val_loss_list, \"ae_val_acc\" : refae_val_acc}, os.path.join(model_path, \"ae_metrics_{}.pt\".format(str(i))))\n"
   ]
  },
  {
   "cell_type": "code",
   "execution_count": 36,
   "metadata": {
    "id": "aBJzzmpNgZA8"
   },
   "outputs": [],
   "source": [
    "model_path = \"\""
   ]
  },
  {
   "cell_type": "code",
   "execution_count": 18,
   "metadata": {
    "id": "kUgZAYMciSCr"
   },
   "outputs": [],
   "source": [
    "cfg[\"device\"] = torch.device(\"cuda:0\")"
   ]
  },
  {
   "cell_type": "code",
   "execution_count": 12,
   "metadata": {},
   "outputs": [],
   "source": [
    "batch_ordered = [x for x in val_loader]\n",
    "torch.save(batch_ordered, os.path.join(model_path, \"original.pt\"))"
   ]
  },
  {
   "cell_type": "code",
   "execution_count": 13,
   "metadata": {},
   "outputs": [],
   "source": [
    "clf_preds = []\n",
    "for (batch, label) in val_loader:\n",
    "    with tca.autocast():\n",
    "        clf_preds.append(classifier(batch.cuda()).argmax(dim=1).detach().cpu())\n",
    "torch.save(clf_preds, os.path.join(model_path, \"clf_preds.pt\"))"
   ]
  },
  {
   "cell_type": "code",
   "execution_count": 14,
   "metadata": {},
   "outputs": [],
   "source": [
    "from torchvision.datasets import ImageFolder\n",
    "from torch.utils.data import DataLoader\n",
    "import torchvision.transforms as transforms"
   ]
  },
  {
   "cell_type": "code",
   "execution_count": 15,
   "metadata": {},
   "outputs": [],
   "source": [
    "class LargeActDataset(IterableDataset):\n",
    "    def __init__(self, orig_loader, act_model, device):\n",
    "        super(LargeActDataset, self).__init__()\n",
    "        self.orig_loader = orig_loader\n",
    "        self.act_model = act_model\n",
    "        self.device = device\n",
    "\n",
    "\n",
    "    def __iter__(self) :\n",
    "        for (img, label) in self.orig_loader:\n",
    "            with torch.no_grad():\n",
    "                with tca.autocast():\n",
    "                    act = self.act_model(img.to(self.device)).detach().cpu()\n",
    "            yield (img.detach().cpu(), label, act)\n",
    "\n"
   ]
  },
  {
   "cell_type": "code",
   "execution_count": 16,
   "metadata": {},
   "outputs": [],
   "source": [
    "def getActs(ds,actModel,cfg):\n",
    "    dsact = LargeActDataset(ds, actModel, cfg[\"device\"])\n",
    "    return torch.utils.data.DataLoader(dsact, batch_size=1)\n"
   ]
  },
  {
   "cell_type": "code",
   "execution_count": 38,
   "metadata": {},
   "outputs": [
    {
     "name": "stderr",
     "output_type": "stream",
     "text": [
      " 80%|████████  | 4/5 [00:52<00:13, 13.03s/it]\n"
     ]
    },
    {
     "ename": "FileNotFoundError",
     "evalue": "[Errno 2] No such file or directory: 'trained_models/resnet/TinyImgNet_final/TinyImgNet_final/refAE_5.pt'",
     "output_type": "error",
     "traceback": [
      "\u001b[0;31m---------------------------------------------------------------------------\u001b[0m",
      "\u001b[0;31mFileNotFoundError\u001b[0m                         Traceback (most recent call last)",
      "\u001b[0;32m<ipython-input-38-b456f2dbe4aa>\u001b[0m in \u001b[0;36m<module>\u001b[0;34m\u001b[0m\n\u001b[1;32m      9\u001b[0m     \u001b[0md\u001b[0m \u001b[0;34m=\u001b[0m \u001b[0mnext\u001b[0m\u001b[0;34m(\u001b[0m\u001b[0miter\u001b[0m\u001b[0;34m(\u001b[0m\u001b[0mtrds\u001b[0m\u001b[0;34m)\u001b[0m\u001b[0;34m)\u001b[0m\u001b[0;34m\u001b[0m\u001b[0;34m\u001b[0m\u001b[0m\n\u001b[1;32m     10\u001b[0m     \u001b[0mrefAE\u001b[0m \u001b[0;34m=\u001b[0m \u001b[0mRefAE\u001b[0m\u001b[0;34m(\u001b[0m\u001b[0mcfg\u001b[0m\u001b[0;34m,\u001b[0m \u001b[0md\u001b[0m\u001b[0;34m[\u001b[0m\u001b[0;36m2\u001b[0m\u001b[0;34m]\u001b[0m\u001b[0;34m.\u001b[0m\u001b[0msqueeze\u001b[0m\u001b[0;34m(\u001b[0m\u001b[0;36m0\u001b[0m\u001b[0;34m)\u001b[0m\u001b[0;34m.\u001b[0m\u001b[0mshape\u001b[0m\u001b[0;34m)\u001b[0m\u001b[0;34m.\u001b[0m\u001b[0mcuda\u001b[0m\u001b[0;34m(\u001b[0m\u001b[0;34m)\u001b[0m\u001b[0;34m\u001b[0m\u001b[0;34m\u001b[0m\u001b[0m\n\u001b[0;32m---> 11\u001b[0;31m     \u001b[0mrefAE\u001b[0m\u001b[0;34m.\u001b[0m\u001b[0mload_state_dict\u001b[0m\u001b[0;34m(\u001b[0m\u001b[0mtorch\u001b[0m\u001b[0;34m.\u001b[0m\u001b[0mload\u001b[0m\u001b[0;34m(\u001b[0m\u001b[0mos\u001b[0m\u001b[0;34m.\u001b[0m\u001b[0mpath\u001b[0m\u001b[0;34m.\u001b[0m\u001b[0mjoin\u001b[0m\u001b[0;34m(\u001b[0m\u001b[0mmodel_path\u001b[0m\u001b[0;34m,\u001b[0m \u001b[0;34m\"refAE_\"\u001b[0m\u001b[0;34m+\u001b[0m  \u001b[0mstr\u001b[0m\u001b[0;34m(\u001b[0m\u001b[0mi\u001b[0m\u001b[0;34m)\u001b[0m \u001b[0;34m+\u001b[0m \u001b[0;34m\".pt\"\u001b[0m\u001b[0;34m)\u001b[0m\u001b[0;34m)\u001b[0m\u001b[0;34m)\u001b[0m\u001b[0;34m\u001b[0m\u001b[0;34m\u001b[0m\u001b[0m\n\u001b[0m\u001b[1;32m     12\u001b[0m     \u001b[0mcladecNet\u001b[0m \u001b[0;34m=\u001b[0m \u001b[0mClaDecNet\u001b[0m\u001b[0;34m(\u001b[0m\u001b[0mcfg\u001b[0m\u001b[0;34m,\u001b[0m \u001b[0md\u001b[0m\u001b[0;34m[\u001b[0m\u001b[0;36m2\u001b[0m\u001b[0;34m]\u001b[0m\u001b[0;34m.\u001b[0m\u001b[0msqueeze\u001b[0m\u001b[0;34m(\u001b[0m\u001b[0;36m0\u001b[0m\u001b[0;34m)\u001b[0m\u001b[0;34m.\u001b[0m\u001b[0mshape\u001b[0m\u001b[0;34m,\u001b[0m \u001b[0mcfg\u001b[0m\u001b[0;34m[\u001b[0m\u001b[0;34m\"imCh\"\u001b[0m\u001b[0;34m]\u001b[0m\u001b[0;34m)\u001b[0m\u001b[0;34m.\u001b[0m\u001b[0mcuda\u001b[0m\u001b[0;34m(\u001b[0m\u001b[0;34m)\u001b[0m\u001b[0;34m\u001b[0m\u001b[0;34m\u001b[0m\u001b[0m\n\u001b[1;32m     13\u001b[0m     \u001b[0mcladecNet\u001b[0m\u001b[0;34m.\u001b[0m\u001b[0mload_state_dict\u001b[0m\u001b[0;34m(\u001b[0m\u001b[0mtorch\u001b[0m\u001b[0;34m.\u001b[0m\u001b[0mload\u001b[0m\u001b[0;34m(\u001b[0m\u001b[0mos\u001b[0m\u001b[0;34m.\u001b[0m\u001b[0mpath\u001b[0m\u001b[0;34m.\u001b[0m\u001b[0mjoin\u001b[0m\u001b[0;34m(\u001b[0m\u001b[0mmodel_path\u001b[0m\u001b[0;34m,\u001b[0m \u001b[0;34m\"cladecNet_\"\u001b[0m\u001b[0;34m+\u001b[0m  \u001b[0mstr\u001b[0m\u001b[0;34m(\u001b[0m\u001b[0mi\u001b[0m\u001b[0;34m)\u001b[0m \u001b[0;34m+\u001b[0m \u001b[0;34m\".pt\"\u001b[0m\u001b[0;34m)\u001b[0m\u001b[0;34m)\u001b[0m\u001b[0;34m)\u001b[0m\u001b[0;34m\u001b[0m\u001b[0;34m\u001b[0m\u001b[0m\n",
      "\u001b[0;32m~/my-envs/ml_def/lib/python3.8/site-packages/torch/serialization.py\u001b[0m in \u001b[0;36mload\u001b[0;34m(f, map_location, pickle_module, **pickle_load_args)\u001b[0m\n\u001b[1;32m    577\u001b[0m         \u001b[0mpickle_load_args\u001b[0m\u001b[0;34m[\u001b[0m\u001b[0;34m'encoding'\u001b[0m\u001b[0;34m]\u001b[0m \u001b[0;34m=\u001b[0m \u001b[0;34m'utf-8'\u001b[0m\u001b[0;34m\u001b[0m\u001b[0;34m\u001b[0m\u001b[0m\n\u001b[1;32m    578\u001b[0m \u001b[0;34m\u001b[0m\u001b[0m\n\u001b[0;32m--> 579\u001b[0;31m     \u001b[0;32mwith\u001b[0m \u001b[0m_open_file_like\u001b[0m\u001b[0;34m(\u001b[0m\u001b[0mf\u001b[0m\u001b[0;34m,\u001b[0m \u001b[0;34m'rb'\u001b[0m\u001b[0;34m)\u001b[0m \u001b[0;32mas\u001b[0m \u001b[0mopened_file\u001b[0m\u001b[0;34m:\u001b[0m\u001b[0;34m\u001b[0m\u001b[0;34m\u001b[0m\u001b[0m\n\u001b[0m\u001b[1;32m    580\u001b[0m         \u001b[0;32mif\u001b[0m \u001b[0m_is_zipfile\u001b[0m\u001b[0;34m(\u001b[0m\u001b[0mopened_file\u001b[0m\u001b[0;34m)\u001b[0m\u001b[0;34m:\u001b[0m\u001b[0;34m\u001b[0m\u001b[0;34m\u001b[0m\u001b[0m\n\u001b[1;32m    581\u001b[0m             \u001b[0;31m# The zipfile reader is going to advance the current file position.\u001b[0m\u001b[0;34m\u001b[0m\u001b[0;34m\u001b[0m\u001b[0;34m\u001b[0m\u001b[0m\n",
      "\u001b[0;32m~/my-envs/ml_def/lib/python3.8/site-packages/torch/serialization.py\u001b[0m in \u001b[0;36m_open_file_like\u001b[0;34m(name_or_buffer, mode)\u001b[0m\n\u001b[1;32m    228\u001b[0m \u001b[0;32mdef\u001b[0m \u001b[0m_open_file_like\u001b[0m\u001b[0;34m(\u001b[0m\u001b[0mname_or_buffer\u001b[0m\u001b[0;34m,\u001b[0m \u001b[0mmode\u001b[0m\u001b[0;34m)\u001b[0m\u001b[0;34m:\u001b[0m\u001b[0;34m\u001b[0m\u001b[0;34m\u001b[0m\u001b[0m\n\u001b[1;32m    229\u001b[0m     \u001b[0;32mif\u001b[0m \u001b[0m_is_path\u001b[0m\u001b[0;34m(\u001b[0m\u001b[0mname_or_buffer\u001b[0m\u001b[0;34m)\u001b[0m\u001b[0;34m:\u001b[0m\u001b[0;34m\u001b[0m\u001b[0;34m\u001b[0m\u001b[0m\n\u001b[0;32m--> 230\u001b[0;31m         \u001b[0;32mreturn\u001b[0m \u001b[0m_open_file\u001b[0m\u001b[0;34m(\u001b[0m\u001b[0mname_or_buffer\u001b[0m\u001b[0;34m,\u001b[0m \u001b[0mmode\u001b[0m\u001b[0;34m)\u001b[0m\u001b[0;34m\u001b[0m\u001b[0;34m\u001b[0m\u001b[0m\n\u001b[0m\u001b[1;32m    231\u001b[0m     \u001b[0;32melse\u001b[0m\u001b[0;34m:\u001b[0m\u001b[0;34m\u001b[0m\u001b[0;34m\u001b[0m\u001b[0m\n\u001b[1;32m    232\u001b[0m         \u001b[0;32mif\u001b[0m \u001b[0;34m'w'\u001b[0m \u001b[0;32min\u001b[0m \u001b[0mmode\u001b[0m\u001b[0;34m:\u001b[0m\u001b[0;34m\u001b[0m\u001b[0;34m\u001b[0m\u001b[0m\n",
      "\u001b[0;32m~/my-envs/ml_def/lib/python3.8/site-packages/torch/serialization.py\u001b[0m in \u001b[0;36m__init__\u001b[0;34m(self, name, mode)\u001b[0m\n\u001b[1;32m    209\u001b[0m \u001b[0;32mclass\u001b[0m \u001b[0m_open_file\u001b[0m\u001b[0;34m(\u001b[0m\u001b[0m_opener\u001b[0m\u001b[0;34m)\u001b[0m\u001b[0;34m:\u001b[0m\u001b[0;34m\u001b[0m\u001b[0;34m\u001b[0m\u001b[0m\n\u001b[1;32m    210\u001b[0m     \u001b[0;32mdef\u001b[0m \u001b[0m__init__\u001b[0m\u001b[0;34m(\u001b[0m\u001b[0mself\u001b[0m\u001b[0;34m,\u001b[0m \u001b[0mname\u001b[0m\u001b[0;34m,\u001b[0m \u001b[0mmode\u001b[0m\u001b[0;34m)\u001b[0m\u001b[0;34m:\u001b[0m\u001b[0;34m\u001b[0m\u001b[0;34m\u001b[0m\u001b[0m\n\u001b[0;32m--> 211\u001b[0;31m         \u001b[0msuper\u001b[0m\u001b[0;34m(\u001b[0m\u001b[0m_open_file\u001b[0m\u001b[0;34m,\u001b[0m \u001b[0mself\u001b[0m\u001b[0;34m)\u001b[0m\u001b[0;34m.\u001b[0m\u001b[0m__init__\u001b[0m\u001b[0;34m(\u001b[0m\u001b[0mopen\u001b[0m\u001b[0;34m(\u001b[0m\u001b[0mname\u001b[0m\u001b[0;34m,\u001b[0m \u001b[0mmode\u001b[0m\u001b[0;34m)\u001b[0m\u001b[0;34m)\u001b[0m\u001b[0;34m\u001b[0m\u001b[0;34m\u001b[0m\u001b[0m\n\u001b[0m\u001b[1;32m    212\u001b[0m \u001b[0;34m\u001b[0m\u001b[0m\n\u001b[1;32m    213\u001b[0m     \u001b[0;32mdef\u001b[0m \u001b[0m__exit__\u001b[0m\u001b[0;34m(\u001b[0m\u001b[0mself\u001b[0m\u001b[0;34m,\u001b[0m \u001b[0;34m*\u001b[0m\u001b[0margs\u001b[0m\u001b[0;34m)\u001b[0m\u001b[0;34m:\u001b[0m\u001b[0;34m\u001b[0m\u001b[0;34m\u001b[0m\u001b[0m\n",
      "\u001b[0;31mFileNotFoundError\u001b[0m: [Errno 2] No such file or directory: 'trained_models/resnet/TinyImgNet_final/TinyImgNet_final/refAE_5.pt'"
     ]
    }
   ],
   "source": [
    "from tqdm import tqdm\n",
    "for i in tqdm(range(1,6)):\n",
    "    ae_reconstr = []\n",
    "    cladec_reconstr = []\n",
    "    cfg[\"layInd\"] = -1*i\n",
    "    actModel = getActModel(cfg, classifier)\n",
    "    actModel.eval()\n",
    "    trds=getActs(val_loader, actModel,cfg)\n",
    "    d = next(iter(trds))\n",
    "    refAE = RefAE(cfg, d[2].squeeze(0).shape).cuda()\n",
    "    refAE.load_state_dict(torch.load(os.path.join(model_path, \"refAE_\"+  str(i) + \".pt\")))\n",
    "    cladecNet = ClaDecNet(cfg, d[2].squeeze(0).shape, cfg[\"imCh\"]).cuda()\n",
    "    cladecNet.load_state_dict(torch.load(os.path.join(model_path, \"cladecNet_\"+  str(i) + \".pt\")))\n",
    "    #clf_ae  = torch.load(\"trained_models/MNIST/clf_ae_\" + str(i) + \".pt\").cuda()\n",
    "    #clf_cladec = torch.load(\"trained_models/MNIST/clf_cladec_\" + str(i) + \".pt\").cuda()\n",
    "    refAE.eval()\n",
    "    cladecNet.eval()\n",
    "    actModel.eval()\n",
    "    with tca.autocast():\n",
    "        for (x,y) in batch_ordered:\n",
    "            ae_reconstr.append(refAE(x.cuda()).detach().cpu())\n",
    "            cladec_reconstr.append(cladecNet(actModel(x.cuda())).detach().cpu())\n",
    "    torch.save(ae_reconstr,os.path.join(model_path, \"ae_reconstr_\" + str(i)+ \".pt\"))\n",
    "    torch.save(cladec_reconstr,os.path.join(model_path,\"cladec_reconstr_\" + str(i)+ \".pt\"))\n"
   ]
  },
  {
   "cell_type": "code",
   "execution_count": 39,
   "metadata": {},
   "outputs": [],
   "source": [
    "reconstr_ae = {i: torch.load(os.path.join(model_path, \"ae_reconstr_\" + str(i)+ \".pt\")) for i in range(1,5)}\n",
    "reconstr_cladec = {i: torch.load(os.path.join(model_path,\"cladec_reconstr_\" + str(i)+ \".pt\")) for i in range(1,5)}\n"
   ]
  },
  {
   "cell_type": "code",
   "execution_count": 40,
   "metadata": {},
   "outputs": [],
   "source": [
    "correct_path = os.path.join(model_path, \"preds/correct\")\n",
    "incorrect_path = os.path.join(model_path,\"preds/incorrect\")\n",
    "os.makedirs(correct_path, exist_ok=True)\n",
    "os.makedirs(incorrect_path, exist_ok=True)"
   ]
  },
  {
   "cell_type": "code",
   "execution_count": 41,
   "metadata": {},
   "outputs": [],
   "source": [
    "import numpy as np\n",
    "def format_img(img):\n",
    "    #mu = norm[0].numpy().reshape(1,1,3)\n",
    "    #std = norm[1].numpy().reshape(1,1,3)\n",
    "    form = img.squeeze().numpy().astype(float).transpose((1,2,0))\n",
    "    #form = form * std + mu\n",
    "    return form"
   ]
  },
  {
   "cell_type": "code",
   "execution_count": 42,
   "metadata": {},
   "outputs": [],
   "source": [
    "import matplotlib.pyplot as plt\n",
    "def plotter(ax, img, title=None, ylabel=None):\n",
    "    ax.imshow(img)\n",
    "    if title is not None: ax.set_title(title)\n",
    "    if ylabel is not None: ax.set_ylabel(ylabel)\n",
    "    ax.set_xticks([])\n",
    "    ax.set_yticks([])"
   ]
  },
  {
   "cell_type": "code",
   "execution_count": 52,
   "metadata": {},
   "outputs": [
    {
     "name": "stderr",
     "output_type": "stream",
     "text": [
      " 89%|████████▊ | 70/79 [24:19<03:07, 20.85s/it]\n"
     ]
    },
    {
     "data": {
      "image/png": "[encoded data removed]",
      "text/plain": [
       "<Figure size 576x216 with 10 Axes>"
      ]
     },
     "metadata": {},
     "output_type": "display_data"
    }
   ],
   "source": [
    "flag = False\n",
    "from tqdm import tqdm\n",
    "i=0\n",
    "num_correct = 0\n",
    "num_incorrect = 0\n",
    "for j in tqdm(range(len(batch_ordered))):\n",
    "    if flag == True:\n",
    "        break\n",
    "    for k in range(len(batch_ordered[j][0])):\n",
    "        if k > 4: \n",
    "            break\n",
    "        \n",
    "        orig = format_img(batch_ordered[j][0][k])\n",
    "        label = batch_ordered[j][1][k].item()\n",
    "        pred = clf_preds[j][k].item()\n",
    "        i = i+1\n",
    "        \n",
    "        if (pred!=label and num_incorrect < 200) or (pred == label and num_correct < 200):\n",
    "            if pred != label:\n",
    "                img_name = \"img_\" + str(i) + \"_label_\" + str(label) + \"_pred_\" + str(pred) + \".jpg\"\n",
    "                path = os.path.join(incorrect_path, img_name)\n",
    "                num_incorrect +=1\n",
    "            else:\n",
    "                img_name = \"img_\" + str(i) + \"_label_\" + str(label) + \".jpg\"\n",
    "                path = os.path.join(correct_path, img_name)\n",
    "                num_correct += 1\n",
    "        else:\n",
    "            flag=True\n",
    "            break\n",
    "\n",
    "        #if label ==pred:\n",
    "        #if i> 300:\n",
    "        #    flag=True\n",
    "        #    break\n",
    "        ae_imgs = {t : format_img(reconstr_ae[t][j][k]) for t in reconstr_ae.keys()}\n",
    "        cladec_imgs = {t : format_img(reconstr_cladec[t][j][k]) for t in reconstr_cladec.keys()}\n",
    "        plt.rcParams[\"figure.figsize\"] = (8,3)\n",
    "        ax = plt.subplot(2,5,1)\n",
    "        plotter(ax, orig, title=\"original\", ylabel=\"cladec\")\n",
    "        ax = plt.subplot(2,5,6)\n",
    "        plotter(ax, orig, ylabel=\"ae\")\n",
    "        for t in ae_imgs.keys():\n",
    "            ax = plt.subplot(2,5,6 - t)\n",
    "            plotter(ax, cladec_imgs[t], title=\"layInd = -\" + str(t))\n",
    "            ax = plt.subplot(2,5,11 - t)\n",
    "            plotter(ax, ae_imgs[t])\n",
    "        plt.subplots_adjust(hspace=0, wspace=0)\n",
    "        #plt.show()\n",
    "        plt.savefig(path)\n"
   ]
  },
  {
   "cell_type": "code",
   "execution_count": null,
   "metadata": {},
   "outputs": [],
   "source": []
  },
  {
   "cell_type": "code",
   "execution_count": 10,
   "metadata": {},
   "outputs": [
    {
     "data": {
      "text/plain": [
       "ResNet(\n",
       "  (layer0): Sequential(\n",
       "    (0): Conv2d(3, 64, kernel_size=(3, 3), stride=(1, 1), padding=(1, 1), bias=False)\n",
       "    (1): BatchNorm2d(64, eps=1e-05, momentum=0.1, affine=True, track_running_stats=True)\n",
       "    (2): ReLU(inplace=True)\n",
       "  )\n",
       "  (layer1): Sequential(\n",
       "    (0): BasicBlock(\n",
       "      (block): Sequential(\n",
       "        (0): Conv2d(64, 64, kernel_size=(3, 3), stride=(1, 1), padding=(1, 1), bias=False)\n",
       "        (1): BatchNorm2d(64, eps=1e-05, momentum=0.1, affine=True, track_running_stats=True)\n",
       "        (2): ReLU(inplace=True)\n",
       "        (3): Conv2d(64, 64, kernel_size=(3, 3), stride=(1, 1), padding=(1, 1), bias=False)\n",
       "        (4): BatchNorm2d(64, eps=1e-05, momentum=0.1, affine=True, track_running_stats=True)\n",
       "      )\n",
       "    )\n",
       "  )\n",
       "  (layer2): Sequential(\n",
       "    (0): BasicBlock(\n",
       "      (block): Sequential(\n",
       "        (0): Conv2d(64, 128, kernel_size=(3, 3), stride=(2, 2), padding=(1, 1), bias=False)\n",
       "        (1): BatchNorm2d(128, eps=1e-05, momentum=0.1, affine=True, track_running_stats=True)\n",
       "        (2): ReLU(inplace=True)\n",
       "        (3): Conv2d(128, 128, kernel_size=(3, 3), stride=(1, 1), padding=(1, 1), bias=False)\n",
       "        (4): BatchNorm2d(128, eps=1e-05, momentum=0.1, affine=True, track_running_stats=True)\n",
       "      )\n",
       "    )\n",
       "  )\n",
       "  (layer3): Sequential(\n",
       "    (0): BasicBlock(\n",
       "      (block): Sequential(\n",
       "        (0): Conv2d(128, 256, kernel_size=(3, 3), stride=(2, 2), padding=(1, 1), bias=False)\n",
       "        (1): BatchNorm2d(256, eps=1e-05, momentum=0.1, affine=True, track_running_stats=True)\n",
       "        (2): ReLU(inplace=True)\n",
       "        (3): Conv2d(256, 256, kernel_size=(3, 3), stride=(1, 1), padding=(1, 1), bias=False)\n",
       "        (4): BatchNorm2d(256, eps=1e-05, momentum=0.1, affine=True, track_running_stats=True)\n",
       "      )\n",
       "    )\n",
       "  )\n",
       "  (layer4): Sequential(\n",
       "    (0): BasicBlock(\n",
       "      (block): Sequential(\n",
       "        (0): Conv2d(256, 512, kernel_size=(3, 3), stride=(2, 2), padding=(1, 1), bias=False)\n",
       "        (1): BatchNorm2d(512, eps=1e-05, momentum=0.1, affine=True, track_running_stats=True)\n",
       "        (2): ReLU(inplace=True)\n",
       "        (3): Conv2d(512, 512, kernel_size=(3, 3), stride=(1, 1), padding=(1, 1), bias=False)\n",
       "        (4): BatchNorm2d(512, eps=1e-05, momentum=0.1, affine=True, track_running_stats=True)\n",
       "      )\n",
       "    )\n",
       "  )\n",
       "  (fc): Linear(in_features=512, out_features=200, bias=False)\n",
       ")"
      ]
     },
     "execution_count": 10,
     "metadata": {},
     "output_type": "execute_result"
    }
   ],
   "source": [
    "clf_cladec = ResNet10(n_classes = cfg[\"ds\"][1], n_output_planes = [64, 128, 256, 512], inch = cfg[\"imCh\"]).cuda()\n",
    "clf_cladec.load_state_dict(torch.load(os.path.join(model_path, \"clf_cladec_1.pt\")))\n",
    "clf_cladec.eval()"
   ]
  },
  {
   "cell_type": "code",
   "execution_count": 13,
   "metadata": {},
   "outputs": [
    {
     "data": {
      "text/plain": [
       "0.0058"
      ]
     },
     "execution_count": 13,
     "metadata": {},
     "output_type": "execute_result"
    }
   ],
   "source": [
    "getAcc(clf_cladec, val_loader,  niter=10000,norm=None)"
   ]
  },
  {
   "cell_type": "code",
   "execution_count": null,
   "metadata": {},
   "outputs": [],
   "source": []
  }
 ],
 "metadata": {
  "accelerator": "GPU",
  "colab": {
   "collapsed_sections": [],
   "machine_shape": "hm",
   "name": "eval_resnet_tinyimagenet2_notpu.ipynb",
   "provenance": []
  },
  "kernelspec": {
   "display_name": "Python 3",
   "language": "python",
   "name": "python3"
  },
  "language_info": {
   "codemirror_mode": {
    "name": "ipython",
    "version": 3
   },
   "file_extension": ".py",
   "mimetype": "text/x-python",
   "name": "python",
   "nbconvert_exporter": "python",
   "pygments_lexer": "ipython3",
   "version": "3.8.10"
  }
 },
 "nbformat": 4,
 "nbformat_minor": 4
}
