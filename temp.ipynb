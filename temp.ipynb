{
 "cells": [
  {
   "cell_type": "code",
   "execution_count": 1,
   "metadata": {},
   "outputs": [],
   "source": [
    "%load_ext autoreload\n",
    "%autoreload 2"
   ]
  },
  {
   "cell_type": "code",
   "execution_count": 2,
   "metadata": {},
   "outputs": [],
   "source": [
    "import torch\n",
    "from torch.utils.data import TensorDataset, Dataset, IterableDataset\n",
    "import models as clModel,dutils\n",
    "import cladec\n",
    "import numpy as np,os\n",
    "import torch.cuda.amp as tca\n",
    "from matplotlib import pyplot as plt\n",
    "import pdb\n",
    "from tqdm import tqdm"
   ]
  },
  {
   "cell_type": "code",
   "execution_count": 12,
   "metadata": {},
   "outputs": [],
   "source": [
    "class LargeActDataset(IterableDataset):\n",
    "    def __init__(self, orig_loader, act_model, device):\n",
    "        super(LargeActDataset, self).__init__()\n",
    "        self.orig_loader = orig_loader\n",
    "        self.act_model = act_model\n",
    "        self.device = device\n",
    "\n",
    "\n",
    "    def __iter__(self) :\n",
    "        for (img, label) in self.orig_loader:\n",
    "            with torch.no_grad():\n",
    "                with tca.autocast():\n",
    "                    act = self.act_model(img.to(self.device)).detach().cpu()\n",
    "            yield (img.detach().cpu(), label, act)\n",
    "\n"
   ]
  },
  {
   "cell_type": "code",
   "execution_count": null,
   "metadata": {},
   "outputs": [],
   "source": []
  },
  {
   "cell_type": "code",
   "execution_count": null,
   "metadata": {},
   "outputs": [],
   "source": []
  },
  {
   "cell_type": "code",
   "execution_count": 13,
   "metadata": {},
   "outputs": [],
   "source": [
    "def getActs(ds,actModel,cfg):\n",
    "    dsact = LargeActDataset(ds, actModel, cfg[\"device\"])\n",
    "    return torch.utils.data.DataLoader(dsact, batch_size=1)\n"
   ]
  },
  {
   "cell_type": "code",
   "execution_count": 5,
   "metadata": {},
   "outputs": [
    {
     "name": "stdout",
     "output_type": "stream",
     "text": [
      "Executing config {'ds': ('TinyImgNet', 200), 'batchSize': 128, 'opt': ('S', 60, 0.001, 0.0002), 'layInd': -1, 'alpha': 0.001, 'ntrain': 100000}\n",
      "Get dataset\n"
     ]
    }
   ],
   "source": [
    "dummy=False\n",
    "#dummy = True\n",
    "#cfg={ 'ds': ('Fash', 10),  #Dataset either  ('Ci100', 100) or ('Ci10', 10)\n",
    "#      'batchSize': 128, 'opt': ('S', 1 if dummy else 64, 0.1, 0.0001), #optimizer settings\n",
    "#      'layInd':-1, #Layer to explain (from last layer back, ie. -1 is last (linear), -2 is last conv, -3 second last conv)\n",
    "#      'alpha': 0.001, #tradeoff parameter reconstruction vs. classification loss\n",
    "#      'ntrain': 500 if dummy else 60000}\n",
    "cfg={ 'ds': ('TinyImgNet', 200),  #Dataset either  ('Ci100', 100) or ('Ci10', 10)\n",
    "    'batchSize': 128, 'opt': ('S', 1 if dummy else 60, 0.001, 0.0002), #optimizer settings\n",
    "    'layInd':-1, #Layer to explain (from last layer back, ie. -1 is last (linear), -2 is last conv, -3 second last conv)\n",
    "    'alpha': 0.001, #tradeoff parameter reconstruction vs. classification loss\n",
    "    'ntrain': 500 if dummy else 100000}\n",
    "print(\"Executing config\",cfg)\n",
    "cfg[\"num_classes\"]=cfg[\"ds\"][1]\n",
    "#Get Data\n",
    "print(\"Get dataset\")\n",
    "#train_loader, val_loader,_, trainset, valset=dutils.getFullDS(cfg)\n"
   ]
  },
  {
   "cell_type": "code",
   "execution_count": 10,
   "metadata": {},
   "outputs": [
    {
     "name": "stderr",
     "output_type": "stream",
     "text": [
      "  0%|          | 0/782 [00:00<?, ?it/s]"
     ]
    },
    {
     "name": "stdout",
     "output_type": "stream",
     "text": [
      "Train Classifier to explain\n"
     ]
    },
    {
     "name": "stderr",
     "output_type": "stream",
     "text": [
      "100%|██████████| 782/782 [00:21<00:00, 36.85it/s]\n",
      "  0%|          | 0/782 [00:00<?, ?it/s]98s/it]"
     ]
    },
    {
     "name": "stdout",
     "output_type": "stream",
     "text": [
      "0 [4.68006 0.0542  0.05053]\n"
     ]
    },
    {
     "name": "stderr",
     "output_type": "stream",
     "text": [
      "100%|██████████| 782/782 [00:21<00:00, 36.98it/s]\n",
      "100%|██████████| 782/782 [00:21<00:00, 36.49it/s]\n",
      "100%|██████████| 782/782 [00:22<00:00, 34.87it/s]\n",
      "100%|██████████| 782/782 [00:21<00:00, 37.18it/s]\n",
      "  0%|          | 0/782 [00:00<?, ?it/s]54s/it]"
     ]
    },
    {
     "name": "stdout",
     "output_type": "stream",
     "text": [
      "4 [3.85882 0.2015  0.17486]\n"
     ]
    },
    {
     "name": "stderr",
     "output_type": "stream",
     "text": [
      "100%|██████████| 782/782 [00:22<00:00, 35.22it/s]\n",
      "100%|██████████| 782/782 [00:20<00:00, 37.25it/s]\n",
      "100%|██████████| 782/782 [00:21<00:00, 36.50it/s]\n",
      "100%|██████████| 782/782 [00:22<00:00, 35.46it/s]\n",
      "  0%|          | 0/782 [00:00<?, ?it/s]77s/it]"
     ]
    },
    {
     "name": "stdout",
     "output_type": "stream",
     "text": [
      "8 [3.4955  0.245   0.23522]\n"
     ]
    },
    {
     "name": "stderr",
     "output_type": "stream",
     "text": [
      "100%|██████████| 782/782 [00:21<00:00, 36.70it/s]\n",
      "100%|██████████| 782/782 [00:20<00:00, 37.31it/s]\n",
      "100%|██████████| 782/782 [00:22<00:00, 34.92it/s]\n",
      "100%|██████████| 782/782 [00:21<00:00, 37.01it/s]\n",
      "  0%|          | 0/782 [00:00<?, ?it/s].98s/it]"
     ]
    },
    {
     "name": "stdout",
     "output_type": "stream",
     "text": [
      "12 [3.3702  0.2935  0.28193]\n"
     ]
    },
    {
     "name": "stderr",
     "output_type": "stream",
     "text": [
      "100%|██████████| 782/782 [00:22<00:00, 35.07it/s]\n",
      "100%|██████████| 782/782 [00:21<00:00, 36.86it/s]\n",
      "100%|██████████| 782/782 [00:20<00:00, 37.29it/s]\n",
      "100%|██████████| 782/782 [00:22<00:00, 35.18it/s]\n",
      "100%|██████████| 782/782 [00:21<00:00, 37.02it/s]\n",
      "100%|██████████| 782/782 [00:21<00:00, 36.88it/s]\n",
      "100%|██████████| 782/782 [00:22<00:00, 35.10it/s]\n",
      "100%|██████████| 782/782 [00:21<00:00, 37.21it/s]\n",
      "  0%|          | 0/782 [00:00<?, ?it/s].36s/it]"
     ]
    },
    {
     "name": "stdout",
     "output_type": "stream",
     "text": [
      "20 [3.13028 0.3542  0.32352]\n"
     ]
    },
    {
     "name": "stderr",
     "output_type": "stream",
     "text": [
      "100%|██████████| 782/782 [00:22<00:00, 35.23it/s]\n",
      "100%|██████████| 782/782 [00:21<00:00, 35.83it/s]\n",
      "100%|██████████| 782/782 [00:21<00:00, 36.41it/s]\n",
      "100%|██████████| 782/782 [00:21<00:00, 37.04it/s]\n",
      "100%|██████████| 782/782 [00:21<00:00, 35.77it/s]\n",
      "100%|██████████| 782/782 [00:21<00:00, 36.64it/s]\n",
      "100%|██████████| 782/782 [00:20<00:00, 37.29it/s]\n",
      "100%|██████████| 782/782 [00:21<00:00, 35.69it/s]\n",
      "100%|██████████| 782/782 [00:21<00:00, 36.86it/s]\n",
      "100%|██████████| 782/782 [00:20<00:00, 37.54it/s]\n",
      "100%|██████████| 782/782 [00:22<00:00, 35.07it/s]\n",
      "100%|██████████| 782/782 [00:21<00:00, 36.99it/s]\n",
      "100%|██████████| 782/782 [00:21<00:00, 37.11it/s]\n",
      "100%|██████████| 782/782 [00:22<00:00, 35.25it/s]\n",
      "100%|██████████| 782/782 [00:21<00:00, 35.97it/s]\n",
      "100%|██████████| 782/782 [00:21<00:00, 36.11it/s]\n",
      "100%|██████████| 782/782 [00:20<00:00, 37.37it/s]\n",
      "100%|██████████| 782/782 [00:21<00:00, 36.06it/s]\n",
      "100%|██████████| 782/782 [00:21<00:00, 36.38it/s]\n",
      "100%|██████████| 782/782 [00:20<00:00, 37.40it/s]\n",
      "  0%|          | 0/782 [00:00<?, ?it/s].90s/it]"
     ]
    },
    {
     "name": "stdout",
     "output_type": "stream",
     "text": [
      "40 [2.61135 0.4391  0.43898]\n"
     ]
    },
    {
     "name": "stderr",
     "output_type": "stream",
     "text": [
      "100%|██████████| 782/782 [00:21<00:00, 36.05it/s]\n",
      "100%|██████████| 782/782 [00:20<00:00, 37.33it/s]\n",
      "100%|██████████| 782/782 [00:21<00:00, 35.73it/s]\n",
      "100%|██████████| 782/782 [00:21<00:00, 36.39it/s]\n",
      "100%|██████████| 782/782 [00:20<00:00, 37.28it/s]\n",
      "100%|██████████| 782/782 [00:21<00:00, 35.77it/s]\n",
      "100%|██████████| 782/782 [00:21<00:00, 36.72it/s]\n",
      "100%|██████████| 782/782 [00:20<00:00, 37.30it/s]\n",
      "100%|██████████| 782/782 [00:21<00:00, 35.74it/s]\n",
      "100%|██████████| 782/782 [00:21<00:00, 36.07it/s]\n",
      "100%|██████████| 782/782 [00:21<00:00, 35.59it/s]\n",
      "100%|██████████| 782/782 [00:20<00:00, 37.43it/s]\n",
      "100%|██████████| 782/782 [00:21<00:00, 36.41it/s]\n",
      "100%|██████████| 782/782 [00:22<00:00, 35.53it/s]\n",
      "100%|██████████| 782/782 [00:21<00:00, 37.15it/s]\n",
      "100%|██████████| 782/782 [00:21<00:00, 36.42it/s]\n",
      "100%|██████████| 782/782 [00:21<00:00, 36.12it/s]\n",
      "100%|██████████| 782/782 [00:21<00:00, 37.14it/s]\n",
      "100%|██████████| 782/782 [00:21<00:00, 36.16it/s]\n",
      "100%|██████████| 60/60 [24:47<00:00, 24.80s/it]\n"
     ]
    },
    {
     "name": "stdout",
     "output_type": "stream",
     "text": [
      "Classifier Accuracy {'testAcc': 0.4626, 'trainAcc': 0.47157}\n",
      "CPU times: user 13min 53s, sys: 1min 42s, total: 15min 35s\n",
      "Wall time: 25min 10s\n"
     ]
    }
   ],
   "source": [
    "%%time  \n",
    "# Train and save non-reflective Model\n",
    "classifier, lcfg = clModel.getclassifier(cfg,  train_loader, val_loader, norm=None)\n",
    "print(\"Classifier Accuracy\",lcfg)\n",
    "\n",
    "trained_model_path = \"trained_models/TinyImgNet_final\"\n",
    "import os\n",
    "os.makedirs(trained_model_path, exist_ok=True)\n",
    "torch.save(classifier, os.path.join(trained_model_path, \"classifier_new.pt\"))"
   ]
  },
  {
   "cell_type": "code",
   "execution_count": 6,
   "metadata": {},
   "outputs": [],
   "source": [
    "trained_model_path = \"trained_models/TinyImgNet_final\"\n",
    "import os\n",
    "classifier = torch.load(os.path.join(trained_model_path, \"classifier_new.pt\"))"
   ]
  },
  {
   "cell_type": "code",
   "execution_count": 7,
   "metadata": {},
   "outputs": [],
   "source": [
    "cfg[\"device\"] = torch.device(\"cuda:0\" if torch.cuda.is_available() else \"cpu\")"
   ]
  },
  {
   "cell_type": "code",
   "execution_count": 8,
   "metadata": {},
   "outputs": [],
   "source": [
    "classifier.to(cfg[\"device\"])\n",
    "classifier.eval()\n",
    "model_path = trained_model_path"
   ]
  },
  {
   "cell_type": "code",
   "execution_count": 10,
   "metadata": {},
   "outputs": [],
   "source": [
    "cfg[\"opt\"] = ('S', 1 if dummy else 60, 0.001, 0.0002)"
   ]
  },
  {
   "cell_type": "code",
   "execution_count": 7,
   "metadata": {},
   "outputs": [],
   "source": [
    "from dutils import NumpyFolder\n",
    "def getActs(cfg, model_path, train=True):\n",
    "    activations_path = os.path.join(model_path, \"activations_{}\".format(str(-1*cfg[\"layInd\"])), \"train\" if train else \"val\")\n",
    "    dset = NumpyFolder(root = activations_path)\n",
    "    return torch.utils.data.DataLoader(dset, batch_size=cfg[\"batchSize\"], shuffle=train,num_workers=4)\n"
   ]
  },
  {
   "cell_type": "code",
   "execution_count": 14,
   "metadata": {},
   "outputs": [],
   "source": [
    "train_loader, val_loader,_, trainset, valset=dutils.getFullDS(cfg, reconstr=True)\n",
    "model_path = trained_model_path"
   ]
  },
  {
   "cell_type": "code",
   "execution_count": null,
   "metadata": {},
   "outputs": [],
   "source": []
  },
  {
   "cell_type": "code",
   "execution_count": 11,
   "metadata": {},
   "outputs": [
    {
     "name": "stdout",
     "output_type": "stream",
     "text": [
      "Train CLaDec\n"
     ]
    },
    {
     "name": "stderr",
     "output_type": "stream",
     "text": [
      "  2%|▏         | 1/60 [00:23<23:25, 23.81s/it]"
     ]
    },
    {
     "name": "stdout",
     "output_type": "stream",
     "text": [
      "0 [0.02606 0.02165 4.43967]\n"
     ]
    },
    {
     "name": "stderr",
     "output_type": "stream",
     "text": [
      "  5%|▌         | 3/60 [01:11<22:39, 23.84s/it]"
     ]
    },
    {
     "name": "stdout",
     "output_type": "stream",
     "text": [
      "2 [0.02222 0.01787 4.36731]\n"
     ]
    },
    {
     "name": "stderr",
     "output_type": "stream",
     "text": [
      "  8%|▊         | 5/60 [01:59<21:48, 23.79s/it]"
     ]
    },
    {
     "name": "stdout",
     "output_type": "stream",
     "text": [
      "4 [0.02067 0.01732 3.36654]\n"
     ]
    },
    {
     "name": "stderr",
     "output_type": "stream",
     "text": [
      " 12%|█▏        | 7/60 [02:46<21:03, 23.83s/it]"
     ]
    },
    {
     "name": "stdout",
     "output_type": "stream",
     "text": [
      "6 [0.02036 0.01682 3.54999]\n"
     ]
    },
    {
     "name": "stderr",
     "output_type": "stream",
     "text": [
      " 15%|█▌        | 9/60 [03:34<20:11, 23.76s/it]"
     ]
    },
    {
     "name": "stdout",
     "output_type": "stream",
     "text": [
      "8 [0.01936 0.01607 3.31534]\n"
     ]
    },
    {
     "name": "stderr",
     "output_type": "stream",
     "text": [
      " 18%|█▊        | 11/60 [04:21<19:24, 23.77s/it]"
     ]
    },
    {
     "name": "stdout",
     "output_type": "stream",
     "text": [
      "10 [0.0192  0.01555 3.66598]\n"
     ]
    },
    {
     "name": "stderr",
     "output_type": "stream",
     "text": [
      " 35%|███▌      | 21/60 [15:04<43:29, 66.91s/it]   "
     ]
    },
    {
     "name": "stdout",
     "output_type": "stream",
     "text": [
      "20 [0.01816 0.01493 3.24671]\n"
     ]
    },
    {
     "name": "stderr",
     "output_type": "stream",
     "text": [
      " 52%|█████▏    | 31/60 [24:00<26:06, 54.00s/it]"
     ]
    },
    {
     "name": "stdout",
     "output_type": "stream",
     "text": [
      "30 [0.01731 0.01425 3.07142]\n"
     ]
    },
    {
     "name": "stderr",
     "output_type": "stream",
     "text": [
      " 68%|██████▊   | 41/60 [32:56<17:02, 53.80s/it]"
     ]
    },
    {
     "name": "stdout",
     "output_type": "stream",
     "text": [
      "40 [0.01763 0.0144  3.23853]\n"
     ]
    },
    {
     "name": "stderr",
     "output_type": "stream",
     "text": [
      " 85%|████████▌ | 51/60 [41:53<08:04, 53.89s/it]"
     ]
    },
    {
     "name": "stdout",
     "output_type": "stream",
     "text": [
      "50 [0.01762 0.01432 3.31319]\n"
     ]
    },
    {
     "name": "stderr",
     "output_type": "stream",
     "text": [
      "100%|██████████| 60/60 [49:56<00:00, 49.95s/it]"
     ]
    },
    {
     "name": "stdout",
     "output_type": "stream",
     "text": [
      "ClaDec Final loss {'ClaLo': 0.01729867437395403}\n"
     ]
    },
    {
     "name": "stderr",
     "output_type": "stream",
     "text": [
      "\n"
     ]
    }
   ],
   "source": [
    "for i in range(5, 6):\n",
    "    refae_path = os.path.join(model_path, \"refAE_{}.pt\".format(str(i)))\n",
    "    cladec_path = os.path.join(model_path, \"cladecNet_{}.pt\".format(str(i)))\n",
    "    cfg[\"layInd\"] = -1*i\n",
    "    #get Activations\n",
    "    actModel = cladec.getActModel(cfg, classifier)\n",
    "    actModel.eval()\n",
    "    #trds=getActs(cfg, model_path, train=True)\n",
    "    trds=getActs(cfg, train_loader, actModel)\n",
    "    if i>5:\n",
    "        #get RefAE\n",
    "        refAE,rcfg =cladec.getRefAE(cfg,trds, train_loader) #Does not use activations themselves, only needs shape\n",
    "        print(rcfg)\n",
    "        torch.save(refAE, refae_path)\n",
    "    # Train ClaDec\n",
    "    cladecNet,ccfg=cladec.getClaDec(cfg,classifier,None,trds)\n",
    "    print(\"ClaDec Final loss\", ccfg)\n",
    "    torch.save(cladecNet, cladec_path)\n"
   ]
  },
  {
   "cell_type": "code",
   "execution_count": null,
   "metadata": {},
   "outputs": [],
   "source": [
    "ccfg"
   ]
  },
  {
   "cell_type": "code",
   "execution_count": null,
   "metadata": {},
   "outputs": [],
   "source": [
    "torch.save(val_loader, os.path.join(model_path, \"original.pt\"))"
   ]
  },
  {
   "cell_type": "code",
   "execution_count": 12,
   "metadata": {},
   "outputs": [],
   "source": [
    "(batch, label) = next(iter(val_loader))"
   ]
  },
  {
   "cell_type": "code",
   "execution_count": 20,
   "metadata": {},
   "outputs": [],
   "source": [
    "from dutils import getnorm\n",
    "import torchvision.transforms as transforms\n",
    "\n",
    "class LargeReconstrDataset(IterableDataset):\n",
    "    def __init__(self, orig_loader, model, device, train):\n",
    "        super(LargeReconstrDataset, self).__init__()\n",
    "        self.orig_loader = orig_loader\n",
    "        self.model = model\n",
    "        self.device = device\n",
    "        norm = getnorm(\"TinyImgNet\")\n",
    "        tr_list = [transforms.Normalize(mean = norm[0], std=norm[1])]\n",
    "        if train:\n",
    "            tr_list.append(transforms.RandomResizedCrop(64))\n",
    "            tr_list.append(transforms.RandomHorizontalFlip())\n",
    "            \n",
    "        self.transform = transforms.Compose(tr_list)\n",
    "\n",
    "    def __iter__(self) :\n",
    "        for (img, label) in self.orig_loader:\n",
    "            with torch.no_grad():\n",
    "                with tca.autocast():\n",
    "                    reconstr = self.model(img.to(self.device)).detach().cpu()\n",
    "                reconstr = self.transform(reconstr)\n",
    "            yield (reconstr, label)\n",
    "\n",
    "from torch.utils.data import DataLoader\n",
    "from torchvision.datasets import ImageFolder\n",
    "import torchvision.transforms as transforms\n",
    "\n",
    "def getReconstr(cfg, model_path, cladec=True, train=True):\n",
    "    rec_path = os.path.join(model_path, \"rec_cladec\" if cladec else \"rec_refae\", \"reconstructions_{}\".format(str(-1*cfg[\"layInd\"])),\"train\" if train else \"val\")\n",
    "    if train:\n",
    "        transform = transforms.Compose([transforms.ToTensor(), transforms.RandomResizedCrop(64), transforms.RandomHorizontalFlip()])\n",
    "    else:\n",
    "        transform = transforms.ToTensor()\n",
    "    ds_reconstr = ImageFolder(rec_path, transform = transform)\n",
    "    return torch.utils.data.DataLoader(ds_reconstr, batch_size=cfg[\"batchSize\"], shuffle=train, num_workers = 4)\n"
   ]
  },
  {
   "cell_type": "code",
   "execution_count": 16,
   "metadata": {},
   "outputs": [],
   "source": [
    "def getReconstrDS(acts_ds,refAE,cladecNet):\n",
    "    cladec_loss, refae_loss = 0, 0\n",
    "    for i, data in enumerate(tqdm(acts_ds, position=0, leave=True)):\n",
    "        #if i > 2: break\n",
    "        with tca.autocast():\n",
    "            with torch.no_grad():\n",
    "                dsx, dsact = data[0].cuda(), data[2].cuda()\n",
    "                if len(dsx.size()) == 5:\n",
    "                    dsx = dsx.squeeze(0)\n",
    "                    dsact = dsact.squeeze(0)\n",
    "                outCla = cladecNet(dsact).detach().cpu().float()\n",
    "                outAE = refAE(dsx).detach().cpu().float()\n",
    "                dsx = dsx.detach().squeeze().cpu().float()\n",
    "                cladec_loss += (outCla - dsx).pow(2).mean()\n",
    "                refae_loss += (outAE - dsx).pow(2).mean()\n",
    "    \n",
    "    \n",
    "    refae_loss = refae_loss/i\n",
    "    cladec_loss = cladec_loss/i\n",
    "    return cladec_loss, refae_loss\n",
    "        #X=torch.cat(X,dim=0)\n",
    "        #y=torch.cat(y, dim=0)\n",
    "        #dsact=TensorDataset(X,y,conacts)\n",
    "        #return torch.utils.data.DataLoader(dsact, batch_size=cfg[\"batchSize\"], shuffle=True, num_workers=4)\n"
   ]
  },
  {
   "cell_type": "code",
   "execution_count": 55,
   "metadata": {},
   "outputs": [],
   "source": [
    "dat = next(iter(cladec_train))"
   ]
  },
  {
   "cell_type": "code",
   "execution_count": 65,
   "metadata": {},
   "outputs": [
    {
     "data": {
      "text/plain": [
       "tensor([[172, 182,  34,  62,  57,   8, 174,  95, 176,  35, 185, 163, 103, 126,\n",
       "         183, 141,  51,  13,  10, 118,  85, 172,  27, 158, 142, 123, 174, 165,\n",
       "          36,  79, 109, 132, 181, 137, 128, 164,  65, 156, 171, 187,  98,  70,\n",
       "           6,  61,  50,  50,   4,  90, 117, 153,  60,  85, 107,  49,  57,  26,\n",
       "         166,  98,  76,  33,  30,  75,  62, 152,  90,  19,  21,   1, 195, 118,\n",
       "         161,  25,  71,  15,  87, 149, 102, 168, 173, 115, 197,   3, 199, 140,\n",
       "          11,  97, 140, 123, 127,  72,  39,  63,  56, 172, 141, 117, 123,  86,\n",
       "          42,   2, 196,  16,  20,  89, 175,  27, 175, 128,  62, 140,  52, 194,\n",
       "         101, 121, 158, 118,  80,  73,  88,  80,  58, 168, 114,  12,  21,  42,\n",
       "          41, 184]])"
      ]
     },
     "execution_count": 65,
     "metadata": {},
     "output_type": "execute_result"
    }
   ],
   "source": [
    "dat[1]"
   ]
  },
  {
   "cell_type": "code",
   "execution_count": 60,
   "metadata": {},
   "outputs": [],
   "source": [
    "loss = torch.nn.CrossEntropyLoss()\n"
   ]
  },
  {
   "cell_type": "code",
   "execution_count": 14,
   "metadata": {},
   "outputs": [
    {
     "name": "stderr",
     "output_type": "stream",
     "text": [
      "782it [00:32, 24.43it/s]\n",
      "782it [00:32, 24.26it/s]\n",
      "782it [00:30, 25.64it/s]\n",
      "782it [00:30, 25.82it/s]\n",
      "782it [00:30, 25.64it/s]\n",
      "782it [00:30, 26.05it/s]\n",
      "782it [00:30, 25.82it/s]\n",
      "782it [00:30, 25.65it/s]\n",
      " 80%|████████  | 4/5 [04:24<01:05, 65.64s/it]\n"
     ]
    }
   ],
   "source": [
    "from models import getAcc\n",
    "from tqdm import tqdm\n",
    "for i in tqdm(range(1,6)):\n",
    "    refAE = torch.load(\"trained_models/TinyImgNet/temp_refAE_\"+  str(i) + \".pt\")\n",
    "    cladecNet = torch.load(\"trained_models/TinyImgNet/temp_cladecNet_\"+  str(i) + \".pt\")\n",
    "    clf_cladec = torch.load(\"trained_models/TinyImgNet/clf_cladec_\" + str(i) + \".pt\")\n",
    "    clf_ae = torch.load(\"trained_models/TinyImgNet/clf_ae_\" + str(i) + \".pt\")\n",
    "    cfg[\"layInd\"] = -1*i\n",
    "    \n",
    "    actModel = cladec.getActModel(cfg, classifier)\n",
    "    refAE.eval()\n",
    "    cladecNet.eval()\n",
    "    actModel.eval()\n",
    "    \n",
    "    train_acts = getActs(train_loader, actModel, cfg)\n",
    "    val_acts = getActs(val_loader, actModel, cfg)\n",
    "    \n",
    "    cladec_train_loss, refae_train_loss = getReconstrDS(train_acts, refAE, cladecNet)\n",
    "    cladec_val= getReconstr(val_loader, torch.nn.Sequential(actModel, cladecNet),cfg, train=False)\n",
    "    refae_val = getReconstr(val_loader, refAE,cfg)\n",
    "    cladec_val_loss, refae_val_loss = getReconstrDS(train_acts, refAE, cladecNet)\n",
    "    \n",
    "    ae_train_loss_list.append(refae_train_loss)\n",
    "    ae_val_loss_list.append(refae_val_loss)\n",
    "    cladec_train_loss_list.append(cladec_train_loss)\n",
    "    cladec_val_loss_list.append(cladec_val_loss)\n",
    "\n",
    "    lcfg_cladec = {}\n",
    "    lcfg_ae = {}\n",
    "    lcfg_ae[\"testAcc\"] = getAcc(clf_ae, refae_val,  niter=1e10,norm=None)\n",
    "    lcfg_cladec[\"testAcc\"] = getAcc(clf_cladec, cladec_val,  niter=1e10,norm=None)\n",
    "\n",
    "    cladec_val_acc.append(lcfg_cladec[\"testAcc\"])\n",
    "    refae_val_acc.append(lcfg_ae[\"testAcc\"])\n",
    "torch.save(reconstr_ae,\"trained_models/TinyImgNet/reconstr_ae.pt\")\n",
    "torch.save(reconstr_cladec,\"trained_models/TinyImgNet/reconstr_cladec.pt\")\n",
    "torch.save({\"cladec_train_loss\" : cladec_train_loss_list, \"cladec_val_loss\": cladec_val_loss_list, \"cladec_val_acc\" : cladec_val_acc}, \"cladec_metrics.pt\")\n",
    "torch.save({\"ae_train_loss\" : ae_train_loss_list, \"ae_val_loss\": ae_val_loss_list, \"ae_val_acc\" : refae_val_acc}, \"ae_metrics.pt\")\n",
    "\n",
    "\n"
   ]
  },
  {
   "cell_type": "code",
   "execution_count": null,
   "metadata": {},
   "outputs": [],
   "source": []
  },
  {
   "cell_type": "code",
   "execution_count": null,
   "metadata": {},
   "outputs": [
    {
     "name": "stderr",
     "output_type": "stream",
     "text": [
      "782it [00:22, 34.29it/s]:00<?, ?it/s]\n",
      "782it [00:22, 34.18it/s]\n",
      "\n",
      "  0%|          | 0/782 [00:00<?, ?it/s][A"
     ]
    },
    {
     "name": "stdout",
     "output_type": "stream",
     "text": [
      "Train Classifier to explain\n"
     ]
    },
    {
     "name": "stderr",
     "output_type": "stream",
     "text": [
      "100%|██████████| 782/782 [00:23<00:00, 32.96it/s]\n",
      "\n",
      "  0%|          | 0/782 [00:00<?, ?it/s]27s/it]\u001b[A"
     ]
    },
    {
     "name": "stdout",
     "output_type": "stream",
     "text": [
      "0 [4.64925 0.0705  0.06908]\n"
     ]
    },
    {
     "name": "stderr",
     "output_type": "stream",
     "text": [
      "100%|██████████| 782/782 [00:21<00:00, 36.60it/s]\n",
      "\n",
      "100%|██████████| 782/782 [00:22<00:00, 34.95it/s]\n",
      "\n",
      "100%|██████████| 782/782 [00:21<00:00, 37.01it/s]\n",
      "\n",
      "100%|██████████| 782/782 [00:21<00:00, 37.15it/s]\n",
      "\n",
      "  0%|          | 0/782 [00:00<?, ?it/s]57s/it]\u001b[A"
     ]
    },
    {
     "name": "stdout",
     "output_type": "stream",
     "text": [
      "4 [3.64161 0.1704  0.20359]\n"
     ]
    },
    {
     "name": "stderr",
     "output_type": "stream",
     "text": [
      "100%|██████████| 782/782 [00:21<00:00, 37.19it/s]\n",
      "\n",
      "100%|██████████| 782/782 [00:20<00:00, 37.62it/s]\n",
      "\n",
      "100%|██████████| 782/782 [00:22<00:00, 35.36it/s]\n",
      "\n",
      "100%|██████████| 782/782 [00:21<00:00, 36.41it/s]\n",
      "\n",
      "  0%|          | 0/782 [00:00<?, ?it/s]37s/it]\u001b[A"
     ]
    },
    {
     "name": "stdout",
     "output_type": "stream",
     "text": [
      "8 [3.18013 0.2653  0.28588]\n"
     ]
    },
    {
     "name": "stderr",
     "output_type": "stream",
     "text": [
      "100%|██████████| 782/782 [00:20<00:00, 37.25it/s]\n",
      "\n",
      "100%|██████████| 782/782 [00:21<00:00, 36.13it/s]A\n",
      "\n",
      "100%|██████████| 782/782 [00:21<00:00, 36.04it/s]A\n",
      "\n",
      "100%|██████████| 782/782 [00:21<00:00, 37.13it/s]A\n",
      "\n",
      "  0%|          | 0/782 [00:00<?, ?it/s].16s/it]\u001b[A"
     ]
    },
    {
     "name": "stdout",
     "output_type": "stream",
     "text": [
      "12 [3.00668 0.3038  0.33229]\n"
     ]
    },
    {
     "name": "stderr",
     "output_type": "stream",
     "text": [
      "100%|██████████| 782/782 [00:21<00:00, 36.05it/s]\n",
      "\n",
      "100%|██████████| 782/782 [00:20<00:00, 37.27it/s]A\n",
      "\n",
      "100%|██████████| 782/782 [00:21<00:00, 35.90it/s]A\n",
      "\n",
      "100%|██████████| 782/782 [00:21<00:00, 36.64it/s]A\n",
      "\n",
      "100%|██████████| 782/782 [00:20<00:00, 37.60it/s]A\n",
      "\n",
      "100%|██████████| 782/782 [00:21<00:00, 35.59it/s]A\n",
      "\n",
      "100%|██████████| 782/782 [00:21<00:00, 35.60it/s]A\n",
      "\n",
      "100%|██████████| 782/782 [00:21<00:00, 35.73it/s]A\n",
      "\n",
      "  0%|          | 0/782 [00:00<?, ?it/s].64s/it]\u001b[A"
     ]
    },
    {
     "name": "stdout",
     "output_type": "stream",
     "text": [
      "20 [2.82635 0.3248  0.35456]\n"
     ]
    },
    {
     "name": "stderr",
     "output_type": "stream",
     "text": [
      "100%|██████████| 782/782 [00:21<00:00, 36.68it/s]\n",
      "\n",
      "100%|██████████| 782/782 [00:21<00:00, 35.69it/s]A\n",
      "\n",
      "100%|██████████| 782/782 [00:21<00:00, 36.84it/s]A\n",
      "\n",
      "100%|██████████| 782/782 [00:21<00:00, 36.49it/s]A\n",
      "\n",
      "100%|██████████| 782/782 [00:21<00:00, 35.77it/s]A\n",
      "\n",
      "100%|██████████| 782/782 [00:20<00:00, 37.30it/s]A\n",
      "\n",
      "100%|██████████| 782/782 [00:21<00:00, 36.49it/s]A\n",
      "\n",
      "100%|██████████| 782/782 [00:21<00:00, 36.54it/s]A\n",
      "\n",
      "100%|██████████| 782/782 [00:21<00:00, 37.23it/s]A\n",
      "\n",
      "100%|██████████| 782/782 [00:21<00:00, 36.08it/s]A\n",
      "\n",
      "100%|██████████| 782/782 [00:21<00:00, 36.74it/s]A\n",
      "\n",
      "100%|██████████| 782/782 [00:20<00:00, 37.83it/s]A\n",
      "\n",
      "100%|██████████| 782/782 [00:21<00:00, 35.96it/s]A\n",
      "\n",
      "100%|██████████| 782/782 [00:21<00:00, 35.99it/s]A\n",
      "\n",
      "100%|██████████| 782/782 [00:22<00:00, 35.11it/s]A\n",
      "\n",
      "100%|██████████| 782/782 [00:21<00:00, 37.23it/s]A\n",
      "\n",
      "100%|██████████| 782/782 [00:21<00:00, 37.04it/s]A\n",
      "\n",
      "100%|██████████| 782/782 [00:21<00:00, 35.55it/s]A\n",
      "\n",
      "100%|██████████| 782/782 [00:21<00:00, 37.04it/s]A\n",
      "\n",
      "100%|██████████| 782/782 [00:21<00:00, 36.33it/s]A\n",
      "\n",
      "  0%|          | 0/782 [00:00<?, ?it/s].10s/it]\u001b[A"
     ]
    },
    {
     "name": "stdout",
     "output_type": "stream",
     "text": [
      "40 [2.48955 0.3864  0.44206]\n"
     ]
    },
    {
     "name": "stderr",
     "output_type": "stream",
     "text": [
      "100%|██████████| 782/782 [00:20<00:00, 37.32it/s]\n",
      "\n",
      "100%|██████████| 782/782 [00:21<00:00, 36.79it/s]A\n",
      "\n",
      "100%|██████████| 782/782 [00:21<00:00, 35.67it/s]A\n",
      "\n",
      "100%|██████████| 782/782 [00:20<00:00, 37.36it/s]A\n",
      "\n",
      "100%|██████████| 782/782 [00:21<00:00, 36.15it/s]A\n",
      "\n",
      "100%|██████████| 782/782 [00:21<00:00, 35.84it/s]A\n",
      "\n",
      "100%|██████████| 782/782 [00:22<00:00, 35.33it/s]A\n",
      "\n",
      "100%|██████████| 782/782 [00:21<00:00, 37.07it/s]A\n",
      "\n",
      "100%|██████████| 782/782 [00:20<00:00, 37.37it/s]A\n",
      "\n",
      "100%|██████████| 782/782 [00:22<00:00, 35.14it/s]A\n",
      "\n",
      "100%|██████████| 782/782 [00:20<00:00, 37.37it/s]A\n",
      "\n",
      "100%|██████████| 782/782 [00:21<00:00, 37.03it/s]A\n",
      "\n",
      "100%|██████████| 782/782 [00:22<00:00, 35.53it/s]A\n",
      "\n",
      "100%|██████████| 782/782 [00:20<00:00, 37.46it/s]A\n",
      "\n",
      "100%|██████████| 782/782 [00:21<00:00, 36.90it/s]A\n",
      "\n",
      "100%|██████████| 782/782 [00:22<00:00, 35.20it/s]A\n",
      "\n",
      "100%|██████████| 782/782 [00:21<00:00, 37.12it/s]A\n",
      "\n",
      "100%|██████████| 782/782 [00:21<00:00, 36.78it/s]A\n",
      "\n",
      "100%|██████████| 782/782 [00:21<00:00, 35.91it/s]A\n",
      "\n",
      "100%|██████████| 60/60 [24:46<00:00, 24.77s/it]\u001b[A\n",
      "\n",
      "  0%|          | 0/782 [00:00<?, ?it/s][A"
     ]
    },
    {
     "name": "stdout",
     "output_type": "stream",
     "text": [
      "Train Classifier to explain\n"
     ]
    },
    {
     "name": "stderr",
     "output_type": "stream",
     "text": [
      "100%|██████████| 782/782 [00:23<00:00, 33.95it/s]\n",
      "\n",
      "  0%|          | 0/782 [00:00<?, ?it/s]17s/it]\u001b[A"
     ]
    },
    {
     "name": "stdout",
     "output_type": "stream",
     "text": [
      "0 [4.82284 0.0466  0.04425]\n"
     ]
    },
    {
     "name": "stderr",
     "output_type": "stream",
     "text": [
      "100%|██████████| 782/782 [00:22<00:00, 34.87it/s]\n",
      "\n",
      "100%|██████████| 782/782 [00:21<00:00, 36.77it/s]\n",
      "\n",
      "100%|██████████| 782/782 [00:21<00:00, 37.05it/s]\n",
      "\n",
      "100%|██████████| 782/782 [00:22<00:00, 34.95it/s]\n",
      "\n",
      "  0%|          | 0/782 [00:00<?, ?it/s]56s/it]\u001b[A"
     ]
    },
    {
     "name": "stdout",
     "output_type": "stream",
     "text": [
      "4 [4.0566  0.1732  0.14618]\n"
     ]
    },
    {
     "name": "stderr",
     "output_type": "stream",
     "text": [
      "100%|██████████| 782/782 [00:21<00:00, 37.11it/s]\n",
      "\n",
      "100%|██████████| 782/782 [00:22<00:00, 34.95it/s]\n",
      "\n",
      "100%|██████████| 782/782 [00:20<00:00, 37.45it/s]\n",
      "\n",
      "100%|██████████| 782/782 [00:21<00:00, 36.60it/s]\n",
      "\n",
      "  0%|          | 0/782 [00:00<?, ?it/s]56s/it]\u001b[A"
     ]
    },
    {
     "name": "stdout",
     "output_type": "stream",
     "text": [
      "8 [3.78188 0.236   0.19864]\n"
     ]
    },
    {
     "name": "stderr",
     "output_type": "stream",
     "text": [
      "100%|██████████| 782/782 [00:21<00:00, 37.18it/s]\n",
      "\n",
      "100%|██████████| 782/782 [00:21<00:00, 36.85it/s]A\n",
      "\n",
      "100%|██████████| 782/782 [00:22<00:00, 35.00it/s]A\n",
      "\n",
      "100%|██████████| 782/782 [00:22<00:00, 35.39it/s]A\n",
      "\n",
      "  0%|          | 0/782 [00:00<?, ?it/s].46s/it]\u001b[A"
     ]
    },
    {
     "name": "stdout",
     "output_type": "stream",
     "text": [
      "12 [3.64616 0.2583  0.22976]\n"
     ]
    },
    {
     "name": "stderr",
     "output_type": "stream",
     "text": [
      "100%|██████████| 782/782 [00:21<00:00, 36.82it/s]\n",
      "\n",
      "100%|██████████| 782/782 [00:22<00:00, 34.99it/s]A\n",
      "\n",
      "100%|██████████| 782/782 [00:21<00:00, 36.12it/s]A\n",
      "\n",
      "100%|██████████| 782/782 [00:21<00:00, 36.93it/s]A\n",
      "\n",
      "100%|██████████| 782/782 [00:22<00:00, 34.75it/s]A\n",
      "\n",
      "100%|██████████| 782/782 [00:21<00:00, 36.43it/s]A\n",
      "\n",
      "100%|██████████| 782/782 [00:21<00:00, 37.10it/s]A\n",
      "\n",
      "100%|██████████| 782/782 [00:22<00:00, 34.56it/s]A\n",
      "\n",
      "  0%|          | 0/782 [00:00<?, ?it/s].86s/it]\u001b[A"
     ]
    },
    {
     "name": "stdout",
     "output_type": "stream",
     "text": [
      "20 [3.46596 0.2943  0.2533 ]\n"
     ]
    },
    {
     "name": "stderr",
     "output_type": "stream",
     "text": [
      "100%|██████████| 782/782 [00:20<00:00, 37.25it/s]\n",
      "\n",
      "100%|██████████| 782/782 [00:22<00:00, 34.93it/s]A\n",
      "\n",
      "100%|██████████| 782/782 [00:21<00:00, 36.77it/s]A\n",
      "\n",
      "100%|██████████| 782/782 [00:21<00:00, 36.30it/s]A\n",
      "\n",
      "100%|██████████| 782/782 [00:22<00:00, 35.20it/s]A\n",
      "\n",
      "100%|██████████| 782/782 [00:22<00:00, 35.21it/s]A\n",
      "\n",
      "100%|██████████| 782/782 [00:21<00:00, 35.79it/s]A\n",
      "\n",
      "100%|██████████| 782/782 [00:21<00:00, 37.16it/s]A\n",
      "\n",
      "100%|██████████| 782/782 [00:22<00:00, 35.18it/s]A\n",
      "\n",
      "100%|██████████| 782/782 [00:21<00:00, 36.66it/s]A\n",
      "\n",
      "100%|██████████| 782/782 [00:21<00:00, 37.18it/s]A\n",
      "\n",
      "100%|██████████| 782/782 [00:22<00:00, 35.33it/s]A\n",
      "\n",
      "100%|██████████| 782/782 [00:21<00:00, 36.82it/s]A\n",
      "\n",
      "100%|██████████| 782/782 [00:21<00:00, 37.08it/s]A\n",
      "\n",
      "100%|██████████| 782/782 [00:22<00:00, 34.83it/s]A\n",
      "\n",
      "100%|██████████| 782/782 [00:21<00:00, 36.90it/s]A\n",
      "\n",
      "100%|██████████| 782/782 [00:21<00:00, 36.84it/s]A\n",
      "\n",
      "100%|██████████| 782/782 [00:22<00:00, 35.23it/s]A\n",
      "\n",
      "100%|██████████| 782/782 [00:22<00:00, 35.22it/s]A\n",
      "\n",
      "100%|██████████| 782/782 [00:21<00:00, 36.42it/s]A\n",
      "\n",
      "  0%|          | 0/782 [00:00<?, ?it/s].20s/it]\u001b[A"
     ]
    },
    {
     "name": "stdout",
     "output_type": "stream",
     "text": [
      "40 [3.05099 0.3813  0.35236]\n"
     ]
    },
    {
     "name": "stderr",
     "output_type": "stream",
     "text": [
      "100%|██████████| 782/782 [00:22<00:00, 35.45it/s]\n",
      "\n",
      "100%|██████████| 782/782 [00:21<00:00, 36.44it/s]A\n",
      "\n",
      "100%|██████████| 782/782 [00:21<00:00, 36.96it/s]A\n",
      "\n",
      "100%|██████████| 782/782 [00:22<00:00, 35.44it/s]A\n",
      "\n",
      "100%|██████████| 782/782 [00:21<00:00, 37.03it/s]A\n",
      "\n",
      "100%|██████████| 782/782 [00:21<00:00, 37.17it/s]A\n",
      "\n",
      "100%|██████████| 782/782 [00:22<00:00, 35.19it/s]A\n",
      "\n",
      "100%|██████████| 782/782 [00:21<00:00, 37.12it/s]A\n",
      "\n",
      "100%|██████████| 782/782 [00:21<00:00, 37.07it/s]A\n",
      "\n",
      "100%|██████████| 782/782 [00:22<00:00, 35.12it/s]A\n",
      "\n",
      "100%|██████████| 782/782 [00:21<00:00, 36.94it/s]A\n",
      "\n",
      "100%|██████████| 782/782 [00:21<00:00, 36.85it/s]A\n",
      "\n",
      "100%|██████████| 782/782 [00:22<00:00, 35.06it/s]A\n",
      "\n",
      "100%|██████████| 782/782 [00:22<00:00, 35.31it/s]A\n",
      "\n",
      "100%|██████████| 782/782 [00:21<00:00, 36.57it/s]A\n",
      "\n",
      "100%|██████████| 782/782 [00:21<00:00, 37.20it/s]A\n",
      "\n",
      "100%|██████████| 782/782 [00:21<00:00, 35.70it/s]A\n",
      "\n",
      "100%|██████████| 782/782 [00:21<00:00, 36.62it/s]A\n",
      "\n",
      "100%|██████████| 782/782 [00:20<00:00, 37.39it/s]A\n",
      "\n",
      "100%|██████████| 60/60 [24:56<00:00, 24.95s/it]\u001b[A\n"
     ]
    }
   ],
   "source": [
    "ae_train_loss_list = []\n",
    "ae_val_loss_list = []\n",
    "cladec_train_loss_list = []\n",
    "cladec_val_loss_list = []\n",
    "cladec_val_acc = []\n",
    "refae_val_acc = []\n",
    "\n",
    "\n",
    "for i in tqdm(range(2,6)):\n",
    "    refAE = torch.load(os.path.join(model_path, \"refAE_\"+  str(i) + \".pt\"))\n",
    "    cladecNet = torch.load(os.path.join(model_path, \"cladecNet_\"+  str(i) + \".pt\"))\n",
    "    cfg[\"layInd\"] = -1*i\n",
    "    \n",
    "    actModel = cladec.getActModel(cfg, classifier)\n",
    "    refAE.eval()\n",
    "    cladecNet.eval()\n",
    "    actModel.eval()\n",
    "    \n",
    "    train_acts = getActs(train_loader, actModel, cfg)\n",
    "    val_acts = getActs(val_loader, actModel, cfg)\n",
    "    \n",
    "    cladec_train = getReconstr(cfg, model_path, cladec=True, train=True)\n",
    "    refae_train = getReconstr(cfg, model_path, cladec=False, train=True)\n",
    "    cladec_train_loss, refae_train_loss = getReconstrDS(train_acts, refAE, cladecNet)\n",
    "    cladec_val= getReconstr(cfg, model_path, cladec=True, train=False)\n",
    "    refae_val = getReconstr(cfg, model_path, cladec=False, train=False)\n",
    "    cladec_val_loss, refae_val_loss = getReconstrDS(train_acts, refAE, cladecNet)\n",
    "    \n",
    "    ae_train_loss_list.append(refae_train_loss)\n",
    "    ae_val_loss_list.append(refae_val_loss)\n",
    "    cladec_train_loss_list.append(cladec_train_loss)\n",
    "    cladec_val_loss_list.append(cladec_val_loss)\n",
    "\n",
    "    \n",
    "    clf_cladec, lcfg_cladec = clModel.getclassifier(cfg,  cladec_train, cladec_val, norm=None)\n",
    "    cladec_val_acc.append(lcfg_cladec[\"testAcc\"])\n",
    "    torch.save(clf_cladec,os.path.join(model_path, \"clf_cladec_\" + str(i) + \".pt\"))\n",
    "    clf_ae, lcfg_ae = clModel.getclassifier(cfg,  refae_train, refae_val, norm=None)\n",
    "    refae_val_acc.append(lcfg_ae[\"testAcc\"])\n",
    "    torch.save(clf_ae,os.path.join(model_path, \"clf_ae_\" + str(i) + \".pt\"))\n",
    "    torch.save({\"cladec_train_loss\" : cladec_train_loss_list, \"cladec_val_loss\": cladec_val_loss_list, \"cladec_val_acc\" : cladec_val_acc}, os.path.join(model_path,\"cladec_metrics_{}.pt\".format(str(i))))\n",
    "    torch.save({\"ae_train_loss\" : ae_train_loss_list, \"ae_val_loss\": ae_val_loss_list, \"ae_val_acc\" : refae_val_acc}, os.path.join(model_path, \"ae_metrics_{}.pt\".format(str(i))))\n",
    "\n",
    "print(\"cladec metrics\")\n",
    "print(cladec_val_acc)\n",
    "print(\"refae metrics\")\n",
    "print(refae_val_acc)\n"
   ]
  },
  {
   "cell_type": "code",
   "execution_count": 12,
   "metadata": {},
   "outputs": [],
   "source": [
    "ex = valset[0][0]"
   ]
  },
  {
   "cell_type": "code",
   "execution_count": 13,
   "metadata": {},
   "outputs": [],
   "source": [
    "import matplotlib.pyplot as plt\n",
    "with tca.autocast():\n",
    "    ex_cuda = ex.unsqueeze(0).cuda()\n",
    "    ref_op = refAE(ex_cuda).float().squeeze(0).detach().cpu().numpy()\n",
    "    act = actModel(ex_cuda)\n",
    "    cladec_op = cladecNet(act).float().squeeze(0).detach().cpu().numpy()\n"
   ]
  },
  {
   "cell_type": "code",
   "execution_count": 14,
   "metadata": {},
   "outputs": [
    {
     "data": {
      "text/plain": [
       "<matplotlib.image.AxesImage at 0x7f939da16730>"
      ]
     },
     "execution_count": 14,
     "metadata": {},
     "output_type": "execute_result"
    },
    {
     "data": {
      "image/png": "[encoded data removed]",
      "text/plain": [
       "<Figure size 432x288 with 1 Axes>"
      ]
     },
     "metadata": {
      "needs_background": "light"
     },
     "output_type": "display_data"
    }
   ],
   "source": [
    "plt.imshow(ref_op.transpose(1,2,0))"
   ]
  },
  {
   "cell_type": "code",
   "execution_count": null,
   "metadata": {},
   "outputs": [],
   "source": [
    "plt.imshow(cladec_op.transpose(1,2,0))"
   ]
  },
  {
   "cell_type": "code",
   "execution_count": 16,
   "metadata": {},
   "outputs": [
    {
     "data": {
      "text/plain": [
       "<matplotlib.image.AxesImage at 0x7f939dbf13d0>"
      ]
     },
     "execution_count": 16,
     "metadata": {},
     "output_type": "execute_result"
    },
    {
     "data": {
      "image/png": "[encoded data removed]",
      "text/plain": [
       "<Figure size 432x288 with 1 Axes>"
      ]
     },
     "metadata": {
      "needs_background": "light"
     },
     "output_type": "display_data"
    }
   ],
   "source": [
    "plt.imshow(ex.numpy().transpose(1,2,0))"
   ]
  },
  {
   "cell_type": "code",
   "execution_count": 7,
   "metadata": {},
   "outputs": [],
   "source": [
    "import numpy as np"
   ]
  },
  {
   "cell_type": "code",
   "execution_count": 8,
   "metadata": {},
   "outputs": [],
   "source": [
    "ae_metrics = torch.load(\"/home/harshv834/ClaDec/trained_models/TinyImgNet/ae_metrics.pt\")\n",
    "cladec_metrics = torch.load(\"/home/harshv834/ClaDec/trained_models/TinyImgNet/cladec_metrics.pt\")"
   ]
  },
  {
   "cell_type": "code",
   "execution_count": 18,
   "metadata": {},
   "outputs": [
    {
     "name": "stderr",
     "output_type": "stream",
     "text": [
      "782it [00:22, 35.05it/s]:00<?, ?it/s]\n",
      "782it [00:22, 34.58it/s]\n",
      "\n",
      "0it [00:00, ?it/s]/60 [00:00<?, ?it/s]\u001b[A"
     ]
    },
    {
     "name": "stdout",
     "output_type": "stream",
     "text": [
      "Train Classifier to explain\n"
     ]
    },
    {
     "name": "stderr",
     "output_type": "stream",
     "text": [
      "782it [00:30, 25.68it/s]\n",
      "\n",
      "0it [00:00, ?it/s]/60 [00:54<53:42, 54.63s/it]\u001b[A"
     ]
    },
    {
     "name": "stdout",
     "output_type": "stream",
     "text": [
      "0 [5.05653 0.0263  0.02506]\n"
     ]
    },
    {
     "name": "stderr",
     "output_type": "stream",
     "text": [
      "782it [00:30, 25.41it/s]\n",
      "\n",
      "782it [00:31, 25.13it/s]1:27<40:15, 41.65s/it]\u001b[A\n",
      "\n",
      "782it [00:30, 25.44it/s]2:00<35:47, 37.67s/it]\u001b[A\n",
      "\n",
      "782it [00:30, 25.81it/s]2:32<33:15, 35.63s/it]\u001b[A\n",
      "\n",
      "0it [00:00, ?it/s]/60 [03:26<38:46, 42.29s/it]\u001b[A"
     ]
    },
    {
     "name": "stdout",
     "output_type": "stream",
     "text": [
      "4 [4.2029  0.0892  0.09833]\n"
     ]
    },
    {
     "name": "stderr",
     "output_type": "stream",
     "text": [
      "782it [00:30, 25.49it/s]\n",
      "\n",
      "782it [00:31, 25.19it/s]3:59<35:03, 38.95s/it]\u001b[A\n",
      "\n",
      "782it [00:30, 25.77it/s]4:32<32:38, 36.94s/it]\u001b[A\n",
      "\n",
      "782it [00:30, 25.95it/s]5:04<30:41, 35.41s/it]\u001b[A\n",
      "\n",
      "0it [00:00, ?it/s]/60 [05:57<34:59, 41.17s/it]\u001b[A"
     ]
    },
    {
     "name": "stdout",
     "output_type": "stream",
     "text": [
      "8 [3.90959 0.1126  0.13381]\n"
     ]
    },
    {
     "name": "stderr",
     "output_type": "stream",
     "text": [
      "782it [00:30, 25.69it/s]\n",
      "\n",
      "782it [00:30, 25.67it/s]06:30<32:00, 38.41s/it]\u001b[A\n",
      "\n",
      "782it [00:30, 25.62it/s]07:02<29:49, 36.53s/it]\u001b[A\n",
      "\n",
      "782it [00:30, 25.76it/s]07:34<28:11, 35.24s/it]\u001b[A\n",
      "\n",
      "0it [00:00, ?it/s]3/60 [08:28<32:05, 40.98s/it]\u001b[A"
     ]
    },
    {
     "name": "stdout",
     "output_type": "stream",
     "text": [
      "12 [3.7819  0.1397  0.15472]\n"
     ]
    },
    {
     "name": "stderr",
     "output_type": "stream",
     "text": [
      "782it [00:30, 25.81it/s]\n",
      "\n",
      "782it [00:30, 25.43it/s]09:01<29:21, 38.29s/it]\u001b[A\n",
      "\n",
      "782it [00:30, 25.43it/s]09:33<27:25, 36.56s/it]\u001b[A\n",
      "\n",
      "782it [00:30, 25.30it/s]10:06<25:55, 35.35s/it]\u001b[A\n",
      "\n",
      "782it [00:30, 25.75it/s]10:38<24:45, 34.56s/it]\u001b[A\n",
      "\n",
      "782it [00:30, 25.26it/s]11:10<23:40, 33.83s/it]\u001b[A\n",
      "\n",
      "782it [00:30, 25.69it/s]11:43<22:53, 33.50s/it]\u001b[A\n",
      "\n",
      "782it [00:30, 25.44it/s]12:15<22:04, 33.12s/it]\u001b[A\n",
      "\n",
      "0it [00:00, ?it/s]1/60 [13:10<25:38, 39.46s/it]\u001b[A"
     ]
    },
    {
     "name": "stdout",
     "output_type": "stream",
     "text": [
      "20 [3.73321 0.1369  0.15781]\n"
     ]
    },
    {
     "name": "stderr",
     "output_type": "stream",
     "text": [
      "782it [00:29, 26.17it/s]\n",
      "\n",
      "782it [00:30, 25.53it/s]13:41<23:30, 37.12s/it]\u001b[A\n",
      "\n",
      "782it [00:30, 25.89it/s]14:14<22:01, 35.70s/it]\u001b[A\n",
      "\n",
      "782it [00:30, 25.79it/s]14:46<20:45, 34.59s/it]\u001b[A\n",
      "\n",
      "782it [00:30, 25.79it/s]15:18<19:44, 33.85s/it]\u001b[A\n",
      "\n",
      "782it [00:29, 26.19it/s]15:50<18:53, 33.33s/it]\u001b[A\n",
      "\n",
      "782it [00:30, 25.84it/s]16:22<18:03, 32.83s/it]\u001b[A\n",
      "\n",
      "782it [00:30, 25.70it/s]16:54<17:23, 32.60s/it]\u001b[A\n",
      "\n",
      "782it [00:30, 25.69it/s]17:26<16:46, 32.48s/it]\u001b[A\n",
      "\n",
      "782it [00:29, 26.14it/s]17:58<16:11, 32.40s/it]\u001b[A\n",
      "\n",
      "782it [00:30, 26.00it/s]18:30<15:32, 32.17s/it]\u001b[A\n",
      "\n",
      "782it [00:30, 25.63it/s]19:02<14:58, 32.08s/it]\u001b[A\n",
      "\n",
      "782it [00:30, 26.00it/s]19:34<14:27, 32.13s/it]\u001b[A\n",
      "\n",
      "782it [00:30, 25.73it/s]20:06<13:53, 32.04s/it]\u001b[A\n",
      "\n",
      "782it [00:30, 25.70it/s]20:38<13:22, 32.08s/it]\u001b[A\n",
      "\n",
      "782it [00:30, 25.39it/s]21:10<12:50, 32.12s/it]\u001b[A\n",
      "\n",
      "782it [00:30, 25.72it/s]21:43<12:21, 32.25s/it]\u001b[A\n",
      "\n",
      "782it [00:30, 25.31it/s]22:15<11:48, 32.23s/it]\u001b[A\n",
      "\n",
      "782it [00:30, 25.47it/s]22:48<11:19, 32.37s/it]\u001b[A\n",
      "\n",
      "782it [00:30, 25.61it/s]23:20<10:47, 32.39s/it]\u001b[A\n",
      "\n",
      "0it [00:00, ?it/s]1/60 [24:15<12:22, 39.05s/it]\u001b[A"
     ]
    },
    {
     "name": "stdout",
     "output_type": "stream",
     "text": [
      "40 [3.41223 0.1921  0.21159]\n"
     ]
    },
    {
     "name": "stderr",
     "output_type": "stream",
     "text": [
      "782it [00:30, 25.91it/s]\n",
      "\n",
      "782it [00:30, 25.25it/s]24:47<11:04, 36.93s/it]\u001b[A\n",
      "\n",
      "782it [00:30, 25.66it/s]25:19<10:06, 35.67s/it]\u001b[A\n",
      "\n",
      "782it [00:30, 25.77it/s]25:51<09:14, 34.63s/it]\u001b[A\n",
      "\n",
      "782it [00:30, 25.45it/s]26:24<08:28, 33.88s/it]\u001b[A\n",
      "\n",
      "782it [00:30, 25.56it/s]26:56<07:48, 33.48s/it]\u001b[A\n",
      "\n",
      "782it [00:30, 25.46it/s]27:29<07:10, 33.15s/it]\u001b[A\n",
      "\n",
      "782it [00:30, 25.58it/s]28:01<06:35, 32.95s/it]\u001b[A\n",
      "\n",
      "782it [00:30, 25.44it/s]28:33<06:00, 32.76s/it]\u001b[A\n",
      "\n",
      "782it [00:30, 25.65it/s]29:06<05:26, 32.69s/it]\u001b[A\n",
      "\n",
      "782it [00:30, 25.28it/s]29:38<04:53, 32.56s/it]\u001b[A\n",
      "\n",
      "782it [00:30, 25.37it/s]30:11<04:20, 32.60s/it]\u001b[A\n",
      "\n",
      "782it [00:30, 25.68it/s]30:43<03:48, 32.59s/it]\u001b[A\n",
      "\n",
      "782it [00:30, 25.51it/s]31:16<03:14, 32.50s/it]\u001b[A\n",
      "\n",
      "782it [00:30, 25.79it/s]31:48<02:42, 32.47s/it]\u001b[A\n",
      "\n",
      "782it [00:30, 25.90it/s]32:20<02:09, 32.35s/it]\u001b[A\n",
      "\n",
      "782it [00:30, 25.23it/s]32:52<01:36, 32.23s/it]\u001b[A\n",
      "\n",
      "782it [00:30, 25.94it/s]33:25<01:04, 32.39s/it]\u001b[A\n",
      "\n",
      "782it [00:30, 25.85it/s]33:57<00:32, 32.24s/it]\u001b[A\n",
      "\n",
      "100%|██████████| 60/60 [34:29<00:00, 34.49s/it]\u001b[A\n",
      "100%|██████████| 1/1 [35:38<00:00, 2138.00s/it]\n"
     ]
    }
   ],
   "source": [
    "\n",
    "cladec_train_loss_list = []\n",
    "cladec_val_loss_list = []\n",
    "cladec_val_acc = []\n",
    "\n",
    "\n",
    "for i in tqdm(range(2,3)):\n",
    "    cladecNet = torch.load(\"trained_models/TinyImgNet/check_0.01_cladecNet_2.pt\")\n",
    "    cfg[\"layInd\"] = -1*i\n",
    "    \n",
    "    actModel = cladec.getActModel(cfg, classifier)\n",
    "    refAE.eval()\n",
    "    cladecNet.eval()\n",
    "    actModel.eval()\n",
    "    \n",
    "    train_acts = getActs(train_loader, actModel, cfg)\n",
    "    val_acts = getActs(val_loader, actModel, cfg)\n",
    "    \n",
    "    cladec_train = getReconstr(train_loader, torch.nn.Sequential(actModel, cladecNet),cfg, train=True)\n",
    "    cladec_train_loss, refae_train_loss = getReconstrDS(train_acts, refAE, cladecNet)\n",
    "    cladec_val= getReconstr(val_loader, torch.nn.Sequential(actModel, cladecNet),cfg, train=False)\n",
    "    cladec_val_loss, refae_val_loss = getReconstrDS(train_acts, refAE, cladecNet)\n",
    "    \n",
    "    cladec_train_loss_list.append(cladec_train_loss)\n",
    "    cladec_val_loss_list.append(cladec_val_loss)\n",
    "\n",
    "    \n",
    "    clf_cladec, lcfg_cladec = clModel.getclassifier(cfg,  cladec_train, cladec_val, norm=None)\n",
    "    cladec_val_acc.append(lcfg_cladec[\"testAcc\"])\n",
    "#    torch.save(clf_cladec,\"trained_models/TinyImgNet/check_clf_cladec_\" + str(i) + \".pt\")\n",
    "#torch.save({\"cladec_train_loss\" : cladec_train_loss_list, \"cladec_val_loss\": cladec_val_loss_list, \"cladec_val_acc\" : cladec_val_acc}, \"trained_models/TinyImgNet/check_cladec_metrics.pt\")\n",
    "#torch.save({\"ae_train_loss\" : ae_train_loss_list, \"ae_val_loss\": ae_val_loss_list, \"ae_val_acc\" : refae_val_acc}, \"trained_models/TinyImgNet/check_ae_metrics.pt\")\n",
    "\n",
    "\n"
   ]
  },
  {
   "cell_type": "code",
   "execution_count": 20,
   "metadata": {},
   "outputs": [
    {
     "data": {
      "text/plain": [
       "[0.2017]"
      ]
     },
     "execution_count": 20,
     "metadata": {},
     "output_type": "execute_result"
    }
   ],
   "source": [
    "cladec_val_acc"
   ]
  },
  {
   "cell_type": "code",
   "execution_count": 15,
   "metadata": {},
   "outputs": [
    {
     "name": "stderr",
     "output_type": "stream",
     "text": [
      "  0%|          | 0/5 [00:00<?, ?it/s]"
     ]
    },
    {
     "name": "stdout",
     "output_type": "stream",
     "text": [
      "Train RefAE\n"
     ]
    },
    {
     "name": "stderr",
     "output_type": "stream",
     "text": [
      "\n",
      "  0%|          | 0/60 [00:00<?, ?it/s]\u001b[A\n",
      "  2%|▏         | 1/60 [00:44<43:48, 44.54s/it]\u001b[A"
     ]
    },
    {
     "name": "stdout",
     "output_type": "stream",
     "text": [
      "0 [0.03968]\n"
     ]
    },
    {
     "name": "stderr",
     "output_type": "stream",
     "text": [
      "\n",
      "  3%|▎         | 2/60 [01:29<43:13, 44.72s/it]\u001b[A\n",
      "  5%|▌         | 3/60 [02:13<42:25, 44.65s/it]\u001b[A"
     ]
    },
    {
     "name": "stdout",
     "output_type": "stream",
     "text": [
      "2 [0.03113]\n"
     ]
    },
    {
     "name": "stderr",
     "output_type": "stream",
     "text": [
      "\n",
      "  7%|▋         | 4/60 [02:58<41:41, 44.67s/it]\u001b[A\n",
      "  8%|▊         | 5/60 [03:43<40:55, 44.65s/it]\u001b[A"
     ]
    },
    {
     "name": "stdout",
     "output_type": "stream",
     "text": [
      "4 [0.03035]\n"
     ]
    },
    {
     "name": "stderr",
     "output_type": "stream",
     "text": [
      "\n",
      " 10%|█         | 6/60 [04:27<40:10, 44.63s/it]\u001b[A\n",
      " 12%|█▏        | 7/60 [05:12<39:22, 44.58s/it]\u001b[A"
     ]
    },
    {
     "name": "stdout",
     "output_type": "stream",
     "text": [
      "6 [0.0291]\n"
     ]
    },
    {
     "name": "stderr",
     "output_type": "stream",
     "text": [
      "\n",
      " 13%|█▎        | 8/60 [05:56<38:35, 44.53s/it]\u001b[A\n",
      " 15%|█▌        | 9/60 [06:41<37:50, 44.52s/it]\u001b[A"
     ]
    },
    {
     "name": "stdout",
     "output_type": "stream",
     "text": [
      "8 [0.02828]\n"
     ]
    },
    {
     "name": "stderr",
     "output_type": "stream",
     "text": [
      "\n",
      " 17%|█▋        | 10/60 [07:25<37:08, 44.57s/it]\u001b[A\n",
      " 18%|█▊        | 11/60 [08:10<36:21, 44.53s/it]\u001b[A"
     ]
    },
    {
     "name": "stdout",
     "output_type": "stream",
     "text": [
      "10 [0.02756]\n"
     ]
    },
    {
     "name": "stderr",
     "output_type": "stream",
     "text": [
      "\n",
      " 20%|██        | 12/60 [08:54<35:32, 44.43s/it]\u001b[A\n",
      " 22%|██▏       | 13/60 [09:38<34:45, 44.38s/it]\u001b[A\n",
      " 23%|██▎       | 14/60 [10:22<33:58, 44.31s/it]\u001b[A\n",
      " 25%|██▌       | 15/60 [11:07<33:10, 44.24s/it]\u001b[A\n",
      " 27%|██▋       | 16/60 [11:51<32:25, 44.22s/it]\u001b[A\n",
      " 28%|██▊       | 17/60 [12:36<31:52, 44.49s/it]\u001b[A\n",
      " 30%|███       | 18/60 [15:27<57:48, 82.59s/it]\u001b[A\n",
      " 32%|███▏      | 19/60 [18:37<1:18:22, 114.69s/it]\u001b[A\n",
      " 33%|███▎      | 20/60 [19:21<1:02:22, 93.56s/it] \u001b[A\n",
      " 35%|███▌      | 21/60 [20:05<51:09, 78.70s/it]  \u001b[A"
     ]
    },
    {
     "name": "stdout",
     "output_type": "stream",
     "text": [
      "20 [0.02567]\n"
     ]
    },
    {
     "name": "stderr",
     "output_type": "stream",
     "text": [
      "\n",
      " 37%|███▋      | 22/60 [20:49<43:15, 68.30s/it]\u001b[A\n",
      " 38%|███▊      | 23/60 [21:33<37:38, 61.03s/it]\u001b[A\n",
      " 40%|████      | 24/60 [22:17<33:32, 55.91s/it]\u001b[A\n",
      " 42%|████▏     | 25/60 [23:01<30:31, 52.34s/it]\u001b[A\n",
      " 43%|████▎     | 26/60 [23:45<28:14, 49.85s/it]\u001b[A\n",
      " 45%|████▌     | 27/60 [24:29<26:27, 48.12s/it]\u001b[A\n",
      " 47%|████▋     | 28/60 [25:13<25:00, 46.88s/it]\u001b[A\n",
      " 48%|████▊     | 29/60 [25:57<23:44, 45.96s/it]\u001b[A\n",
      " 50%|█████     | 30/60 [26:41<22:40, 45.36s/it]\u001b[A\n",
      " 52%|█████▏    | 31/60 [27:25<21:43, 44.96s/it]\u001b[A"
     ]
    },
    {
     "name": "stdout",
     "output_type": "stream",
     "text": [
      "30 [0.0245]\n"
     ]
    },
    {
     "name": "stderr",
     "output_type": "stream",
     "text": [
      "\n",
      " 53%|█████▎    | 32/60 [28:09<20:49, 44.63s/it]\u001b[A\n",
      " 55%|█████▌    | 33/60 [28:53<19:59, 44.44s/it]\u001b[A\n",
      " 57%|█████▋    | 34/60 [29:37<19:11, 44.29s/it]\u001b[A\n",
      " 58%|█████▊    | 35/60 [30:21<18:25, 44.20s/it]\u001b[A\n",
      " 60%|██████    | 36/60 [31:05<17:38, 44.12s/it]\u001b[A\n",
      " 62%|██████▏   | 37/60 [31:49<16:53, 44.07s/it]\u001b[A\n",
      " 63%|██████▎   | 38/60 [32:33<16:09, 44.05s/it]\u001b[A\n",
      " 65%|██████▌   | 39/60 [33:17<15:24, 44.02s/it]\u001b[A\n",
      " 67%|██████▋   | 40/60 [34:00<14:39, 43.97s/it]\u001b[A\n",
      " 68%|██████▊   | 41/60 [34:44<13:55, 43.98s/it]\u001b[A"
     ]
    },
    {
     "name": "stdout",
     "output_type": "stream",
     "text": [
      "40 [0.02409]\n"
     ]
    },
    {
     "name": "stderr",
     "output_type": "stream",
     "text": [
      "\n",
      " 70%|███████   | 42/60 [35:28<13:11, 43.97s/it]\u001b[A\n",
      " 72%|███████▏  | 43/60 [36:12<12:27, 43.98s/it]\u001b[A\n",
      " 73%|███████▎  | 44/60 [36:56<11:43, 43.96s/it]\u001b[A\n",
      " 75%|███████▌  | 45/60 [37:40<10:59, 43.96s/it]\u001b[A\n",
      " 77%|███████▋  | 46/60 [38:24<10:15, 43.95s/it]\u001b[A\n",
      " 78%|███████▊  | 47/60 [39:08<09:31, 43.93s/it]\u001b[A\n",
      " 80%|████████  | 48/60 [39:52<08:47, 43.95s/it]\u001b[A\n",
      " 82%|████████▏ | 49/60 [40:36<08:03, 43.94s/it]\u001b[A\n",
      " 83%|████████▎ | 50/60 [41:20<07:19, 43.95s/it]\u001b[A\n",
      " 85%|████████▌ | 51/60 [42:04<06:35, 43.96s/it]\u001b[A"
     ]
    },
    {
     "name": "stdout",
     "output_type": "stream",
     "text": [
      "50 [0.02415]\n"
     ]
    },
    {
     "name": "stderr",
     "output_type": "stream",
     "text": [
      "\n",
      " 87%|████████▋ | 52/60 [42:48<05:51, 43.97s/it]\u001b[A\n",
      " 88%|████████▊ | 53/60 [43:32<05:07, 43.98s/it]\u001b[A\n",
      " 90%|█████████ | 54/60 [44:16<04:23, 43.95s/it]\u001b[A\n",
      " 92%|█████████▏| 55/60 [45:00<03:39, 43.94s/it]\u001b[A\n",
      " 93%|█████████▎| 56/60 [45:44<02:55, 43.94s/it]\u001b[A\n",
      " 95%|█████████▌| 57/60 [46:28<02:11, 43.94s/it]\u001b[A\n",
      " 97%|█████████▋| 58/60 [47:12<01:27, 43.94s/it]\u001b[A\n",
      " 98%|█████████▊| 59/60 [47:55<00:43, 43.89s/it]\u001b[A\n",
      "100%|██████████| 60/60 [48:39<00:00, 48.66s/it]\u001b[A\n"
     ]
    },
    {
     "name": "stdout",
     "output_type": "stream",
     "text": [
      "{'RefAELo': 0.023992891701995107}\n",
      "Train CLaDec\n"
     ]
    },
    {
     "name": "stderr",
     "output_type": "stream",
     "text": [
      "\n",
      "  0%|          | 0/60 [00:00<?, ?it/s]\u001b[A\n",
      "  0%|          | 0/5 [48:41<?, ?it/s]\n"
     ]
    },
    {
     "ename": "NameError",
     "evalue": "name 'getnorm' is not defined",
     "output_type": "error",
     "traceback": [
      "\u001b[0;31m---------------------------------------------------------------------------\u001b[0m",
      "\u001b[0;31mNameError\u001b[0m                                 Traceback (most recent call last)",
      "\u001b[0;32m<ipython-input-15-7ed0579f63cd>\u001b[0m in \u001b[0;36m<module>\u001b[0;34m\u001b[0m\n\u001b[1;32m     27\u001b[0m \u001b[0;34m\u001b[0m\u001b[0m\n\u001b[1;32m     28\u001b[0m     \u001b[0;31m# Train ClaDec\u001b[0m\u001b[0;34m\u001b[0m\u001b[0;34m\u001b[0m\u001b[0;34m\u001b[0m\u001b[0m\n\u001b[0;32m---> 29\u001b[0;31m     \u001b[0mcladecNet\u001b[0m\u001b[0;34m,\u001b[0m\u001b[0mccfg\u001b[0m\u001b[0;34m=\u001b[0m  \u001b[0mgetClaDec\u001b[0m\u001b[0;34m(\u001b[0m\u001b[0mcfg\u001b[0m\u001b[0;34m,\u001b[0m\u001b[0mclassifier\u001b[0m\u001b[0;34m,\u001b[0m\u001b[0;32mNone\u001b[0m\u001b[0;34m,\u001b[0m\u001b[0mtrds\u001b[0m\u001b[0;34m)\u001b[0m\u001b[0;34m\u001b[0m\u001b[0;34m\u001b[0m\u001b[0m\n\u001b[0m\u001b[1;32m     30\u001b[0m     \u001b[0mprint\u001b[0m\u001b[0;34m(\u001b[0m\u001b[0;34m\"ClaDec Final loss\"\u001b[0m\u001b[0;34m,\u001b[0m \u001b[0mccfg\u001b[0m\u001b[0;34m)\u001b[0m\u001b[0;34m\u001b[0m\u001b[0;34m\u001b[0m\u001b[0m\n\u001b[1;32m     31\u001b[0m     \u001b[0mtorch\u001b[0m\u001b[0;34m.\u001b[0m\u001b[0msave\u001b[0m\u001b[0;34m(\u001b[0m\u001b[0mcladecNet\u001b[0m\u001b[0;34m.\u001b[0m\u001b[0mstate_dict\u001b[0m\u001b[0;34m(\u001b[0m\u001b[0;34m)\u001b[0m\u001b[0;34m,\u001b[0m \u001b[0mcladec_path\u001b[0m\u001b[0;34m)\u001b[0m\u001b[0;34m\u001b[0m\u001b[0;34m\u001b[0m\u001b[0m\n",
      "\u001b[0;32m~/ClaDec/cladec.py\u001b[0m in \u001b[0;36mgetClaDec\u001b[0;34m(cfg, netCl, norm, train_dataset)\u001b[0m\n\u001b[1;32m    133\u001b[0m                 \u001b[0mrecloss\u001b[0m \u001b[0;34m=\u001b[0m \u001b[0maeloss\u001b[0m\u001b[0;34m(\u001b[0m\u001b[0moutput\u001b[0m\u001b[0;34m,\u001b[0m \u001b[0mdsx\u001b[0m\u001b[0;34m)\u001b[0m\u001b[0;34m\u001b[0m\u001b[0;34m\u001b[0m\u001b[0m\n\u001b[1;32m    134\u001b[0m                 \u001b[0;32mif\u001b[0m \u001b[0mcfg\u001b[0m\u001b[0;34m[\u001b[0m\u001b[0;34m\"ds\"\u001b[0m\u001b[0;34m]\u001b[0m\u001b[0;34m[\u001b[0m\u001b[0;36m0\u001b[0m\u001b[0;34m]\u001b[0m \u001b[0;34m==\u001b[0m \u001b[0;34m\"TinyImgNet\"\u001b[0m\u001b[0;34m:\u001b[0m\u001b[0;34m\u001b[0m\u001b[0;34m\u001b[0m\u001b[0m\n\u001b[0;32m--> 135\u001b[0;31m                     \u001b[0mnorm\u001b[0m \u001b[0;34m=\u001b[0m \u001b[0mgetnorm\u001b[0m\u001b[0;34m(\u001b[0m\u001b[0;34m\"TinyImgNet\"\u001b[0m\u001b[0;34m)\u001b[0m\u001b[0;34m\u001b[0m\u001b[0;34m\u001b[0m\u001b[0m\n\u001b[0m\u001b[1;32m    136\u001b[0m                     transform = transforms.Compose(\n\u001b[1;32m    137\u001b[0m                         [\n",
      "\u001b[0;31mNameError\u001b[0m: name 'getnorm' is not defined"
     ]
    }
   ],
   "source": [
    "#cfg[\"alpha\"] = 1e-1\n",
    "from cladec import getActModel, getClaDec, getRefAE\n",
    "model_path = \"trained_models/TinyImgNet_{}\".format(str(cfg[\"alpha\"]))\n",
    "os.makedirs(model_path, exist_ok=True)\n",
    "cfg[\"opt\"] = ('S', 1 if dummy else 60, 0.001, 0.0002)\n",
    "train_loader, val_loader,_, trainset, valset=dutils.getFullDS(cfg, reconstr=True)\n",
    "classifier.eval()\n",
    "ae_train_loss_list = []\n",
    "ae_val_loss_list = []\n",
    "cladec_train_loss_list = []\n",
    "cladec_val_loss_list = []\n",
    "cladec_val_acc = []\n",
    "refae_val_acc = []\n",
    "\n",
    "for i in tqdm(range(1, 6)):\n",
    "    refae_path = os.path.join(model_path, \"refAE_{}.pt\".format(str(i)))\n",
    "    cladec_path = os.path.join(model_path, \"cladecNet_{}.pt\".format(str(cfg[\"alpha\"]),str(i)))\n",
    "    cfg[\"layInd\"] = -1*i\n",
    "    #get Activations\n",
    "    actModel = getActModel(cfg, classifier)\n",
    "    actModel.eval()\n",
    "    trds=getActs(train_loader,actModel,cfg)\n",
    "\n",
    "    refAE,rcfg = getRefAE(cfg,trds) #Does not use activations themselves, only needs shape\n",
    "    print(rcfg)\n",
    "    torch.save(refAE.state_dict(), refae_path)\n",
    "\n",
    "    # Train ClaDec\n",
    "    cladecNet,ccfg=  getClaDec(cfg,classifier,None,trds)\n",
    "    print(\"ClaDec Final loss\", ccfg)\n",
    "    torch.save(cladecNet, cladec_path)\n",
    "    \n",
    "    refAE.eval()\n",
    "    cladecNet.eval()\n",
    "    actModel.eval()\n",
    "    \n",
    "    train_acts = getActs(train_loader, actModel, cfg)\n",
    "    val_acts = getActs(val_loader, actModel, cfg)\n",
    "    \n",
    "    cladec_train = getReconstr(train_loader, torch.nn.Sequential(actModel, cladecNet),cfg, train=True)\n",
    "    refae_train = getReconstr(train_loader, refAE,cfg, train=True)\n",
    "    cladec_train_loss, refae_train_loss = getReconstrDS(train_acts, refAE, cladecNet)\n",
    "    cladec_val= getReconstr(val_loader, torch.nn.Sequential(actModel, cladecNet),cfg, train=False)\n",
    "    refae_val = getReconstr(val_loader, refAE,cfg, train=False)\n",
    "    cladec_val_loss, refae_val_loss = getReconstrDS(train_acts, refAE, cladecNet)\n",
    "    \n",
    "    ae_train_loss_list.append(refae_train_loss)\n",
    "    ae_val_loss_list.append(refae_val_loss)\n",
    "    cladec_train_loss_list.append(cladec_train_loss)\n",
    "    cladec_val_loss_list.append(cladec_val_loss)\n",
    "\n",
    "    \n",
    "    clf_cladec, lcfg_cladec = clModel.getclassifier(cfg,  cladec_train, cladec_val, norm=None)\n",
    "    cladec_val_acc.append(lcfg_cladec[\"testAcc\"])\n",
    "    torch.save(clf_cladec,os.path.join(model_path,\"clf_cladec_\" + str(i) + \".pt\"))\n",
    "    clf_ae, lcfg_ae = clModel.getclassifier(cfg,  refae_train, refae_val, norm=None)\n",
    "    refae_val_acc.append(lcfg_ae[\"testAcc\"])\n",
    "    torch.save(clf_ae,os.path.join(model_path,\"clf_ae_\" + str(i) + \".pt\"))\n",
    "    torch.save({\"cladec_train_loss\" : cladec_train_loss_list, \"cladec_val_loss\": cladec_val_loss_list, \"cladec_val_acc\" : cladec_val_acc}, os.path.join(model_path,\"cladec_metrics_{}.pt\".format(str(i))))\n",
    "    torch.save({\"ae_train_loss\" : ae_train_loss_list, \"ae_val_loss\": ae_val_loss_list, \"ae_val_acc\" : refae_val_acc}, os.path.join(model_path,\"ae_metrics_{}.pt\".format(str(i))))\n",
    "\n",
    "\n",
    "\n"
   ]
  },
  {
   "cell_type": "code",
   "execution_count": 35,
   "metadata": {},
   "outputs": [],
   "source": [
    "op = netDec(img.cuda())"
   ]
  },
  {
   "cell_type": "code",
   "execution_count": 68,
   "metadata": {},
   "outputs": [
    {
     "name": "stderr",
     "output_type": "stream",
     "text": [
      " 38%|███▊      | 300/782 [00:11<00:18, 26.66it/s]\n"
     ]
    }
   ],
   "source": [
    "idx = 300\n",
    "from tqdm import tqdm\n",
    "for i,(img, sample) in enumerate(tqdm(train_loader, position=0, le):\n",
    "    if i == idx:\n",
    "        break"
   ]
  },
  {
   "cell_type": "code",
   "execution_count": 114,
   "metadata": {},
   "outputs": [
    {
     "name": "stderr",
     "output_type": "stream",
     "text": [
      "5it [00:00, 12.06it/s]"
     ]
    },
    {
     "name": "stdout",
     "output_type": "stream",
     "text": [
      "0\n",
      "1\n",
      "2\n",
      "3\n",
      "4\n",
      "5\n",
      "6\n",
      "7\n"
     ]
    },
    {
     "name": "stderr",
     "output_type": "stream",
     "text": [
      "13it [00:00, 19.10it/s]"
     ]
    },
    {
     "name": "stdout",
     "output_type": "stream",
     "text": [
      "8\n",
      "9\n",
      "10\n",
      "11\n",
      "12\n",
      "13\n",
      "14\n"
     ]
    },
    {
     "name": "stderr",
     "output_type": "stream",
     "text": [
      "17it [00:01, 19.41it/s]"
     ]
    },
    {
     "name": "stdout",
     "output_type": "stream",
     "text": [
      "15\n",
      "16\n",
      "17\n",
      "18\n",
      "19\n"
     ]
    },
    {
     "name": "stderr",
     "output_type": "stream",
     "text": [
      "24it [00:01, 20.80it/s]"
     ]
    },
    {
     "name": "stdout",
     "output_type": "stream",
     "text": [
      "20\n",
      "21\n",
      "22\n",
      "23\n",
      "24\n"
     ]
    },
    {
     "name": "stderr",
     "output_type": "stream",
     "text": [
      "29it [00:01, 25.22it/s]"
     ]
    },
    {
     "name": "stdout",
     "output_type": "stream",
     "text": [
      "25\n",
      "26\n",
      "27\n",
      "28\n",
      "29\n",
      "30\n"
     ]
    },
    {
     "name": "stderr",
     "output_type": "stream",
     "text": [
      "35it [00:01, 23.78it/s]"
     ]
    },
    {
     "name": "stdout",
     "output_type": "stream",
     "text": [
      "31\n",
      "32\n",
      "33\n",
      "34\n"
     ]
    },
    {
     "name": "stderr",
     "output_type": "stream",
     "text": [
      "38it [00:01, 21.11it/s]"
     ]
    },
    {
     "name": "stdout",
     "output_type": "stream",
     "text": [
      "35\n",
      "36\n",
      "37\n",
      "38\n"
     ]
    },
    {
     "name": "stderr",
     "output_type": "stream",
     "text": [
      "44it [00:02, 20.05it/s]"
     ]
    },
    {
     "name": "stdout",
     "output_type": "stream",
     "text": [
      "39\n",
      "40\n",
      "41\n",
      "42\n",
      "43\n"
     ]
    },
    {
     "name": "stderr",
     "output_type": "stream",
     "text": [
      "47it [00:02, 19.36it/s]"
     ]
    },
    {
     "name": "stdout",
     "output_type": "stream",
     "text": [
      "44\n",
      "45\n",
      "46\n",
      "47\n",
      "48\n"
     ]
    },
    {
     "name": "stderr",
     "output_type": "stream",
     "text": [
      "54it [00:02, 23.10it/s]"
     ]
    },
    {
     "name": "stdout",
     "output_type": "stream",
     "text": [
      "49\n",
      "50\n",
      "51\n",
      "52\n",
      "53\n",
      "54\n"
     ]
    },
    {
     "name": "stderr",
     "output_type": "stream",
     "text": [
      "58it [00:02, 26.07it/s]"
     ]
    },
    {
     "name": "stdout",
     "output_type": "stream",
     "text": [
      "55\n",
      "56\n",
      "57\n",
      "58\n",
      "59\n"
     ]
    },
    {
     "name": "stderr",
     "output_type": "stream",
     "text": [
      "64it [00:03, 21.44it/s]"
     ]
    },
    {
     "name": "stdout",
     "output_type": "stream",
     "text": [
      "60\n",
      "61\n",
      "62\n",
      "63\n"
     ]
    },
    {
     "name": "stderr",
     "output_type": "stream",
     "text": [
      "67it [00:03, 21.42it/s]"
     ]
    },
    {
     "name": "stdout",
     "output_type": "stream",
     "text": [
      "64\n",
      "65\n",
      "66\n",
      "67\n",
      "68\n",
      "69\n",
      "70\n"
     ]
    },
    {
     "name": "stderr",
     "output_type": "stream",
     "text": [
      "76it [00:03, 27.10it/s]"
     ]
    },
    {
     "name": "stdout",
     "output_type": "stream",
     "text": [
      "71\n",
      "72\n",
      "73\n",
      "74\n",
      "75\n",
      "76\n",
      "77\n"
     ]
    },
    {
     "name": "stderr",
     "output_type": "stream",
     "text": [
      "83it [00:03, 28.41it/s]"
     ]
    },
    {
     "name": "stdout",
     "output_type": "stream",
     "text": [
      "78\n",
      "79\n",
      "80\n",
      "81\n",
      "82\n",
      "83\n"
     ]
    },
    {
     "name": "stderr",
     "output_type": "stream",
     "text": [
      "86it [00:03, 25.30it/s]"
     ]
    },
    {
     "name": "stdout",
     "output_type": "stream",
     "text": [
      "84\n",
      "85\n",
      "86\n",
      "87\n"
     ]
    },
    {
     "name": "stderr",
     "output_type": "stream",
     "text": [
      "92it [00:04, 23.46it/s]"
     ]
    },
    {
     "name": "stdout",
     "output_type": "stream",
     "text": [
      "88\n",
      "89\n",
      "90\n",
      "91\n",
      "92\n"
     ]
    },
    {
     "name": "stderr",
     "output_type": "stream",
     "text": [
      "98it [00:04, 21.18it/s]"
     ]
    },
    {
     "name": "stdout",
     "output_type": "stream",
     "text": [
      "93\n",
      "94\n",
      "95\n",
      "96\n",
      "97\n"
     ]
    },
    {
     "name": "stderr",
     "output_type": "stream",
     "text": [
      "101it [00:04, 22.05it/s]"
     ]
    },
    {
     "name": "stdout",
     "output_type": "stream",
     "text": [
      "98\n",
      "99\n",
      "100\n",
      "101\n"
     ]
    },
    {
     "name": "stderr",
     "output_type": "stream",
     "text": [
      "104it [00:04, 19.67it/s]"
     ]
    },
    {
     "name": "stdout",
     "output_type": "stream",
     "text": [
      "102\n",
      "103\n",
      "104\n",
      "105\n"
     ]
    },
    {
     "name": "stderr",
     "output_type": "stream",
     "text": [
      "109it [00:05, 18.85it/s]"
     ]
    },
    {
     "name": "stdout",
     "output_type": "stream",
     "text": [
      "106\n",
      "107\n",
      "108\n",
      "109\n"
     ]
    },
    {
     "name": "stderr",
     "output_type": "stream",
     "text": [
      "113it [00:05, 17.52it/s]"
     ]
    },
    {
     "name": "stdout",
     "output_type": "stream",
     "text": [
      "110\n",
      "111\n",
      "112\n"
     ]
    },
    {
     "name": "stderr",
     "output_type": "stream",
     "text": [
      "119it [00:05, 21.33it/s]"
     ]
    },
    {
     "name": "stdout",
     "output_type": "stream",
     "text": [
      "113\n",
      "114\n",
      "115\n",
      "116\n",
      "117\n",
      "118\n"
     ]
    },
    {
     "name": "stderr",
     "output_type": "stream",
     "text": [
      "122it [00:05, 20.27it/s]"
     ]
    },
    {
     "name": "stdout",
     "output_type": "stream",
     "text": [
      "119\n",
      "120\n",
      "121\n",
      "122\n"
     ]
    },
    {
     "name": "stderr",
     "output_type": "stream",
     "text": [
      "128it [00:06, 22.33it/s]"
     ]
    },
    {
     "name": "stdout",
     "output_type": "stream",
     "text": [
      "123\n",
      "124\n",
      "125\n",
      "126\n",
      "127\n"
     ]
    },
    {
     "name": "stderr",
     "output_type": "stream",
     "text": [
      "131it [00:06, 23.07it/s]"
     ]
    },
    {
     "name": "stdout",
     "output_type": "stream",
     "text": [
      "128\n",
      "129\n",
      "130\n",
      "131\n",
      "132\n",
      "133\n"
     ]
    },
    {
     "name": "stderr",
     "output_type": "stream",
     "text": [
      "138it [00:06, 25.28it/s]"
     ]
    },
    {
     "name": "stdout",
     "output_type": "stream",
     "text": [
      "134\n",
      "135\n",
      "136\n",
      "137\n",
      "138\n"
     ]
    },
    {
     "name": "stderr",
     "output_type": "stream",
     "text": [
      "144it [00:06, 23.05it/s]"
     ]
    },
    {
     "name": "stdout",
     "output_type": "stream",
     "text": [
      "139\n",
      "140\n",
      "141\n",
      "142\n",
      "143\n",
      "144\n"
     ]
    },
    {
     "name": "stderr",
     "output_type": "stream",
     "text": [
      "152it [00:06, 28.19it/s]"
     ]
    },
    {
     "name": "stdout",
     "output_type": "stream",
     "text": [
      "145\n",
      "146\n",
      "147\n",
      "148\n",
      "149\n",
      "150\n",
      "151\n",
      "152\n"
     ]
    },
    {
     "name": "stderr",
     "output_type": "stream",
     "text": [
      "155it [00:07, 25.77it/s]"
     ]
    },
    {
     "name": "stdout",
     "output_type": "stream",
     "text": [
      "153\n",
      "154\n",
      "155\n",
      "156\n"
     ]
    },
    {
     "name": "stderr",
     "output_type": "stream",
     "text": [
      "161it [00:07, 21.33it/s]"
     ]
    },
    {
     "name": "stdout",
     "output_type": "stream",
     "text": [
      "157\n",
      "158\n",
      "159\n",
      "160\n"
     ]
    },
    {
     "name": "stderr",
     "output_type": "stream",
     "text": [
      "164it [00:07, 21.66it/s]"
     ]
    },
    {
     "name": "stdout",
     "output_type": "stream",
     "text": [
      "161\n",
      "162\n",
      "163\n",
      "164\n",
      "165\n",
      "166\n",
      "167\n"
     ]
    },
    {
     "name": "stderr",
     "output_type": "stream",
     "text": [
      "172it [00:07, 24.51it/s]"
     ]
    },
    {
     "name": "stdout",
     "output_type": "stream",
     "text": [
      "168\n",
      "169\n",
      "170\n",
      "171\n",
      "172\n",
      "173\n"
     ]
    },
    {
     "name": "stderr",
     "output_type": "stream",
     "text": [
      "178it [00:08, 23.06it/s]"
     ]
    },
    {
     "name": "stdout",
     "output_type": "stream",
     "text": [
      "174\n",
      "175\n",
      "176\n",
      "177\n"
     ]
    },
    {
     "name": "stderr",
     "output_type": "stream",
     "text": [
      "184it [00:08, 25.53it/s]"
     ]
    },
    {
     "name": "stdout",
     "output_type": "stream",
     "text": [
      "178\n",
      "179\n",
      "180\n",
      "181\n",
      "182\n",
      "183\n",
      "184\n",
      "185\n"
     ]
    },
    {
     "name": "stderr",
     "output_type": "stream",
     "text": [
      "191it [00:08, 25.14it/s]"
     ]
    },
    {
     "name": "stdout",
     "output_type": "stream",
     "text": [
      "186\n",
      "187\n",
      "188\n",
      "189\n",
      "190\n",
      "191\n"
     ]
    },
    {
     "name": "stderr",
     "output_type": "stream",
     "text": [
      "194it [00:08, 20.38it/s]"
     ]
    },
    {
     "name": "stdout",
     "output_type": "stream",
     "text": [
      "192\n",
      "193\n",
      "194\n",
      "195\n"
     ]
    },
    {
     "name": "stderr",
     "output_type": "stream",
     "text": [
      "200it [00:09, 22.05it/s]"
     ]
    },
    {
     "name": "stdout",
     "output_type": "stream",
     "text": [
      "196\n",
      "197\n",
      "198\n",
      "199\n",
      "200\n",
      "201"
     ]
    },
    {
     "name": "stderr",
     "output_type": "stream",
     "text": [
      "203it [00:09, 22.84it/s]"
     ]
    },
    {
     "name": "stdout",
     "output_type": "stream",
     "text": [
      "\n",
      "202\n",
      "203\n",
      "204\n"
     ]
    },
    {
     "name": "stderr",
     "output_type": "stream",
     "text": [
      "209it [00:09, 22.67it/s]"
     ]
    },
    {
     "name": "stdout",
     "output_type": "stream",
     "text": [
      "205\n",
      "206\n",
      "207\n",
      "208\n",
      "209\n"
     ]
    },
    {
     "name": "stderr",
     "output_type": "stream",
     "text": [
      "215it [00:09, 22.27it/s]"
     ]
    },
    {
     "name": "stdout",
     "output_type": "stream",
     "text": [
      "210\n",
      "211\n",
      "212\n",
      "213\n",
      "214\n"
     ]
    },
    {
     "name": "stderr",
     "output_type": "stream",
     "text": [
      "218it [00:09, 20.55it/s]"
     ]
    },
    {
     "name": "stdout",
     "output_type": "stream",
     "text": [
      "215\n",
      "216\n",
      "217\n",
      "218\n",
      "219\n"
     ]
    },
    {
     "name": "stderr",
     "output_type": "stream",
     "text": [
      "227it [00:10, 28.92it/s]"
     ]
    },
    {
     "name": "stdout",
     "output_type": "stream",
     "text": [
      "220\n",
      "221\n",
      "222\n",
      "223\n",
      "224\n",
      "225\n",
      "226\n",
      "227\n"
     ]
    },
    {
     "name": "stderr",
     "output_type": "stream",
     "text": [
      "233it [00:10, 27.98it/s]"
     ]
    },
    {
     "name": "stdout",
     "output_type": "stream",
     "text": [
      "228\n",
      "229\n",
      "230\n",
      "231\n",
      "232\n",
      "233"
     ]
    },
    {
     "name": "stderr",
     "output_type": "stream",
     "text": [
      "239it [00:10, 26.25it/s]"
     ]
    },
    {
     "name": "stdout",
     "output_type": "stream",
     "text": [
      "\n",
      "234\n",
      "235\n",
      "236\n",
      "237\n",
      "238\n",
      "239\n"
     ]
    },
    {
     "name": "stderr",
     "output_type": "stream",
     "text": [
      "245it [00:10, 25.43it/s]"
     ]
    },
    {
     "name": "stdout",
     "output_type": "stream",
     "text": [
      "240\n",
      "241\n",
      "242\n",
      "243\n",
      "244\n",
      "245\n"
     ]
    },
    {
     "name": "stderr",
     "output_type": "stream",
     "text": [
      "248it [00:10, 23.91it/s]"
     ]
    },
    {
     "name": "stdout",
     "output_type": "stream",
     "text": [
      "246\n",
      "247\n",
      "248\n",
      "249\n"
     ]
    },
    {
     "name": "stderr",
     "output_type": "stream",
     "text": [
      "254it [00:11, 19.32it/s]"
     ]
    },
    {
     "name": "stdout",
     "output_type": "stream",
     "text": [
      "250\n",
      "251\n",
      "252\n",
      "253\n"
     ]
    },
    {
     "name": "stderr",
     "output_type": "stream",
     "text": [
      "262it [00:11, 26.35it/s]"
     ]
    },
    {
     "name": "stdout",
     "output_type": "stream",
     "text": [
      "254\n",
      "255\n",
      "256\n",
      "257\n",
      "258\n",
      "259\n",
      "260\n",
      "261\n"
     ]
    },
    {
     "name": "stderr",
     "output_type": "stream",
     "text": [
      "265it [00:11, 24.10it/s]"
     ]
    },
    {
     "name": "stdout",
     "output_type": "stream",
     "text": [
      "262\n",
      "263\n",
      "264\n",
      "265\n",
      "266\n"
     ]
    },
    {
     "name": "stderr",
     "output_type": "stream",
     "text": [
      "271it [00:12, 22.77it/s]"
     ]
    },
    {
     "name": "stdout",
     "output_type": "stream",
     "text": [
      "267\n",
      "268\n",
      "269\n",
      "270\n"
     ]
    },
    {
     "name": "stderr",
     "output_type": "stream",
     "text": [
      "274it [00:12, 23.15it/s]"
     ]
    },
    {
     "name": "stdout",
     "output_type": "stream",
     "text": [
      "271\n",
      "272\n",
      "273\n",
      "274\n",
      "275\n",
      "276\n"
     ]
    },
    {
     "name": "stderr",
     "output_type": "stream",
     "text": [
      "281it [00:12, 22.85it/s]"
     ]
    },
    {
     "name": "stdout",
     "output_type": "stream",
     "text": [
      "277\n",
      "278\n",
      "279\n",
      "280\n"
     ]
    },
    {
     "name": "stderr",
     "output_type": "stream",
     "text": [
      "284it [00:12, 20.53it/s]"
     ]
    },
    {
     "name": "stdout",
     "output_type": "stream",
     "text": [
      "281\n",
      "282\n",
      "283\n",
      "284\n",
      "285\n"
     ]
    },
    {
     "name": "stderr",
     "output_type": "stream",
     "text": [
      "293it [00:12, 29.06it/s]"
     ]
    },
    {
     "name": "stdout",
     "output_type": "stream",
     "text": [
      "286\n",
      "287\n",
      "288\n",
      "289\n",
      "290\n",
      "291\n",
      "292\n",
      "293\n",
      "294\n"
     ]
    },
    {
     "name": "stderr",
     "output_type": "stream",
     "text": [
      "300it [00:13, 24.39it/s]"
     ]
    },
    {
     "name": "stdout",
     "output_type": "stream",
     "text": [
      "295\n",
      "296\n",
      "297\n",
      "298\n",
      "299\n"
     ]
    },
    {
     "name": "stderr",
     "output_type": "stream",
     "text": [
      "307it [00:13, 27.81it/s]"
     ]
    },
    {
     "name": "stdout",
     "output_type": "stream",
     "text": [
      "300\n",
      "301\n",
      "302\n",
      "303\n",
      "304\n",
      "305\n",
      "306\n"
     ]
    },
    {
     "name": "stderr",
     "output_type": "stream",
     "text": [
      "311it [00:13, 26.97it/s]"
     ]
    },
    {
     "name": "stdout",
     "output_type": "stream",
     "text": [
      "307\n",
      "308\n",
      "309\n",
      "310\n",
      "311\n",
      "312\n"
     ]
    },
    {
     "name": "stderr",
     "output_type": "stream",
     "text": [
      "314it [00:13, 26.87it/s]"
     ]
    },
    {
     "name": "stdout",
     "output_type": "stream",
     "text": [
      "313\n",
      "314\n"
     ]
    },
    {
     "name": "stderr",
     "output_type": "stream",
     "text": [
      "320it [00:14, 19.51it/s]"
     ]
    },
    {
     "name": "stdout",
     "output_type": "stream",
     "text": [
      "315\n",
      "316\n",
      "317\n",
      "318\n",
      "319\n"
     ]
    },
    {
     "name": "stderr",
     "output_type": "stream",
     "text": [
      "323it [00:14, 19.98it/s]"
     ]
    },
    {
     "name": "stdout",
     "output_type": "stream",
     "text": [
      "320\n",
      "321\n",
      "322\n",
      "323\n",
      "324\n"
     ]
    },
    {
     "name": "stderr",
     "output_type": "stream",
     "text": [
      "330it [00:14, 21.98it/s]"
     ]
    },
    {
     "name": "stdout",
     "output_type": "stream",
     "text": [
      "325\n",
      "326\n",
      "327\n",
      "328\n",
      "329\n"
     ]
    },
    {
     "name": "stderr",
     "output_type": "stream",
     "text": [
      "334it [00:14, 22.14it/s]"
     ]
    },
    {
     "name": "stdout",
     "output_type": "stream",
     "text": [
      "330\n",
      "331\n",
      "332\n",
      "333\n",
      "334\n"
     ]
    },
    {
     "name": "stderr",
     "output_type": "stream",
     "text": [
      "338it [00:14, 23.06it/s]"
     ]
    },
    {
     "name": "stdout",
     "output_type": "stream",
     "text": [
      "335\n",
      "336\n",
      "337\n",
      "338\n",
      "339\n"
     ]
    },
    {
     "name": "stderr",
     "output_type": "stream",
     "text": [
      "346it [00:15, 28.27it/s]"
     ]
    },
    {
     "name": "stdout",
     "output_type": "stream",
     "text": [
      "340\n",
      "341\n",
      "342\n",
      "343\n",
      "344\n",
      "345\n",
      "346\n",
      "347\n"
     ]
    },
    {
     "name": "stderr",
     "output_type": "stream",
     "text": [
      "354it [00:15, 27.95it/s]"
     ]
    },
    {
     "name": "stdout",
     "output_type": "stream",
     "text": [
      "348\n",
      "349\n",
      "350\n",
      "351\n",
      "352\n",
      "353\n"
     ]
    },
    {
     "name": "stderr",
     "output_type": "stream",
     "text": [
      "357it [00:15, 24.62it/s]"
     ]
    },
    {
     "name": "stdout",
     "output_type": "stream",
     "text": [
      "354\n",
      "355\n",
      "356\n",
      "357"
     ]
    },
    {
     "name": "stderr",
     "output_type": "stream",
     "text": [
      "364it [00:15, 26.27it/s]"
     ]
    },
    {
     "name": "stdout",
     "output_type": "stream",
     "text": [
      "\n",
      "358\n",
      "359\n",
      "360\n",
      "361\n",
      "362\n",
      "363\n"
     ]
    },
    {
     "name": "stderr",
     "output_type": "stream",
     "text": [
      "367it [00:16, 24.20it/s]"
     ]
    },
    {
     "name": "stdout",
     "output_type": "stream",
     "text": [
      "364\n",
      "365\n",
      "366\n",
      "367\n",
      "368\n"
     ]
    },
    {
     "name": "stderr",
     "output_type": "stream",
     "text": [
      "373it [00:16, 24.22it/s]"
     ]
    },
    {
     "name": "stdout",
     "output_type": "stream",
     "text": [
      "369\n",
      "370\n",
      "371\n",
      "372\n",
      "373\n",
      "374\n",
      "375\n",
      "376\n",
      "377\n"
     ]
    },
    {
     "name": "stderr",
     "output_type": "stream",
     "text": [
      "383it [00:16, 27.83it/s]"
     ]
    },
    {
     "name": "stdout",
     "output_type": "stream",
     "text": [
      "378\n",
      "379\n",
      "380\n",
      "381\n",
      "382\n"
     ]
    },
    {
     "name": "stderr",
     "output_type": "stream",
     "text": [
      "387it [00:16, 27.00it/s]"
     ]
    },
    {
     "name": "stdout",
     "output_type": "stream",
     "text": [
      "383\n",
      "384\n",
      "385\n",
      "386\n",
      "387\n",
      "388\n"
     ]
    },
    {
     "name": "stderr",
     "output_type": "stream",
     "text": [
      "391it [00:16, 23.20it/s]"
     ]
    },
    {
     "name": "stdout",
     "output_type": "stream",
     "text": [
      "389\n",
      "390\n",
      "391\n"
     ]
    },
    {
     "name": "stderr",
     "output_type": "stream",
     "text": [
      "399it [00:17, 27.11it/s]"
     ]
    },
    {
     "name": "stdout",
     "output_type": "stream",
     "text": [
      "392\n",
      "393\n",
      "394\n",
      "395\n",
      "396\n",
      "397\n",
      "398\n",
      "399\n"
     ]
    },
    {
     "name": "stderr",
     "output_type": "stream",
     "text": [
      "402it [00:17, 25.75it/s]"
     ]
    },
    {
     "name": "stdout",
     "output_type": "stream",
     "text": [
      "400\n",
      "401\n",
      "402\n",
      "403"
     ]
    },
    {
     "name": "stderr",
     "output_type": "stream",
     "text": [
      "408it [00:17, 26.22it/s]"
     ]
    },
    {
     "name": "stdout",
     "output_type": "stream",
     "text": [
      "\n",
      "404\n",
      "405\n",
      "406\n",
      "407\n",
      "408\n",
      "409\n"
     ]
    },
    {
     "name": "stderr",
     "output_type": "stream",
     "text": [
      "411it [00:17, 26.80it/s]"
     ]
    },
    {
     "name": "stdout",
     "output_type": "stream",
     "text": [
      "410\n",
      "411\n",
      "412\n"
     ]
    },
    {
     "name": "stderr",
     "output_type": "stream",
     "text": [
      "417it [00:18, 19.11it/s]"
     ]
    },
    {
     "name": "stdout",
     "output_type": "stream",
     "text": [
      "413\n",
      "414\n",
      "415\n",
      "416\n"
     ]
    },
    {
     "name": "stderr",
     "output_type": "stream",
     "text": [
      "420it [00:18, 19.15it/s]"
     ]
    },
    {
     "name": "stdout",
     "output_type": "stream",
     "text": [
      "417\n",
      "418\n",
      "419\n",
      "420\n",
      "421\n"
     ]
    },
    {
     "name": "stderr",
     "output_type": "stream",
     "text": [
      "426it [00:18, 22.00it/s]"
     ]
    },
    {
     "name": "stdout",
     "output_type": "stream",
     "text": [
      "422\n",
      "423\n",
      "424\n",
      "425\n",
      "426\n",
      "427\n"
     ]
    },
    {
     "name": "stderr",
     "output_type": "stream",
     "text": [
      "432it [00:18, 22.05it/s]"
     ]
    },
    {
     "name": "stdout",
     "output_type": "stream",
     "text": [
      "428\n",
      "429\n",
      "430\n",
      "431\n",
      "432\n"
     ]
    },
    {
     "name": "stderr",
     "output_type": "stream",
     "text": [
      "438it [00:19, 23.39it/s]"
     ]
    },
    {
     "name": "stdout",
     "output_type": "stream",
     "text": [
      "433\n",
      "434\n",
      "435\n",
      "436\n",
      "437\n",
      "438\n"
     ]
    },
    {
     "name": "stderr",
     "output_type": "stream",
     "text": [
      "444it [00:19, 24.70it/s]"
     ]
    },
    {
     "name": "stdout",
     "output_type": "stream",
     "text": [
      "439\n",
      "440\n",
      "441\n",
      "442\n",
      "443\n"
     ]
    },
    {
     "name": "stderr",
     "output_type": "stream",
     "text": [
      "447it [00:19, 21.14it/s]"
     ]
    },
    {
     "name": "stdout",
     "output_type": "stream",
     "text": [
      "444\n",
      "445\n",
      "446\n",
      "447\n"
     ]
    },
    {
     "name": "stderr",
     "output_type": "stream",
     "text": [
      "456it [00:19, 28.18it/s]"
     ]
    },
    {
     "name": "stdout",
     "output_type": "stream",
     "text": [
      "448\n",
      "449\n",
      "450\n",
      "451\n",
      "452\n",
      "453\n",
      "454\n",
      "455\n"
     ]
    },
    {
     "name": "stderr",
     "output_type": "stream",
     "text": [
      "460it [00:19, 26.17it/s]"
     ]
    },
    {
     "name": "stdout",
     "output_type": "stream",
     "text": [
      "456\n",
      "457\n",
      "458\n",
      "459\n",
      "460\n",
      "461"
     ]
    },
    {
     "name": "stderr",
     "output_type": "stream",
     "text": [
      "466it [00:20, 26.32it/s]"
     ]
    },
    {
     "name": "stdout",
     "output_type": "stream",
     "text": [
      "\n",
      "462\n",
      "463\n",
      "464\n",
      "465\n"
     ]
    },
    {
     "name": "stderr",
     "output_type": "stream",
     "text": [
      "469it [00:20, 20.13it/s]"
     ]
    },
    {
     "name": "stdout",
     "output_type": "stream",
     "text": [
      "466\n",
      "467\n",
      "468\n",
      "469\n"
     ]
    },
    {
     "name": "stderr",
     "output_type": "stream",
     "text": [
      "477it [00:20, 23.59it/s]"
     ]
    },
    {
     "name": "stdout",
     "output_type": "stream",
     "text": [
      "470\n",
      "471\n",
      "472\n",
      "473\n",
      "474\n",
      "475\n",
      "476\n"
     ]
    },
    {
     "name": "stderr",
     "output_type": "stream",
     "text": [
      "483it [00:20, 23.77it/s]"
     ]
    },
    {
     "name": "stdout",
     "output_type": "stream",
     "text": [
      "477\n",
      "478\n",
      "479\n",
      "480\n",
      "481\n",
      "482\n"
     ]
    },
    {
     "name": "stderr",
     "output_type": "stream",
     "text": [
      "486it [00:21, 20.78it/s]"
     ]
    },
    {
     "name": "stdout",
     "output_type": "stream",
     "text": [
      "483\n",
      "484\n",
      "485\n",
      "486\n",
      "487\n"
     ]
    },
    {
     "name": "stderr",
     "output_type": "stream",
     "text": [
      "493it [00:21, 24.13it/s]"
     ]
    },
    {
     "name": "stdout",
     "output_type": "stream",
     "text": [
      "488\n",
      "489\n",
      "490\n",
      "491\n",
      "492\n",
      "493\n"
     ]
    },
    {
     "name": "stderr",
     "output_type": "stream",
     "text": [
      "498it [00:21, 25.04it/s]"
     ]
    },
    {
     "name": "stdout",
     "output_type": "stream",
     "text": [
      "494\n",
      "495\n",
      "496\n",
      "497\n",
      "498\n",
      "499\n",
      "500"
     ]
    },
    {
     "name": "stderr",
     "output_type": "stream",
     "text": [
      "502it [00:21, 27.68it/s]"
     ]
    },
    {
     "name": "stdout",
     "output_type": "stream",
     "text": [
      "\n",
      "501\n",
      "502\n",
      "503\n"
     ]
    },
    {
     "name": "stderr",
     "output_type": "stream",
     "text": [
      "508it [00:21, 22.73it/s]"
     ]
    },
    {
     "name": "stdout",
     "output_type": "stream",
     "text": [
      "504\n",
      "505\n",
      "506\n",
      "507\n",
      "508\n"
     ]
    },
    {
     "name": "stderr",
     "output_type": "stream",
     "text": [
      "514it [00:22, 22.62it/s]"
     ]
    },
    {
     "name": "stdout",
     "output_type": "stream",
     "text": [
      "509\n",
      "510\n",
      "511\n",
      "512\n",
      "513\n"
     ]
    },
    {
     "name": "stderr",
     "output_type": "stream",
     "text": [
      "522it [00:22, 27.55it/s]"
     ]
    },
    {
     "name": "stdout",
     "output_type": "stream",
     "text": [
      "514\n",
      "515\n",
      "516\n",
      "517\n",
      "518\n",
      "519\n",
      "520\n",
      "521\n",
      "522\n"
     ]
    },
    {
     "name": "stderr",
     "output_type": "stream",
     "text": [
      "528it [00:22, 26.27it/s]"
     ]
    },
    {
     "name": "stdout",
     "output_type": "stream",
     "text": [
      "523\n",
      "524\n",
      "525\n",
      "526\n",
      "527\n",
      "528\n"
     ]
    },
    {
     "name": "stderr",
     "output_type": "stream",
     "text": [
      "534it [00:23, 23.89it/s]"
     ]
    },
    {
     "name": "stdout",
     "output_type": "stream",
     "text": [
      "529\n",
      "530\n",
      "531\n",
      "532\n",
      "533\n",
      "534\n"
     ]
    },
    {
     "name": "stderr",
     "output_type": "stream",
     "text": [
      "538it [00:23, 24.97it/s]"
     ]
    },
    {
     "name": "stdout",
     "output_type": "stream",
     "text": [
      "535\n",
      "536\n",
      "537\n",
      "538\n",
      "539\n"
     ]
    },
    {
     "name": "stderr",
     "output_type": "stream",
     "text": [
      "544it [00:23, 23.36it/s]"
     ]
    },
    {
     "name": "stdout",
     "output_type": "stream",
     "text": [
      "540\n",
      "541\n",
      "542\n",
      "543\n",
      "544\n"
     ]
    },
    {
     "name": "stderr",
     "output_type": "stream",
     "text": [
      "550it [00:23, 21.45it/s]"
     ]
    },
    {
     "name": "stdout",
     "output_type": "stream",
     "text": [
      "545\n",
      "546\n",
      "547\n",
      "548\n",
      "549\n",
      "550\n",
      "551\n"
     ]
    },
    {
     "name": "stderr",
     "output_type": "stream",
     "text": [
      "557it [00:24, 23.46it/s]"
     ]
    },
    {
     "name": "stdout",
     "output_type": "stream",
     "text": [
      "552\n",
      "553\n",
      "554\n",
      "555\n",
      "556\n"
     ]
    },
    {
     "name": "stderr",
     "output_type": "stream",
     "text": [
      "561it [00:24, 27.36it/s]"
     ]
    },
    {
     "name": "stdout",
     "output_type": "stream",
     "text": [
      "557\n",
      "558\n",
      "559\n",
      "560\n",
      "561\n",
      "562\n"
     ]
    },
    {
     "name": "stderr",
     "output_type": "stream",
     "text": [
      "567it [00:24, 24.23it/s]"
     ]
    },
    {
     "name": "stdout",
     "output_type": "stream",
     "text": [
      "563\n",
      "564\n",
      "565\n",
      "566\n",
      "567\n",
      "568\n"
     ]
    },
    {
     "name": "stderr",
     "output_type": "stream",
     "text": [
      "574it [00:24, 25.98it/s]"
     ]
    },
    {
     "name": "stdout",
     "output_type": "stream",
     "text": [
      "569\n",
      "570\n",
      "571\n",
      "572\n",
      "573\n",
      "574\n",
      "575\n"
     ]
    },
    {
     "name": "stderr",
     "output_type": "stream",
     "text": [
      "581it [00:24, 26.07it/s]"
     ]
    },
    {
     "name": "stdout",
     "output_type": "stream",
     "text": [
      "576\n",
      "577\n",
      "578\n",
      "579\n",
      "580\n"
     ]
    },
    {
     "name": "stderr",
     "output_type": "stream",
     "text": [
      "585it [00:25, 26.36it/s]"
     ]
    },
    {
     "name": "stdout",
     "output_type": "stream",
     "text": [
      "581\n",
      "582\n",
      "583\n",
      "584\n",
      "585\n",
      "586\n",
      "587\n"
     ]
    },
    {
     "name": "stderr",
     "output_type": "stream",
     "text": [
      "593it [00:25, 24.68it/s]"
     ]
    },
    {
     "name": "stdout",
     "output_type": "stream",
     "text": [
      "588\n",
      "589\n",
      "590\n",
      "591\n",
      "592\n"
     ]
    },
    {
     "name": "stderr",
     "output_type": "stream",
     "text": [
      "596it [00:25, 21.78it/s]"
     ]
    },
    {
     "name": "stdout",
     "output_type": "stream",
     "text": [
      "593\n",
      "594\n",
      "595\n",
      "596\n",
      "597\n",
      "598\n"
     ]
    },
    {
     "name": "stderr",
     "output_type": "stream",
     "text": [
      "600it [00:25, 23.79it/s]"
     ]
    },
    {
     "name": "stdout",
     "output_type": "stream",
     "text": [
      "599\n",
      "600\n",
      "601\n",
      "602\n"
     ]
    },
    {
     "name": "stderr",
     "output_type": "stream",
     "text": [
      "606it [00:26, 19.76it/s]"
     ]
    },
    {
     "name": "stdout",
     "output_type": "stream",
     "text": [
      "603\n",
      "604\n",
      "605\n",
      "606\n"
     ]
    },
    {
     "name": "stderr",
     "output_type": "stream",
     "text": [
      "613it [00:26, 22.78it/s]"
     ]
    },
    {
     "name": "stdout",
     "output_type": "stream",
     "text": [
      "607\n",
      "608\n",
      "609\n",
      "610\n",
      "611\n",
      "612\n",
      "613\n",
      "614\n",
      "615\n"
     ]
    },
    {
     "name": "stderr",
     "output_type": "stream",
     "text": [
      "619it [00:26, 29.67it/s]"
     ]
    },
    {
     "name": "stdout",
     "output_type": "stream",
     "text": [
      "616\n",
      "617\n",
      "618\n",
      "619\n",
      "620\n",
      "621\n"
     ]
    },
    {
     "name": "stderr",
     "output_type": "stream",
     "text": [
      "626it [00:26, 22.89it/s]"
     ]
    },
    {
     "name": "stdout",
     "output_type": "stream",
     "text": [
      "622\n",
      "623\n",
      "624\n",
      "625\n"
     ]
    },
    {
     "name": "stderr",
     "output_type": "stream",
     "text": [
      "629it [00:27, 21.92it/s]"
     ]
    },
    {
     "name": "stdout",
     "output_type": "stream",
     "text": [
      "626\n",
      "627\n",
      "628\n",
      "629\n",
      "630\n",
      "631\n"
     ]
    },
    {
     "name": "stderr",
     "output_type": "stream",
     "text": [
      "636it [00:27, 23.14it/s]"
     ]
    },
    {
     "name": "stdout",
     "output_type": "stream",
     "text": [
      "632\n",
      "633\n",
      "634\n",
      "635\n",
      "636\n",
      "637"
     ]
    },
    {
     "name": "stderr",
     "output_type": "stream",
     "text": [
      "643it [00:27, 25.46it/s]"
     ]
    },
    {
     "name": "stdout",
     "output_type": "stream",
     "text": [
      "\n",
      "638\n",
      "639\n",
      "640\n",
      "641\n",
      "642\n"
     ]
    },
    {
     "name": "stderr",
     "output_type": "stream",
     "text": [
      "650it [00:27, 28.58it/s]"
     ]
    },
    {
     "name": "stdout",
     "output_type": "stream",
     "text": [
      "643\n",
      "644\n",
      "645\n",
      "646\n",
      "647\n",
      "648\n",
      "649\n",
      "650\n"
     ]
    },
    {
     "name": "stderr",
     "output_type": "stream",
     "text": [
      "656it [00:28, 25.24it/s]"
     ]
    },
    {
     "name": "stdout",
     "output_type": "stream",
     "text": [
      "651\n",
      "652\n",
      "653\n",
      "654\n",
      "655\n",
      "656\n"
     ]
    },
    {
     "name": "stderr",
     "output_type": "stream",
     "text": [
      "660it [00:28, 23.99it/s]"
     ]
    },
    {
     "name": "stdout",
     "output_type": "stream",
     "text": [
      "657\n",
      "658\n",
      "659\n",
      "660\n",
      "661\n",
      "662\n"
     ]
    },
    {
     "name": "stderr",
     "output_type": "stream",
     "text": [
      "668it [00:28, 25.19it/s]"
     ]
    },
    {
     "name": "stdout",
     "output_type": "stream",
     "text": [
      "663\n",
      "664\n",
      "665\n",
      "666\n",
      "667\n"
     ]
    },
    {
     "name": "stderr",
     "output_type": "stream",
     "text": [
      "678it [00:28, 33.70it/s]"
     ]
    },
    {
     "name": "stdout",
     "output_type": "stream",
     "text": [
      "668\n",
      "669\n",
      "670\n",
      "671\n",
      "672\n",
      "673\n",
      "674\n",
      "675\n",
      "676\n",
      "677\n"
     ]
    },
    {
     "name": "stderr",
     "output_type": "stream",
     "text": [
      "682it [00:28, 32.60it/s]"
     ]
    },
    {
     "name": "stdout",
     "output_type": "stream",
     "text": [
      "678\n",
      "679\n",
      "680\n",
      "681\n",
      "682\n",
      "683\n",
      "684\n"
     ]
    },
    {
     "name": "stderr",
     "output_type": "stream",
     "text": [
      "690it [00:29, 25.59it/s]"
     ]
    },
    {
     "name": "stdout",
     "output_type": "stream",
     "text": [
      "685\n",
      "686\n",
      "687\n",
      "688\n",
      "689\n"
     ]
    },
    {
     "name": "stderr",
     "output_type": "stream",
     "text": [
      "693it [00:29, 21.02it/s]"
     ]
    },
    {
     "name": "stdout",
     "output_type": "stream",
     "text": [
      "690\n",
      "691\n",
      "692\n"
     ]
    },
    {
     "name": "stderr",
     "output_type": "stream",
     "text": [
      "696it [00:29, 19.26it/s]"
     ]
    },
    {
     "name": "stdout",
     "output_type": "stream",
     "text": [
      "693\n",
      "694\n",
      "695\n",
      "696\n"
     ]
    },
    {
     "name": "stderr",
     "output_type": "stream",
     "text": [
      "705it [00:30, 25.66it/s]"
     ]
    },
    {
     "name": "stdout",
     "output_type": "stream",
     "text": [
      "697\n",
      "698\n",
      "699\n",
      "700\n",
      "701\n",
      "702\n",
      "703\n",
      "704\n"
     ]
    },
    {
     "name": "stderr",
     "output_type": "stream",
     "text": [
      "708it [00:30, 26.13it/s]"
     ]
    },
    {
     "name": "stdout",
     "output_type": "stream",
     "text": [
      "705\n",
      "706\n",
      "707\n",
      "708\n",
      "709\n"
     ]
    },
    {
     "name": "stderr",
     "output_type": "stream",
     "text": [
      "715it [00:30, 25.16it/s]"
     ]
    },
    {
     "name": "stdout",
     "output_type": "stream",
     "text": [
      "710\n",
      "711\n",
      "712\n",
      "713\n",
      "714\n",
      "715\n",
      "716\n"
     ]
    },
    {
     "name": "stderr",
     "output_type": "stream",
     "text": [
      "719it [00:30, 22.69it/s]"
     ]
    },
    {
     "name": "stdout",
     "output_type": "stream",
     "text": [
      "717\n",
      "718\n",
      "719\n",
      "720\n"
     ]
    },
    {
     "name": "stderr",
     "output_type": "stream",
     "text": [
      "727it [00:30, 26.41it/s]"
     ]
    },
    {
     "name": "stdout",
     "output_type": "stream",
     "text": [
      "721\n",
      "722\n",
      "723\n",
      "724\n",
      "725\n",
      "726\n"
     ]
    },
    {
     "name": "stderr",
     "output_type": "stream",
     "text": [
      "730it [00:31, 24.98it/s]"
     ]
    },
    {
     "name": "stdout",
     "output_type": "stream",
     "text": [
      "727\n",
      "728\n",
      "729\n",
      "730\n"
     ]
    },
    {
     "name": "stderr",
     "output_type": "stream",
     "text": [
      "733it [00:31, 22.19it/s]"
     ]
    },
    {
     "name": "stdout",
     "output_type": "stream",
     "text": [
      "731\n",
      "732\n",
      "733\n",
      "734\n",
      "735\n"
     ]
    },
    {
     "name": "stderr",
     "output_type": "stream",
     "text": [
      "739it [00:31, 20.07it/s]"
     ]
    },
    {
     "name": "stdout",
     "output_type": "stream",
     "text": [
      "736\n",
      "737\n",
      "738\n",
      "739\n",
      "740\n"
     ]
    },
    {
     "name": "stderr",
     "output_type": "stream",
     "text": [
      "745it [00:31, 22.16it/s]"
     ]
    },
    {
     "name": "stdout",
     "output_type": "stream",
     "text": [
      "741\n",
      "742\n",
      "743\n",
      "744\n",
      "745\n",
      "746\n",
      "747\n",
      "748\n"
     ]
    },
    {
     "name": "stderr",
     "output_type": "stream",
     "text": [
      "754it [00:32, 29.99it/s]"
     ]
    },
    {
     "name": "stdout",
     "output_type": "stream",
     "text": [
      "749\n",
      "750\n",
      "751\n",
      "752\n",
      "753\n",
      "754\n",
      "755\n"
     ]
    },
    {
     "name": "stderr",
     "output_type": "stream",
     "text": [
      "758it [00:32, 30.71it/s]"
     ]
    },
    {
     "name": "stdout",
     "output_type": "stream",
     "text": [
      "756\n",
      "757\n",
      "758\n",
      "759\n"
     ]
    },
    {
     "name": "stderr",
     "output_type": "stream",
     "text": [
      "765it [00:32, 23.85it/s]"
     ]
    },
    {
     "name": "stdout",
     "output_type": "stream",
     "text": [
      "760\n",
      "761\n",
      "762\n",
      "763\n",
      "764\n",
      "765\n"
     ]
    },
    {
     "name": "stderr",
     "output_type": "stream",
     "text": [
      "768it [00:32, 25.01it/s]"
     ]
    },
    {
     "name": "stdout",
     "output_type": "stream",
     "text": [
      "766\n",
      "767\n",
      "768\n",
      "769\n"
     ]
    },
    {
     "name": "stderr",
     "output_type": "stream",
     "text": [
      "774it [00:32, 21.85it/s]"
     ]
    },
    {
     "name": "stdout",
     "output_type": "stream",
     "text": [
      "770\n",
      "771\n",
      "772\n",
      "773\n"
     ]
    },
    {
     "name": "stderr",
     "output_type": "stream",
     "text": [
      "782it [00:33, 23.61it/s]"
     ]
    },
    {
     "name": "stdout",
     "output_type": "stream",
     "text": [
      "774\n",
      "775\n",
      "776\n",
      "777\n",
      "778\n",
      "779\n",
      "780\n",
      "781\n"
     ]
    },
    {
     "name": "stderr",
     "output_type": "stream",
     "text": [
      "\n"
     ]
    }
   ],
   "source": [
    "for i, (data) in enumerate(tqdm(trds, position=0, leave=True)):\n",
    "    print(i)"
   ]
  },
  {
   "cell_type": "code",
   "execution_count": 103,
   "metadata": {},
   "outputs": [
    {
     "name": "stdout",
     "output_type": "stream",
     "text": [
      "0\n"
     ]
    }
   ],
   "source": [
    "i=0\n",
    "for _ in trds:\n",
    "    print(i)"
   ]
  },
  {
   "cell_type": "code",
   "execution_count": null,
   "metadata": {},
   "outputs": [],
   "source": []
  }
 ],
 "metadata": {
  "interpreter": {
   "hash": "d49db8b14a9c8abb167e6e9709ca6c76668a92c21af3db86d1c921cca44cfdf2"
  },
  "kernelspec": {
   "display_name": "Python 3",
   "language": "python",
   "name": "python3"
  },
  "language_info": {
   "codemirror_mode": {
    "name": "ipython",
    "version": 3
   },
   "file_extension": ".py",
   "mimetype": "text/x-python",
   "name": "python",
   "nbconvert_exporter": "python",
   "pygments_lexer": "ipython3",
   "version": "3.8.10"
  }
 },
 "nbformat": 4,
 "nbformat_minor": 4
}
